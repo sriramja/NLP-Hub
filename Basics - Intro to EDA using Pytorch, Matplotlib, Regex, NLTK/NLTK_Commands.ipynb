{
  "cells": [
    {
      "cell_type": "markdown",
      "metadata": {
        "id": "qlfGjjfUK4Oj"
      },
      "source": [
        "# NLTK \n",
        "Sentence Segmentation and Tokenization Examples:\n"
      ]
    },
    {
      "cell_type": "code",
      "execution_count": null,
      "metadata": {
        "id": "ERzGgK2wK0QT",
        "vscode": {
          "languageId": "python"
        }
      },
      "outputs": [],
      "source": [
        "import nltk\n",
        "# nltk.download('punkt') # you need this when calling for the first time."
      ]
    },
    {
      "cell_type": "code",
      "execution_count": null,
      "metadata": {
        "colab": {
          "base_uri": "https://localhost:8080/",
          "height": 34
        },
        "id": "YoGJ1Gr9Li3y",
        "outputId": "1a9e177e-ac72-4c95-b2a5-26cf686b2946",
        "vscode": {
          "languageId": "python"
        }
      },
      "outputs": [
        {
          "data": {
            "text/plain": [
              "['She had a brown cat.', 'It purred when someone called her.']"
            ]
          },
          "execution_count": 2,
          "metadata": {
            "tags": []
          },
          "output_type": "execute_result"
        }
      ],
      "source": [
        "nltk.sent_tokenize(\"She had a brown cat. It purred when someone called her.\")"
      ]
    },
    {
      "cell_type": "code",
      "execution_count": null,
      "metadata": {
        "colab": {
          "base_uri": "https://localhost:8080/",
          "height": 34
        },
        "id": "FhOaHdsNLpZf",
        "outputId": "31d5fcb5-ba99-4e42-e9e3-3bb249ae2772",
        "vscode": {
          "languageId": "python"
        }
      },
      "outputs": [
        {
          "data": {
            "text/plain": [
              "['Show', 'me', 'movies', 'directed', 'by', 'Woody', 'Allen', 'recently', '.']"
            ]
          },
          "execution_count": 3,
          "metadata": {
            "tags": []
          },
          "output_type": "execute_result"
        }
      ],
      "source": [
        "nltk.word_tokenize(\"Show me movies directed by Woody Allen recently.\")"
      ]
    },
    {
      "cell_type": "markdown",
      "metadata": {
        "id": "0z34VVN2QZZI"
      },
      "source": [
        "Tools for counting and computing stats in NLTK"
      ]
    },
    {
      "cell_type": "code",
      "execution_count": null,
      "metadata": {
        "id": "rn5f70s6Qkyj",
        "vscode": {
          "languageId": "python"
        }
      },
      "outputs": [],
      "source": [
        "nltk.download('book')\n",
        "from nltk.book import *"
      ]
    },
    {
      "cell_type": "code",
      "execution_count": null,
      "metadata": {
        "colab": {
          "base_uri": "https://localhost:8080/",
          "height": 34
        },
        "id": "8F_qOaDIRRn0",
        "outputId": "4b241de8-bd9c-490e-a710-831e2d56ca1c",
        "vscode": {
          "languageId": "python"
        }
      },
      "outputs": [
        {
          "data": {
            "text/plain": [
              "<Text: Moby Dick by Herman Melville 1851>"
            ]
          },
          "execution_count": 8,
          "metadata": {
            "tags": []
          },
          "output_type": "execute_result"
        }
      ],
      "source": [
        "text1"
      ]
    },
    {
      "cell_type": "code",
      "execution_count": null,
      "metadata": {
        "colab": {
          "base_uri": "https://localhost:8080/",
          "height": 336
        },
        "id": "65eTd-nwRUvJ",
        "outputId": "b8a03062-4580-4f7f-e465-ce110c1dabac",
        "vscode": {
          "languageId": "python"
        }
      },
      "outputs": [
        {
          "name": "stdout",
          "output_type": "stream",
          "text": [
            "Displaying 18 of 18 matches:\n",
            "e try to explain them . When I was a child , I well remember a somewhat similar\n",
            "th loud lament the parents saw their child borne out of sight over the wide wat\n",
            "y that sweet girl that old man has a child : hold ye then there can be any utte\n",
            " memories of his young Cape wife and child , tend to bend him still more from t\n",
            "tender than the skin of a new - born child . But no more of this . Assuming the\n",
            " he would have been deified by their child - magian thoughts . They deified the\n",
            "shery , that they are accounted mere child ' s play . Some one strips off a fro\n",
            "hings tapers off at last into simple child ' s play . CHAPTER 104 The Fossil Wh\n",
            "AT is all wrinkles ! But , away with child ' s play ; no more gaffs and pikes t\n",
            "ire thou madest me , and like a true child of fire , I breathe it back to thee \n",
            "buck may survive to hug his wife and child again .-- Oh Mary ! Mary !-- boy ! b\n",
            "wn here . Ye did beget this luckless child , and have abandoned him , ye creati\n",
            "a boy , Captain Ahab -- though but a child , and nestling safely at home now --\n",
            "and nestling safely at home now -- a child of your old age too -- Yes , yes , y\n",
            "c glass , man ; I see my wife and my child in thine eye . No , no ; stay on boa\n",
            "adly waters ! let us home ! Wife and child , too , are Starbuck ' s -- wife and\n",
            ", too , are Starbuck ' s -- wife and child of his brotherly , sisterly , play -\n",
            "en as thine , sir , are the wife and child of thy loving , longing , paternal o\n"
          ]
        }
      ],
      "source": [
        "text1.concordance('child')"
      ]
    },
    {
      "cell_type": "code",
      "execution_count": null,
      "metadata": {
        "colab": {
          "base_uri": "https://localhost:8080/",
          "height": 70
        },
        "id": "PQLLQDdESLZ2",
        "outputId": "b4d2f6a2-9f28-47d4-def2-f29f8b965d53",
        "vscode": {
          "languageId": "python"
        }
      },
      "outputs": [],
      "source": [
        "words = [word.lower() for word in text1]\n",
        "print(len(words))\n",
        "print(words)"
      ]
    },
    {
      "cell_type": "code",
      "execution_count": null,
      "metadata": {
        "colab": {
          "base_uri": "https://localhost:8080/",
          "height": 34
        },
        "id": "BOw5dG7PSr0u",
        "outputId": "4d09dd9e-3f22-4bc5-9ec6-13533c9b6e5d",
        "vscode": {
          "languageId": "python"
        }
      },
      "outputs": [
        {
          "data": {
            "text/plain": [
              "260819"
            ]
          },
          "execution_count": 15,
          "metadata": {
            "tags": []
          },
          "output_type": "execute_result"
        }
      ],
      "source": [
        "fdist = nltk.FreqDist(words)\n",
        "fdist.N()"
      ]
    },
    {
      "cell_type": "code",
      "execution_count": null,
      "metadata": {
        "colab": {
          "base_uri": "https://localhost:8080/",
          "height": 185
        },
        "id": "bOnTdIQESzwM",
        "outputId": "7feefa99-1ea4-4365-b1a3-78776475f77b",
        "vscode": {
          "languageId": "python"
        }
      },
      "outputs": [
        {
          "data": {
            "text/plain": [
              "[(',', 18713),\n",
              " ('the', 14431),\n",
              " ('.', 6862),\n",
              " ('of', 6609),\n",
              " ('and', 6430),\n",
              " ('a', 4736),\n",
              " ('to', 4625),\n",
              " ('in', 4172),\n",
              " (';', 4072),\n",
              " ('that', 3085)]"
            ]
          },
          "execution_count": 16,
          "metadata": {
            "tags": []
          },
          "output_type": "execute_result"
        }
      ],
      "source": [
        "fdist.most_common(10)"
      ]
    },
    {
      "cell_type": "markdown",
      "metadata": {
        "id": "rW1bh1QkU8uZ"
      },
      "source": [
        "Part=of-speech tagging"
      ]
    },
    {
      "cell_type": "code",
      "execution_count": null,
      "metadata": {
        "id": "8ISP-rD8VBBF",
        "vscode": {
          "languageId": "python"
        }
      },
      "outputs": [],
      "source": [
        "nltk.pos_tag(text1)"
      ]
    },
    {
      "cell_type": "code",
      "execution_count": null,
      "metadata": {
        "colab": {
          "base_uri": "https://localhost:8080/",
          "height": 84
        },
        "id": "CcPe9zm4VS6x",
        "outputId": "611e6abc-781d-44a4-d485-0ea039cd4971",
        "vscode": {
          "languageId": "python"
        }
      },
      "outputs": [
        {
          "name": "stdout",
          "output_type": "stream",
          "text": [
            "RB: adverb\n",
            "    occasionally unabatingly maddeningly adventurously professedly\n",
            "    stirringly prominently technologically magisterially predominately\n",
            "    swiftly fiscally pitilessly ...\n"
          ]
        }
      ],
      "source": [
        "nltk.help.upenn_tagset(\"RB\")"
      ]
    },
    {
      "cell_type": "markdown",
      "metadata": {
        "id": "ZCgqT9YbYm4j"
      },
      "source": [
        "Let's plot the rank/freq curves for text1 (zooming into the top 100 items):"
      ]
    },
    {
      "cell_type": "code",
      "execution_count": null,
      "metadata": {
        "colab": {
          "base_uri": "https://localhost:8080/",
          "height": 265
        },
        "id": "OjRH5brYYkgJ",
        "outputId": "f54d8b2f-ac86-48c3-8d9b-bdce58410d4e",
        "vscode": {
          "languageId": "python"
        }
      },
      "outputs": [
        {
          "data": {
            "image/png": "[encoded data removed]",
            "text/plain": [
              "<Figure size 432x288 with 1 Axes>"
            ]
          },
          "metadata": {
            "needs_background": "light",
            "tags": []
          },
          "output_type": "display_data"
        }
      ],
      "source": [
        "import matplotlib.pyplot as plt\n",
        "\n",
        "freq1 = sorted(fdist.items(), key=lambda kv: kv[1], reverse=True)\n",
        "freq_sorted_vocab = [freq1[i][1] for i in range(len(freq1))]\n",
        "\n",
        "vocab_index = [i for i in range(len(fdist))]\n",
        "\n",
        "plt.plot(vocab_index[:100], freq_sorted_vocab[:100],'-')\n",
        "\n",
        "plt.show()"
      ]
    },
    {
      "cell_type": "markdown",
      "metadata": {
        "id": "wfeBUMOtX4rM"
      },
      "source": [
        "#Spacy \n",
        "Tokenization with Spacy. Examples of lemmatization, Part-of-speech tagging, dependency parsing and entity tagging:"
      ]
    },
    {
      "cell_type": "code",
      "execution_count": null,
      "metadata": {
        "colab": {
          "base_uri": "https://localhost:8080/",
          "height": 168
        },
        "id": "GsmpYcIXX6yy",
        "outputId": "c72e1733-0602-4fcf-b1e0-6ae518e4a219",
        "vscode": {
          "languageId": "python"
        }
      },
      "outputs": [
        {
          "name": "stdout",
          "output_type": "stream",
          "text": [
            "Show show VERB ROOT Show \n",
            "me -PRON- PRON dative Show \n",
            "movies movie NOUN dobj Show \n",
            "directed direct VERB acl movies \n",
            "by by ADP agent directed \n",
            "Woody Woody PROPN compound Allen PERSON\n",
            "Allen Allen PROPN pobj by PERSON\n",
            "recently recently ADV advmod directed \n",
            ". . PUNCT punct Show \n"
          ]
        }
      ],
      "source": [
        "import spacy\n",
        "\n",
        "nlp = spacy.load(\"en\")\n",
        "\n",
        "text = \"Show me movies directed by Woody Allen recently.\"\n",
        "doc = nlp(text)\n",
        "for token in doc:\n",
        "  print(\"%s %s %s %s %s %s\" % \n",
        "        (token, token.lemma_, token.pos_, token.dep_, token.head, token.ent_type_))\n"
      ]
    },
    {
      "cell_type": "markdown",
      "metadata": {
        "id": "nBtMfdLDYJni"
      },
      "source": [
        "Chunking with Spacy:"
      ]
    },
    {
      "cell_type": "code",
      "execution_count": null,
      "metadata": {
        "colab": {
          "base_uri": "https://localhost:8080/",
          "height": 67
        },
        "id": "mKBAfzpSYMO9",
        "outputId": "cb8f46ce-a4fb-4d57-b0db-fb57519f53f5",
        "vscode": {
          "languageId": "python"
        }
      },
      "outputs": [
        {
          "name": "stdout",
          "output_type": "stream",
          "text": [
            "me\n",
            "movies\n",
            "Woody Allen\n"
          ]
        }
      ],
      "source": [
        "for chunk in doc.noun_chunks:\n",
        "  print(chunk)"
      ]
    },
    {
      "cell_type": "markdown",
      "metadata": {
        "id": "AN847Be6YPxN"
      },
      "source": [
        "Named entity tagging with Spacy:"
      ]
    },
    {
      "cell_type": "code",
      "execution_count": null,
      "metadata": {
        "id": "drBliq_qYSGo",
        "vscode": {
          "languageId": "python"
        }
      },
      "outputs": [],
      "source": [
        "text = \"Heywood Allen better known as Woody Allen was born in 1935.\"\n",
        "doc = nlp(text)\n",
        "for ent in doc.ents:\n",
        "  print(\"%s %s %s %s\" % (ent.text, ent.start_char, ent.end_char, ent.label_))"
      ]
    },
    {
      "cell_type": "markdown",
      "metadata": {
        "id": "XwPgYOwZx5dl"
      },
      "source": [
        "\n",
        "Training your own classifier with sklearn\n",
        "\n"
      ]
    },
    {
      "cell_type": "code",
      "execution_count": null,
      "metadata": {
        "colab": {
          "base_uri": "https://localhost:8080/",
          "height": 84
        },
        "id": "1knpY9jxzv6w",
        "outputId": "e628c4b8-7f33-44c6-8c4a-6f5ba8c92ecf",
        "vscode": {
          "languageId": "python"
        }
      },
      "outputs": [
        {
          "name": "stdout",
          "output_type": "stream",
          "text": [
            "[6.  2.2 4.  1. ]\n",
            "[2 1 0 2 0 2 0 1 1 1 2 1 1 1 1]\n",
            "[2 1 0 2 0 2 0 1 1 1 1 1 1 1 1]\n",
            "Number of mislabeled points out of a total 15 points : 1\n"
          ]
        }
      ],
      "source": [
        "from sklearn.datasets import load_iris\n",
        "from sklearn.model_selection import train_test_split\n",
        "from sklearn.naive_bayes import GaussianNB\n",
        "X, y = load_iris(return_X_y=True)\n",
        "X_train, X_test, y_train, y_test = train_test_split(X, y, \n",
        "                                                    test_size=0.1, \n",
        "                                                    random_state=0)\n",
        "gnb = GaussianNB()\n",
        "print(X_test[1]) # printing features of the first example\n",
        "print(y_test)\n",
        "y_pred = gnb.fit(X_train, y_train).predict(X_test)\n",
        "print(y_pred)\n",
        "print(\"Number of mislabeled points out of a total %d points : %d\" \n",
        "      % (X_test.shape[0], (y_test != y_pred).sum()))"
      ]
    }
  ],
  "metadata": {
    "colab": {
      "collapsed_sections": [],
      "name": "NLTK Spacy Commands.ipynb",
      "provenance": []
    },
    "kernelspec": {
      "display_name": "Python 3",
      "name": "python3"
    }
  },
  "nbformat": 4,
  "nbformat_minor": 0
}
