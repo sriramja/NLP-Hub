{
  "nbformat": 4,
  "nbformat_minor": 0,
  "metadata": {
    "colab": {
      "name": "Lecture6.ipynb",
      "provenance": []
    },
    "kernelspec": {
      "name": "python3",
      "display_name": "Python 3"
    }
  },
  "cells": [
    {
      "cell_type": "code",
      "metadata": {
        "id": "MDBJAWZ2mdG9",
        "colab": {
          "base_uri": "https://localhost:8080/",
          "height": 139
        },
        "outputId": "1b527b6f-50ce-47d8-c908-05f12e22597f"
      },
      "source": [
        "import torch.nn as nn\n",
        "\n",
        "batch_size = 1\n",
        "one_hot_size = 1\n",
        "sequence_width = 5\n",
        "data = torch.ones(batch_size, one_hot_size, sequence_width)\n",
        "conv1 = nn.Conv1d(in_channels=one_hot_size, out_channels=1,\n",
        "               kernel_size=3)\n",
        "intermediate1 = conv1(data)\n",
        "print(data.size())\n",
        "print(intermediate1.size())\n",
        "print(\"DATA=\", data)\n",
        "print(\"INTERMEDIATE1=\", intermediate1)\n",
        "print(\"CONV1 weights=\", conv1.weight.data.numpy())\n",
        "print(\"CONV1 bias=\", conv1.bias)\n"
      ],
      "execution_count": null,
      "outputs": [
        {
          "output_type": "stream",
          "text": [
            "torch.Size([1, 1, 5])\n",
            "torch.Size([1, 1, 3])\n",
            "DATA= tensor([[[1., 1., 1., 1., 1.]]])\n",
            "INTERMEDIATE1= tensor([[[1.4151, 1.4151, 1.4151]]], grad_fn=<SqueezeBackward1>)\n",
            "CONV1 weights= [[[0.40477586 0.49083853 0.28156137]]]\n",
            "CONV1 bias= Parameter containing:\n",
            "tensor([0.2379], requires_grad=True)\n"
          ],
          "name": "stdout"
        }
      ]
    },
    {
      "cell_type": "code",
      "metadata": {
        "id": "rkW5x65S2nAP",
        "colab": {
          "base_uri": "https://localhost:8080/",
          "height": 104
        },
        "outputId": "6ad9d5a5-a46e-4c0c-f7c2-7d15ea014b37"
      },
      "source": [
        "conv2 = nn.Conv1d(in_channels=one_hot_size, out_channels=1,\n",
        "               kernel_size=2)\n",
        "final = conv2(intermediate1)\n",
        "\n",
        "print(final.size())\n",
        "print(\"FINAL=\", final)\n",
        "print(\"CONV2 weights=\", conv2.weight.data.numpy())\n",
        "print(\"CONV2 bias=\", conv2.bias)\n",
        "\n",
        "\n"
      ],
      "execution_count": null,
      "outputs": [
        {
          "output_type": "stream",
          "text": [
            "torch.Size([1, 1, 2])\n",
            "FINAL= tensor([[[0.7029, 0.7029]]], grad_fn=<SqueezeBackward1>)\n",
            "CONV2 weights= [[[0.10144985 0.68418235]]]\n",
            "CONV2 bias= Parameter containing:\n",
            "tensor([-0.4088], requires_grad=True)\n"
          ],
          "name": "stdout"
        }
      ]
    },
    {
      "cell_type": "code",
      "metadata": {
        "id": "Ee56jybf3Zfn",
        "colab": {
          "base_uri": "https://localhost:8080/",
          "height": 104
        },
        "outputId": "af5133fe-3ec0-43c1-dfc6-cbdba4fd4296"
      },
      "source": [
        "print(torch.mean(final, dim=2))\n",
        "print(torch.max(final, dim=2))\n",
        "print(torch.sum(final, dim=2))"
      ],
      "execution_count": null,
      "outputs": [
        {
          "output_type": "stream",
          "text": [
            "tensor([[0.7029]], grad_fn=<MeanBackward1>)\n",
            "torch.return_types.max(\n",
            "values=tensor([[0.7029]], grad_fn=<MaxBackward0>),\n",
            "indices=tensor([[1]]))\n",
            "tensor([[1.4058]], grad_fn=<SumBackward1>)\n"
          ],
          "name": "stdout"
        }
      ]
    }
  ]
}