{
  "cells": [
    {
      "cell_type": "code",
      "execution_count": 11,
      "metadata": {
        "id": "2HK835Lrzi61"
      },
      "outputs": [],
      "source": [
        "import re"
      ]
    },
    {
      "cell_type": "code",
      "execution_count": 12,
      "metadata": {
        "id": "5WJ8G_gWzoDs"
      },
      "outputs": [],
      "source": [
        "texts = [\n",
        "    \"have you ever read a book before\",\n",
        "    \"have you been to africa\",\n",
        "    \"have you ever seen two thousand one a space odyssey\",\n",
        "    \"have you ever had ice cream\",\n",
        "    \"do you know any musical instruments\",\n",
        "    \"how do you say cat in spanish\",\n",
        "    \"can you recommend a book\",\n",
        "    \"how do you cook french toast\",\n",
        "    \"how do you play dungeons and dragons\",\n",
        "    \"what should i eat for dinner\"\n",
        "]\n"
      ]
    },
    {
      "cell_type": "code",
      "execution_count": 13,
      "metadata": {
        "colab": {
          "base_uri": "https://localhost:8080/"
        },
        "id": "-L0G7ZjU3Wo-",
        "outputId": "cdb42c62-755a-471f-afaf-8e568b5278ec"
      },
      "outputs": [
        {
          "name": "stdout",
          "output_type": "stream",
          "text": [
            "have you ever read\n",
            "have you ever read\n"
          ]
        }
      ],
      "source": [
        "# match()\n",
        "pat = re.compile(\"have you (\\w+) (\\w+)\")\n",
        "m = pat.match(\"have you ever read a book before\")\n",
        "print(m.group(0))\n",
        "\n",
        "#pat = re.compile(\"have you (\\w+) (\\w+)\")\n",
        "m = re.match(\"have you (\\w+) (\\w+)\", \"have you ever read a book before\")\n",
        "print(m.group(0))"
      ]
    },
    {
      "cell_type": "code",
      "execution_count": 14,
      "metadata": {
        "colab": {
          "base_uri": "https://localhost:8080/"
        },
        "id": "64d9oO3d8Jp2",
        "outputId": "c052ccbe-9c89-438b-8b16-6a5a9ed6a6ba"
      },
      "outputs": [
        {
          "name": "stdout",
          "output_type": "stream",
          "text": [
            "have you ever read\n"
          ]
        }
      ],
      "source": [
        "pat = re.compile(\"have you (\\w+) (\\w+)\")\n",
        "m = pat.match(\"have you ever read a book before\")\n",
        "print(m.group(0))"
      ]
    },
    {
      "cell_type": "code",
      "execution_count": 15,
      "metadata": {
        "colab": {
          "base_uri": "https://localhost:8080/",
          "height": 202
        },
        "id": "2jopJnHW-MNJ",
        "outputId": "2efc76b6-69d9-4c2f-f9cf-ec670df32a36"
      },
      "outputs": [
        {
          "ename": "AttributeError",
          "evalue": "ignored",
          "output_type": "error",
          "traceback": [
            "\u001b[0;31m---------------------------------------------------------------------------\u001b[0m",
            "\u001b[0;31mAttributeError\u001b[0m                            Traceback (most recent call last)",
            "\u001b[0;32m<ipython-input-15-216dea8e779d>\u001b[0m in \u001b[0;36m<module>\u001b[0;34m()\u001b[0m\n\u001b[1;32m      2\u001b[0m \u001b[0mpat\u001b[0m \u001b[0;34m=\u001b[0m \u001b[0mre\u001b[0m\u001b[0;34m.\u001b[0m\u001b[0mcompile\u001b[0m\u001b[0;34m(\u001b[0m\u001b[0;34m\"have you (\\w+) (\\w+)\"\u001b[0m\u001b[0;34m)\u001b[0m\u001b[0;34m\u001b[0m\u001b[0;34m\u001b[0m\u001b[0m\n\u001b[1;32m      3\u001b[0m \u001b[0mm\u001b[0m \u001b[0;34m=\u001b[0m \u001b[0mpat\u001b[0m\u001b[0;34m.\u001b[0m\u001b[0mmatch\u001b[0m\u001b[0;34m(\u001b[0m\u001b[0;34m\"hi have you ever read a book before\"\u001b[0m\u001b[0;34m)\u001b[0m\u001b[0;34m\u001b[0m\u001b[0;34m\u001b[0m\u001b[0m\n\u001b[0;32m----> 4\u001b[0;31m \u001b[0mprint\u001b[0m\u001b[0;34m(\u001b[0m\u001b[0mm\u001b[0m\u001b[0;34m.\u001b[0m\u001b[0mgroup\u001b[0m\u001b[0;34m(\u001b[0m\u001b[0;36m0\u001b[0m\u001b[0;34m)\u001b[0m\u001b[0;34m)\u001b[0m\u001b[0;34m\u001b[0m\u001b[0;34m\u001b[0m\u001b[0m\n\u001b[0m",
            "\u001b[0;31mAttributeError\u001b[0m: 'NoneType' object has no attribute 'group'"
          ]
        }
      ],
      "source": [
        "# re.match() versus re.search()\n",
        "pat = re.compile(\"have you (\\w+) (\\w+)\")\n",
        "m = pat.match(\"hi have you ever read a book before\")\n",
        "print(m.group(0))  "
      ]
    },
    {
      "cell_type": "code",
      "execution_count": 16,
      "metadata": {
        "colab": {
          "base_uri": "https://localhost:8080/"
        },
        "id": "elVZ3qlD-Qh1",
        "outputId": "047458e1-4dd6-4339-88e1-6e1e0fde713a"
      },
      "outputs": [
        {
          "name": "stdout",
          "output_type": "stream",
          "text": [
            "have you ever read\n"
          ]
        }
      ],
      "source": [
        "# search()\n",
        "pat = re.compile(\"have you (\\w+) (\\w+)\")\n",
        "m = pat.search(\"hi have you ever read a book before\")\n",
        "print(m.group(0))  "
      ]
    },
    {
      "cell_type": "code",
      "execution_count": null,
      "metadata": {
        "colab": {
          "base_uri": "https://localhost:8080/",
          "height": 254
        },
        "id": "vZrO49dM-8Ey",
        "outputId": "fa7de335-592a-48d2-b44a-01f554b72399"
      },
      "outputs": [],
      "source": [
        "# match groups \n",
        "pat = re.compile(\"have you (\\w+) (\\w+)\")\n",
        "m = pat.search(\"hi have you ever read a book before\")\n",
        "print(m.group(0))   # group 0 is the full pattern\n",
        "print(m.group(1))   # group 1 is the leftmost group in the pattern\n",
        "print(m.group(2))\n",
        "print(m.group(3))"
      ]
    },
    {
      "cell_type": "code",
      "execution_count": 19,
      "metadata": {
        "colab": {
          "base_uri": "https://localhost:8080/"
        },
        "id": "3Mp5gpCE8M8T",
        "outputId": "559cb2cf-ae7e-40b4-c833-a1a1483357f7"
      },
      "outputs": [
        {
          "name": "stdout",
          "output_type": "stream",
          "text": [
            "have you ever read\n",
            "ever read\n",
            "ever\n",
            "read\n"
          ]
        }
      ],
      "source": [
        "# nested groups\n",
        "pat = re.compile(\"have you ((\\w+) (\\w+))\")\n",
        "m = pat.match(\"have you ever read a book before\")\n",
        "print(m.group(0))   # group 0 is the full pattern\n",
        "print(m.group(1))   # group 1 is the leftmost group in the pattern\n",
        "print(m.group(2))\n",
        "print(m.group(3))"
      ]
    },
    {
      "cell_type": "code",
      "execution_count": null,
      "metadata": {
        "colab": {
          "base_uri": "https://localhost:8080/",
          "height": 237
        },
        "id": "EKPGCtUj8ejP",
        "outputId": "39d93bb5-2a73-462c-c72a-bdcf6ceff650"
      },
      "outputs": [],
      "source": [
        "# sometimes we want to define a closure group but we dont want \n",
        "# to ever retrieve the matching text\n",
        "pat = re.compile(\"have you (?:\\w+) (\\w+)\")\n",
        "m = pat.match(\"have you ever read a book before\")\n",
        "print(m.group(0))   # group 0 is the full pattern\n",
        "print(m.group(1))   # \"read\" \n",
        "print(m.group(2))   # causes an error"
      ]
    },
    {
      "cell_type": "code",
      "execution_count": 22,
      "metadata": {
        "colab": {
          "base_uri": "https://localhost:8080/"
        },
        "id": "1jUzW4Et7oTt",
        "outputId": "cb99c0ee-838f-4c82-e1e7-d82fca880940"
      },
      "outputs": [
        {
          "name": "stdout",
          "output_type": "stream",
          "text": [
            "ever\n"
          ]
        }
      ],
      "source": [
        "# named capture groups\n",
        "pat = re.compile(\"(?:have you) (?P<have_you>\\w+)\")\n",
        "m = pat.search(\"hi have you ever read a book before\")\n",
        "print(m[\"have_you\"])"
      ]
    },
    {
      "cell_type": "code",
      "execution_count": 23,
      "metadata": {
        "colab": {
          "base_uri": "https://localhost:8080/"
        },
        "id": "bz4aZ4h0BKRM",
        "outputId": "16e0eb58-9343-4170-ab42-58e89c62f13c"
      },
      "outputs": [
        {
          "name": "stdout",
          "output_type": "stream",
          "text": [
            "\"the land before time\"\n",
            "the land before time\n",
            "{'quote': '\"', 'quoted_phrase': 'the land before time'}\n"
          ]
        }
      ],
      "source": [
        "# named capture groups\n",
        "pat = re.compile(\"(?P<quote>['\\\"])(?P<quoted_phrase>(\\w+ )+\\w+)(?P=quote)\")\n",
        "m = pat.search('have you ever seen \"the land before time\" before?')\n",
        "print(m.group(0))\n",
        "print(m[\"quoted_phrase\"])\n",
        "print(m.groupdict())"
      ]
    },
    {
      "cell_type": "code",
      "execution_count": 57,
      "metadata": {
        "colab": {
          "base_uri": "https://localhost:8080/"
        },
        "id": "_spOrQaK9SVW",
        "outputId": "9269fe97-5127-4759-debb-bfbb16344276"
      },
      "outputs": [
        {
          "name": "stdout",
          "output_type": "stream",
          "text": [
            "have you ever read\n",
            "ever\n",
            "read\n",
            "(0, 18)\n",
            "{}\n"
          ]
        }
      ],
      "source": [
        "# extracting multiple matches\n",
        "pat = re.compile(\"have you (\\w+) (\\w+)\")\n",
        "m = pat.match(\"have you ever read a book before have you been to africa\")\n",
        "print(m.group(0))   # group 0 is the full pattern\n",
        "print(m.group(1))   # group 1 is the leftmost group in the pattern\n",
        "print(m.group(2))\n",
        "print(m.span())\n",
        "print(m.groupdict())\n"
      ]
    },
    {
      "cell_type": "code",
      "execution_count": 58,
      "metadata": {
        "colab": {
          "base_uri": "https://localhost:8080/"
        },
        "id": "gybW8n8F9hK7",
        "outputId": "c369fb33-fdad-4f9d-89d9-50eb895da15b"
      },
      "outputs": [
        {
          "name": "stdout",
          "output_type": "stream",
          "text": [
            "find all: [('ever', 'read'), ('been', 'to')]\n",
            "-------------------- \n",
            "Match 0\n",
            "type=<class 're.Match'>\n",
            "have you ever read\n",
            "ever\n",
            "read\n",
            "-------------------- \n",
            "Match 1\n",
            "type=<class 're.Match'>\n",
            "have you been to\n",
            "been\n",
            "to\n"
          ]
        }
      ],
      "source": [
        "# extracting multiple matches\n",
        "pat = re.compile(\"have you (\\w+) (\\w+)\")\n",
        "\n",
        "# findall()\n",
        "print(\"find all:\", pat.findall(\"have you ever read a book before have you been to africa\"))\n",
        "\n",
        "# finditer()\n",
        "for j, m in enumerate(list(pat.finditer(\"have you ever read a book before have you been to africa\"))):\n",
        "    print(\"-\"*20, f\"\\nMatch {j}\")\n",
        "    print(f\"type={type(m)}\")\n",
        "    print(m.group(0))   # group 0 is the full pattern\n",
        "    print(m.group(1))   # group 1 is the leftmost group in the pattern\n",
        "    print(m.group(2))"
      ]
    },
    {
      "cell_type": "code",
      "execution_count": 29,
      "metadata": {
        "colab": {
          "base_uri": "https://localhost:8080/"
        },
        "id": "cjzWlN284blI",
        "outputId": "2688efbe-9352-4c4c-800c-93e9a04103ba"
      },
      "outputs": [
        {
          "name": "stdout",
          "output_type": "stream",
          "text": [
            "-------------------- \n",
            "Match 0\n",
            "word1=ever  word2=read\n",
            "-------------------- \n",
            "Match 1\n",
            "word1=been  word2=to\n"
          ]
        }
      ],
      "source": [
        "# finditer()\n",
        "for j, m in enumerate(pat.findall(\"have you ever read a book before have you been to africa\")):\n",
        "    print(\"-\"*20, f\"\\nMatch {j}\")\n",
        "    print(f\"word1={m[0]}  word2={m[1]}\")\n",
        "    #print(m.group(0))   # group 0 is the full pattern\n",
        "    #print(m.group(1))   # group 1 is the leftmost group in the pattern\n",
        "    #print(m.group(2))"
      ]
    },
    {
      "cell_type": "markdown",
      "metadata": {
        "id": "zbTgLHBfXdMT"
      },
      "source": [
        "# Lookahead Assertions\n",
        "Some of this information and examples are from \n",
        "https://docs.python.org/3/howto/regex.html . \n",
        "Visit this website for more information.\n",
        "\n",
        "\n",
        " - `(?=...)` Positive lookahead assertion. This succeeds if the contained regular expression, represented here by ..., successfully matches at the current location, and fails otherwise. But, once the contained expression has been tried, the matching engine doesn’t advance at all; the rest of the pattern is tried right where the assertion started.\n",
        " - `(?!...)` Negative lookahead assertion. This is the opposite of the positive assertion; it succeeds if the contained expression doesn’t match at the current position in the string.\n"
      ]
    },
    {
      "cell_type": "code",
      "execution_count": 55,
      "metadata": {
        "colab": {
          "base_uri": "https://localhost:8080/"
        },
        "id": "_z3w8ZPmXaes",
        "outputId": "4bd5365a-37e8-4e0e-8456-d6b097b4a47d"
      },
      "outputs": [
        {
          "name": "stdout",
          "output_type": "stream",
          "text": [
            "\n",
            "pattern: '1'\n",
            "match 0: '1'\n",
            "match 1: '1'\n",
            "match 2: '1'\n",
            "match 3: '1'\n",
            "match 4: '1'\n",
            "match 5: '1'\n",
            "match 6: '1'\n",
            "match 7: '1'\n",
            "match 8: '1'\n",
            "match 9: '1'\n",
            "match 10: '1'\n",
            "----------\n",
            "\n",
            "pattern: 'b1'\n",
            "match 0: 'b1'\n",
            "----------\n",
            "\n",
            "pattern: '\\w11'\n",
            "match 0: 'a11'\n",
            "match 1: 'b11'\n",
            "match 2: 'c11'\n",
            "match 3: '211'\n"
          ]
        }
      ],
      "source": [
        "def run_pat(pat, text):\n",
        "    print(f\"\\npattern: '{pat}'\")\n",
        "    pat = re.compile(pat)\n",
        "    for j, m in enumerate(pat.finditer(text)):\n",
        "        print(f\"match {j}: '{m.group()}'\")\n",
        "\n",
        "text = \"a113222b11122c111211122c\"\n",
        "# we want all characters that occure before a 1. \n",
        "run_pat(r\"1\", text)\n",
        "print(\"-\"*10)\n",
        "run_pat(\"b1\", text)\n",
        "print(\"-\"*10)\n",
        "\n",
        "# we only want the 1 but we will also get the character\n",
        "# just before the 1 too. ex: we get 'b1' but we want '1'.\n",
        "run_pat(r\"\\w11\", text)"
      ]
    },
    {
      "cell_type": "code",
      "execution_count": 36,
      "metadata": {
        "colab": {
          "base_uri": "https://localhost:8080/"
        },
        "id": "G1unKg-mdPdh",
        "outputId": "b7ea6169-0265-4699-a97f-e746a8da05eb"
      },
      "outputs": [
        {
          "name": "stdout",
          "output_type": "stream",
          "text": [
            "\n",
            "pattern: '\\w+(?=112)'\n",
            "match 0: 'a113222b11122c11121'\n"
          ]
        }
      ],
      "source": [
        "# match a word character that precedes '112'\n",
        "run_pat(\"\\w+(?=112)\", text)\n"
      ]
    },
    {
      "cell_type": "code",
      "execution_count": 47,
      "metadata": {
        "colab": {
          "base_uri": "https://localhost:8080/"
        },
        "id": "iuh0xxCK604H",
        "outputId": "235ebb8f-be95-47bb-ea63-a3c9dc12b189"
      },
      "outputs": [
        {
          "name": "stdout",
          "output_type": "stream",
          "text": [
            "text: a113222b11122c111211122c\n",
            "\n",
            "pattern: '\\w(?=112)\\w{0,4}'\n",
            "match 0: '11122'\n",
            "match 1: '11121'\n"
          ]
        }
      ],
      "source": [
        "# match a word character that precedes '112', and\n",
        "# the next 0 to 4 word characters.\n",
        "print(\"text:\", text)\n",
        "run_pat(\"\\w(?=112)\\w{0,4}\", text)"
      ]
    },
    {
      "cell_type": "code",
      "execution_count": 46,
      "metadata": {
        "colab": {
          "base_uri": "https://localhost:8080/"
        },
        "id": "G37e1z0aepV3",
        "outputId": "ee17bfc7-b2c2-4516-90b4-e3a25ae2e8e1"
      },
      "outputs": [
        {
          "name": "stdout",
          "output_type": "stream",
          "text": [
            "text: a113222b11122c111211122c\n",
            "\n",
            "pattern: '\\w(?!112)'\n",
            "match 0: 'a'\n",
            "match 1: '1'\n",
            "match 2: '1'\n",
            "match 3: '3'\n",
            "match 4: '2'\n",
            "match 5: '2'\n",
            "match 6: '2'\n",
            "match 7: 'b'\n",
            "match 8: '1'\n",
            "match 9: '1'\n",
            "match 10: '2'\n",
            "match 11: '2'\n",
            "match 12: 'c'\n",
            "match 13: '1'\n",
            "match 14: '1'\n",
            "match 15: '2'\n",
            "match 16: '1'\n",
            "match 17: '1'\n",
            "match 18: '2'\n",
            "match 19: '2'\n",
            "match 20: 'c'\n",
            "\n",
            "pattern: '\\w(?!112)\\w{,4}'\n",
            "match 0: 'a1132'\n",
            "match 1: '22b11'\n",
            "match 2: '122c1'\n",
            "match 3: '11211'\n",
            "match 4: '122c'\n"
          ]
        }
      ],
      "source": [
        "print(\"text:\", text)\n",
        "# match a word character that does not precede '112'\n",
        "run_pat(\"\\w(?!112)\", text)\n",
        "# match a word character that does not precede '112', and\n",
        "# the next 0 to 4 word characters.\n",
        "run_pat(\"\\w(?!112)\\w{,4}\", text)"
      ]
    },
    {
      "cell_type": "markdown",
      "metadata": {
        "id": "cCZeGbF9gACY"
      },
      "source": [
        "# Lookbehind Assertions\n",
        "- `(?<=foo)` Asserts that what immediately precedes the current position in the string **is foo**.\n",
        "- `(?<!foo)` Asserts that what immediately precedes the current position in the string **is not foo**.  "
      ]
    },
    {
      "cell_type": "code",
      "execution_count": 56,
      "metadata": {
        "colab": {
          "base_uri": "https://localhost:8080/"
        },
        "id": "y6n70I_igO-Y",
        "outputId": "de269f56-214b-4e97-b837-b63e1f01eb99"
      },
      "outputs": [
        {
          "name": "stdout",
          "output_type": "stream",
          "text": [
            "\n",
            "pattern: '(?<=12)2'\n",
            "match 0: '2'\n",
            "match 1: '2'\n",
            "\n",
            "pattern: '(?<=b)111'\n",
            "match 0: '111'\n",
            "\n",
            "pattern: '(?<!b)111'\n",
            "match 0: '111'\n",
            "match 1: '111'\n"
          ]
        }
      ],
      "source": [
        "text = \"a113222b11122c111211122c\"\n",
        "# positive lookbehind \n",
        "# match a '2' but only if it follows '12'\n",
        "run_pat(\"(?<=12)2\", text)\n",
        "# match '111' but only if it follows 'b'\n",
        "run_pat(\"(?<=b)111\", text)\n",
        "\n",
        "# negative lookbehind\n",
        "# match '111' but only if it does not follow 'b'\n",
        "run_pat(\"(?<!b)111\", text)"
      ]
    }
  ],
  "metadata": {
    "colab": {
      "collapsed_sections": [],
      "name": "regex.ipynb",
      "provenance": []
    },
    "kernelspec": {
      "display_name": "Python 3",
      "name": "python3"
    }
  },
  "nbformat": 4,
  "nbformat_minor": 0
}
