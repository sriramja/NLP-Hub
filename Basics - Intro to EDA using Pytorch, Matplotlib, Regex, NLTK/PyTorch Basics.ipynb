{
  "nbformat": 4,
  "nbformat_minor": 0,
  "metadata": {
    "colab": {
      "name": "NLP243-Lecture2.ipynb",
      "provenance": []
    },
    "kernelspec": {
      "name": "python3",
      "display_name": "Python 3"
    }
  },
  "cells": [
    {
      "cell_type": "markdown",
      "metadata": {
        "id": "shxL3Awn-gGv"
      },
      "source": [
        "Looking up the properties of a tensor:"
      ]
    },
    {
      "cell_type": "code",
      "metadata": {
        "id": "qUODeKfr-1ZB"
      },
      "source": [
        "import torch"
      ],
      "execution_count": null,
      "outputs": []
    },
    {
      "cell_type": "code",
      "metadata": {
        "id": "7OIy0Ce9-PlE"
      },
      "source": [
        "def describe(x):\n",
        "  print(\"Type: {}\".format(x.type()))\n",
        "  print(\"Shape/size: {}\".format(x.shape))\n",
        "  print(\"Values: \\n{}\".format(x))"
      ],
      "execution_count": null,
      "outputs": []
    },
    {
      "cell_type": "code",
      "metadata": {
        "id": "dQnMv63I-vhX",
        "outputId": "681fa224-43da-4c75-ad21-ca1fd0015f29",
        "colab": {
          "base_uri": "https://localhost:8080/",
          "height": 101
        }
      },
      "source": [
        "describe(torch.Tensor(2,3))"
      ],
      "execution_count": null,
      "outputs": [
        {
          "output_type": "stream",
          "text": [
            "Type: torch.FloatTensor\n",
            "Shape/size: torch.Size([2, 3])\n",
            "Values: \n",
            "tensor([[1.8807e-35, 0.0000e+00, 3.7835e-44],\n",
            "        [0.0000e+00,        nan, 0.0000e+00]])\n"
          ],
          "name": "stdout"
        }
      ]
    },
    {
      "cell_type": "markdown",
      "metadata": {
        "id": "E4se2ahU_Frj"
      },
      "source": [
        "Alternative ways for defining a tensor:"
      ]
    },
    {
      "cell_type": "code",
      "metadata": {
        "id": "Z22SS7Tb_I3P",
        "outputId": "628b8937-31ba-4c14-a31a-b62c226d534d",
        "colab": {
          "base_uri": "https://localhost:8080/",
          "height": 101
        }
      },
      "source": [
        "describe(torch.zeros(2,3))"
      ],
      "execution_count": null,
      "outputs": [
        {
          "output_type": "stream",
          "text": [
            "Type: torch.FloatTensor\n",
            "Shape/size: torch.Size([2, 3])\n",
            "Values: \n",
            "tensor([[0., 0., 0.],\n",
            "        [0., 0., 0.]])\n"
          ],
          "name": "stdout"
        }
      ]
    },
    {
      "cell_type": "code",
      "metadata": {
        "id": "LC0RqvzD_Nu_",
        "outputId": "147670e8-3308-4210-fc39-925ca06a61fa",
        "colab": {
          "base_uri": "https://localhost:8080/",
          "height": 101
        }
      },
      "source": [
        "describe(torch.ones(2,3))"
      ],
      "execution_count": null,
      "outputs": [
        {
          "output_type": "stream",
          "text": [
            "Type: torch.FloatTensor\n",
            "Shape/size: torch.Size([2, 3])\n",
            "Values: \n",
            "tensor([[1., 1., 1.],\n",
            "        [1., 1., 1.]])\n"
          ],
          "name": "stdout"
        }
      ]
    },
    {
      "cell_type": "code",
      "metadata": {
        "id": "hYfHLDyM_Vam",
        "outputId": "bc3ea0a6-6d50-419e-8711-042b784822c7",
        "colab": {
          "base_uri": "https://localhost:8080/",
          "height": 101
        }
      },
      "source": [
        "X=torch.ones(2,3)\n",
        "describe(X.fill_(5))"
      ],
      "execution_count": null,
      "outputs": [
        {
          "output_type": "stream",
          "text": [
            "Type: torch.FloatTensor\n",
            "Shape/size: torch.Size([2, 3])\n",
            "Values: \n",
            "tensor([[5., 5., 5.],\n",
            "        [5., 5., 5.]])\n"
          ],
          "name": "stdout"
        }
      ]
    },
    {
      "cell_type": "code",
      "metadata": {
        "id": "Xv171cH4_p-n",
        "outputId": "b54b05df-cb36-40f3-fe25-00251524e905",
        "colab": {
          "base_uri": "https://localhost:8080/",
          "height": 101
        }
      },
      "source": [
        "describe(torch.tensor([[1,2,3],[4,5,6]]))"
      ],
      "execution_count": null,
      "outputs": [
        {
          "output_type": "stream",
          "text": [
            "Type: torch.LongTensor\n",
            "Shape/size: torch.Size([2, 3])\n",
            "Values: \n",
            "tensor([[1, 2, 3],\n",
            "        [4, 5, 6]])\n"
          ],
          "name": "stdout"
        }
      ]
    },
    {
      "cell_type": "code",
      "metadata": {
        "id": "_WwcEpifKOgi",
        "outputId": "5c3d1123-9390-405b-a97d-342198b1deeb",
        "colab": {
          "base_uri": "https://localhost:8080/",
          "height": 101
        }
      },
      "source": [
        "describe(torch.rand(2,3)) # uniform distribution"
      ],
      "execution_count": null,
      "outputs": [
        {
          "output_type": "stream",
          "text": [
            "Type: torch.FloatTensor\n",
            "Shape/size: torch.Size([2, 3])\n",
            "Values: \n",
            "tensor([[0.1519, 0.0343, 0.0260],\n",
            "        [0.5097, 0.0805, 0.9201]])\n"
          ],
          "name": "stdout"
        }
      ]
    },
    {
      "cell_type": "code",
      "metadata": {
        "id": "2OnWiVVFKpBN",
        "outputId": "7f8ecae5-90a1-4c35-8c5e-bef25196ff71",
        "colab": {
          "base_uri": "https://localhost:8080/",
          "height": 101
        }
      },
      "source": [
        "describe(torch.randn(2,3)) # normal distribution"
      ],
      "execution_count": null,
      "outputs": [
        {
          "output_type": "stream",
          "text": [
            "Type: torch.FloatTensor\n",
            "Shape/size: torch.Size([2, 3])\n",
            "Values: \n",
            "tensor([[-0.9631,  0.0646, -1.9911],\n",
            "        [-1.2106, -0.9436,  1.0816]])\n"
          ],
          "name": "stdout"
        }
      ]
    },
    {
      "cell_type": "markdown",
      "metadata": {
        "id": "rncxSwELOF6X"
      },
      "source": [
        "Arithmetic operations for tensors"
      ]
    },
    {
      "cell_type": "code",
      "metadata": {
        "id": "DB2qUrvoOJJN",
        "outputId": "2055a10f-2678-4f01-fe1d-82d22b4b813b",
        "colab": {
          "base_uri": "https://localhost:8080/",
          "height": 101
        }
      },
      "source": [
        "a=torch.tensor([4, 3])\n",
        "b=torch.tensor([2, 6])\n",
        "print(a+b)\n",
        "print(a-b)\n",
        "print(a*b)\n",
        "print(a // b)\n",
        "print(a**b)"
      ],
      "execution_count": null,
      "outputs": [
        {
          "output_type": "stream",
          "text": [
            "tensor([6, 9])\n",
            "tensor([ 2, -3])\n",
            "tensor([ 8, 18])\n",
            "tensor([2, 0])\n",
            "tensor([ 16, 729])\n"
          ],
          "name": "stdout"
        }
      ]
    },
    {
      "cell_type": "markdown",
      "metadata": {
        "id": "W5-_KcVIHf0l"
      },
      "source": [
        "Reduction sum and mean"
      ]
    },
    {
      "cell_type": "code",
      "metadata": {
        "id": "DZtEIVX5MIsu",
        "outputId": "b8f1ecc9-7f43-4eb1-e0b4-716a584a48a6",
        "colab": {
          "base_uri": "https://localhost:8080/",
          "height": 84
        }
      },
      "source": [
        "a = torch.ones(3,4)\n",
        "describe(a.sum())"
      ],
      "execution_count": null,
      "outputs": [
        {
          "output_type": "stream",
          "text": [
            "Type: torch.FloatTensor\n",
            "Shape/size: torch.Size([])\n",
            "Values: \n",
            "12.0\n"
          ],
          "name": "stdout"
        }
      ]
    },
    {
      "cell_type": "code",
      "metadata": {
        "id": "N8Ub6jVXMO6O",
        "outputId": "edbaeb6b-6a96-45b1-99d1-a7504c9e76e9",
        "colab": {
          "base_uri": "https://localhost:8080/",
          "height": 84
        }
      },
      "source": [
        "describe(a.mean())"
      ],
      "execution_count": null,
      "outputs": [
        {
          "output_type": "stream",
          "text": [
            "Type: torch.FloatTensor\n",
            "Shape/size: torch.Size([])\n",
            "Values: \n",
            "1.0\n"
          ],
          "name": "stdout"
        }
      ]
    },
    {
      "cell_type": "markdown",
      "metadata": {
        "id": "b411i9InMhK7"
      },
      "source": [
        "Non-reduction sum: sometimes it can be useful to keep the number of axes unchanged when invoking the function for calculating sum and mean."
      ]
    },
    {
      "cell_type": "code",
      "metadata": {
        "id": "aVITWob4MfRw",
        "outputId": "46432e0a-efa8-4774-eeaa-8aa4fe43c3f5",
        "colab": {
          "base_uri": "https://localhost:8080/",
          "height": 118
        }
      },
      "source": [
        "describe(a.sum(axis=1, keepdim=True))"
      ],
      "execution_count": null,
      "outputs": [
        {
          "output_type": "stream",
          "text": [
            "Type: torch.FloatTensor\n",
            "Shape/size: torch.Size([3, 1])\n",
            "Values: \n",
            "tensor([[4.],\n",
            "        [4.],\n",
            "        [4.]])\n"
          ],
          "name": "stdout"
        }
      ]
    },
    {
      "cell_type": "code",
      "metadata": {
        "id": "-raw_UYgM3vE",
        "outputId": "80492d05-15b2-49e6-8b5a-03ceea0fc2fe",
        "colab": {
          "base_uri": "https://localhost:8080/",
          "height": 84
        }
      },
      "source": [
        "describe(a.sum(axis=0, keepdim=True))"
      ],
      "execution_count": null,
      "outputs": [
        {
          "output_type": "stream",
          "text": [
            "Type: torch.FloatTensor\n",
            "Shape/size: torch.Size([1, 4])\n",
            "Values: \n",
            "tensor([[3., 3., 3., 3.]])\n"
          ],
          "name": "stdout"
        }
      ]
    },
    {
      "cell_type": "code",
      "metadata": {
        "id": "2jdrNq7hNS7a",
        "outputId": "7453bcf0-7cd1-478e-ecdb-917ab6a8de5b",
        "colab": {
          "base_uri": "https://localhost:8080/",
          "height": 84
        }
      },
      "source": [
        "describe(a.mean(axis=0, keepdim=True))"
      ],
      "execution_count": null,
      "outputs": [
        {
          "output_type": "stream",
          "text": [
            "Type: torch.FloatTensor\n",
            "Shape/size: torch.Size([1, 4])\n",
            "Values: \n",
            "tensor([[1., 1., 1., 1.]])\n"
          ],
          "name": "stdout"
        }
      ]
    },
    {
      "cell_type": "markdown",
      "metadata": {
        "id": "s6htSZ-3Qo4C"
      },
      "source": [
        "Dot Product"
      ]
    },
    {
      "cell_type": "code",
      "metadata": {
        "id": "Fi_CCcGUQqVD",
        "outputId": "989fecf3-8c97-4a2e-b388-7f347c7d38b8",
        "colab": {
          "base_uri": "https://localhost:8080/",
          "height": 67
        }
      },
      "source": [
        "a=torch.ones(3)\n",
        "print(a)\n",
        "b=torch.Tensor([2,3,4])\n",
        "print(b)\n",
        "print(torch.dot(b,a))"
      ],
      "execution_count": null,
      "outputs": [
        {
          "output_type": "stream",
          "text": [
            "tensor([1., 1., 1.])\n",
            "tensor([2., 3., 4.])\n",
            "tensor(9.)\n"
          ],
          "name": "stdout"
        }
      ]
    },
    {
      "cell_type": "markdown",
      "metadata": {
        "id": "kdbriLbjOhYD"
      },
      "source": [
        "Matrix Multiplication"
      ]
    },
    {
      "cell_type": "code",
      "metadata": {
        "id": "pS7DhkivOtTi",
        "outputId": "260eb238-df26-4895-9f03-a6fef3f6b01f",
        "colab": {
          "base_uri": "https://localhost:8080/",
          "height": 286
        }
      },
      "source": [
        "import numpy as np\n",
        "a=torch.Tensor([[1,2,3]])\n",
        "b=torch.ones(3,1)\n",
        "print(\"a:\")\n",
        "describe(a)\n",
        "print(\"b:\")\n",
        "describe(b)\n",
        "print(\"a.b:\", torch.mm(a,b))\n",
        "print(\"b.a:\", torch.mm(b,a))"
      ],
      "execution_count": null,
      "outputs": [
        {
          "output_type": "stream",
          "text": [
            "a:\n",
            "Type: torch.FloatTensor\n",
            "Shape/size: torch.Size([1, 3])\n",
            "Values: \n",
            "tensor([[1., 2., 3.]])\n",
            "b:\n",
            "Type: torch.FloatTensor\n",
            "Shape/size: torch.Size([3, 1])\n",
            "Values: \n",
            "tensor([[1.],\n",
            "        [1.],\n",
            "        [1.]])\n",
            "a.b: tensor([[6.]])\n",
            "b.a: tensor([[1., 2., 3.],\n",
            "        [1., 2., 3.],\n",
            "        [1., 2., 3.]])\n"
          ],
          "name": "stdout"
        }
      ]
    },
    {
      "cell_type": "code",
      "metadata": {
        "id": "FTWV0f_tQcAe"
      },
      "source": [
        ""
      ],
      "execution_count": null,
      "outputs": []
    },
    {
      "cell_type": "markdown",
      "metadata": {
        "id": "aw1tJ3YmQEkm"
      },
      "source": [
        "Norms"
      ]
    },
    {
      "cell_type": "code",
      "metadata": {
        "id": "aHzCLDavQDrz",
        "outputId": "f1d536e9-b4d9-4897-8bf8-d16dc19e13c0",
        "colab": {
          "base_uri": "https://localhost:8080/",
          "height": 101
        }
      },
      "source": [
        "a=torch.Tensor([-3,4])\n",
        "describe(a)\n",
        "print(np.linalg.norm(a))"
      ],
      "execution_count": null,
      "outputs": [
        {
          "output_type": "stream",
          "text": [
            "Type: torch.FloatTensor\n",
            "Shape/size: torch.Size([2])\n",
            "Values: \n",
            "tensor([-3.,  4.])\n",
            "5.0\n"
          ],
          "name": "stdout"
        }
      ]
    }
  ]
}