{
  "nbformat": 4,
  "nbformat_minor": 0,
  "metadata": {
    "kernelspec": {
      "display_name": "nlpbook",
      "language": "python",
      "name": "nlpbook"
    },
    "language_info": {
      "codemirror_mode": {
        "name": "ipython",
        "version": 3
      },
      "file_extension": ".py",
      "mimetype": "text/x-python",
      "name": "python",
      "nbconvert_exporter": "python",
      "pygments_lexer": "ipython3",
      "version": "3.7.2"
    },
    "colab": {
      "name": "5_1_Pretrained_Embeddings.ipynb",
      "provenance": []
    }
  },
  "cells": [
    {
      "cell_type": "code",
      "metadata": {
        "id": "bzLjUy-UKi2n",
        "outputId": "b14ebe97-d18a-48a6-b6f6-c8ec2030918c",
        "colab": {
          "base_uri": "https://localhost:8080/",
          "height": 211
        }
      },
      "source": [
        "!pip install annoy"
      ],
      "execution_count": null,
      "outputs": [
        {
          "output_type": "stream",
          "text": [
            "Collecting annoy\n",
            "\u001b[?25l  Downloading https://files.pythonhosted.org/packages/00/15/5a9db225ebda93a235aebd5e42bbf83ab7035e7e4783c6cb528c635c9afb/annoy-1.16.3.tar.gz (644kB)\n",
            "\r\u001b[K     |▌                               | 10kB 6.5MB/s eta 0:00:01\r\u001b[K     |█                               | 20kB 1.4MB/s eta 0:00:01\r\u001b[K     |█▌                              | 30kB 2.1MB/s eta 0:00:01\r\u001b[K     |██                              | 40kB 1.5MB/s eta 0:00:01\r\u001b[K     |██▌                             | 51kB 1.9MB/s eta 0:00:01\r\u001b[K     |███                             | 61kB 2.2MB/s eta 0:00:01\r\u001b[K     |███▋                            | 71kB 2.6MB/s eta 0:00:01\r\u001b[K     |████                            | 81kB 3.0MB/s eta 0:00:01\r\u001b[K     |████▋                           | 92kB 2.3MB/s eta 0:00:01\r\u001b[K     |█████                           | 102kB 2.6MB/s eta 0:00:01\r\u001b[K     |█████▋                          | 112kB 2.6MB/s eta 0:00:01\r\u001b[K     |██████                          | 122kB 2.6MB/s eta 0:00:01\r\u001b[K     |██████▋                         | 133kB 2.6MB/s eta 0:00:01\r\u001b[K     |███████▏                        | 143kB 2.6MB/s eta 0:00:01\r\u001b[K     |███████▋                        | 153kB 2.6MB/s eta 0:00:01\r\u001b[K     |████████▏                       | 163kB 2.6MB/s eta 0:00:01\r\u001b[K     |████████▋                       | 174kB 2.6MB/s eta 0:00:01\r\u001b[K     |█████████▏                      | 184kB 2.6MB/s eta 0:00:01\r\u001b[K     |█████████▋                      | 194kB 2.6MB/s eta 0:00:01\r\u001b[K     |██████████▏                     | 204kB 2.6MB/s eta 0:00:01\r\u001b[K     |██████████▊                     | 215kB 2.6MB/s eta 0:00:01\r\u001b[K     |███████████▏                    | 225kB 2.6MB/s eta 0:00:01\r\u001b[K     |███████████▊                    | 235kB 2.6MB/s eta 0:00:01\r\u001b[K     |████████████▏                   | 245kB 2.6MB/s eta 0:00:01\r\u001b[K     |████████████▊                   | 256kB 2.6MB/s eta 0:00:01\r\u001b[K     |█████████████▎                  | 266kB 2.6MB/s eta 0:00:01\r\u001b[K     |█████████████▊                  | 276kB 2.6MB/s eta 0:00:01\r\u001b[K     |██████████████▎                 | 286kB 2.6MB/s eta 0:00:01\r\u001b[K     |██████████████▊                 | 296kB 2.6MB/s eta 0:00:01\r\u001b[K     |███████████████▎                | 307kB 2.6MB/s eta 0:00:01\r\u001b[K     |███████████████▊                | 317kB 2.6MB/s eta 0:00:01\r\u001b[K     |████████████████▎               | 327kB 2.6MB/s eta 0:00:01\r\u001b[K     |████████████████▉               | 337kB 2.6MB/s eta 0:00:01\r\u001b[K     |█████████████████▎              | 348kB 2.6MB/s eta 0:00:01\r\u001b[K     |█████████████████▉              | 358kB 2.6MB/s eta 0:00:01\r\u001b[K     |██████████████████▎             | 368kB 2.6MB/s eta 0:00:01\r\u001b[K     |██████████████████▉             | 378kB 2.6MB/s eta 0:00:01\r\u001b[K     |███████████████████▎            | 389kB 2.6MB/s eta 0:00:01\r\u001b[K     |███████████████████▉            | 399kB 2.6MB/s eta 0:00:01\r\u001b[K     |████████████████████▍           | 409kB 2.6MB/s eta 0:00:01\r\u001b[K     |████████████████████▉           | 419kB 2.6MB/s eta 0:00:01\r\u001b[K     |█████████████████████▍          | 430kB 2.6MB/s eta 0:00:01\r\u001b[K     |█████████████████████▉          | 440kB 2.6MB/s eta 0:00:01\r\u001b[K     |██████████████████████▍         | 450kB 2.6MB/s eta 0:00:01\r\u001b[K     |██████████████████████▉         | 460kB 2.6MB/s eta 0:00:01\r\u001b[K     |███████████████████████▍        | 471kB 2.6MB/s eta 0:00:01\r\u001b[K     |████████████████████████        | 481kB 2.6MB/s eta 0:00:01\r\u001b[K     |████████████████████████▍       | 491kB 2.6MB/s eta 0:00:01\r\u001b[K     |█████████████████████████       | 501kB 2.6MB/s eta 0:00:01\r\u001b[K     |█████████████████████████▍      | 512kB 2.6MB/s eta 0:00:01\r\u001b[K     |██████████████████████████      | 522kB 2.6MB/s eta 0:00:01\r\u001b[K     |██████████████████████████▌     | 532kB 2.6MB/s eta 0:00:01\r\u001b[K     |███████████████████████████     | 542kB 2.6MB/s eta 0:00:01\r\u001b[K     |███████████████████████████▌    | 552kB 2.6MB/s eta 0:00:01\r\u001b[K     |████████████████████████████    | 563kB 2.6MB/s eta 0:00:01\r\u001b[K     |████████████████████████████▌   | 573kB 2.6MB/s eta 0:00:01\r\u001b[K     |█████████████████████████████   | 583kB 2.6MB/s eta 0:00:01\r\u001b[K     |█████████████████████████████▌  | 593kB 2.6MB/s eta 0:00:01\r\u001b[K     |██████████████████████████████  | 604kB 2.6MB/s eta 0:00:01\r\u001b[K     |██████████████████████████████▌ | 614kB 2.6MB/s eta 0:00:01\r\u001b[K     |███████████████████████████████ | 624kB 2.6MB/s eta 0:00:01\r\u001b[K     |███████████████████████████████▌| 634kB 2.6MB/s eta 0:00:01\r\u001b[K     |████████████████████████████████| 645kB 2.6MB/s \n",
            "\u001b[?25hBuilding wheels for collected packages: annoy\n",
            "  Building wheel for annoy (setup.py) ... \u001b[?25l\u001b[?25hdone\n",
            "  Created wheel for annoy: filename=annoy-1.16.3-cp36-cp36m-linux_x86_64.whl size=297340 sha256=6444183a443f02de8e704cf541a7808591090f149dc348f8cb5ef43cac1352a7\n",
            "  Stored in directory: /root/.cache/pip/wheels/f3/01/54/6ef760fe9f9fc6ba8c19cebbe6358212b5f3b5b0195c0b813f\n",
            "Successfully built annoy\n",
            "Installing collected packages: annoy\n",
            "Successfully installed annoy-1.16.3\n"
          ],
          "name": "stdout"
        }
      ]
    },
    {
      "cell_type": "code",
      "metadata": {
        "id": "4Cz3T14XJjZS"
      },
      "source": [
        "import torch\n",
        "import torch.nn as nn\n",
        "from tqdm import tqdm\n",
        "from annoy import AnnoyIndex\n",
        "import numpy as np"
      ],
      "execution_count": null,
      "outputs": []
    },
    {
      "cell_type": "code",
      "metadata": {
        "id": "hIXdf9a5JjZY"
      },
      "source": [
        "class PreTrainedEmbeddings(object):\n",
        "    \"\"\" A wrapper around pre-trained word vectors and their use \"\"\"\n",
        "    def __init__(self, word_to_index, word_vectors):\n",
        "        \"\"\"\n",
        "        Args:\n",
        "            word_to_index (dict): mapping from word to integers\n",
        "            word_vectors (list of numpy arrays)\n",
        "        \"\"\"\n",
        "        self.word_to_index = word_to_index\n",
        "        self.word_vectors = word_vectors\n",
        "        self.index_to_word = {v: k for k, v in self.word_to_index.items()}\n",
        "\n",
        "        self.index = AnnoyIndex(len(word_vectors[0]), metric='cosine')\n",
        "        print(\"Building Index!\")\n",
        "        for _, i in self.word_to_index.items():\n",
        "            self.index.add_item(i, self.word_vectors[i])\n",
        "        self.index.build(50)\n",
        "        print(\"Finished!\")\n",
        "        \n",
        "    @classmethod\n",
        "    def from_embeddings_file(cls, embedding_file):\n",
        "        \"\"\"Instantiate from pre-trained vector file.\n",
        "        \n",
        "        Vector file should be of the format:\n",
        "            word0 x0_0 x0_1 x0_2 x0_3 ... x0_N\n",
        "            word1 x1_0 x1_1 x1_2 x1_3 ... x1_N\n",
        "        \n",
        "        Args:\n",
        "            embedding_file (str): location of the file\n",
        "        Returns: \n",
        "            instance of PretrainedEmbeddigns\n",
        "        \"\"\"\n",
        "        word_to_index = {}\n",
        "        word_vectors = []\n",
        "\n",
        "        with open(embedding_file) as fp:\n",
        "            for line in fp.readlines():\n",
        "                line = line.split(\" \")\n",
        "                word = line[0]\n",
        "                vec = np.array([float(x) for x in line[1:]])\n",
        "                \n",
        "                word_to_index[word] = len(word_to_index)\n",
        "                word_vectors.append(vec)\n",
        "                \n",
        "        return cls(word_to_index, word_vectors)\n",
        "    \n",
        "    def get_embedding(self, word):\n",
        "        \"\"\"\n",
        "        Args:\n",
        "            word (str)\n",
        "        Returns\n",
        "            an embedding (numpy.ndarray)\n",
        "        \"\"\"\n",
        "        return self.word_vectors[self.word_to_index[word]]\n",
        "\n",
        "    def get_closest_to_vector(self, vector, n=1):\n",
        "        \"\"\"Given a vector, return its n nearest neighbors\n",
        "        \n",
        "        Args:\n",
        "            vector (np.ndarray): should match the size of the vectors \n",
        "                in the Annoy index\n",
        "            n (int): the number of neighbors to return\n",
        "        Returns:\n",
        "            [str, str, ...]: words that are nearest to the given vector. \n",
        "                The words are not ordered by distance \n",
        "        \"\"\"\n",
        "        nn_indices = self.index.get_nns_by_vector(vector, n)\n",
        "        return [self.index_to_word[neighbor] for neighbor in nn_indices]\n",
        "    \n",
        "    def compute_and_print_analogy(self, word1, word2, word3):\n",
        "        \"\"\"Prints the solutions to analogies using word embeddings\n",
        "\n",
        "        Analogies are word1 is to word2 as word3 is to __\n",
        "        This method will print: word1 : word2 :: word3 : word4\n",
        "        \n",
        "        Args:\n",
        "            word1 (str)\n",
        "            word2 (str)\n",
        "            word3 (str)\n",
        "        \"\"\"\n",
        "        vec1 = self.get_embedding(word1)\n",
        "        vec2 = self.get_embedding(word2)\n",
        "        vec3 = self.get_embedding(word3)\n",
        "\n",
        "        # now compute the fourth word's embedding!\n",
        "        spatial_relationship = vec2 - vec1\n",
        "        vec4 = vec3 + spatial_relationship\n",
        "\n",
        "        closest_words = self.get_closest_to_vector(vec4, n=4)\n",
        "        existing_words = set([word1, word2, word3])\n",
        "        closest_words = [word for word in closest_words \n",
        "                             if word not in existing_words] \n",
        "\n",
        "        if len(closest_words) == 0:\n",
        "            print(\"Could not find nearest neighbors for the computed vector!\")\n",
        "            return\n",
        "        \n",
        "        for word4 in closest_words:\n",
        "            print(\"{} : {} :: {} : {}\".format(word1, word2, word3, word4))"
      ],
      "execution_count": null,
      "outputs": []
    },
    {
      "cell_type": "code",
      "metadata": {
        "id": "JFgFh0lELqHA",
        "outputId": "faec60ca-a494-4e1d-ef1f-99dd2a569580",
        "colab": {
          "base_uri": "https://localhost:8080/",
          "height": 384
        }
      },
      "source": [
        "!wget http://nlp.stanford.edu/data/glove.6B.zip"
      ],
      "execution_count": null,
      "outputs": [
        {
          "output_type": "stream",
          "text": [
            "--2020-02-01 19:16:24--  http://nlp.stanford.edu/data/glove.6B.zip\n",
            "Resolving nlp.stanford.edu (nlp.stanford.edu)... 171.64.67.140\n",
            "Connecting to nlp.stanford.edu (nlp.stanford.edu)|171.64.67.140|:80... connected.\n",
            "HTTP request sent, awaiting response... 302 Found\n",
            "Location: https://nlp.stanford.edu/data/glove.6B.zip [following]\n",
            "--2020-02-01 19:16:24--  https://nlp.stanford.edu/data/glove.6B.zip\n",
            "Connecting to nlp.stanford.edu (nlp.stanford.edu)|171.64.67.140|:443... connected.\n",
            "HTTP request sent, awaiting response... 301 Moved Permanently\n",
            "Location: http://downloads.cs.stanford.edu/nlp/data/glove.6B.zip [following]\n",
            "--2020-02-01 19:16:25--  http://downloads.cs.stanford.edu/nlp/data/glove.6B.zip\n",
            "Resolving downloads.cs.stanford.edu (downloads.cs.stanford.edu)... 171.64.64.22\n",
            "Connecting to downloads.cs.stanford.edu (downloads.cs.stanford.edu)|171.64.64.22|:80... connected.\n",
            "HTTP request sent, awaiting response... 200 OK\n",
            "Length: 862182613 (822M) [application/zip]\n",
            "Saving to: ‘glove.6B.zip’\n",
            "\n",
            "glove.6B.zip        100%[===================>] 822.24M  2.11MB/s    in 6m 29s  \n",
            "\n",
            "2020-02-01 19:22:55 (2.11 MB/s) - ‘glove.6B.zip’ saved [862182613/862182613]\n",
            "\n"
          ],
          "name": "stdout"
        }
      ]
    },
    {
      "cell_type": "code",
      "metadata": {
        "id": "IFyohnxQNWhy"
      },
      "source": [
        "import zipfile\n",
        "zip_ref = zipfile.ZipFile('glove.6B.zip', 'r')\n",
        "zip_ref.extractall('data/')\n",
        "zip_ref.close()"
      ],
      "execution_count": null,
      "outputs": []
    },
    {
      "cell_type": "code",
      "metadata": {
        "id": "wzcASAgJNw4S",
        "outputId": "be97e6c4-5be0-47df-c15f-6f71295061c3",
        "colab": {
          "base_uri": "https://localhost:8080/",
          "height": 104
        }
      },
      "source": [
        "!ls -l data"
      ],
      "execution_count": null,
      "outputs": [
        {
          "output_type": "stream",
          "text": [
            "total 2197148\n",
            "-rw-r--r-- 1 root root  347116733 Feb  1 19:25 glove.6B.100d.txt\n",
            "-rw-r--r-- 1 root root  693432828 Feb  1 19:25 glove.6B.200d.txt\n",
            "-rw-r--r-- 1 root root 1037962819 Feb  1 19:25 glove.6B.300d.txt\n",
            "-rw-r--r-- 1 root root  171350079 Feb  1 19:25 glove.6B.50d.txt\n"
          ],
          "name": "stdout"
        }
      ]
    },
    {
      "cell_type": "code",
      "metadata": {
        "id": "iAwxY_UoJjZb",
        "outputId": "fe5cf816-5811-49c0-9db4-fccc7dedf08e",
        "colab": {
          "base_uri": "https://localhost:8080/",
          "height": 52
        }
      },
      "source": [
        "embeddings = PreTrainedEmbeddings.from_embeddings_file('data/glove.6B.100d.txt')"
      ],
      "execution_count": null,
      "outputs": [
        {
          "output_type": "stream",
          "text": [
            "Building Index!\n",
            "Finished!\n"
          ],
          "name": "stdout"
        }
      ]
    },
    {
      "cell_type": "code",
      "metadata": {
        "id": "8Um91b4icXng",
        "outputId": "8978fb19-24d4-4af9-9db2-97a32150a0cc",
        "colab": {
          "base_uri": "https://localhost:8080/",
          "height": 312
        }
      },
      "source": [
        "print(embeddings.get_embedding('chicken'))"
      ],
      "execution_count": null,
      "outputs": [
        {
          "output_type": "stream",
          "text": [
            "[-0.31941    0.64352    0.061722  -0.23465   -0.46668    0.45944\n",
            "  0.80966    0.26575    0.17443   -0.2897    -0.77198    0.29437\n",
            "  1.1188     0.54886   -0.23227    0.62681   -0.1981    -0.39673\n",
            "  0.075107   0.13992    0.30519    0.88384   -0.032432  -0.98251\n",
            "  0.61574    1.6974     0.1439    -0.18219   -0.5754     0.51227\n",
            " -0.043756   0.90425    0.54989   -0.27782   -0.038291   0.86877\n",
            "  0.027351  -0.062064  -0.11542   -1.1948     0.91219   -1.3764\n",
            " -0.60074   -1.239      0.71743    0.0060215 -1.2784    -0.60365\n",
            "  0.087471  -0.93287   -0.38174    0.15325   -0.029534   0.5951\n",
            " -1.3351    -0.85247   -0.25387    0.15488    0.63603    0.46029\n",
            "  0.11268    0.73124    0.79237    0.64031    0.87218   -0.14922\n",
            " -0.37287   -0.089947  -0.30832    0.14441   -0.21685    0.43613\n",
            "  0.27235    1.1278     0.27427    0.55706   -0.9089     0.28802\n",
            "  0.42004    0.9972     0.69903   -0.37304   -0.44695    0.70073\n",
            " -0.47789   -0.30684   -0.17773    0.70475    0.018582   0.20878\n",
            "  0.16036    0.17889   -0.34584   -0.54298   -1.3805    -0.876\n",
            "  0.30005   -0.68796    0.70755   -0.053287 ]\n"
          ],
          "name": "stdout"
        }
      ]
    },
    {
      "cell_type": "code",
      "metadata": {
        "id": "DZeTJ1tYJjZe",
        "outputId": "e9774c2c-17f1-4502-bd2c-7bac682ba625",
        "colab": {
          "base_uri": "https://localhost:8080/",
          "height": 69
        }
      },
      "source": [
        "embeddings.compute_and_print_analogy('man', 'king', 'woman')"
      ],
      "execution_count": null,
      "outputs": [
        {
          "output_type": "stream",
          "text": [
            "man : king :: woman : queen\n",
            "man : king :: woman : monarch\n",
            "man : king :: woman : throne\n"
          ],
          "name": "stdout"
        }
      ]
    },
    {
      "cell_type": "code",
      "metadata": {
        "id": "hR_g9SzYJjZi",
        "outputId": "30f6021e-c544-4111-fde1-c46344232dc5",
        "colab": {
          "base_uri": "https://localhost:8080/",
          "height": 52
        }
      },
      "source": [
        "embeddings.compute_and_print_analogy('fly', 'plane', 'sail')"
      ],
      "execution_count": null,
      "outputs": [
        {
          "output_type": "stream",
          "text": [
            "fly : plane :: sail : ship\n",
            "fly : plane :: sail : vessel\n"
          ],
          "name": "stdout"
        }
      ]
    },
    {
      "cell_type": "code",
      "metadata": {
        "id": "GHWvWvNaJjZk",
        "outputId": "772aac5a-f5fd-4cbb-c3e4-ee71000f85f7",
        "colab": {
          "base_uri": "https://localhost:8080/",
          "height": 69
        }
      },
      "source": [
        "embeddings.compute_and_print_analogy('cat', 'kitten', 'dog')"
      ],
      "execution_count": null,
      "outputs": [
        {
          "output_type": "stream",
          "text": [
            "cat : kitten :: dog : puppy\n",
            "cat : kitten :: dog : toddler\n",
            "cat : kitten :: dog : sleds\n"
          ],
          "name": "stdout"
        }
      ]
    },
    {
      "cell_type": "code",
      "metadata": {
        "id": "Jy0LMS0uJjZn",
        "outputId": "fa659935-eb32-4917-8581-9effafe31465",
        "colab": {
          "base_uri": "https://localhost:8080/",
          "height": 69
        }
      },
      "source": [
        "embeddings.compute_and_print_analogy('sky', 'blue', 'tree')"
      ],
      "execution_count": null,
      "outputs": [
        {
          "output_type": "stream",
          "text": [
            "sky : blue :: tree : leaf\n",
            "sky : blue :: tree : green\n",
            "sky : blue :: tree : trees\n"
          ],
          "name": "stdout"
        }
      ]
    },
    {
      "cell_type": "code",
      "metadata": {
        "id": "Wc28LskpJjZq",
        "outputId": "70a82757-9643-4647-96a8-ddc7a153485f",
        "colab": {
          "base_uri": "https://localhost:8080/",
          "height": 69
        }
      },
      "source": [
        "embeddings.compute_and_print_analogy('leg', 'legs', 'hand')"
      ],
      "execution_count": null,
      "outputs": [
        {
          "output_type": "stream",
          "text": [
            "leg : legs :: hand : fingers\n",
            "leg : legs :: hand : ears\n",
            "leg : legs :: hand : stick\n"
          ],
          "name": "stdout"
        }
      ]
    },
    {
      "cell_type": "code",
      "metadata": {
        "id": "iKxZ_d12JjZs",
        "outputId": "e1517c0f-764b-4aad-ecb9-8d1db110a922",
        "colab": {
          "base_uri": "https://localhost:8080/",
          "height": 69
        }
      },
      "source": [
        "embeddings.compute_and_print_analogy('toe', 'foot', 'finger')"
      ],
      "execution_count": null,
      "outputs": [
        {
          "output_type": "stream",
          "text": [
            "toe : foot :: finger : hand\n",
            "toe : foot :: finger : attached\n",
            "toe : foot :: finger : apart\n"
          ],
          "name": "stdout"
        }
      ]
    },
    {
      "cell_type": "code",
      "metadata": {
        "id": "HYSATgwKJjZu",
        "outputId": "bc1f9e49-cdf5-40e9-8396-f1d683612bdd"
      },
      "source": [
        "embeddings.compute_and_print_analogy('talk', 'communicate', 'read')"
      ],
      "execution_count": null,
      "outputs": [
        {
          "output_type": "stream",
          "text": [
            "talk : communicate :: read : correctly\n",
            "talk : communicate :: read : instructions\n"
          ],
          "name": "stdout"
        }
      ]
    },
    {
      "cell_type": "code",
      "metadata": {
        "id": "bHrQPtgTJjZw",
        "outputId": "7336a5aa-fb00-42b1-e1ad-04c8d1c90e71"
      },
      "source": [
        "embeddings.compute_and_print_analogy('blue', 'democrat', 'red')"
      ],
      "execution_count": null,
      "outputs": [
        {
          "output_type": "stream",
          "text": [
            "blue : democrat :: red : republican\n",
            "blue : democrat :: red : congressman\n",
            "blue : democrat :: red : senator\n"
          ],
          "name": "stdout"
        }
      ]
    },
    {
      "cell_type": "code",
      "metadata": {
        "id": "_H0ets_sJjZz",
        "outputId": "cb217ec0-d366-48b2-c354-3b9a5f5e7c82"
      },
      "source": [
        "embeddings.compute_and_print_analogy('man', 'king', 'woman')"
      ],
      "execution_count": null,
      "outputs": [
        {
          "output_type": "stream",
          "text": [
            "man : king :: woman : queen\n",
            "man : king :: woman : throne\n",
            "man : king :: woman : elizabeth\n"
          ],
          "name": "stdout"
        }
      ]
    },
    {
      "cell_type": "code",
      "metadata": {
        "id": "_X1yefCxJjZ1",
        "outputId": "9630b276-e186-435d-bc11-81ee595711cf"
      },
      "source": [
        "embeddings.compute_and_print_analogy('man', 'doctor', 'woman')"
      ],
      "execution_count": null,
      "outputs": [
        {
          "output_type": "stream",
          "text": [
            "man : doctor :: woman : nurse\n",
            "man : doctor :: woman : physician\n",
            "man : doctor :: woman : pregnant\n"
          ],
          "name": "stdout"
        }
      ]
    },
    {
      "cell_type": "code",
      "metadata": {
        "id": "ju28HVVQJjZ3",
        "outputId": "ada0087e-4948-4ef6-b3c9-245d252680e7"
      },
      "source": [
        "embeddings.compute_and_print_analogy('fast', 'fastest', 'small')"
      ],
      "execution_count": null,
      "outputs": [
        {
          "output_type": "stream",
          "text": [
            "fast : fastest :: small : ten\n",
            "fast : fastest :: small : registered\n",
            "fast : fastest :: small : eight\n"
          ],
          "name": "stdout"
        }
      ]
    }
  ]
}