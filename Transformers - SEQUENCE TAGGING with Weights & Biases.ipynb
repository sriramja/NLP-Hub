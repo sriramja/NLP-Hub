{
  "cells": [
    {
      "cell_type": "markdown",
      "metadata": {
        "id": "pt42cPHE738c"
      },
      "source": [
        "# SLOT TAGGING / SEQUENCE CLASSIFICATION / TOKENS CLASSIFICATION"
      ]
    },
    {
      "cell_type": "code",
      "execution_count": 3,
      "metadata": {
        "colab": {
          "base_uri": "https://localhost:8080/"
        },
        "id": "k-VvCkK-E_sY",
        "outputId": "1378ca25-dbc4-4e47-d8ae-06793462c079"
      },
      "outputs": [
        {
          "name": "stdout",
          "output_type": "stream",
          "text": [
            "\u001b[K     |████████████████████████████████| 4.0 MB 12.8 MB/s \n",
            "\u001b[K     |████████████████████████████████| 895 kB 45.3 MB/s \n",
            "\u001b[K     |████████████████████████████████| 596 kB 41.3 MB/s \n",
            "\u001b[K     |████████████████████████████████| 6.6 MB 21.9 MB/s \n",
            "\u001b[K     |████████████████████████████████| 77 kB 6.3 MB/s \n",
            "\u001b[K     |████████████████████████████████| 325 kB 8.7 MB/s \n",
            "\u001b[K     |████████████████████████████████| 1.1 MB 47.1 MB/s \n",
            "\u001b[K     |████████████████████████████████| 136 kB 50.5 MB/s \n",
            "\u001b[K     |████████████████████████████████| 212 kB 48.6 MB/s \n",
            "\u001b[K     |████████████████████████████████| 127 kB 41.9 MB/s \n",
            "\u001b[K     |████████████████████████████████| 144 kB 50.9 MB/s \n",
            "\u001b[K     |████████████████████████████████| 94 kB 2.3 MB/s \n",
            "\u001b[K     |████████████████████████████████| 271 kB 49.4 MB/s \n",
            "\u001b[31mERROR: pip's dependency resolver does not currently take into account all the packages that are installed. This behaviour is the source of the following dependency conflicts.\n",
            "datascience 0.10.6 requires folium==0.2.1, but you have folium 0.8.3 which is incompatible.\u001b[0m\n",
            "\u001b[?25h"
          ]
        }
      ],
      "source": [
        "!pip install transformers -q\n",
        "!pip install datasets -q"
      ]
    },
    {
      "cell_type": "code",
      "execution_count": 4,
      "metadata": {
        "id": "xDi4Z29UFC9a"
      },
      "outputs": [],
      "source": [
        "from transformers import AutoModel, AutoTokenizer, AutoConfig\n",
        "from datasets import list_datasets"
      ]
    },
    {
      "cell_type": "code",
      "execution_count": 5,
      "metadata": {
        "colab": {
          "base_uri": "https://localhost:8080/"
        },
        "id": "rjFqHvnqFx0q",
        "outputId": "51da8363-ac5a-4f06-d96b-23072fa3b328"
      },
      "outputs": [
        {
          "name": "stdout",
          "output_type": "stream",
          "text": [
            "                                 utterances  \\\n",
            "0      who plays luke on star wars new hope   \n",
            "1            show credits for the godfather   \n",
            "2    who was the main actor in the exorcist   \n",
            "3           who played dory on finding nemo   \n",
            "4  who was the female lead in resident evil   \n",
            "\n",
            "                                  IOB Slot tags  \\\n",
            "0  O O B_char O B_movie I_movie I_movie I_movie   \n",
            "1                         O O O B_movie I_movie   \n",
            "2                   O O O O O O B_movie I_movie   \n",
            "3                  O O B_char O B_movie I_movie   \n",
            "4                   O O O O O O B_movie I_movie   \n",
            "\n",
            "                                  Core Relations  \n",
            "0  movie.starring.actor movie.starring.character  \n",
            "1                           movie.starring.actor  \n",
            "2                           movie.starring.actor  \n",
            "3  movie.starring.actor movie.starring.character  \n",
            "4              movie.starring.actor actor.gender  \n",
            "\n",
            " [\"i'd\", 'wars:episode', 'yash', 'most', 'ruddy', 'scary', 'options', 'clark', 'stared', 'spoken', 'must', 'italian', 'voices', 'check', 'green', 'indochine', 'twenty', 'chiranjeevi', 'republic', 'theatre', 'shown', 'big', 'at', 'little', 'kingdom', 'information', 'karan', 'having', 'clueless', 'comedies', 'thirteen', 'day', 'original', 'reccommended', 'eddie', 'crew', 'shot', 'productions', 'brothers', 'mexican', 'debaters', 'grease', 'lord', 'videos', 'company', 'newest', 'night', 'parent', 'batman', 'biography', 'zombies', 'age', 'data', 'locate', 'rebel', 'r-rated', 'start', 'heroine', 'spending', 'any', 'spend', 'herione', 'chopra', 'casa', 'transformers', 'hobby', 'olsen', 'does', 'from', 'holmes', 'kill', 'done', 'italy', 'girls', 'about', 'terrantino', 'making', 'patrick', 'british', 'disney', 'harrison', 'havre', 'buget', 'voice', 'patriot', 'nine', 'michael', 'meryl', 'calendar', 'scott', 'forest', 'chewbakka', 'rocky', 'other', 'washington', 'detailed', 'facing', 'come', 'shepard', 'pyaar', 'meg', 'snow', 'hunger', 'will', 'jack', '1st', 'damon', 'et', 'recent', 'streep', 'devil', 'swayze', 'moritz', \"benigni's\", 'oldest', 'of', 'end', 'gump', 'goodfellas', 'britain', 'released', 'eastwood', 'street', 'family', 'avatar', 'available', 'vampires', 'or', 'high', 'prada', 'elizabeth', 'ryan', 'trap', 'chips', 'suspenseful', '2', 'belongs', 'murphy', 'gone', 'gross', 'gomez', 'iron', 'wise', 'flowers', 'what', 'bio', 'sandlot', 'relevant', 'seattle', 'television', 'parenthood', 'stories', 'romantic', 'rwanda', 'roberts', 'types', 'romance', 'africa', 'greek', 'more', 'mel', 'skating', 'did', 'dancing', 'park', 'harry', 'paranorman', 'ju', 'apocolypse', 'scifi', 'whats', 'english', 'julian', 'resident', 'stark', 'producing', 'streisand', 'concerning', 'knight', 'roberto', 'courageous', 'frances', 'r', 'pitch', 'paranormal', 'starred', 'classification', 'is', 'may', 'landau', 'transylavania', 'ticket', '-rated', 'starring', 'display', 'polley', 'homer', '17', 'musicals', 'rising', 'gabrielle', 'tyler', 'godzilla', 'viewers', 'co-star', 'playing', 'bengali', 'a', 'expendables', 'believe', 'companies', 'info', 'japanese', 'producer', 'trainspotting', 'spain', 'twilight', 'spent', 'tamil', 'weinstein', 'debut', 'burton', 'dredd', 'howard', 'behind', 'there', 'land', '13th', 'oranges', 'travolta', 'tum', 'platoon', 'foreign', 'james', 'that', 'role', 'weekend', 'bill', 'upcoming', 'casino', 'speak', 'exhibit', 'aankhen', 'films', 'considered', 'rises', 'frankenstein', 'aniston', 'cars', 'lead', 'kid', 'funny', 'connery', 'terminator', 'restrictions', 'han', 'person', 'ford', 'turkey', 'gilda', 'bings', 'first', 'tim', 'also', 'anymore', 'budgeted', 'martin', 'john', 'it', 'look', 'madagascar', 'summary', 'for', 'topic', '-a', 'men', 'sarah', 'sound', 'cukor', 'fantasy', 'camp', 'by', 'annamayya', 'hum', 'kane', 'appolo', 'stephen', 'directing', 'costner', 'titanic', 'homepage', 'ants', '13', 'childs', 'g-rated', 'germany', 'packer', 'japan', 'to', 'driver', 'mcgovern', 'sean', 'thing', 'possible', '1990', 'wrath', 'view', 'bale', 'chick', 'much', 'hard', 'flicks', 'canada', 'anything', 'spilberg', 'involve', 'kannada', 'jennifer', 'revanche', 'who', 'th', 'etc', 'bullock', 'diaz', 'experience', 'show', 'outside', 'future', 'united', 'themes', 'seventeen', 'anna', 'lumit', 'revenue', 'willis', 'starting', 'mechanic', 'titles', 'amazing', 'quentin', 'halloween', 'enterainment', 'dark', 'see', 'yr', 'watch', 't', 'aguirre', 'morgan', 'sci', '16', 'acted', 'laurie', 'wrong', 'rated', 'wonder', 'redford', 'demille', 'avenger', 'american', 'date', 'clive', 'pfiefer', 'four', 'friendly', 'drew', 'selena', 'last', 'site', 'reiner', '-', 'reliance', \"can't\", 'moby', 'hold', 'go', 'realese', 'luke', 'copolla', 'grizzly', 'busters', 'unkrich', 'back', 'sidney', 'dead', 'de', \"i'm\", 'hornet', 'taxi', 'hulk', 'dirty', 'while', 'mockingbird', 'william', 'nemo', 'children', 'ferrell', 'ok', 'todd', 'trouble', 'chinese', 'angelina', 'away', 'kevin', 'listed', 'ladies', 'actors', 'elling', 'bros', 'episode', 'evil:', 'hanks', 'like', 'how', 'two', 'kati', 'dick', 'pay', 'hitch', 'compliance', 'french', 'bala', 'avergers', 'katie', 'jason', 'tidbits', 'inception', 'prejudice', 'pictures', 'lee', 'list', 'costars', 'hungary', 'evil', 'keaton', 'release', 'dispaly', 'comes', 'japaneese', 'china', 'musical', 'twentieth', 'whose', 'cameron', 'godfather', 'scooby', 'incredibles', 'earnings', 'retribution', 'drama', 'actress', 'campaign', 'ranam', 'jon', 'russell', 'hotel', 'states', 'twins', 'wears', 'rickman', 'think', 'wedding', 'lawless', 'love', 'lester', 'spike', 'lion', 'vidor', 'chrisian', 'vow', 'e', 'paquin', 'official', 'film', 'le', 'parental', 'michelle', 'happiness', 'relase', 'bay', 'option', 'singleton', 'pie', 'emma', 'varsham', 'glazer', 'cuts', 'lawrence', 'new', 'danish', 'charles', 'tom', 'discuss', 'synopsis', 'georges', '24', 'moon', 'background', 'surfer', 'sandra', 'jj', 'johnny', 'twelve', 'searchlight', 'page', \"what's\", 'pride', 'my', 'falls', 'mosfilm', 'content', 'appear', 'generated', 'direct', 'mendes', 'detail', 'columbus', 'man', 'production', 'year', 'women', 'spanglish', 'chaser', 'cruise', 'modern', 'entertainment', 'barrymore', 'storm', 'denzel', 'facts', 'sirisiri', 'category', 'theatres', 'gatsby', 'troy', 'female', 'iv', 'want', 'thunder', 'do', 'ed', 'footnote', 'yet', 'during', 'recently', 'statham', 'zealand', 'something', 'kristenn', 'gun', 'deer', 'filmed', 'shortcut', 'names', 'tell', 'rudy', 'anderson', \"charlie's\", 'revenues', 'woods', 'brazil', 'prison', 'jaws', 'huntsman', 'mood', 'perry', 'horses', 'if', 'ron', 'hollywood', 'profile', 'director', 'anne', 'sheen', 'mpaa', 'directed', 'ireland', 'albert', 'else', 'owen', 'break', 'overboard', 'welcome', 'sleepless', 'country', 'birds', 'phifer', 'next', 'three', 'separation', 'cecil', 'credits', 'great', 'degeneres', 'run', 'possesion', 'many', 'oliver', 'sleeping', 'watson', 'mgm', 'tommyknockers', 'since', 'have', 'short', 'plots', 'perfect', 'ray', 'pg', 'stanton', 'diving', 'darla', 'releases', 'set', 'solo', 'network', 'noah', 'describe', 'results', 'cujo', 'acts', 'nc', 'guys', 'wb', 'work', 'lost', 'leone', 'cabin', 'parador', 'jolie', 'nick', 'costs', 'lambs', 'asia', 'alfred', 'adult', 'forever', 'castmembers', 'ferell', 'woody', 'capra', 'begins', 'some', 'ice', 'friday', 'chess', 'cost', 'browse', 'spaceballs', 'depp', 'where', 'german', 'smith', 'ms.', 'were', 'currently', 'kinky', 'speilberg', 'catergory', 'involves', 'indian', 'pitchperfect', 'immigration', 'kindly', 'norway', 'fury', 'an', 'good', 'frank', 'russian', 'was', 'gibson', 'swan', 'originally', 'hugh', 'chan', '1000', 'wars-a', 'speaking', 'six', 'origin', 'immigrants', 'crowe', 'scorsese', 'theaters', 'dory', 'bette', 'current', 'main', 'activity', 'overview', 'thor', 'relased', 'spanish', 'thrillers', 'genre', '9-11', 'dramas', 'union', 'citizen', 'dollhouse', 'made', 'ghost', 'esme', 'rock', 'lucus', 'young', 'members', 'warner', 'language', 'career', 'matt', 'england', 'angels', 'music', 'eight', 'alan', 'niel', 'hungarian', 'baumbach', 'sally', 'freedom', \"director's\", 'charlie', 'whom', 'receipts', 'july', 'they', 'polish', 'today', 'audience', 'decade', 'rate', 'rambo', 'christian', 'remember', 'ridley', 'vader', 'hunter', 'only', 'out', 'tin', 'are', 'superman', 'czech', 'boots', 'need', 'patang', 'games', 'master', 'forager', 'paxton', 'wind', 'tarrantino', '20', 'savages', 'mermaid', 'silence', 'deal', 'america', 'fleming', 'highest', 'gables', 'related', 'produces', 'compile', 'profits', 'dogs', 'least', 'millionaire', 'has', 'cher', 'bring', 'kristen', 'make', 'provide', 'stuff', 'exorcist', 'beauty', 'horror', 'westerns', 'johar', 'budget', 'transylvania', 'clooney', 'game', 'brian', 'money', 'different', 'taye', 'request', 'travel', 'sparkle', 'studio', 'avengers', 'julia', 'bundle', 'karinia', 'steel', 'kind', 'columbia', 'interested', 'month', 'nature', 'singer', 'me', 'richard', 'goto', 'berry', 'profit', 'curve', 'not', 'pg-13', 'should', 'walt', 'generate', 'sinister', 'robin', 'hitchcock', 'die', 'childrens', 'free', 'hangover', 'looper', 'returned', 'take', 'been', 'karate', 'barfi', 'cannot', 'story', 'secretariat', 'tony', 'robberies', 'complete', 'every', 'abramson', 'on', 'rings', 'directors', 'looking', 'white', 'social', 'type', 'gable', 'search', 'shows', 'diane', 'farrell', 'fox', '21', 'five', 'know', 'wizard', 'fi', 'war', 'hope', 'side', 'all', 'male', 'europe', 'particulars', 'god', 'beautiful', 's', 'best', 'george', 'cusack', 'spielberg', 'words', 'canadian', 'would', 'scotland', 'receive', 'vulgaria', 'house', 'came', 'produce', 'bruckheimer', 'directs', 'shelly', 'right', 'world', 'field', 'terry', 'andrew', 'robert', 'us', 'magnolias', 'total', 'over', 'hobbist', 'palma', 'grossing', 'studios', 'poland', 'sales', 'several', 'long', 'called', 'home', 'arts', 'india', 'favorites', 'paramount', 'muvva', 'this', 'ted', 'usa', 'dawn', 'suggestions', 'blind', 'cell', 'lucy', 'passion', 'please', 'uk', 'informaion', 'procuced', 'marley', 'miserable', 'and', 'hamlet', 'bleibtreu', 'responsible', 'finding', 'appropriate', 'stone', 'halle', 'cast', 'find', 'fellows', 'hero', 'simpson', 'action', 'name', 'moives', 'basketball', 'am', 'details', 'life', 'footloose', 'miramax', 'allen', 'pretty', 'which', 'clint', 'freeman', 'now', 'step', 'thoda', 'victor', 'used', 'b', 'royale', 'latest', 'belle', 'i', 'slumdog', 'universal', 'general', 'he', 'bank', 'elvis', 'animated', 'christ', 'eva', 'gambling', 'adults', 'plot', 'wes', 'la', 'you', 'bacon', '3', 'chris', 'with', 'themed', 'writers', 'nolan', 'swedish', 'law', 'g', 'showing', 'russia', 'deniro', 'jurassic', 'blanca', 'shoot', 'characters', 'wars', 'open', 'jerry', 'relesed', 'brad', 'tonight', 'their', 'steven', 'learn', 'harris', 'played', 'filmography', 'his', 'appeared', 'd', 'school', 'time', 'rating', 'pixar', 'infomation', 'hobbit', 'dax', 'midler', 'score', 'stats', 'worldwide', \"I'd\", 'classified', 'get', 'congeniality', 'dreamworks', 'moscow', 'mask', 'zombie', 'watching', 'comedy', 'rob', 'fat', 'vivian', 'play', 'scorcese', 'father', 'movies', 'top', 'star', 'korean', 'actor', 'help', 'up', 'people', 'girl', 'apollo', 'ellen', 'as', 'dutch', 'hitting', 'diggs', 'bullhead', 'them', 'gyllenhaal', 'historical', 'solondz', 'oz', 'spiderman', 'pitt', 'black', 'roll', 'composer', 'opening', 'tears', 'mystery', 'toy', 'stewart', 'produced', 'professional', 'brooks', 'regarding', 'can', 'old', 'jake', 'reviews', 'france', 'mirror', 'in', 'when', 'dreams', 'darth', 'les', 'baseball', 'soul', 'captain', 'sort', 'krishna', 'scorscese', 'spider', 'jackie', 'another', 'kids', 'stars', 'portugese', 'castle', 'century', 'give', 'plays', 'magic', 'guy', 'producers', 'jackman', 'penn', 'character', 'hindi', 'mandarin', 'nc-17', 'history', 'listing', 'barbra', 'title', 'lately', 'pull', 'movie', 'send', 'cortlund', 'guido', 'turn', 'full', 'abrams', 'possessed', 'return', 'based', 'bruce', 'giants', 'floats', 'mario', 'romeo', 'select', 'days', 'coming', 'the', 'king', 'languages', 'ratings', 'barry', 'lucas', 'sonnenfeld', 'sergio', 'bros.', '7', 'be', 'beatiful', 'born', 'macdonald', 'kareena', 'lionsgate', 'south', 'realease', 'woman', 'vietnam']\n",
            "{\"i'd\": 0, 'wars:episode': 1, 'yash': 2, 'most': 3, 'ruddy': 4, 'scary': 5, 'options': 6, 'clark': 7, 'stared': 8, 'spoken': 9, 'must': 10, 'italian': 11, 'voices': 12, 'check': 13, 'green': 14, 'indochine': 15, 'twenty': 16, 'chiranjeevi': 17, 'republic': 18, 'theatre': 19, 'shown': 20, 'big': 21, 'at': 22, 'little': 23, 'kingdom': 24, 'information': 25, 'karan': 26, 'having': 27, 'clueless': 28, 'comedies': 29, 'thirteen': 30, 'day': 31, 'original': 32, 'reccommended': 33, 'eddie': 34, 'crew': 35, 'shot': 36, 'productions': 37, 'brothers': 38, 'mexican': 39, 'debaters': 40, 'grease': 41, 'lord': 42, 'videos': 43, 'company': 44, 'newest': 45, 'night': 46, 'parent': 47, 'batman': 48, 'biography': 49, 'zombies': 50, 'age': 51, 'data': 52, 'locate': 53, 'rebel': 54, 'r-rated': 55, 'start': 56, 'heroine': 57, 'spending': 58, 'any': 59, 'spend': 60, 'herione': 61, 'chopra': 62, 'casa': 63, 'transformers': 64, 'hobby': 65, 'olsen': 66, 'does': 67, 'from': 68, 'holmes': 69, 'kill': 70, 'done': 71, 'italy': 72, 'girls': 73, 'about': 74, 'terrantino': 75, 'making': 76, 'patrick': 77, 'british': 78, 'disney': 79, 'harrison': 80, 'havre': 81, 'buget': 82, 'voice': 83, 'patriot': 84, 'nine': 85, 'michael': 86, 'meryl': 87, 'calendar': 88, 'scott': 89, 'forest': 90, 'chewbakka': 91, 'rocky': 92, 'other': 93, 'washington': 94, 'detailed': 95, 'facing': 96, 'come': 97, 'shepard': 98, 'pyaar': 99, 'meg': 100, 'snow': 101, 'hunger': 102, 'will': 103, 'jack': 104, '1st': 105, 'damon': 106, 'et': 107, 'recent': 108, 'streep': 109, 'devil': 110, 'swayze': 111, 'moritz': 112, \"benigni's\": 113, 'oldest': 114, 'of': 115, 'end': 116, 'gump': 117, 'goodfellas': 118, 'britain': 119, 'released': 120, 'eastwood': 121, 'street': 122, 'family': 123, 'avatar': 124, 'available': 125, 'vampires': 126, 'or': 127, 'high': 128, 'prada': 129, 'elizabeth': 130, 'ryan': 131, 'trap': 132, 'chips': 133, 'suspenseful': 134, '2': 135, 'belongs': 136, 'murphy': 137, 'gone': 138, 'gross': 139, 'gomez': 140, 'iron': 141, 'wise': 142, 'flowers': 143, 'what': 144, 'bio': 145, 'sandlot': 146, 'relevant': 147, 'seattle': 148, 'television': 149, 'parenthood': 150, 'stories': 151, 'romantic': 152, 'rwanda': 153, 'roberts': 154, 'types': 155, 'romance': 156, 'africa': 157, 'greek': 158, 'more': 159, 'mel': 160, 'skating': 161, 'did': 162, 'dancing': 163, 'park': 164, 'harry': 165, 'paranorman': 166, 'ju': 167, 'apocolypse': 168, 'scifi': 169, 'whats': 170, 'english': 171, 'julian': 172, 'resident': 173, 'stark': 174, 'producing': 175, 'streisand': 176, 'concerning': 177, 'knight': 178, 'roberto': 179, 'courageous': 180, 'frances': 181, 'r': 182, 'pitch': 183, 'paranormal': 184, 'starred': 185, 'classification': 186, 'is': 187, 'may': 188, 'landau': 189, 'transylavania': 190, 'ticket': 191, '-rated': 192, 'starring': 193, 'display': 194, 'polley': 195, 'homer': 196, '17': 197, 'musicals': 198, 'rising': 199, 'gabrielle': 200, 'tyler': 201, 'godzilla': 202, 'viewers': 203, 'co-star': 204, 'playing': 205, 'bengali': 206, 'a': 207, 'expendables': 208, 'believe': 209, 'companies': 210, 'info': 211, 'japanese': 212, 'producer': 213, 'trainspotting': 214, 'spain': 215, 'twilight': 216, 'spent': 217, 'tamil': 218, 'weinstein': 219, 'debut': 220, 'burton': 221, 'dredd': 222, 'howard': 223, 'behind': 224, 'there': 225, 'land': 226, '13th': 227, 'oranges': 228, 'travolta': 229, 'tum': 230, 'platoon': 231, 'foreign': 232, 'james': 233, 'that': 234, 'role': 235, 'weekend': 236, 'bill': 237, 'upcoming': 238, 'casino': 239, 'speak': 240, 'exhibit': 241, 'aankhen': 242, 'films': 243, 'considered': 244, 'rises': 245, 'frankenstein': 246, 'aniston': 247, 'cars': 248, 'lead': 249, 'kid': 250, 'funny': 251, 'connery': 252, 'terminator': 253, 'restrictions': 254, 'han': 255, 'person': 256, 'ford': 257, 'turkey': 258, 'gilda': 259, 'bings': 260, 'first': 261, 'tim': 262, 'also': 263, 'anymore': 264, 'budgeted': 265, 'martin': 266, 'john': 267, 'it': 268, 'look': 269, 'madagascar': 270, 'summary': 271, 'for': 272, 'topic': 273, '-a': 274, 'men': 275, 'sarah': 276, 'sound': 277, 'cukor': 278, 'fantasy': 279, 'camp': 280, 'by': 281, 'annamayya': 282, 'hum': 283, 'kane': 284, 'appolo': 285, 'stephen': 286, 'directing': 287, 'costner': 288, 'titanic': 289, 'homepage': 290, 'ants': 291, '13': 292, 'childs': 293, 'g-rated': 294, 'germany': 295, 'packer': 296, 'japan': 297, 'to': 298, 'driver': 299, 'mcgovern': 300, 'sean': 301, 'thing': 302, 'possible': 303, '1990': 304, 'wrath': 305, 'view': 306, 'bale': 307, 'chick': 308, 'much': 309, 'hard': 310, 'flicks': 311, 'canada': 312, 'anything': 313, 'spilberg': 314, 'involve': 315, 'kannada': 316, 'jennifer': 317, 'revanche': 318, 'who': 319, 'th': 320, 'etc': 321, 'bullock': 322, 'diaz': 323, 'experience': 324, 'show': 325, 'outside': 326, 'future': 327, 'united': 328, 'themes': 329, 'seventeen': 330, 'anna': 331, 'lumit': 332, 'revenue': 333, 'willis': 334, 'starting': 335, 'mechanic': 336, 'titles': 337, 'amazing': 338, 'quentin': 339, 'halloween': 340, 'enterainment': 341, 'dark': 342, 'see': 343, 'yr': 344, 'watch': 345, 't': 346, 'aguirre': 347, 'morgan': 348, 'sci': 349, '16': 350, 'acted': 351, 'laurie': 352, 'wrong': 353, 'rated': 354, 'wonder': 355, 'redford': 356, 'demille': 357, 'avenger': 358, 'american': 359, 'date': 360, 'clive': 361, 'pfiefer': 362, 'four': 363, 'friendly': 364, 'drew': 365, 'selena': 366, 'last': 367, 'site': 368, 'reiner': 369, '-': 370, 'reliance': 371, \"can't\": 372, 'moby': 373, 'hold': 374, 'go': 375, 'realese': 376, 'luke': 377, 'copolla': 378, 'grizzly': 379, 'busters': 380, 'unkrich': 381, 'back': 382, 'sidney': 383, 'dead': 384, 'de': 385, \"i'm\": 386, 'hornet': 387, 'taxi': 388, 'hulk': 389, 'dirty': 390, 'while': 391, 'mockingbird': 392, 'william': 393, 'nemo': 394, 'children': 395, 'ferrell': 396, 'ok': 397, 'todd': 398, 'trouble': 399, 'chinese': 400, 'angelina': 401, 'away': 402, 'kevin': 403, 'listed': 404, 'ladies': 405, 'actors': 406, 'elling': 407, 'bros': 408, 'episode': 409, 'evil:': 410, 'hanks': 411, 'like': 412, 'how': 413, 'two': 414, 'kati': 415, 'dick': 416, 'pay': 417, 'hitch': 418, 'compliance': 419, 'french': 420, 'bala': 421, 'avergers': 422, 'katie': 423, 'jason': 424, 'tidbits': 425, 'inception': 426, 'prejudice': 427, 'pictures': 428, 'lee': 429, 'list': 430, 'costars': 431, 'hungary': 432, 'evil': 433, 'keaton': 434, 'release': 435, 'dispaly': 436, 'comes': 437, 'japaneese': 438, 'china': 439, 'musical': 440, 'twentieth': 441, 'whose': 442, 'cameron': 443, 'godfather': 444, 'scooby': 445, 'incredibles': 446, 'earnings': 447, 'retribution': 448, 'drama': 449, 'actress': 450, 'campaign': 451, 'ranam': 452, 'jon': 453, 'russell': 454, 'hotel': 455, 'states': 456, 'twins': 457, 'wears': 458, 'rickman': 459, 'think': 460, 'wedding': 461, 'lawless': 462, 'love': 463, 'lester': 464, 'spike': 465, 'lion': 466, 'vidor': 467, 'chrisian': 468, 'vow': 469, 'e': 470, 'paquin': 471, 'official': 472, 'film': 473, 'le': 474, 'parental': 475, 'michelle': 476, 'happiness': 477, 'relase': 478, 'bay': 479, 'option': 480, 'singleton': 481, 'pie': 482, 'emma': 483, 'varsham': 484, 'glazer': 485, 'cuts': 486, 'lawrence': 487, 'new': 488, 'danish': 489, 'charles': 490, 'tom': 491, 'discuss': 492, 'synopsis': 493, 'georges': 494, '24': 495, 'moon': 496, 'background': 497, 'surfer': 498, 'sandra': 499, 'jj': 500, 'johnny': 501, 'twelve': 502, 'searchlight': 503, 'page': 504, \"what's\": 505, 'pride': 506, 'my': 507, 'falls': 508, 'mosfilm': 509, 'content': 510, 'appear': 511, 'generated': 512, 'direct': 513, 'mendes': 514, 'detail': 515, 'columbus': 516, 'man': 517, 'production': 518, 'year': 519, 'women': 520, 'spanglish': 521, 'chaser': 522, 'cruise': 523, 'modern': 524, 'entertainment': 525, 'barrymore': 526, 'storm': 527, 'denzel': 528, 'facts': 529, 'sirisiri': 530, 'category': 531, 'theatres': 532, 'gatsby': 533, 'troy': 534, 'female': 535, 'iv': 536, 'want': 537, 'thunder': 538, 'do': 539, 'ed': 540, 'footnote': 541, 'yet': 542, 'during': 543, 'recently': 544, 'statham': 545, 'zealand': 546, 'something': 547, 'kristenn': 548, 'gun': 549, 'deer': 550, 'filmed': 551, 'shortcut': 552, 'names': 553, 'tell': 554, 'rudy': 555, 'anderson': 556, \"charlie's\": 557, 'revenues': 558, 'woods': 559, 'brazil': 560, 'prison': 561, 'jaws': 562, 'huntsman': 563, 'mood': 564, 'perry': 565, 'horses': 566, 'if': 567, 'ron': 568, 'hollywood': 569, 'profile': 570, 'director': 571, 'anne': 572, 'sheen': 573, 'mpaa': 574, 'directed': 575, 'ireland': 576, 'albert': 577, 'else': 578, 'owen': 579, 'break': 580, 'overboard': 581, 'welcome': 582, 'sleepless': 583, 'country': 584, 'birds': 585, 'phifer': 586, 'next': 587, 'three': 588, 'separation': 589, 'cecil': 590, 'credits': 591, 'great': 592, 'degeneres': 593, 'run': 594, 'possesion': 595, 'many': 596, 'oliver': 597, 'sleeping': 598, 'watson': 599, 'mgm': 600, 'tommyknockers': 601, 'since': 602, 'have': 603, 'short': 604, 'plots': 605, 'perfect': 606, 'ray': 607, 'pg': 608, 'stanton': 609, 'diving': 610, 'darla': 611, 'releases': 612, 'set': 613, 'solo': 614, 'network': 615, 'noah': 616, 'describe': 617, 'results': 618, 'cujo': 619, 'acts': 620, 'nc': 621, 'guys': 622, 'wb': 623, 'work': 624, 'lost': 625, 'leone': 626, 'cabin': 627, 'parador': 628, 'jolie': 629, 'nick': 630, 'costs': 631, 'lambs': 632, 'asia': 633, 'alfred': 634, 'adult': 635, 'forever': 636, 'castmembers': 637, 'ferell': 638, 'woody': 639, 'capra': 640, 'begins': 641, 'some': 642, 'ice': 643, 'friday': 644, 'chess': 645, 'cost': 646, 'browse': 647, 'spaceballs': 648, 'depp': 649, 'where': 650, 'german': 651, 'smith': 652, 'ms.': 653, 'were': 654, 'currently': 655, 'kinky': 656, 'speilberg': 657, 'catergory': 658, 'involves': 659, 'indian': 660, 'pitchperfect': 661, 'immigration': 662, 'kindly': 663, 'norway': 664, 'fury': 665, 'an': 666, 'good': 667, 'frank': 668, 'russian': 669, 'was': 670, 'gibson': 671, 'swan': 672, 'originally': 673, 'hugh': 674, 'chan': 675, '1000': 676, 'wars-a': 677, 'speaking': 678, 'six': 679, 'origin': 680, 'immigrants': 681, 'crowe': 682, 'scorsese': 683, 'theaters': 684, 'dory': 685, 'bette': 686, 'current': 687, 'main': 688, 'activity': 689, 'overview': 690, 'thor': 691, 'relased': 692, 'spanish': 693, 'thrillers': 694, 'genre': 695, '9-11': 696, 'dramas': 697, 'union': 698, 'citizen': 699, 'dollhouse': 700, 'made': 701, 'ghost': 702, 'esme': 703, 'rock': 704, 'lucus': 705, 'young': 706, 'members': 707, 'warner': 708, 'language': 709, 'career': 710, 'matt': 711, 'england': 712, 'angels': 713, 'music': 714, 'eight': 715, 'alan': 716, 'niel': 717, 'hungarian': 718, 'baumbach': 719, 'sally': 720, 'freedom': 721, \"director's\": 722, 'charlie': 723, 'whom': 724, 'receipts': 725, 'july': 726, 'they': 727, 'polish': 728, 'today': 729, 'audience': 730, 'decade': 731, 'rate': 732, 'rambo': 733, 'christian': 734, 'remember': 735, 'ridley': 736, 'vader': 737, 'hunter': 738, 'only': 739, 'out': 740, 'tin': 741, 'are': 742, 'superman': 743, 'czech': 744, 'boots': 745, 'need': 746, 'patang': 747, 'games': 748, 'master': 749, 'forager': 750, 'paxton': 751, 'wind': 752, 'tarrantino': 753, '20': 754, 'savages': 755, 'mermaid': 756, 'silence': 757, 'deal': 758, 'america': 759, 'fleming': 760, 'highest': 761, 'gables': 762, 'related': 763, 'produces': 764, 'compile': 765, 'profits': 766, 'dogs': 767, 'least': 768, 'millionaire': 769, 'has': 770, 'cher': 771, 'bring': 772, 'kristen': 773, 'make': 774, 'provide': 775, 'stuff': 776, 'exorcist': 777, 'beauty': 778, 'horror': 779, 'westerns': 780, 'johar': 781, 'budget': 782, 'transylvania': 783, 'clooney': 784, 'game': 785, 'brian': 786, 'money': 787, 'different': 788, 'taye': 789, 'request': 790, 'travel': 791, 'sparkle': 792, 'studio': 793, 'avengers': 794, 'julia': 795, 'bundle': 796, 'karinia': 797, 'steel': 798, 'kind': 799, 'columbia': 800, 'interested': 801, 'month': 802, 'nature': 803, 'singer': 804, 'me': 805, 'richard': 806, 'goto': 807, 'berry': 808, 'profit': 809, 'curve': 810, 'not': 811, 'pg-13': 812, 'should': 813, 'walt': 814, 'generate': 815, 'sinister': 816, 'robin': 817, 'hitchcock': 818, 'die': 819, 'childrens': 820, 'free': 821, 'hangover': 822, 'looper': 823, 'returned': 824, 'take': 825, 'been': 826, 'karate': 827, 'barfi': 828, 'cannot': 829, 'story': 830, 'secretariat': 831, 'tony': 832, 'robberies': 833, 'complete': 834, 'every': 835, 'abramson': 836, 'on': 837, 'rings': 838, 'directors': 839, 'looking': 840, 'white': 841, 'social': 842, 'type': 843, 'gable': 844, 'search': 845, 'shows': 846, 'diane': 847, 'farrell': 848, 'fox': 849, '21': 850, 'five': 851, 'know': 852, 'wizard': 853, 'fi': 854, 'war': 855, 'hope': 856, 'side': 857, 'all': 858, 'male': 859, 'europe': 860, 'particulars': 861, 'god': 862, 'beautiful': 863, 's': 864, 'best': 865, 'george': 866, 'cusack': 867, 'spielberg': 868, 'words': 869, 'canadian': 870, 'would': 871, 'scotland': 872, 'receive': 873, 'vulgaria': 874, 'house': 875, 'came': 876, 'produce': 877, 'bruckheimer': 878, 'directs': 879, 'shelly': 880, 'right': 881, 'world': 882, 'field': 883, 'terry': 884, 'andrew': 885, 'robert': 886, 'us': 887, 'magnolias': 888, 'total': 889, 'over': 890, 'hobbist': 891, 'palma': 892, 'grossing': 893, 'studios': 894, 'poland': 895, 'sales': 896, 'several': 897, 'long': 898, 'called': 899, 'home': 900, 'arts': 901, 'india': 902, 'favorites': 903, 'paramount': 904, 'muvva': 905, 'this': 906, 'ted': 907, 'usa': 908, 'dawn': 909, 'suggestions': 910, 'blind': 911, 'cell': 912, 'lucy': 913, 'passion': 914, 'please': 915, 'uk': 916, 'informaion': 917, 'procuced': 918, 'marley': 919, 'miserable': 920, 'and': 921, 'hamlet': 922, 'bleibtreu': 923, 'responsible': 924, 'finding': 925, 'appropriate': 926, 'stone': 927, 'halle': 928, 'cast': 929, 'find': 930, 'fellows': 931, 'hero': 932, 'simpson': 933, 'action': 934, 'name': 935, 'moives': 936, 'basketball': 937, 'am': 938, 'details': 939, 'life': 940, 'footloose': 941, 'miramax': 942, 'allen': 943, 'pretty': 944, 'which': 945, 'clint': 946, 'freeman': 947, 'now': 948, 'step': 949, 'thoda': 950, 'victor': 951, 'used': 952, 'b': 953, 'royale': 954, 'latest': 955, 'belle': 956, 'i': 957, 'slumdog': 958, 'universal': 959, 'general': 960, 'he': 961, 'bank': 962, 'elvis': 963, 'animated': 964, 'christ': 965, 'eva': 966, 'gambling': 967, 'adults': 968, 'plot': 969, 'wes': 970, 'la': 971, 'you': 972, 'bacon': 973, '3': 974, 'chris': 975, 'with': 976, 'themed': 977, 'writers': 978, 'nolan': 979, 'swedish': 980, 'law': 981, 'g': 982, 'showing': 983, 'russia': 984, 'deniro': 985, 'jurassic': 986, 'blanca': 987, 'shoot': 988, 'characters': 989, 'wars': 990, 'open': 991, 'jerry': 992, 'relesed': 993, 'brad': 994, 'tonight': 995, 'their': 996, 'steven': 997, 'learn': 998, 'harris': 999, 'played': 1000, 'filmography': 1001, 'his': 1002, 'appeared': 1003, 'd': 1004, 'school': 1005, 'time': 1006, 'rating': 1007, 'pixar': 1008, 'infomation': 1009, 'hobbit': 1010, 'dax': 1011, 'midler': 1012, 'score': 1013, 'stats': 1014, 'worldwide': 1015, \"I'd\": 1016, 'classified': 1017, 'get': 1018, 'congeniality': 1019, 'dreamworks': 1020, 'moscow': 1021, 'mask': 1022, 'zombie': 1023, 'watching': 1024, 'comedy': 1025, 'rob': 1026, 'fat': 1027, 'vivian': 1028, 'play': 1029, 'scorcese': 1030, 'father': 1031, 'movies': 1032, 'top': 1033, 'star': 1034, 'korean': 1035, 'actor': 1036, 'help': 1037, 'up': 1038, 'people': 1039, 'girl': 1040, 'apollo': 1041, 'ellen': 1042, 'as': 1043, 'dutch': 1044, 'hitting': 1045, 'diggs': 1046, 'bullhead': 1047, 'them': 1048, 'gyllenhaal': 1049, 'historical': 1050, 'solondz': 1051, 'oz': 1052, 'spiderman': 1053, 'pitt': 1054, 'black': 1055, 'roll': 1056, 'composer': 1057, 'opening': 1058, 'tears': 1059, 'mystery': 1060, 'toy': 1061, 'stewart': 1062, 'produced': 1063, 'professional': 1064, 'brooks': 1065, 'regarding': 1066, 'can': 1067, 'old': 1068, 'jake': 1069, 'reviews': 1070, 'france': 1071, 'mirror': 1072, 'in': 1073, 'when': 1074, 'dreams': 1075, 'darth': 1076, 'les': 1077, 'baseball': 1078, 'soul': 1079, 'captain': 1080, 'sort': 1081, 'krishna': 1082, 'scorscese': 1083, 'spider': 1084, 'jackie': 1085, 'another': 1086, 'kids': 1087, 'stars': 1088, 'portugese': 1089, 'castle': 1090, 'century': 1091, 'give': 1092, 'plays': 1093, 'magic': 1094, 'guy': 1095, 'producers': 1096, 'jackman': 1097, 'penn': 1098, 'character': 1099, 'hindi': 1100, 'mandarin': 1101, 'nc-17': 1102, 'history': 1103, 'listing': 1104, 'barbra': 1105, 'title': 1106, 'lately': 1107, 'pull': 1108, 'movie': 1109, 'send': 1110, 'cortlund': 1111, 'guido': 1112, 'turn': 1113, 'full': 1114, 'abrams': 1115, 'possessed': 1116, 'return': 1117, 'based': 1118, 'bruce': 1119, 'giants': 1120, 'floats': 1121, 'mario': 1122, 'romeo': 1123, 'select': 1124, 'days': 1125, 'coming': 1126, 'the': 1127, 'king': 1128, 'languages': 1129, 'ratings': 1130, 'barry': 1131, 'lucas': 1132, 'sonnenfeld': 1133, 'sergio': 1134, 'bros.': 1135, '7': 1136, 'be': 1137, 'beatiful': 1138, 'born': 1139, 'macdonald': 1140, 'kareena': 1141, 'lionsgate': 1142, 'south': 1143, 'realease': 1144, 'woman': 1145, 'vietnam': 1146}\n",
            "{0: \"i'd\", 1: 'wars:episode', 2: 'yash', 3: 'most', 4: 'ruddy', 5: 'scary', 6: 'options', 7: 'clark', 8: 'stared', 9: 'spoken', 10: 'must', 11: 'italian', 12: 'voices', 13: 'check', 14: 'green', 15: 'indochine', 16: 'twenty', 17: 'chiranjeevi', 18: 'republic', 19: 'theatre', 20: 'shown', 21: 'big', 22: 'at', 23: 'little', 24: 'kingdom', 25: 'information', 26: 'karan', 27: 'having', 28: 'clueless', 29: 'comedies', 30: 'thirteen', 31: 'day', 32: 'original', 33: 'reccommended', 34: 'eddie', 35: 'crew', 36: 'shot', 37: 'productions', 38: 'brothers', 39: 'mexican', 40: 'debaters', 41: 'grease', 42: 'lord', 43: 'videos', 44: 'company', 45: 'newest', 46: 'night', 47: 'parent', 48: 'batman', 49: 'biography', 50: 'zombies', 51: 'age', 52: 'data', 53: 'locate', 54: 'rebel', 55: 'r-rated', 56: 'start', 57: 'heroine', 58: 'spending', 59: 'any', 60: 'spend', 61: 'herione', 62: 'chopra', 63: 'casa', 64: 'transformers', 65: 'hobby', 66: 'olsen', 67: 'does', 68: 'from', 69: 'holmes', 70: 'kill', 71: 'done', 72: 'italy', 73: 'girls', 74: 'about', 75: 'terrantino', 76: 'making', 77: 'patrick', 78: 'british', 79: 'disney', 80: 'harrison', 81: 'havre', 82: 'buget', 83: 'voice', 84: 'patriot', 85: 'nine', 86: 'michael', 87: 'meryl', 88: 'calendar', 89: 'scott', 90: 'forest', 91: 'chewbakka', 92: 'rocky', 93: 'other', 94: 'washington', 95: 'detailed', 96: 'facing', 97: 'come', 98: 'shepard', 99: 'pyaar', 100: 'meg', 101: 'snow', 102: 'hunger', 103: 'will', 104: 'jack', 105: '1st', 106: 'damon', 107: 'et', 108: 'recent', 109: 'streep', 110: 'devil', 111: 'swayze', 112: 'moritz', 113: \"benigni's\", 114: 'oldest', 115: 'of', 116: 'end', 117: 'gump', 118: 'goodfellas', 119: 'britain', 120: 'released', 121: 'eastwood', 122: 'street', 123: 'family', 124: 'avatar', 125: 'available', 126: 'vampires', 127: 'or', 128: 'high', 129: 'prada', 130: 'elizabeth', 131: 'ryan', 132: 'trap', 133: 'chips', 134: 'suspenseful', 135: '2', 136: 'belongs', 137: 'murphy', 138: 'gone', 139: 'gross', 140: 'gomez', 141: 'iron', 142: 'wise', 143: 'flowers', 144: 'what', 145: 'bio', 146: 'sandlot', 147: 'relevant', 148: 'seattle', 149: 'television', 150: 'parenthood', 151: 'stories', 152: 'romantic', 153: 'rwanda', 154: 'roberts', 155: 'types', 156: 'romance', 157: 'africa', 158: 'greek', 159: 'more', 160: 'mel', 161: 'skating', 162: 'did', 163: 'dancing', 164: 'park', 165: 'harry', 166: 'paranorman', 167: 'ju', 168: 'apocolypse', 169: 'scifi', 170: 'whats', 171: 'english', 172: 'julian', 173: 'resident', 174: 'stark', 175: 'producing', 176: 'streisand', 177: 'concerning', 178: 'knight', 179: 'roberto', 180: 'courageous', 181: 'frances', 182: 'r', 183: 'pitch', 184: 'paranormal', 185: 'starred', 186: 'classification', 187: 'is', 188: 'may', 189: 'landau', 190: 'transylavania', 191: 'ticket', 192: '-rated', 193: 'starring', 194: 'display', 195: 'polley', 196: 'homer', 197: '17', 198: 'musicals', 199: 'rising', 200: 'gabrielle', 201: 'tyler', 202: 'godzilla', 203: 'viewers', 204: 'co-star', 205: 'playing', 206: 'bengali', 207: 'a', 208: 'expendables', 209: 'believe', 210: 'companies', 211: 'info', 212: 'japanese', 213: 'producer', 214: 'trainspotting', 215: 'spain', 216: 'twilight', 217: 'spent', 218: 'tamil', 219: 'weinstein', 220: 'debut', 221: 'burton', 222: 'dredd', 223: 'howard', 224: 'behind', 225: 'there', 226: 'land', 227: '13th', 228: 'oranges', 229: 'travolta', 230: 'tum', 231: 'platoon', 232: 'foreign', 233: 'james', 234: 'that', 235: 'role', 236: 'weekend', 237: 'bill', 238: 'upcoming', 239: 'casino', 240: 'speak', 241: 'exhibit', 242: 'aankhen', 243: 'films', 244: 'considered', 245: 'rises', 246: 'frankenstein', 247: 'aniston', 248: 'cars', 249: 'lead', 250: 'kid', 251: 'funny', 252: 'connery', 253: 'terminator', 254: 'restrictions', 255: 'han', 256: 'person', 257: 'ford', 258: 'turkey', 259: 'gilda', 260: 'bings', 261: 'first', 262: 'tim', 263: 'also', 264: 'anymore', 265: 'budgeted', 266: 'martin', 267: 'john', 268: 'it', 269: 'look', 270: 'madagascar', 271: 'summary', 272: 'for', 273: 'topic', 274: '-a', 275: 'men', 276: 'sarah', 277: 'sound', 278: 'cukor', 279: 'fantasy', 280: 'camp', 281: 'by', 282: 'annamayya', 283: 'hum', 284: 'kane', 285: 'appolo', 286: 'stephen', 287: 'directing', 288: 'costner', 289: 'titanic', 290: 'homepage', 291: 'ants', 292: '13', 293: 'childs', 294: 'g-rated', 295: 'germany', 296: 'packer', 297: 'japan', 298: 'to', 299: 'driver', 300: 'mcgovern', 301: 'sean', 302: 'thing', 303: 'possible', 304: '1990', 305: 'wrath', 306: 'view', 307: 'bale', 308: 'chick', 309: 'much', 310: 'hard', 311: 'flicks', 312: 'canada', 313: 'anything', 314: 'spilberg', 315: 'involve', 316: 'kannada', 317: 'jennifer', 318: 'revanche', 319: 'who', 320: 'th', 321: 'etc', 322: 'bullock', 323: 'diaz', 324: 'experience', 325: 'show', 326: 'outside', 327: 'future', 328: 'united', 329: 'themes', 330: 'seventeen', 331: 'anna', 332: 'lumit', 333: 'revenue', 334: 'willis', 335: 'starting', 336: 'mechanic', 337: 'titles', 338: 'amazing', 339: 'quentin', 340: 'halloween', 341: 'enterainment', 342: 'dark', 343: 'see', 344: 'yr', 345: 'watch', 346: 't', 347: 'aguirre', 348: 'morgan', 349: 'sci', 350: '16', 351: 'acted', 352: 'laurie', 353: 'wrong', 354: 'rated', 355: 'wonder', 356: 'redford', 357: 'demille', 358: 'avenger', 359: 'american', 360: 'date', 361: 'clive', 362: 'pfiefer', 363: 'four', 364: 'friendly', 365: 'drew', 366: 'selena', 367: 'last', 368: 'site', 369: 'reiner', 370: '-', 371: 'reliance', 372: \"can't\", 373: 'moby', 374: 'hold', 375: 'go', 376: 'realese', 377: 'luke', 378: 'copolla', 379: 'grizzly', 380: 'busters', 381: 'unkrich', 382: 'back', 383: 'sidney', 384: 'dead', 385: 'de', 386: \"i'm\", 387: 'hornet', 388: 'taxi', 389: 'hulk', 390: 'dirty', 391: 'while', 392: 'mockingbird', 393: 'william', 394: 'nemo', 395: 'children', 396: 'ferrell', 397: 'ok', 398: 'todd', 399: 'trouble', 400: 'chinese', 401: 'angelina', 402: 'away', 403: 'kevin', 404: 'listed', 405: 'ladies', 406: 'actors', 407: 'elling', 408: 'bros', 409: 'episode', 410: 'evil:', 411: 'hanks', 412: 'like', 413: 'how', 414: 'two', 415: 'kati', 416: 'dick', 417: 'pay', 418: 'hitch', 419: 'compliance', 420: 'french', 421: 'bala', 422: 'avergers', 423: 'katie', 424: 'jason', 425: 'tidbits', 426: 'inception', 427: 'prejudice', 428: 'pictures', 429: 'lee', 430: 'list', 431: 'costars', 432: 'hungary', 433: 'evil', 434: 'keaton', 435: 'release', 436: 'dispaly', 437: 'comes', 438: 'japaneese', 439: 'china', 440: 'musical', 441: 'twentieth', 442: 'whose', 443: 'cameron', 444: 'godfather', 445: 'scooby', 446: 'incredibles', 447: 'earnings', 448: 'retribution', 449: 'drama', 450: 'actress', 451: 'campaign', 452: 'ranam', 453: 'jon', 454: 'russell', 455: 'hotel', 456: 'states', 457: 'twins', 458: 'wears', 459: 'rickman', 460: 'think', 461: 'wedding', 462: 'lawless', 463: 'love', 464: 'lester', 465: 'spike', 466: 'lion', 467: 'vidor', 468: 'chrisian', 469: 'vow', 470: 'e', 471: 'paquin', 472: 'official', 473: 'film', 474: 'le', 475: 'parental', 476: 'michelle', 477: 'happiness', 478: 'relase', 479: 'bay', 480: 'option', 481: 'singleton', 482: 'pie', 483: 'emma', 484: 'varsham', 485: 'glazer', 486: 'cuts', 487: 'lawrence', 488: 'new', 489: 'danish', 490: 'charles', 491: 'tom', 492: 'discuss', 493: 'synopsis', 494: 'georges', 495: '24', 496: 'moon', 497: 'background', 498: 'surfer', 499: 'sandra', 500: 'jj', 501: 'johnny', 502: 'twelve', 503: 'searchlight', 504: 'page', 505: \"what's\", 506: 'pride', 507: 'my', 508: 'falls', 509: 'mosfilm', 510: 'content', 511: 'appear', 512: 'generated', 513: 'direct', 514: 'mendes', 515: 'detail', 516: 'columbus', 517: 'man', 518: 'production', 519: 'year', 520: 'women', 521: 'spanglish', 522: 'chaser', 523: 'cruise', 524: 'modern', 525: 'entertainment', 526: 'barrymore', 527: 'storm', 528: 'denzel', 529: 'facts', 530: 'sirisiri', 531: 'category', 532: 'theatres', 533: 'gatsby', 534: 'troy', 535: 'female', 536: 'iv', 537: 'want', 538: 'thunder', 539: 'do', 540: 'ed', 541: 'footnote', 542: 'yet', 543: 'during', 544: 'recently', 545: 'statham', 546: 'zealand', 547: 'something', 548: 'kristenn', 549: 'gun', 550: 'deer', 551: 'filmed', 552: 'shortcut', 553: 'names', 554: 'tell', 555: 'rudy', 556: 'anderson', 557: \"charlie's\", 558: 'revenues', 559: 'woods', 560: 'brazil', 561: 'prison', 562: 'jaws', 563: 'huntsman', 564: 'mood', 565: 'perry', 566: 'horses', 567: 'if', 568: 'ron', 569: 'hollywood', 570: 'profile', 571: 'director', 572: 'anne', 573: 'sheen', 574: 'mpaa', 575: 'directed', 576: 'ireland', 577: 'albert', 578: 'else', 579: 'owen', 580: 'break', 581: 'overboard', 582: 'welcome', 583: 'sleepless', 584: 'country', 585: 'birds', 586: 'phifer', 587: 'next', 588: 'three', 589: 'separation', 590: 'cecil', 591: 'credits', 592: 'great', 593: 'degeneres', 594: 'run', 595: 'possesion', 596: 'many', 597: 'oliver', 598: 'sleeping', 599: 'watson', 600: 'mgm', 601: 'tommyknockers', 602: 'since', 603: 'have', 604: 'short', 605: 'plots', 606: 'perfect', 607: 'ray', 608: 'pg', 609: 'stanton', 610: 'diving', 611: 'darla', 612: 'releases', 613: 'set', 614: 'solo', 615: 'network', 616: 'noah', 617: 'describe', 618: 'results', 619: 'cujo', 620: 'acts', 621: 'nc', 622: 'guys', 623: 'wb', 624: 'work', 625: 'lost', 626: 'leone', 627: 'cabin', 628: 'parador', 629: 'jolie', 630: 'nick', 631: 'costs', 632: 'lambs', 633: 'asia', 634: 'alfred', 635: 'adult', 636: 'forever', 637: 'castmembers', 638: 'ferell', 639: 'woody', 640: 'capra', 641: 'begins', 642: 'some', 643: 'ice', 644: 'friday', 645: 'chess', 646: 'cost', 647: 'browse', 648: 'spaceballs', 649: 'depp', 650: 'where', 651: 'german', 652: 'smith', 653: 'ms.', 654: 'were', 655: 'currently', 656: 'kinky', 657: 'speilberg', 658: 'catergory', 659: 'involves', 660: 'indian', 661: 'pitchperfect', 662: 'immigration', 663: 'kindly', 664: 'norway', 665: 'fury', 666: 'an', 667: 'good', 668: 'frank', 669: 'russian', 670: 'was', 671: 'gibson', 672: 'swan', 673: 'originally', 674: 'hugh', 675: 'chan', 676: '1000', 677: 'wars-a', 678: 'speaking', 679: 'six', 680: 'origin', 681: 'immigrants', 682: 'crowe', 683: 'scorsese', 684: 'theaters', 685: 'dory', 686: 'bette', 687: 'current', 688: 'main', 689: 'activity', 690: 'overview', 691: 'thor', 692: 'relased', 693: 'spanish', 694: 'thrillers', 695: 'genre', 696: '9-11', 697: 'dramas', 698: 'union', 699: 'citizen', 700: 'dollhouse', 701: 'made', 702: 'ghost', 703: 'esme', 704: 'rock', 705: 'lucus', 706: 'young', 707: 'members', 708: 'warner', 709: 'language', 710: 'career', 711: 'matt', 712: 'england', 713: 'angels', 714: 'music', 715: 'eight', 716: 'alan', 717: 'niel', 718: 'hungarian', 719: 'baumbach', 720: 'sally', 721: 'freedom', 722: \"director's\", 723: 'charlie', 724: 'whom', 725: 'receipts', 726: 'july', 727: 'they', 728: 'polish', 729: 'today', 730: 'audience', 731: 'decade', 732: 'rate', 733: 'rambo', 734: 'christian', 735: 'remember', 736: 'ridley', 737: 'vader', 738: 'hunter', 739: 'only', 740: 'out', 741: 'tin', 742: 'are', 743: 'superman', 744: 'czech', 745: 'boots', 746: 'need', 747: 'patang', 748: 'games', 749: 'master', 750: 'forager', 751: 'paxton', 752: 'wind', 753: 'tarrantino', 754: '20', 755: 'savages', 756: 'mermaid', 757: 'silence', 758: 'deal', 759: 'america', 760: 'fleming', 761: 'highest', 762: 'gables', 763: 'related', 764: 'produces', 765: 'compile', 766: 'profits', 767: 'dogs', 768: 'least', 769: 'millionaire', 770: 'has', 771: 'cher', 772: 'bring', 773: 'kristen', 774: 'make', 775: 'provide', 776: 'stuff', 777: 'exorcist', 778: 'beauty', 779: 'horror', 780: 'westerns', 781: 'johar', 782: 'budget', 783: 'transylvania', 784: 'clooney', 785: 'game', 786: 'brian', 787: 'money', 788: 'different', 789: 'taye', 790: 'request', 791: 'travel', 792: 'sparkle', 793: 'studio', 794: 'avengers', 795: 'julia', 796: 'bundle', 797: 'karinia', 798: 'steel', 799: 'kind', 800: 'columbia', 801: 'interested', 802: 'month', 803: 'nature', 804: 'singer', 805: 'me', 806: 'richard', 807: 'goto', 808: 'berry', 809: 'profit', 810: 'curve', 811: 'not', 812: 'pg-13', 813: 'should', 814: 'walt', 815: 'generate', 816: 'sinister', 817: 'robin', 818: 'hitchcock', 819: 'die', 820: 'childrens', 821: 'free', 822: 'hangover', 823: 'looper', 824: 'returned', 825: 'take', 826: 'been', 827: 'karate', 828: 'barfi', 829: 'cannot', 830: 'story', 831: 'secretariat', 832: 'tony', 833: 'robberies', 834: 'complete', 835: 'every', 836: 'abramson', 837: 'on', 838: 'rings', 839: 'directors', 840: 'looking', 841: 'white', 842: 'social', 843: 'type', 844: 'gable', 845: 'search', 846: 'shows', 847: 'diane', 848: 'farrell', 849: 'fox', 850: '21', 851: 'five', 852: 'know', 853: 'wizard', 854: 'fi', 855: 'war', 856: 'hope', 857: 'side', 858: 'all', 859: 'male', 860: 'europe', 861: 'particulars', 862: 'god', 863: 'beautiful', 864: 's', 865: 'best', 866: 'george', 867: 'cusack', 868: 'spielberg', 869: 'words', 870: 'canadian', 871: 'would', 872: 'scotland', 873: 'receive', 874: 'vulgaria', 875: 'house', 876: 'came', 877: 'produce', 878: 'bruckheimer', 879: 'directs', 880: 'shelly', 881: 'right', 882: 'world', 883: 'field', 884: 'terry', 885: 'andrew', 886: 'robert', 887: 'us', 888: 'magnolias', 889: 'total', 890: 'over', 891: 'hobbist', 892: 'palma', 893: 'grossing', 894: 'studios', 895: 'poland', 896: 'sales', 897: 'several', 898: 'long', 899: 'called', 900: 'home', 901: 'arts', 902: 'india', 903: 'favorites', 904: 'paramount', 905: 'muvva', 906: 'this', 907: 'ted', 908: 'usa', 909: 'dawn', 910: 'suggestions', 911: 'blind', 912: 'cell', 913: 'lucy', 914: 'passion', 915: 'please', 916: 'uk', 917: 'informaion', 918: 'procuced', 919: 'marley', 920: 'miserable', 921: 'and', 922: 'hamlet', 923: 'bleibtreu', 924: 'responsible', 925: 'finding', 926: 'appropriate', 927: 'stone', 928: 'halle', 929: 'cast', 930: 'find', 931: 'fellows', 932: 'hero', 933: 'simpson', 934: 'action', 935: 'name', 936: 'moives', 937: 'basketball', 938: 'am', 939: 'details', 940: 'life', 941: 'footloose', 942: 'miramax', 943: 'allen', 944: 'pretty', 945: 'which', 946: 'clint', 947: 'freeman', 948: 'now', 949: 'step', 950: 'thoda', 951: 'victor', 952: 'used', 953: 'b', 954: 'royale', 955: 'latest', 956: 'belle', 957: 'i', 958: 'slumdog', 959: 'universal', 960: 'general', 961: 'he', 962: 'bank', 963: 'elvis', 964: 'animated', 965: 'christ', 966: 'eva', 967: 'gambling', 968: 'adults', 969: 'plot', 970: 'wes', 971: 'la', 972: 'you', 973: 'bacon', 974: '3', 975: 'chris', 976: 'with', 977: 'themed', 978: 'writers', 979: 'nolan', 980: 'swedish', 981: 'law', 982: 'g', 983: 'showing', 984: 'russia', 985: 'deniro', 986: 'jurassic', 987: 'blanca', 988: 'shoot', 989: 'characters', 990: 'wars', 991: 'open', 992: 'jerry', 993: 'relesed', 994: 'brad', 995: 'tonight', 996: 'their', 997: 'steven', 998: 'learn', 999: 'harris', 1000: 'played', 1001: 'filmography', 1002: 'his', 1003: 'appeared', 1004: 'd', 1005: 'school', 1006: 'time', 1007: 'rating', 1008: 'pixar', 1009: 'infomation', 1010: 'hobbit', 1011: 'dax', 1012: 'midler', 1013: 'score', 1014: 'stats', 1015: 'worldwide', 1016: \"I'd\", 1017: 'classified', 1018: 'get', 1019: 'congeniality', 1020: 'dreamworks', 1021: 'moscow', 1022: 'mask', 1023: 'zombie', 1024: 'watching', 1025: 'comedy', 1026: 'rob', 1027: 'fat', 1028: 'vivian', 1029: 'play', 1030: 'scorcese', 1031: 'father', 1032: 'movies', 1033: 'top', 1034: 'star', 1035: 'korean', 1036: 'actor', 1037: 'help', 1038: 'up', 1039: 'people', 1040: 'girl', 1041: 'apollo', 1042: 'ellen', 1043: 'as', 1044: 'dutch', 1045: 'hitting', 1046: 'diggs', 1047: 'bullhead', 1048: 'them', 1049: 'gyllenhaal', 1050: 'historical', 1051: 'solondz', 1052: 'oz', 1053: 'spiderman', 1054: 'pitt', 1055: 'black', 1056: 'roll', 1057: 'composer', 1058: 'opening', 1059: 'tears', 1060: 'mystery', 1061: 'toy', 1062: 'stewart', 1063: 'produced', 1064: 'professional', 1065: 'brooks', 1066: 'regarding', 1067: 'can', 1068: 'old', 1069: 'jake', 1070: 'reviews', 1071: 'france', 1072: 'mirror', 1073: 'in', 1074: 'when', 1075: 'dreams', 1076: 'darth', 1077: 'les', 1078: 'baseball', 1079: 'soul', 1080: 'captain', 1081: 'sort', 1082: 'krishna', 1083: 'scorscese', 1084: 'spider', 1085: 'jackie', 1086: 'another', 1087: 'kids', 1088: 'stars', 1089: 'portugese', 1090: 'castle', 1091: 'century', 1092: 'give', 1093: 'plays', 1094: 'magic', 1095: 'guy', 1096: 'producers', 1097: 'jackman', 1098: 'penn', 1099: 'character', 1100: 'hindi', 1101: 'mandarin', 1102: 'nc-17', 1103: 'history', 1104: 'listing', 1105: 'barbra', 1106: 'title', 1107: 'lately', 1108: 'pull', 1109: 'movie', 1110: 'send', 1111: 'cortlund', 1112: 'guido', 1113: 'turn', 1114: 'full', 1115: 'abrams', 1116: 'possessed', 1117: 'return', 1118: 'based', 1119: 'bruce', 1120: 'giants', 1121: 'floats', 1122: 'mario', 1123: 'romeo', 1124: 'select', 1125: 'days', 1126: 'coming', 1127: 'the', 1128: 'king', 1129: 'languages', 1130: 'ratings', 1131: 'barry', 1132: 'lucas', 1133: 'sonnenfeld', 1134: 'sergio', 1135: 'bros.', 1136: '7', 1137: 'be', 1138: 'beatiful', 1139: 'born', 1140: 'macdonald', 1141: 'kareena', 1142: 'lionsgate', 1143: 'south', 1144: 'realease', 1145: 'woman', 1146: 'vietnam'}\n",
            "['I_subject', 'B_genre', 'I_genre', 'B_location', 'B_person', 'I_country', 'I_person', 'I_movie', 'B_mpaa_rating', 'B_movie', 'B_subject', 'I_director', 'I_mpaa_rating', 'I_char', 'I-movie', 'B_producer', 'I_producer', 'B_language', 'I_language', 'B_cast', 'B_director', 'I_cast', 'B_char', 'O', 'I_release_year', 'B_country', 'B_release_year']\n",
            "{'I_producer': 0, 'I_release_year': 1, 'I_mpaa_rating': 2, 'B_cast': 3, 'B_subject': 4, 'B_genre': 5, 'B_char': 6, 'B_country': 7, 'B_movie': 8, 'B_release_year': 9, 'B_director': 10, 'I_country': 11, 'I_subject': 12, 'B_producer': 13, 'O': 14, 'B_mpaa_rating': 15, 'B_language': 16, 'I_person': 17, 'I_language': 18, 'I_movie': 19, 'I_director': 20, 'I_char': 21, 'I_cast': 22, 'B_location': 23, 'I_genre': 24, 'B_person': 25, 'I-movie': 26}\n",
            "{0: 'I_producer', 1: 'I_release_year', 2: 'I_mpaa_rating', 3: 'B_cast', 4: 'B_subject', 5: 'B_genre', 6: 'B_char', 7: 'B_country', 8: 'B_movie', 9: 'B_release_year', 10: 'B_director', 11: 'I_country', 12: 'I_subject', 13: 'B_producer', 14: 'O', 15: 'B_mpaa_rating', 16: 'B_language', 17: 'I_person', 18: 'I_language', 19: 'I_movie', 20: 'I_director', 21: 'I_char', 22: 'I_cast', 23: 'B_location', 24: 'I_genre', 25: 'B_person', 26: 'I-movie'}\n"
          ]
        }
      ],
      "source": [
        "import pandas as pd\n",
        "from itertools import chain\n",
        "\n",
        "df_initial = pd.read_excel('/content/train.xlsx')\n",
        "df = pd.read_excel('/content/train.xlsx')\n",
        "print(df.head())\n",
        "\n",
        "utterances_vocab = [i.split() for i in df['utterances']]\n",
        "utterances_vocab = list(chain.from_iterable(utterances_vocab))\n",
        "utterances_vocab = list(set(utterances_vocab))\n",
        "utterances2index = {j:i for i, j  in enumerate(utterances_vocab)}\n",
        "index2utterances = {i:j for i, j  in enumerate(utterances_vocab)}\n",
        "print('\\n', utterances_vocab)\n",
        "print(utterances2index)\n",
        "print(index2utterances)\n",
        "\n",
        "slots_vocab = [i.split() for i in df['IOB Slot tags']]\n",
        "slots_vocab = list(chain.from_iterable(slots_vocab))\n",
        "slots_vocab = list(set(slots_vocab))\n",
        "\n",
        "# slots2index = {'I_producer': 9000, 'I_release_year': 9001, 'I_mpaa_rating': 9002, 'B_cast': 9003, 'B_subject': 9004, 'B_genre': 9005, 'B_char': 9006, 'B_country': 9007, 'B_movie': 9008, 'B_release_year': 9009, 'B_director': 9010, 'I_country': 9011, 'I_subject': 9012, 'B_producer': 9013, 'O': 9014, 'B_mpaa_rating': 9015, 'B_language': 9016, 'I_person': 9017, 'I_language': 9018, 'I_movie': 9019, 'I_director': 9020, 'I_char': 9021, 'I_cast': 9022, 'B_location': 9023, 'I_genre': 9024, 'B_person': 9025, 'I-movie': 9026}\n",
        "# slots2index = {j:i for i, j  in enumerate(slots_vocab)}\n",
        "index2slots = {0: 'I_producer', 1: 'I_release_year', 2: 'I_mpaa_rating', 3: 'B_cast', 4: 'B_subject', 5: 'B_genre', 6: 'B_char', 7: 'B_country', 8: 'B_movie', 9: 'B_release_year', 10: 'B_director', 11: 'I_country', 12: 'I_subject', 13: 'B_producer', 14: 'O', 15: 'B_mpaa_rating', 16: 'B_language', 17: 'I_person', 18: 'I_language', 19: 'I_movie', 20: 'I_director', 21: 'I_char', 22: 'I_cast', 23: 'B_location', 24: 'I_genre', 25: 'B_person', 26: 'I-movie'}\n",
        "slots2index = dict(zip(index2slots.values(),index2slots.keys()))\n",
        "# index2slots = {i:j for i, j  in enumerate(slots_vocab)}\n",
        "\n",
        "print(slots_vocab)\n",
        "print(slots2index)\n",
        "print(index2slots)\n"
      ]
    },
    {
      "cell_type": "code",
      "execution_count": 6,
      "metadata": {
        "colab": {
          "base_uri": "https://localhost:8080/"
        },
        "id": "jMQn4lKbVPAN",
        "outputId": "fa276218-e033-4bbf-8518-3c28fa02375b"
      },
      "outputs": [
        {
          "name": "stdout",
          "output_type": "stream",
          "text": [
            "{'movie.starring.character': 0, 'movie.subjects': 1, 'person.date_of_birth': 2, 'nan': 3, 'actor.gender': 4, 'movie.produced_by': 5, 'movie.rating': 6, 'movie.locations': 7, 'movie.genre': 8, 'movie.language': 9, 'movie.music': 10, 'gr.amount': 11, 'movie.initial_release_date': 12, 'movie.country': 13, 'movie.production_companies': 14, 'movie.directed_by': 15, 'movie.starring.actor': 16, 'movie.gross_revenue': 17, 'movie.estimated_budget': 18}\n",
            "{0: 'movie.starring.character', 1: 'movie.subjects', 2: 'person.date_of_birth', 3: 'nan', 4: 'actor.gender', 5: 'movie.produced_by', 6: 'movie.rating', 7: 'movie.locations', 8: 'movie.genre', 9: 'movie.language', 10: 'movie.music', 11: 'gr.amount', 12: 'movie.initial_release_date', 13: 'movie.country', 14: 'movie.production_companies', 15: 'movie.directed_by', 16: 'movie.starring.actor', 17: 'movie.gross_revenue', 18: 'movie.estimated_budget'}\n"
          ]
        }
      ],
      "source": [
        "relations_vocab = [str(i).split() for i in df['Core Relations']]\n",
        "relations_vocab = list(chain.from_iterable(relations_vocab))\n",
        "relations_vocab = list(set(relations_vocab))\n",
        "relations2index = {j:i for i, j  in enumerate(relations_vocab)}\n",
        "index2relations = {i:j for i, j  in enumerate(relations_vocab)}\n",
        "print(relations2index)\n",
        "print(index2relations)"
      ]
    },
    {
      "cell_type": "code",
      "execution_count": 6,
      "metadata": {
        "id": "xHHnG24yVOQb"
      },
      "outputs": [],
      "source": []
    },
    {
      "cell_type": "code",
      "execution_count": 7,
      "metadata": {
        "colab": {
          "base_uri": "https://localhost:8080/",
          "height": 249,
          "referenced_widgets": [
            "789ecb1cbf604904888d18adef450612",
            "74456e4f737a461d9c7ad5a6b5b13085",
            "67d391d0fe0f42af81f1ca55aad3bb29",
            "16df8513fa2e44fba3ce1608cdfa618e",
            "c3107000827845b786144dc960794485",
            "725e9791b1104621a126452ef1609505",
            "6630031bbb3e4df682d69d99ec1f2df6",
            "5b7c901c4bb74492bd94184163185a2f",
            "52795178d23e4864b9cfb857f3c53c35",
            "326d2e6c8b24491fb42a8db8b85aa9df",
            "ead6bf9e988944cea7e15818b10469ea",
            "f713d1f9162d41de92556b5b40a88c39",
            "6c9dd7a0521c44ca919eb4c9c61b746f",
            "c1b332bccaab4f0486a372436aae1c20",
            "58c1e5054e304385b3f811b92907b526",
            "997516f896914b6d81ba05e410b548b5",
            "e9cad88dd52a4bd69eea3e6a9bb21663",
            "102abc7ac62646199525b85a582af5ea",
            "2da1b0209c954e4cbbf79804f4fa8738",
            "734fe12e9d5540f9be7a0601358165f7",
            "2d4cb4000be64f6592ef42330a440e1f",
            "6fe0babc26834eb194cea27dfeb5ce4d",
            "ee89a061b3b74dac8e5223f9fbaada51",
            "54f09d4bcf8f486aafb00ff51eac07d9",
            "41a0bfe33eba432087b0f77da3009d4c",
            "782c00ec079d4691bfb477fe71890d13",
            "db3fe7a2fd624818a6db50fd28d850c7",
            "4081048b2de74d55b419246cdc7ba267",
            "201809e4d4694cf2baec6734f1f67f89",
            "7f87092086d243ffb3516dec3bf2dec1",
            "4d45a3d8276f46f8842f082fd06516da",
            "e13f68c9a35f44319db70f4b65544e1a",
            "57f5ff590c2242d2bf09ca7f461ea9ad",
            "70bc009c469d46a4a44b03feb59d22ed",
            "f4b8181ad5d24c4fbe53061a70257a90",
            "cab7fe2133744f59bb68918891ebead7",
            "6708362800f5426e898ab05d54a59528",
            "27f5ba4173ec4c6db777e68b136f01c4",
            "968cb522cad84587b4007b682f9535f3",
            "0cecb6fcfb274d59b02743e8f8f9cb2b",
            "229aeb52da854da5ae3ad1d2cd45b799",
            "e5de9bb3d5d146e3ba7d062eb14ad1f0",
            "4f4152985815450d9ec6f39d933243bb",
            "f92b8b5260f14086931911a085e851c2",
            "2f3d5067eb644641b6f83c8c3b23755a",
            "672c1e39f8fc4e148f7f511e9d5cff78",
            "d6f14db5d99b4e9b8285dffc5a2d4cdb",
            "7349862764874f248a68e675bf9d4890",
            "f0bb7c1432694be8b691e0553dbcdc30",
            "9215570ac1a84ecc80cb614901e35095",
            "72a175cb5ccd494d9f2d47c631d17f43",
            "610eed017c0b42f7a2508ce3550e2718",
            "b65362fd5a0f433fa1321a60f48693ff",
            "698558e152674665b301cf1a2a57c5e0",
            "41a8f8801bb545b2b7a60c8d3d221475"
          ]
        },
        "id": "Rm5Y9yvKZa2b",
        "outputId": "13e33711-5941-45ea-e913-dcc5b3ab5ca4"
      },
      "outputs": [
        {
          "data": {
            "application/vnd.jupyter.widget-view+json": {
              "model_id": "789ecb1cbf604904888d18adef450612",
              "version_major": 2,
              "version_minor": 0
            },
            "text/plain": [
              "Downloading:   0%|          | 0.00/483 [00:00<?, ?B/s]"
            ]
          },
          "metadata": {},
          "output_type": "display_data"
        },
        {
          "data": {
            "application/vnd.jupyter.widget-view+json": {
              "model_id": "f713d1f9162d41de92556b5b40a88c39",
              "version_major": 2,
              "version_minor": 0
            },
            "text/plain": [
              "Downloading:   0%|          | 0.00/256M [00:00<?, ?B/s]"
            ]
          },
          "metadata": {},
          "output_type": "display_data"
        },
        {
          "name": "stderr",
          "output_type": "stream",
          "text": [
            "Some weights of the model checkpoint at distilbert-base-uncased were not used when initializing DistilBertModel: ['vocab_projector.bias', 'vocab_layer_norm.bias', 'vocab_transform.bias', 'vocab_layer_norm.weight', 'vocab_projector.weight', 'vocab_transform.weight']\n",
            "- This IS expected if you are initializing DistilBertModel from the checkpoint of a model trained on another task or with another architecture (e.g. initializing a BertForSequenceClassification model from a BertForPreTraining model).\n",
            "- This IS NOT expected if you are initializing DistilBertModel from the checkpoint of a model that you expect to be exactly identical (initializing a BertForSequenceClassification model from a BertForSequenceClassification model).\n"
          ]
        },
        {
          "data": {
            "application/vnd.jupyter.widget-view+json": {
              "model_id": "ee89a061b3b74dac8e5223f9fbaada51",
              "version_major": 2,
              "version_minor": 0
            },
            "text/plain": [
              "Downloading:   0%|          | 0.00/28.0 [00:00<?, ?B/s]"
            ]
          },
          "metadata": {},
          "output_type": "display_data"
        },
        {
          "data": {
            "application/vnd.jupyter.widget-view+json": {
              "model_id": "70bc009c469d46a4a44b03feb59d22ed",
              "version_major": 2,
              "version_minor": 0
            },
            "text/plain": [
              "Downloading:   0%|          | 0.00/226k [00:00<?, ?B/s]"
            ]
          },
          "metadata": {},
          "output_type": "display_data"
        },
        {
          "data": {
            "application/vnd.jupyter.widget-view+json": {
              "model_id": "2f3d5067eb644641b6f83c8c3b23755a",
              "version_major": 2,
              "version_minor": 0
            },
            "text/plain": [
              "Downloading:   0%|          | 0.00/455k [00:00<?, ?B/s]"
            ]
          },
          "metadata": {},
          "output_type": "display_data"
        }
      ],
      "source": [
        "task = \"pos\" # Should be one of \"ner\", \"pos\" or \"chunk\"\n",
        "model_name = \"distilbert-base-uncased\"\n",
        "\n",
        "model = AutoModel.from_pretrained(model_name)\n",
        "tokenizer = AutoTokenizer.from_pretrained(model_name)"
      ]
    },
    {
      "cell_type": "markdown",
      "metadata": {
        "id": "cpnZhnn7KfiA"
      },
      "source": [
        "### Pre -processing the datasset in the below format (Example below)"
      ]
    },
    {
      "cell_type": "code",
      "execution_count": 8,
      "metadata": {
        "colab": {
          "base_uri": "https://localhost:8080/"
        },
        "id": "HP_dIsjbxXEb",
        "outputId": "8a95873a-1bf4-4902-954b-9d9fe13fc080"
      },
      "outputs": [
        {
          "data": {
            "text/plain": [
              "{'input_ids': [101, 2040, 2001, 1996, 2931, 1005, 1055, 2599, 1999, 6319, 4763, 102], 'attention_mask': [1, 1, 1, 1, 1, 1, 1, 1, 1, 1, 1, 1]}"
            ]
          },
          "execution_count": 8,
          "metadata": {},
          "output_type": "execute_result"
        }
      ],
      "source": [
        "a = tokenizer(\"who was the female's lead in resident evil\".split(), is_split_into_words=True)\n",
        "a"
      ]
    },
    {
      "cell_type": "code",
      "execution_count": 9,
      "metadata": {
        "colab": {
          "base_uri": "https://localhost:8080/"
        },
        "id": "Y7IX_vm0yXT7",
        "outputId": "cd7acbbf-3f24-48a3-e42e-6b703d356af7"
      },
      "outputs": [
        {
          "name": "stdout",
          "output_type": "stream",
          "text": [
            "['[CLS]', 'who', 'was', 'the', 'female', \"'\", 's', 'lead', 'in', 'resident', 'evil', '[SEP]']\n"
          ]
        }
      ],
      "source": [
        "print(tokenizer.convert_ids_to_tokens(a['input_ids']))"
      ]
    },
    {
      "cell_type": "code",
      "execution_count": 10,
      "metadata": {
        "colab": {
          "base_uri": "https://localhost:8080/"
        },
        "id": "qVK-oGUey7aH",
        "outputId": "b84d1400-8eb5-4c48-b064-6322727015ab"
      },
      "outputs": [
        {
          "data": {
            "text/plain": [
              "[None, 0, 1, 2, 3, 3, 3, 4, 5, 6, 7, None]"
            ]
          },
          "execution_count": 10,
          "metadata": {},
          "output_type": "execute_result"
        }
      ],
      "source": [
        "word_ids = a.word_ids()\n",
        "word_ids"
      ]
    },
    {
      "cell_type": "code",
      "execution_count": 11,
      "metadata": {
        "colab": {
          "base_uri": "https://localhost:8080/"
        },
        "id": "KqvstONzH3XX",
        "outputId": "14635597-e829-46ec-d47b-c9b293abc34b"
      },
      "outputs": [
        {
          "data": {
            "text/plain": [
              "[14, 14, 14, 14, 14, 14, 8, 19]"
            ]
          },
          "execution_count": 11,
          "metadata": {},
          "output_type": "execute_result"
        }
      ],
      "source": [
        "x = \"O O O O O O B_movie I_movie\".split()\n",
        "xy = [slots2index[l] for l in x] \n",
        "xy"
      ]
    },
    {
      "cell_type": "code",
      "execution_count": 12,
      "metadata": {
        "colab": {
          "base_uri": "https://localhost:8080/"
        },
        "id": "4WVQGyBfKHzB",
        "outputId": "37e1d242-8da9-4122-d2c5-78729e00e3fd"
      },
      "outputs": [
        {
          "data": {
            "text/plain": [
              "[-100, 'O', 'O', 'O', 'O', 'O', 'O', 'O', 'O', 'B_movie', 'I_movie', -100]"
            ]
          },
          "execution_count": 12,
          "metadata": {},
          "output_type": "execute_result"
        }
      ],
      "source": [
        "[-100 if i is None else x[i] for i in a.word_ids()]"
      ]
    },
    {
      "cell_type": "markdown",
      "metadata": {
        "id": "6d3XM676KmTZ"
      },
      "source": [
        "## Pre-processing the dataset"
      ]
    },
    {
      "cell_type": "code",
      "execution_count": 13,
      "metadata": {
        "id": "CzwItnsKJMKG"
      },
      "outputs": [],
      "source": [
        "# for i in range(len(df['utterances'])):\n",
        "  \n",
        "#   input_tokenized = tokenizer(df['utterances'][i].split(), is_split_into_words=True)\n",
        "#   df['utterances'][i] = input_tokenized['input_ids']\n",
        "\n",
        "#   df['IOB Slot tags'][i] = [slots2index[l] for l in df['IOB Slot tags'][i].split()] \n",
        "#   df['IOB Slot tags'][i] = [-100 if x is None else df['IOB Slot tags'][i][x] for x in input_tokenized.word_ids()]\n",
        "\n",
        "#   df['Core Relations'][i] = [relations2index[m] for m in str(df['Core Relations'][i]).split()] "
      ]
    },
    {
      "cell_type": "code",
      "execution_count": 14,
      "metadata": {
        "id": "ZVMhF3MIqWWV"
      },
      "outputs": [],
      "source": [
        "for i in range(len(df['utterances'])):\n",
        "  \n",
        "  df['utterances'][i] = df['utterances'][i].split()\n",
        "\n",
        "  df['IOB Slot tags'][i] = [slots2index[l] for l in df['IOB Slot tags'][i].split()] \n",
        "  # df['IOB Slot tags'][i] = [-100 if x is None else df['IOB Slot tags'][i][x] for x in input_tokenized.word_ids()]\n",
        "\n",
        "  df['Core Relations'][i] = [relations2index[m] for m in str(df['Core Relations'][i]).split()] "
      ]
    },
    {
      "cell_type": "code",
      "execution_count": 15,
      "metadata": {
        "colab": {
          "base_uri": "https://localhost:8080/",
          "height": 206
        },
        "id": "Gx68Unp-q27d",
        "outputId": "ca58eead-984d-49ad-e58f-c9d40d56767c"
      },
      "outputs": [
        {
          "data": {
            "text/html": [
              "\n",
              "  <div id=\"df-a66f9cda-92f8-4cdd-abd1-5499d1a967c2\">\n",
              "    <div class=\"colab-df-container\">\n",
              "      <div>\n",
              "<style scoped>\n",
              "    .dataframe tbody tr th:only-of-type {\n",
              "        vertical-align: middle;\n",
              "    }\n",
              "\n",
              "    .dataframe tbody tr th {\n",
              "        vertical-align: top;\n",
              "    }\n",
              "\n",
              "    .dataframe thead th {\n",
              "        text-align: right;\n",
              "    }\n",
              "</style>\n",
              "<table border=\"1\" class=\"dataframe\">\n",
              "  <thead>\n",
              "    <tr style=\"text-align: right;\">\n",
              "      <th></th>\n",
              "      <th>utterances</th>\n",
              "      <th>IOB Slot tags</th>\n",
              "      <th>Core Relations</th>\n",
              "    </tr>\n",
              "  </thead>\n",
              "  <tbody>\n",
              "    <tr>\n",
              "      <th>0</th>\n",
              "      <td>[who, plays, luke, on, star, wars, new, hope]</td>\n",
              "      <td>[14, 14, 6, 14, 8, 19, 19, 19]</td>\n",
              "      <td>[16, 0]</td>\n",
              "    </tr>\n",
              "    <tr>\n",
              "      <th>1</th>\n",
              "      <td>[show, credits, for, the, godfather]</td>\n",
              "      <td>[14, 14, 14, 8, 19]</td>\n",
              "      <td>[16]</td>\n",
              "    </tr>\n",
              "    <tr>\n",
              "      <th>2</th>\n",
              "      <td>[who, was, the, main, actor, in, the, exorcist]</td>\n",
              "      <td>[14, 14, 14, 14, 14, 14, 8, 19]</td>\n",
              "      <td>[16]</td>\n",
              "    </tr>\n",
              "    <tr>\n",
              "      <th>3</th>\n",
              "      <td>[who, played, dory, on, finding, nemo]</td>\n",
              "      <td>[14, 14, 6, 14, 8, 19]</td>\n",
              "      <td>[16, 0]</td>\n",
              "    </tr>\n",
              "    <tr>\n",
              "      <th>4</th>\n",
              "      <td>[who, was, the, female, lead, in, resident, evil]</td>\n",
              "      <td>[14, 14, 14, 14, 14, 14, 8, 19]</td>\n",
              "      <td>[16, 4]</td>\n",
              "    </tr>\n",
              "  </tbody>\n",
              "</table>\n",
              "</div>\n",
              "      <button class=\"colab-df-convert\" onclick=\"convertToInteractive('df-a66f9cda-92f8-4cdd-abd1-5499d1a967c2')\"\n",
              "              title=\"Convert this dataframe to an interactive table.\"\n",
              "              style=\"display:none;\">\n",
              "        \n",
              "  <svg xmlns=\"http://www.w3.org/2000/svg\" height=\"24px\"viewBox=\"0 0 24 24\"\n",
              "       width=\"24px\">\n",
              "    <path d=\"M0 0h24v24H0V0z\" fill=\"none\"/>\n",
              "    <path d=\"M18.56 5.44l.94 2.06.94-2.06 2.06-.94-2.06-.94-.94-2.06-.94 2.06-2.06.94zm-11 1L8.5 8.5l.94-2.06 2.06-.94-2.06-.94L8.5 2.5l-.94 2.06-2.06.94zm10 10l.94 2.06.94-2.06 2.06-.94-2.06-.94-.94-2.06-.94 2.06-2.06.94z\"/><path d=\"M17.41 7.96l-1.37-1.37c-.4-.4-.92-.59-1.43-.59-.52 0-1.04.2-1.43.59L10.3 9.45l-7.72 7.72c-.78.78-.78 2.05 0 2.83L4 21.41c.39.39.9.59 1.41.59.51 0 1.02-.2 1.41-.59l7.78-7.78 2.81-2.81c.8-.78.8-2.07 0-2.86zM5.41 20L4 18.59l7.72-7.72 1.47 1.35L5.41 20z\"/>\n",
              "  </svg>\n",
              "      </button>\n",
              "      \n",
              "  <style>\n",
              "    .colab-df-container {\n",
              "      display:flex;\n",
              "      flex-wrap:wrap;\n",
              "      gap: 12px;\n",
              "    }\n",
              "\n",
              "    .colab-df-convert {\n",
              "      background-color: #E8F0FE;\n",
              "      border: none;\n",
              "      border-radius: 50%;\n",
              "      cursor: pointer;\n",
              "      display: none;\n",
              "      fill: #1967D2;\n",
              "      height: 32px;\n",
              "      padding: 0 0 0 0;\n",
              "      width: 32px;\n",
              "    }\n",
              "\n",
              "    .colab-df-convert:hover {\n",
              "      background-color: #E2EBFA;\n",
              "      box-shadow: 0px 1px 2px rgba(60, 64, 67, 0.3), 0px 1px 3px 1px rgba(60, 64, 67, 0.15);\n",
              "      fill: #174EA6;\n",
              "    }\n",
              "\n",
              "    [theme=dark] .colab-df-convert {\n",
              "      background-color: #3B4455;\n",
              "      fill: #D2E3FC;\n",
              "    }\n",
              "\n",
              "    [theme=dark] .colab-df-convert:hover {\n",
              "      background-color: #434B5C;\n",
              "      box-shadow: 0px 1px 3px 1px rgba(0, 0, 0, 0.15);\n",
              "      filter: drop-shadow(0px 1px 2px rgba(0, 0, 0, 0.3));\n",
              "      fill: #FFFFFF;\n",
              "    }\n",
              "  </style>\n",
              "\n",
              "      <script>\n",
              "        const buttonEl =\n",
              "          document.querySelector('#df-a66f9cda-92f8-4cdd-abd1-5499d1a967c2 button.colab-df-convert');\n",
              "        buttonEl.style.display =\n",
              "          google.colab.kernel.accessAllowed ? 'block' : 'none';\n",
              "\n",
              "        async function convertToInteractive(key) {\n",
              "          const element = document.querySelector('#df-a66f9cda-92f8-4cdd-abd1-5499d1a967c2');\n",
              "          const dataTable =\n",
              "            await google.colab.kernel.invokeFunction('convertToInteractive',\n",
              "                                                     [key], {});\n",
              "          if (!dataTable) return;\n",
              "\n",
              "          const docLinkHtml = 'Like what you see? Visit the ' +\n",
              "            '<a target=\"_blank\" href=https://colab.research.google.com/notebooks/data_table.ipynb>data table notebook</a>'\n",
              "            + ' to learn more about interactive tables.';\n",
              "          element.innerHTML = '';\n",
              "          dataTable['output_type'] = 'display_data';\n",
              "          await google.colab.output.renderOutput(dataTable, element);\n",
              "          const docLink = document.createElement('div');\n",
              "          docLink.innerHTML = docLinkHtml;\n",
              "          element.appendChild(docLink);\n",
              "        }\n",
              "      </script>\n",
              "    </div>\n",
              "  </div>\n",
              "  "
            ],
            "text/plain": [
              "                                          utterances  \\\n",
              "0      [who, plays, luke, on, star, wars, new, hope]   \n",
              "1               [show, credits, for, the, godfather]   \n",
              "2    [who, was, the, main, actor, in, the, exorcist]   \n",
              "3             [who, played, dory, on, finding, nemo]   \n",
              "4  [who, was, the, female, lead, in, resident, evil]   \n",
              "\n",
              "                     IOB Slot tags Core Relations  \n",
              "0   [14, 14, 6, 14, 8, 19, 19, 19]        [16, 0]  \n",
              "1              [14, 14, 14, 8, 19]           [16]  \n",
              "2  [14, 14, 14, 14, 14, 14, 8, 19]           [16]  \n",
              "3           [14, 14, 6, 14, 8, 19]        [16, 0]  \n",
              "4  [14, 14, 14, 14, 14, 14, 8, 19]        [16, 4]  "
            ]
          },
          "execution_count": 15,
          "metadata": {},
          "output_type": "execute_result"
        }
      ],
      "source": [
        "df.head()"
      ]
    },
    {
      "cell_type": "code",
      "execution_count": 16,
      "metadata": {
        "colab": {
          "base_uri": "https://localhost:8080/"
        },
        "id": "hKNnRLdGKFmp",
        "outputId": "e84f9ec5-81af-4e50-967e-1ec02f75a333"
      },
      "outputs": [
        {
          "data": {
            "text/plain": [
              "(2140, 113)"
            ]
          },
          "execution_count": 16,
          "metadata": {},
          "output_type": "execute_result"
        }
      ],
      "source": [
        "from sklearn.model_selection import train_test_split\n",
        "\n",
        "df_train, df_validation = train_test_split(df, test_size=0.05)\n",
        "len(df_train), len(df_validation)"
      ]
    },
    {
      "cell_type": "code",
      "execution_count": 17,
      "metadata": {
        "id": "caoq8Y7qUEvH"
      },
      "outputs": [],
      "source": [
        "from datasets import Dataset\n",
        "\n",
        "dataset_train = Dataset.from_pandas(df_train[['utterances','IOB Slot tags']], preserve_index=False)\n",
        "dataset_validation = Dataset.from_pandas(df_validation[['utterances','IOB Slot tags']], preserve_index=False)"
      ]
    },
    {
      "cell_type": "code",
      "execution_count": 18,
      "metadata": {
        "colab": {
          "base_uri": "https://localhost:8080/"
        },
        "id": "MQX6i3SU_e4F",
        "outputId": "15e525e6-db4a-4b81-fc87-02ddabbc4eb9"
      },
      "outputs": [
        {
          "data": {
            "text/plain": [
              "{'IOB Slot tags': [[14, 14, 14, 14, 14, 14, 14, 8],\n",
              "  [14, 14, 14, 14, 14, 10, 20],\n",
              "  [14, 14, 14, 8, 19],\n",
              "  [14, 14, 14, 14, 4, 14],\n",
              "  [14, 14, 8]],\n",
              " 'utterances': [['tell', 'me', 'the', 'rating', 'of', 'the', 'film', 'grease'],\n",
              "  ['give', 'me', 'anything', 'directed', 'by', 'robert', 'wise'],\n",
              "  ['show', 'who', 'produced', 'black', 'swan'],\n",
              "  ['give', 'me', 'the', 'best', 'baseball', 'movies'],\n",
              "  ['genre', 'for', 'transformers']]}"
            ]
          },
          "execution_count": 18,
          "metadata": {},
          "output_type": "execute_result"
        }
      ],
      "source": [
        "dataset_train[:5]"
      ]
    },
    {
      "cell_type": "code",
      "execution_count": 19,
      "metadata": {
        "id": "iL1GpEoUofRU"
      },
      "outputs": [],
      "source": [
        "label_all_tokens = True\n",
        "\n",
        "def tokenize_and_align_labels(examples):\n",
        "    tokenized_inputs = tokenizer(examples[\"utterances\"], truncation=True, is_split_into_words=True)\n",
        "\n",
        "    labels = []\n",
        "    for i, label in enumerate(examples[\"IOB Slot tags\"]):\n",
        "        word_ids = tokenized_inputs.word_ids(batch_index=i)\n",
        "        previous_word_idx = None\n",
        "        label_ids = []\n",
        "        for word_idx in word_ids:\n",
        "            # Special tokens have a word id that is None. We set the label to -100 so they are automatically\n",
        "            # ignored in the loss function.\n",
        "            if word_idx is None:\n",
        "                label_ids.append(-100)\n",
        "            # We set the label for the first token of each word.\n",
        "            elif word_idx != previous_word_idx:\n",
        "                label_ids.append(label[word_idx])\n",
        "            # For the other tokens in a word, we set the label to either the current label or -100, depending on\n",
        "            # the label_all_tokens flag.\n",
        "            else:\n",
        "                label_ids.append(label[word_idx] if label_all_tokens else -100)\n",
        "            previous_word_idx = word_idx\n",
        "\n",
        "        labels.append(label_ids)\n",
        "\n",
        "    tokenized_inputs[\"labels\"] = labels\n",
        "    return tokenized_inputs"
      ]
    },
    {
      "cell_type": "code",
      "execution_count": 20,
      "metadata": {
        "colab": {
          "base_uri": "https://localhost:8080/"
        },
        "id": "Xxx9T3psogFy",
        "outputId": "354abde0-ae78-4b9a-a659-72822de52131"
      },
      "outputs": [
        {
          "data": {
            "text/plain": [
              "{'input_ids': [[101, 2425, 2033, 1996, 5790, 1997, 1996, 2143, 21956, 102]], 'attention_mask': [[1, 1, 1, 1, 1, 1, 1, 1, 1, 1]], 'labels': [[-100, 14, 14, 14, 14, 14, 14, 14, 8, -100]]}"
            ]
          },
          "execution_count": 20,
          "metadata": {},
          "output_type": "execute_result"
        }
      ],
      "source": [
        "tokenize_and_align_labels(dataset_train[:1])"
      ]
    },
    {
      "cell_type": "code",
      "execution_count": 21,
      "metadata": {
        "colab": {
          "base_uri": "https://localhost:8080/",
          "height": 81,
          "referenced_widgets": [
            "11302f7c1bde4aff9cc3e2138ef27f91",
            "e22894d4ab4a47a598ad939af2ad56fe",
            "d3e28129b4c34971ae22e52cf7918e74",
            "a7af8746b64c44a5a9bccb74e9222d08",
            "0454efcb3ffb40f8afa4a09ec6e1b752",
            "f4b24d93ad3e405bac4d3ab1e8b51708",
            "06009e80ad4a43bfac0012ea57b782b4",
            "800ffe1e8b4344beb16a78488020f0e3",
            "fb7c341083114ba3ac6c8573b18efce1",
            "afd2398079854be5a6f9c3452a5c7778",
            "60983d9887184bec87433cd38018de60",
            "a562683a464445a2a4d46ab95586e114",
            "98556730c6994bdc9b4287e7136ad3cb",
            "24a8a5a3d9bc4afd8d4524dc8edf5e68",
            "0bec622050ae40f98d21d9f1870dfdb2",
            "61ae3901d5cf4251b6be7595fbdb8fc3",
            "775dcd7204bd4ade8d3ddec8e336e6b6",
            "445f29d6cfe945edbe16a06dcf1db174",
            "9300a6742e724f899b97f18731c89250",
            "fab39126befa43128092cae6cbfe6023",
            "de35766b108b4bbeaf9839c6927a997d",
            "0aca83bb25c24a05ac7942688698bc22"
          ]
        },
        "id": "ErP806URtn_6",
        "outputId": "df7fea2b-d723-474b-c61f-48abc4c28469"
      },
      "outputs": [
        {
          "data": {
            "application/vnd.jupyter.widget-view+json": {
              "model_id": "11302f7c1bde4aff9cc3e2138ef27f91",
              "version_major": 2,
              "version_minor": 0
            },
            "text/plain": [
              "  0%|          | 0/3 [00:00<?, ?ba/s]"
            ]
          },
          "metadata": {},
          "output_type": "display_data"
        },
        {
          "data": {
            "application/vnd.jupyter.widget-view+json": {
              "model_id": "a562683a464445a2a4d46ab95586e114",
              "version_major": 2,
              "version_minor": 0
            },
            "text/plain": [
              "  0%|          | 0/1 [00:00<?, ?ba/s]"
            ]
          },
          "metadata": {},
          "output_type": "display_data"
        }
      ],
      "source": [
        "tokenized_train_dataset = dataset_train.map(tokenize_and_align_labels, batched=True)\n",
        "tokenized_validation_dataset = dataset_validation.map(tokenize_and_align_labels, batched=True)"
      ]
    },
    {
      "cell_type": "code",
      "execution_count": 22,
      "metadata": {
        "colab": {
          "base_uri": "https://localhost:8080/"
        },
        "id": "0MIc5JF4t9QV",
        "outputId": "b1f2b503-06b1-4c7a-dbc2-b835d1bcedab"
      },
      "outputs": [
        {
          "data": {
            "text/plain": [
              "(2140, 113)"
            ]
          },
          "execution_count": 22,
          "metadata": {},
          "output_type": "execute_result"
        }
      ],
      "source": [
        "len(dataset_train), len(dataset_validation)"
      ]
    },
    {
      "cell_type": "code",
      "execution_count": 23,
      "metadata": {
        "colab": {
          "base_uri": "https://localhost:8080/"
        },
        "id": "2JcnBDPSUEpu",
        "outputId": "43d182e6-cbdd-4890-b2f9-f006de5ba161"
      },
      "outputs": [
        {
          "name": "stderr",
          "output_type": "stream",
          "text": [
            "Some weights of the model checkpoint at distilbert-base-uncased were not used when initializing DistilBertForTokenClassification: ['vocab_projector.bias', 'vocab_layer_norm.bias', 'vocab_transform.bias', 'vocab_layer_norm.weight', 'vocab_projector.weight', 'vocab_transform.weight']\n",
            "- This IS expected if you are initializing DistilBertForTokenClassification from the checkpoint of a model trained on another task or with another architecture (e.g. initializing a BertForSequenceClassification model from a BertForPreTraining model).\n",
            "- This IS NOT expected if you are initializing DistilBertForTokenClassification from the checkpoint of a model that you expect to be exactly identical (initializing a BertForSequenceClassification model from a BertForSequenceClassification model).\n",
            "Some weights of DistilBertForTokenClassification were not initialized from the model checkpoint at distilbert-base-uncased and are newly initialized: ['classifier.weight', 'classifier.bias']\n",
            "You should probably TRAIN this model on a down-stream task to be able to use it for predictions and inference.\n"
          ]
        },
        {
          "data": {
            "text/plain": [
              "DistilBertForTokenClassification(\n",
              "  (distilbert): DistilBertModel(\n",
              "    (embeddings): Embeddings(\n",
              "      (word_embeddings): Embedding(30522, 768, padding_idx=0)\n",
              "      (position_embeddings): Embedding(512, 768)\n",
              "      (LayerNorm): LayerNorm((768,), eps=1e-12, elementwise_affine=True)\n",
              "      (dropout): Dropout(p=0.1, inplace=False)\n",
              "    )\n",
              "    (transformer): Transformer(\n",
              "      (layer): ModuleList(\n",
              "        (0): TransformerBlock(\n",
              "          (attention): MultiHeadSelfAttention(\n",
              "            (dropout): Dropout(p=0.1, inplace=False)\n",
              "            (q_lin): Linear(in_features=768, out_features=768, bias=True)\n",
              "            (k_lin): Linear(in_features=768, out_features=768, bias=True)\n",
              "            (v_lin): Linear(in_features=768, out_features=768, bias=True)\n",
              "            (out_lin): Linear(in_features=768, out_features=768, bias=True)\n",
              "          )\n",
              "          (sa_layer_norm): LayerNorm((768,), eps=1e-12, elementwise_affine=True)\n",
              "          (ffn): FFN(\n",
              "            (dropout): Dropout(p=0.1, inplace=False)\n",
              "            (lin1): Linear(in_features=768, out_features=3072, bias=True)\n",
              "            (lin2): Linear(in_features=3072, out_features=768, bias=True)\n",
              "            (activation): GELUActivation()\n",
              "          )\n",
              "          (output_layer_norm): LayerNorm((768,), eps=1e-12, elementwise_affine=True)\n",
              "        )\n",
              "        (1): TransformerBlock(\n",
              "          (attention): MultiHeadSelfAttention(\n",
              "            (dropout): Dropout(p=0.1, inplace=False)\n",
              "            (q_lin): Linear(in_features=768, out_features=768, bias=True)\n",
              "            (k_lin): Linear(in_features=768, out_features=768, bias=True)\n",
              "            (v_lin): Linear(in_features=768, out_features=768, bias=True)\n",
              "            (out_lin): Linear(in_features=768, out_features=768, bias=True)\n",
              "          )\n",
              "          (sa_layer_norm): LayerNorm((768,), eps=1e-12, elementwise_affine=True)\n",
              "          (ffn): FFN(\n",
              "            (dropout): Dropout(p=0.1, inplace=False)\n",
              "            (lin1): Linear(in_features=768, out_features=3072, bias=True)\n",
              "            (lin2): Linear(in_features=3072, out_features=768, bias=True)\n",
              "            (activation): GELUActivation()\n",
              "          )\n",
              "          (output_layer_norm): LayerNorm((768,), eps=1e-12, elementwise_affine=True)\n",
              "        )\n",
              "        (2): TransformerBlock(\n",
              "          (attention): MultiHeadSelfAttention(\n",
              "            (dropout): Dropout(p=0.1, inplace=False)\n",
              "            (q_lin): Linear(in_features=768, out_features=768, bias=True)\n",
              "            (k_lin): Linear(in_features=768, out_features=768, bias=True)\n",
              "            (v_lin): Linear(in_features=768, out_features=768, bias=True)\n",
              "            (out_lin): Linear(in_features=768, out_features=768, bias=True)\n",
              "          )\n",
              "          (sa_layer_norm): LayerNorm((768,), eps=1e-12, elementwise_affine=True)\n",
              "          (ffn): FFN(\n",
              "            (dropout): Dropout(p=0.1, inplace=False)\n",
              "            (lin1): Linear(in_features=768, out_features=3072, bias=True)\n",
              "            (lin2): Linear(in_features=3072, out_features=768, bias=True)\n",
              "            (activation): GELUActivation()\n",
              "          )\n",
              "          (output_layer_norm): LayerNorm((768,), eps=1e-12, elementwise_affine=True)\n",
              "        )\n",
              "        (3): TransformerBlock(\n",
              "          (attention): MultiHeadSelfAttention(\n",
              "            (dropout): Dropout(p=0.1, inplace=False)\n",
              "            (q_lin): Linear(in_features=768, out_features=768, bias=True)\n",
              "            (k_lin): Linear(in_features=768, out_features=768, bias=True)\n",
              "            (v_lin): Linear(in_features=768, out_features=768, bias=True)\n",
              "            (out_lin): Linear(in_features=768, out_features=768, bias=True)\n",
              "          )\n",
              "          (sa_layer_norm): LayerNorm((768,), eps=1e-12, elementwise_affine=True)\n",
              "          (ffn): FFN(\n",
              "            (dropout): Dropout(p=0.1, inplace=False)\n",
              "            (lin1): Linear(in_features=768, out_features=3072, bias=True)\n",
              "            (lin2): Linear(in_features=3072, out_features=768, bias=True)\n",
              "            (activation): GELUActivation()\n",
              "          )\n",
              "          (output_layer_norm): LayerNorm((768,), eps=1e-12, elementwise_affine=True)\n",
              "        )\n",
              "        (4): TransformerBlock(\n",
              "          (attention): MultiHeadSelfAttention(\n",
              "            (dropout): Dropout(p=0.1, inplace=False)\n",
              "            (q_lin): Linear(in_features=768, out_features=768, bias=True)\n",
              "            (k_lin): Linear(in_features=768, out_features=768, bias=True)\n",
              "            (v_lin): Linear(in_features=768, out_features=768, bias=True)\n",
              "            (out_lin): Linear(in_features=768, out_features=768, bias=True)\n",
              "          )\n",
              "          (sa_layer_norm): LayerNorm((768,), eps=1e-12, elementwise_affine=True)\n",
              "          (ffn): FFN(\n",
              "            (dropout): Dropout(p=0.1, inplace=False)\n",
              "            (lin1): Linear(in_features=768, out_features=3072, bias=True)\n",
              "            (lin2): Linear(in_features=3072, out_features=768, bias=True)\n",
              "            (activation): GELUActivation()\n",
              "          )\n",
              "          (output_layer_norm): LayerNorm((768,), eps=1e-12, elementwise_affine=True)\n",
              "        )\n",
              "        (5): TransformerBlock(\n",
              "          (attention): MultiHeadSelfAttention(\n",
              "            (dropout): Dropout(p=0.1, inplace=False)\n",
              "            (q_lin): Linear(in_features=768, out_features=768, bias=True)\n",
              "            (k_lin): Linear(in_features=768, out_features=768, bias=True)\n",
              "            (v_lin): Linear(in_features=768, out_features=768, bias=True)\n",
              "            (out_lin): Linear(in_features=768, out_features=768, bias=True)\n",
              "          )\n",
              "          (sa_layer_norm): LayerNorm((768,), eps=1e-12, elementwise_affine=True)\n",
              "          (ffn): FFN(\n",
              "            (dropout): Dropout(p=0.1, inplace=False)\n",
              "            (lin1): Linear(in_features=768, out_features=3072, bias=True)\n",
              "            (lin2): Linear(in_features=3072, out_features=768, bias=True)\n",
              "            (activation): GELUActivation()\n",
              "          )\n",
              "          (output_layer_norm): LayerNorm((768,), eps=1e-12, elementwise_affine=True)\n",
              "        )\n",
              "      )\n",
              "    )\n",
              "  )\n",
              "  (dropout): Dropout(p=0.1, inplace=False)\n",
              "  (classifier): Linear(in_features=768, out_features=27, bias=True)\n",
              ")"
            ]
          },
          "execution_count": 23,
          "metadata": {},
          "output_type": "execute_result"
        }
      ],
      "source": [
        "from transformers import AutoModelForTokenClassification, TrainingArguments, Trainer\n",
        "\n",
        "model = AutoModelForTokenClassification.from_pretrained(model_name, num_labels=len(slots_vocab), id2label = index2slots, label2id = slots2index )\n",
        "model"
      ]
    },
    {
      "cell_type": "code",
      "execution_count": 24,
      "metadata": {
        "id": "hquF0BjHUF4J"
      },
      "outputs": [],
      "source": [
        "batch_size = 16\n",
        "\n",
        "model_name = model_name.split(\"/\")[-1]\n",
        "args = TrainingArguments(\n",
        "    f\"{model_name}-finetuned-{task}\",\n",
        "    evaluation_strategy = \"epoch\",\n",
        "    learning_rate=2e-5,\n",
        "    # per_device_train_batch_size=batch_size,\n",
        "    # per_device_eval_batch_size=batch_size,\n",
        "    num_train_epochs=15,\n",
        "    report_to=\"wandb\", # W AND B VIZ !\n",
        "    weight_decay=0.01,\n",
        "    push_to_hub=False,\n",
        ")"
      ]
    },
    {
      "cell_type": "code",
      "execution_count": 25,
      "metadata": {
        "id": "r2VHFfE8UF0j"
      },
      "outputs": [],
      "source": [
        "from transformers import DataCollatorForTokenClassification\n",
        "\n",
        "data_collator = DataCollatorForTokenClassification(tokenizer)"
      ]
    },
    {
      "cell_type": "code",
      "execution_count": 26,
      "metadata": {
        "colab": {
          "base_uri": "https://localhost:8080/"
        },
        "id": "Tx1z8MuHpGX-",
        "outputId": "13f50151-3eba-4e00-b685-a8a381db5422"
      },
      "outputs": [
        {
          "name": "stdout",
          "output_type": "stream",
          "text": [
            "Collecting wandb\n",
            "  Downloading wandb-0.12.15-py2.py3-none-any.whl (1.8 MB)\n",
            "\u001b[K     |████████████████████████████████| 1.8 MB 13.8 MB/s \n",
            "\u001b[?25hRequirement already satisfied: six>=1.13.0 in /usr/local/lib/python3.7/dist-packages (from wandb) (1.15.0)\n",
            "Collecting docker-pycreds>=0.4.0\n",
            "  Downloading docker_pycreds-0.4.0-py2.py3-none-any.whl (9.0 kB)\n",
            "Requirement already satisfied: protobuf>=3.12.0 in /usr/local/lib/python3.7/dist-packages (from wandb) (3.17.3)\n",
            "Requirement already satisfied: Click!=8.0.0,>=7.0 in /usr/local/lib/python3.7/dist-packages (from wandb) (7.1.2)\n",
            "Requirement already satisfied: promise<3,>=2.0 in /usr/local/lib/python3.7/dist-packages (from wandb) (2.3)\n",
            "Collecting GitPython>=1.0.0\n",
            "  Downloading GitPython-3.1.27-py3-none-any.whl (181 kB)\n",
            "\u001b[K     |████████████████████████████████| 181 kB 34.5 MB/s \n",
            "\u001b[?25hRequirement already satisfied: psutil>=5.0.0 in /usr/local/lib/python3.7/dist-packages (from wandb) (5.4.8)\n",
            "Collecting setproctitle\n",
            "  Downloading setproctitle-1.2.3-cp37-cp37m-manylinux_2_5_x86_64.manylinux1_x86_64.manylinux_2_17_x86_64.manylinux2014_x86_64.whl (29 kB)\n",
            "Requirement already satisfied: requests<3,>=2.0.0 in /usr/local/lib/python3.7/dist-packages (from wandb) (2.23.0)\n",
            "Collecting pathtools\n",
            "  Downloading pathtools-0.1.2.tar.gz (11 kB)\n",
            "Collecting shortuuid>=0.5.0\n",
            "  Downloading shortuuid-1.0.8-py3-none-any.whl (9.5 kB)\n",
            "Requirement already satisfied: PyYAML in /usr/local/lib/python3.7/dist-packages (from wandb) (6.0)\n",
            "Requirement already satisfied: python-dateutil>=2.6.1 in /usr/local/lib/python3.7/dist-packages (from wandb) (2.8.2)\n",
            "Collecting sentry-sdk>=1.0.0\n",
            "  Downloading sentry_sdk-1.5.10-py2.py3-none-any.whl (144 kB)\n",
            "\u001b[K     |████████████████████████████████| 144 kB 47.8 MB/s \n",
            "\u001b[?25hRequirement already satisfied: typing-extensions>=3.7.4.3 in /usr/local/lib/python3.7/dist-packages (from GitPython>=1.0.0->wandb) (4.1.1)\n",
            "Collecting gitdb<5,>=4.0.1\n",
            "  Downloading gitdb-4.0.9-py3-none-any.whl (63 kB)\n",
            "\u001b[K     |████████████████████████████████| 63 kB 1.6 MB/s \n",
            "\u001b[?25hCollecting smmap<6,>=3.0.1\n",
            "  Downloading smmap-5.0.0-py3-none-any.whl (24 kB)\n",
            "Requirement already satisfied: urllib3!=1.25.0,!=1.25.1,<1.26,>=1.21.1 in /usr/local/lib/python3.7/dist-packages (from requests<3,>=2.0.0->wandb) (1.25.11)\n",
            "Requirement already satisfied: idna<3,>=2.5 in /usr/local/lib/python3.7/dist-packages (from requests<3,>=2.0.0->wandb) (2.10)\n",
            "Requirement already satisfied: chardet<4,>=3.0.2 in /usr/local/lib/python3.7/dist-packages (from requests<3,>=2.0.0->wandb) (3.0.4)\n",
            "Requirement already satisfied: certifi>=2017.4.17 in /usr/local/lib/python3.7/dist-packages (from requests<3,>=2.0.0->wandb) (2021.10.8)\n",
            "Building wheels for collected packages: pathtools\n",
            "  Building wheel for pathtools (setup.py) ... \u001b[?25l\u001b[?25hdone\n",
            "  Created wheel for pathtools: filename=pathtools-0.1.2-py3-none-any.whl size=8806 sha256=9b3ca4e4d2736edf93dcb06f0f641e15ad379245c6efc13914f897c486386e4b\n",
            "  Stored in directory: /root/.cache/pip/wheels/3e/31/09/fa59cef12cdcfecc627b3d24273699f390e71828921b2cbba2\n",
            "Successfully built pathtools\n",
            "Installing collected packages: smmap, gitdb, shortuuid, setproctitle, sentry-sdk, pathtools, GitPython, docker-pycreds, wandb\n",
            "Successfully installed GitPython-3.1.27 docker-pycreds-0.4.0 gitdb-4.0.9 pathtools-0.1.2 sentry-sdk-1.5.10 setproctitle-1.2.3 shortuuid-1.0.8 smmap-5.0.0 wandb-0.12.15\n"
          ]
        }
      ],
      "source": [
        "!pip install wandb"
      ]
    },
    {
      "cell_type": "code",
      "execution_count": 27,
      "metadata": {
        "colab": {
          "base_uri": "https://localhost:8080/",
          "height": 124
        },
        "id": "O074gAI3pIk6",
        "outputId": "6a083a63-2c4a-410c-828b-fa4cfecd2e10"
      },
      "outputs": [
        {
          "data": {
            "application/javascript": "\n        window._wandbApiKey = new Promise((resolve, reject) => {\n            function loadScript(url) {\n            return new Promise(function(resolve, reject) {\n                let newScript = document.createElement(\"script\");\n                newScript.onerror = reject;\n                newScript.onload = resolve;\n                document.body.appendChild(newScript);\n                newScript.src = url;\n            });\n            }\n            loadScript(\"https://cdn.jsdelivr.net/npm/postmate/build/postmate.min.js\").then(() => {\n            const iframe = document.createElement('iframe')\n            iframe.style.cssText = \"width:0;height:0;border:none\"\n            document.body.appendChild(iframe)\n            const handshake = new Postmate({\n                container: iframe,\n                url: 'https://wandb.ai/authorize'\n            });\n            const timeout = setTimeout(() => reject(\"Couldn't auto authenticate\"), 5000)\n            handshake.then(function(child) {\n                child.on('authorize', data => {\n                    clearTimeout(timeout)\n                    resolve(data)\n                });\n            });\n            })\n        });\n    ",
            "text/plain": [
              "<IPython.core.display.Javascript object>"
            ]
          },
          "metadata": {},
          "output_type": "display_data"
        },
        {
          "name": "stderr",
          "output_type": "stream",
          "text": [
            "\u001b[34m\u001b[1mwandb\u001b[0m: Appending key for api.wandb.ai to your netrc file: /root/.netrc\n"
          ]
        },
        {
          "data": {
            "text/html": [
              "Tracking run with wandb version 0.12.15"
            ],
            "text/plain": [
              "<IPython.core.display.HTML object>"
            ]
          },
          "metadata": {},
          "output_type": "display_data"
        },
        {
          "data": {
            "text/html": [
              "Run data is saved locally in <code>/content/wandb/run-20220423_202815-9o8ljrrc</code>"
            ],
            "text/plain": [
              "<IPython.core.display.HTML object>"
            ]
          },
          "metadata": {},
          "output_type": "display_data"
        },
        {
          "data": {
            "text/html": [
              "Syncing run <strong><a href=\"https://wandb.ai/sriramja/NLP%20244%20-%20Slot%20tagging/runs/9o8ljrrc\" target=\"_blank\">cerulean-music-4</a></strong> to <a href=\"https://wandb.ai/sriramja/NLP%20244%20-%20Slot%20tagging\" target=\"_blank\">Weights & Biases</a> (<a href=\"https://wandb.me/run\" target=\"_blank\">docs</a>)<br/>"
            ],
            "text/plain": [
              "<IPython.core.display.HTML object>"
            ]
          },
          "metadata": {},
          "output_type": "display_data"
        },
        {
          "data": {
            "text/html": [
              "<button onClick=\"this.nextSibling.style.display='block';this.style.display='none';\">Display W&B run</button><iframe src=\"https://wandb.ai/sriramja/NLP%20244%20-%20Slot%20tagging/runs/9o8ljrrc?jupyter=true\" style=\"border:none;width:100%;height:420px;display:none;\"></iframe>"
            ],
            "text/plain": [
              "<wandb.sdk.wandb_run.Run at 0x7f4e0d53dcd0>"
            ]
          },
          "execution_count": 27,
          "metadata": {},
          "output_type": "execute_result"
        }
      ],
      "source": [
        "import os\n",
        "import wandb\n",
        "os.environ[\"WANDB_API_KEY\"]=\"\"\n",
        "os.environ[\"WANDB_ENTITY\"]=\"Sriram\"\n",
        "os.environ[\"WANDB_PROJECT\"]=\"Slot tagging\"\n",
        "wandb.init(project=\"Slot tagging\", entity=\"sriramja\")"
      ]
    },
    {
      "cell_type": "code",
      "execution_count": 28,
      "metadata": {
        "id": "Q8dTCDMTf5bN"
      },
      "outputs": [],
      "source": [
        "# !pip install seqeval\n",
        "# from datasets import load_dataset, load_metric\n",
        "# import datasets\n",
        "\n",
        "# metric = load_metric(\"seqeval\")\n",
        "# logger = datasets.logging.get_logger(__name__)"
      ]
    },
    {
      "cell_type": "code",
      "execution_count": 29,
      "metadata": {
        "id": "IEvjUPg8Vbq6"
      },
      "outputs": [],
      "source": [
        "# labels = [slots_vocab[i] for i in xy]\n",
        "# metric.compute(predictions=[labels], references=[labels])"
      ]
    },
    {
      "cell_type": "code",
      "execution_count": 30,
      "metadata": {
        "colab": {
          "base_uri": "https://localhost:8080/"
        },
        "id": "y7mdAVew-Uhs",
        "outputId": "c8ef9975-f8e4-4741-a833-025a4e78d3e3"
      },
      "outputs": [
        {
          "data": {
            "text/plain": [
              "{'IOB Slot tags': [14, 14, 14, 14, 14, 14, 14, 8],\n",
              " 'attention_mask': [1, 1, 1, 1, 1, 1, 1, 1, 1, 1],\n",
              " 'input_ids': [101, 2425, 2033, 1996, 5790, 1997, 1996, 2143, 21956, 102],\n",
              " 'labels': [-100, 14, 14, 14, 14, 14, 14, 14, 8, -100],\n",
              " 'utterances': ['tell', 'me', 'the', 'rating', 'of', 'the', 'film', 'grease']}"
            ]
          },
          "execution_count": 30,
          "metadata": {},
          "output_type": "execute_result"
        }
      ],
      "source": [
        "tokenized_train_dataset[0]"
      ]
    },
    {
      "cell_type": "code",
      "execution_count": 31,
      "metadata": {
        "colab": {
          "base_uri": "https://localhost:8080/"
        },
        "id": "_5C4dOrA-iSF",
        "outputId": "d953a346-3d81-47a4-eb1e-a61e34e5680d"
      },
      "outputs": [
        {
          "data": {
            "text/plain": [
              "{'IOB Slot tags': [14, 14, 14, 8, 19],\n",
              " 'attention_mask': [1, 1, 1, 1, 1, 1, 1],\n",
              " 'input_ids': [101, 2713, 3058, 2005, 9121, 2466, 102],\n",
              " 'labels': [-100, 14, 14, 14, 8, 19, -100],\n",
              " 'utterances': ['release', 'date', 'for', 'toy', 'story']}"
            ]
          },
          "execution_count": 31,
          "metadata": {},
          "output_type": "execute_result"
        }
      ],
      "source": [
        "tokenized_validation_dataset[0]"
      ]
    },
    {
      "cell_type": "code",
      "execution_count": 32,
      "metadata": {
        "id": "9tMZeRKaVbod"
      },
      "outputs": [],
      "source": [
        "trainer = Trainer(\n",
        "    model,\n",
        "    args,\n",
        "    train_dataset=tokenized_train_dataset,\n",
        "    eval_dataset=tokenized_validation_dataset,\n",
        "    data_collator=data_collator,\n",
        "    tokenizer=tokenizer\n",
        ")"
      ]
    },
    {
      "cell_type": "code",
      "execution_count": 33,
      "metadata": {
        "colab": {
          "base_uri": "https://localhost:8080/",
          "height": 1000
        },
        "id": "TOb12LgQf5U5",
        "outputId": "44fd1065-abd5-4112-eeca-233c0976b790"
      },
      "outputs": [
        {
          "name": "stderr",
          "output_type": "stream",
          "text": [
            "The following columns in the training set  don't have a corresponding argument in `DistilBertForTokenClassification.forward` and have been ignored: IOB Slot tags, utterances. If IOB Slot tags, utterances are not expected by `DistilBertForTokenClassification.forward`,  you can safely ignore this message.\n",
            "/usr/local/lib/python3.7/dist-packages/transformers/optimization.py:309: FutureWarning: This implementation of AdamW is deprecated and will be removed in a future version. Use the PyTorch implementation torch.optim.AdamW instead, or set `no_deprecation_warning=True` to disable this warning\n",
            "  FutureWarning,\n",
            "***** Running training *****\n",
            "  Num examples = 2140\n",
            "  Num Epochs = 15\n",
            "  Instantaneous batch size per device = 8\n",
            "  Total train batch size (w. parallel, distributed & accumulation) = 8\n",
            "  Gradient Accumulation steps = 1\n",
            "  Total optimization steps = 4020\n",
            "Automatic Weights & Biases logging enabled, to disable set os.environ[\"WANDB_DISABLED\"] = \"true\"\n"
          ]
        },
        {
          "data": {
            "text/html": [
              "\n",
              "    <div>\n",
              "      \n",
              "      <progress value='4020' max='4020' style='width:300px; height:20px; vertical-align: middle;'></progress>\n",
              "      [4020/4020 06:26, Epoch 15/15]\n",
              "    </div>\n",
              "    <table border=\"1\" class=\"dataframe\">\n",
              "  <thead>\n",
              " <tr style=\"text-align: left;\">\n",
              "      <th>Epoch</th>\n",
              "      <th>Training Loss</th>\n",
              "      <th>Validation Loss</th>\n",
              "    </tr>\n",
              "  </thead>\n",
              "  <tbody>\n",
              "    <tr>\n",
              "      <td>1</td>\n",
              "      <td>No log</td>\n",
              "      <td>0.198200</td>\n",
              "    </tr>\n",
              "    <tr>\n",
              "      <td>2</td>\n",
              "      <td>0.440500</td>\n",
              "      <td>0.134855</td>\n",
              "    </tr>\n",
              "    <tr>\n",
              "      <td>3</td>\n",
              "      <td>0.440500</td>\n",
              "      <td>0.128096</td>\n",
              "    </tr>\n",
              "    <tr>\n",
              "      <td>4</td>\n",
              "      <td>0.070600</td>\n",
              "      <td>0.111190</td>\n",
              "    </tr>\n",
              "    <tr>\n",
              "      <td>5</td>\n",
              "      <td>0.070600</td>\n",
              "      <td>0.116941</td>\n",
              "    </tr>\n",
              "    <tr>\n",
              "      <td>6</td>\n",
              "      <td>0.034800</td>\n",
              "      <td>0.126099</td>\n",
              "    </tr>\n",
              "    <tr>\n",
              "      <td>7</td>\n",
              "      <td>0.034800</td>\n",
              "      <td>0.131182</td>\n",
              "    </tr>\n",
              "    <tr>\n",
              "      <td>8</td>\n",
              "      <td>0.015000</td>\n",
              "      <td>0.166389</td>\n",
              "    </tr>\n",
              "    <tr>\n",
              "      <td>9</td>\n",
              "      <td>0.015000</td>\n",
              "      <td>0.128133</td>\n",
              "    </tr>\n",
              "    <tr>\n",
              "      <td>10</td>\n",
              "      <td>0.010600</td>\n",
              "      <td>0.136903</td>\n",
              "    </tr>\n",
              "    <tr>\n",
              "      <td>11</td>\n",
              "      <td>0.010600</td>\n",
              "      <td>0.153119</td>\n",
              "    </tr>\n",
              "    <tr>\n",
              "      <td>12</td>\n",
              "      <td>0.006600</td>\n",
              "      <td>0.151555</td>\n",
              "    </tr>\n",
              "    <tr>\n",
              "      <td>13</td>\n",
              "      <td>0.006600</td>\n",
              "      <td>0.152863</td>\n",
              "    </tr>\n",
              "    <tr>\n",
              "      <td>14</td>\n",
              "      <td>0.004100</td>\n",
              "      <td>0.154671</td>\n",
              "    </tr>\n",
              "    <tr>\n",
              "      <td>15</td>\n",
              "      <td>0.003400</td>\n",
              "      <td>0.152143</td>\n",
              "    </tr>\n",
              "  </tbody>\n",
              "</table><p>"
            ],
            "text/plain": [
              "<IPython.core.display.HTML object>"
            ]
          },
          "metadata": {},
          "output_type": "display_data"
        },
        {
          "name": "stderr",
          "output_type": "stream",
          "text": [
            "The following columns in the evaluation set  don't have a corresponding argument in `DistilBertForTokenClassification.forward` and have been ignored: IOB Slot tags, utterances. If IOB Slot tags, utterances are not expected by `DistilBertForTokenClassification.forward`,  you can safely ignore this message.\n",
            "***** Running Evaluation *****\n",
            "  Num examples = 113\n",
            "  Batch size = 8\n",
            "Saving model checkpoint to distilbert-base-uncased-finetuned-pos/checkpoint-500\n",
            "Configuration saved in distilbert-base-uncased-finetuned-pos/checkpoint-500/config.json\n",
            "Model weights saved in distilbert-base-uncased-finetuned-pos/checkpoint-500/pytorch_model.bin\n",
            "tokenizer config file saved in distilbert-base-uncased-finetuned-pos/checkpoint-500/tokenizer_config.json\n",
            "Special tokens file saved in distilbert-base-uncased-finetuned-pos/checkpoint-500/special_tokens_map.json\n",
            "The following columns in the evaluation set  don't have a corresponding argument in `DistilBertForTokenClassification.forward` and have been ignored: IOB Slot tags, utterances. If IOB Slot tags, utterances are not expected by `DistilBertForTokenClassification.forward`,  you can safely ignore this message.\n",
            "***** Running Evaluation *****\n",
            "  Num examples = 113\n",
            "  Batch size = 8\n",
            "The following columns in the evaluation set  don't have a corresponding argument in `DistilBertForTokenClassification.forward` and have been ignored: IOB Slot tags, utterances. If IOB Slot tags, utterances are not expected by `DistilBertForTokenClassification.forward`,  you can safely ignore this message.\n",
            "***** Running Evaluation *****\n",
            "  Num examples = 113\n",
            "  Batch size = 8\n",
            "Saving model checkpoint to distilbert-base-uncased-finetuned-pos/checkpoint-1000\n",
            "Configuration saved in distilbert-base-uncased-finetuned-pos/checkpoint-1000/config.json\n",
            "Model weights saved in distilbert-base-uncased-finetuned-pos/checkpoint-1000/pytorch_model.bin\n",
            "tokenizer config file saved in distilbert-base-uncased-finetuned-pos/checkpoint-1000/tokenizer_config.json\n",
            "Special tokens file saved in distilbert-base-uncased-finetuned-pos/checkpoint-1000/special_tokens_map.json\n",
            "The following columns in the evaluation set  don't have a corresponding argument in `DistilBertForTokenClassification.forward` and have been ignored: IOB Slot tags, utterances. If IOB Slot tags, utterances are not expected by `DistilBertForTokenClassification.forward`,  you can safely ignore this message.\n",
            "***** Running Evaluation *****\n",
            "  Num examples = 113\n",
            "  Batch size = 8\n",
            "The following columns in the evaluation set  don't have a corresponding argument in `DistilBertForTokenClassification.forward` and have been ignored: IOB Slot tags, utterances. If IOB Slot tags, utterances are not expected by `DistilBertForTokenClassification.forward`,  you can safely ignore this message.\n",
            "***** Running Evaluation *****\n",
            "  Num examples = 113\n",
            "  Batch size = 8\n",
            "Saving model checkpoint to distilbert-base-uncased-finetuned-pos/checkpoint-1500\n",
            "Configuration saved in distilbert-base-uncased-finetuned-pos/checkpoint-1500/config.json\n",
            "Model weights saved in distilbert-base-uncased-finetuned-pos/checkpoint-1500/pytorch_model.bin\n",
            "tokenizer config file saved in distilbert-base-uncased-finetuned-pos/checkpoint-1500/tokenizer_config.json\n",
            "Special tokens file saved in distilbert-base-uncased-finetuned-pos/checkpoint-1500/special_tokens_map.json\n",
            "The following columns in the evaluation set  don't have a corresponding argument in `DistilBertForTokenClassification.forward` and have been ignored: IOB Slot tags, utterances. If IOB Slot tags, utterances are not expected by `DistilBertForTokenClassification.forward`,  you can safely ignore this message.\n",
            "***** Running Evaluation *****\n",
            "  Num examples = 113\n",
            "  Batch size = 8\n",
            "The following columns in the evaluation set  don't have a corresponding argument in `DistilBertForTokenClassification.forward` and have been ignored: IOB Slot tags, utterances. If IOB Slot tags, utterances are not expected by `DistilBertForTokenClassification.forward`,  you can safely ignore this message.\n",
            "***** Running Evaluation *****\n",
            "  Num examples = 113\n",
            "  Batch size = 8\n",
            "Saving model checkpoint to distilbert-base-uncased-finetuned-pos/checkpoint-2000\n",
            "Configuration saved in distilbert-base-uncased-finetuned-pos/checkpoint-2000/config.json\n",
            "Model weights saved in distilbert-base-uncased-finetuned-pos/checkpoint-2000/pytorch_model.bin\n",
            "tokenizer config file saved in distilbert-base-uncased-finetuned-pos/checkpoint-2000/tokenizer_config.json\n",
            "Special tokens file saved in distilbert-base-uncased-finetuned-pos/checkpoint-2000/special_tokens_map.json\n",
            "The following columns in the evaluation set  don't have a corresponding argument in `DistilBertForTokenClassification.forward` and have been ignored: IOB Slot tags, utterances. If IOB Slot tags, utterances are not expected by `DistilBertForTokenClassification.forward`,  you can safely ignore this message.\n",
            "***** Running Evaluation *****\n",
            "  Num examples = 113\n",
            "  Batch size = 8\n",
            "The following columns in the evaluation set  don't have a corresponding argument in `DistilBertForTokenClassification.forward` and have been ignored: IOB Slot tags, utterances. If IOB Slot tags, utterances are not expected by `DistilBertForTokenClassification.forward`,  you can safely ignore this message.\n",
            "***** Running Evaluation *****\n",
            "  Num examples = 113\n",
            "  Batch size = 8\n",
            "Saving model checkpoint to distilbert-base-uncased-finetuned-pos/checkpoint-2500\n",
            "Configuration saved in distilbert-base-uncased-finetuned-pos/checkpoint-2500/config.json\n",
            "Model weights saved in distilbert-base-uncased-finetuned-pos/checkpoint-2500/pytorch_model.bin\n",
            "tokenizer config file saved in distilbert-base-uncased-finetuned-pos/checkpoint-2500/tokenizer_config.json\n",
            "Special tokens file saved in distilbert-base-uncased-finetuned-pos/checkpoint-2500/special_tokens_map.json\n",
            "The following columns in the evaluation set  don't have a corresponding argument in `DistilBertForTokenClassification.forward` and have been ignored: IOB Slot tags, utterances. If IOB Slot tags, utterances are not expected by `DistilBertForTokenClassification.forward`,  you can safely ignore this message.\n",
            "***** Running Evaluation *****\n",
            "  Num examples = 113\n",
            "  Batch size = 8\n",
            "The following columns in the evaluation set  don't have a corresponding argument in `DistilBertForTokenClassification.forward` and have been ignored: IOB Slot tags, utterances. If IOB Slot tags, utterances are not expected by `DistilBertForTokenClassification.forward`,  you can safely ignore this message.\n",
            "***** Running Evaluation *****\n",
            "  Num examples = 113\n",
            "  Batch size = 8\n",
            "Saving model checkpoint to distilbert-base-uncased-finetuned-pos/checkpoint-3000\n",
            "Configuration saved in distilbert-base-uncased-finetuned-pos/checkpoint-3000/config.json\n",
            "Model weights saved in distilbert-base-uncased-finetuned-pos/checkpoint-3000/pytorch_model.bin\n",
            "tokenizer config file saved in distilbert-base-uncased-finetuned-pos/checkpoint-3000/tokenizer_config.json\n",
            "Special tokens file saved in distilbert-base-uncased-finetuned-pos/checkpoint-3000/special_tokens_map.json\n",
            "The following columns in the evaluation set  don't have a corresponding argument in `DistilBertForTokenClassification.forward` and have been ignored: IOB Slot tags, utterances. If IOB Slot tags, utterances are not expected by `DistilBertForTokenClassification.forward`,  you can safely ignore this message.\n",
            "***** Running Evaluation *****\n",
            "  Num examples = 113\n",
            "  Batch size = 8\n",
            "The following columns in the evaluation set  don't have a corresponding argument in `DistilBertForTokenClassification.forward` and have been ignored: IOB Slot tags, utterances. If IOB Slot tags, utterances are not expected by `DistilBertForTokenClassification.forward`,  you can safely ignore this message.\n",
            "***** Running Evaluation *****\n",
            "  Num examples = 113\n",
            "  Batch size = 8\n",
            "Saving model checkpoint to distilbert-base-uncased-finetuned-pos/checkpoint-3500\n",
            "Configuration saved in distilbert-base-uncased-finetuned-pos/checkpoint-3500/config.json\n",
            "Model weights saved in distilbert-base-uncased-finetuned-pos/checkpoint-3500/pytorch_model.bin\n",
            "tokenizer config file saved in distilbert-base-uncased-finetuned-pos/checkpoint-3500/tokenizer_config.json\n",
            "Special tokens file saved in distilbert-base-uncased-finetuned-pos/checkpoint-3500/special_tokens_map.json\n",
            "The following columns in the evaluation set  don't have a corresponding argument in `DistilBertForTokenClassification.forward` and have been ignored: IOB Slot tags, utterances. If IOB Slot tags, utterances are not expected by `DistilBertForTokenClassification.forward`,  you can safely ignore this message.\n",
            "***** Running Evaluation *****\n",
            "  Num examples = 113\n",
            "  Batch size = 8\n",
            "Saving model checkpoint to distilbert-base-uncased-finetuned-pos/checkpoint-4000\n",
            "Configuration saved in distilbert-base-uncased-finetuned-pos/checkpoint-4000/config.json\n",
            "Model weights saved in distilbert-base-uncased-finetuned-pos/checkpoint-4000/pytorch_model.bin\n",
            "tokenizer config file saved in distilbert-base-uncased-finetuned-pos/checkpoint-4000/tokenizer_config.json\n",
            "Special tokens file saved in distilbert-base-uncased-finetuned-pos/checkpoint-4000/special_tokens_map.json\n",
            "The following columns in the evaluation set  don't have a corresponding argument in `DistilBertForTokenClassification.forward` and have been ignored: IOB Slot tags, utterances. If IOB Slot tags, utterances are not expected by `DistilBertForTokenClassification.forward`,  you can safely ignore this message.\n",
            "***** Running Evaluation *****\n",
            "  Num examples = 113\n",
            "  Batch size = 8\n",
            "\n",
            "\n",
            "Training completed. Do not forget to share your model on huggingface.co/models =)\n",
            "\n",
            "\n"
          ]
        },
        {
          "data": {
            "text/plain": [
              "TrainOutput(global_step=4020, training_loss=0.07283714781075123, metrics={'train_runtime': 386.8501, 'train_samples_per_second': 82.978, 'train_steps_per_second': 10.392, 'total_flos': 105133423572288.0, 'train_loss': 0.07283714781075123, 'epoch': 15.0})"
            ]
          },
          "execution_count": 33,
          "metadata": {},
          "output_type": "execute_result"
        }
      ],
      "source": [
        "trainer.train()"
      ]
    },
    {
      "cell_type": "code",
      "execution_count": 34,
      "metadata": {
        "colab": {
          "base_uri": "https://localhost:8080/",
          "height": 213
        },
        "id": "vMNBc8wXX8Ny",
        "outputId": "dbe65def-b4b1-44ce-ee9f-50b86c61a375"
      },
      "outputs": [
        {
          "name": "stderr",
          "output_type": "stream",
          "text": [
            "The following columns in the evaluation set  don't have a corresponding argument in `DistilBertForTokenClassification.forward` and have been ignored: IOB Slot tags, utterances. If IOB Slot tags, utterances are not expected by `DistilBertForTokenClassification.forward`,  you can safely ignore this message.\n",
            "***** Running Evaluation *****\n",
            "  Num examples = 113\n",
            "  Batch size = 8\n"
          ]
        },
        {
          "data": {
            "text/html": [
              "\n",
              "    <div>\n",
              "      \n",
              "      <progress value='15' max='15' style='width:300px; height:20px; vertical-align: middle;'></progress>\n",
              "      [15/15 00:00]\n",
              "    </div>\n",
              "    "
            ],
            "text/plain": [
              "<IPython.core.display.HTML object>"
            ]
          },
          "metadata": {},
          "output_type": "display_data"
        },
        {
          "data": {
            "text/plain": [
              "{'epoch': 15.0,\n",
              " 'eval_loss': 0.152143195271492,\n",
              " 'eval_runtime': 0.3141,\n",
              " 'eval_samples_per_second': 359.728,\n",
              " 'eval_steps_per_second': 47.751}"
            ]
          },
          "execution_count": 34,
          "metadata": {},
          "output_type": "execute_result"
        }
      ],
      "source": [
        "trainer.evaluate()"
      ]
    },
    {
      "cell_type": "code",
      "execution_count": 35,
      "metadata": {
        "colab": {
          "base_uri": "https://localhost:8080/",
          "height": 836,
          "referenced_widgets": [
            "dbc07835fa374012966540bd473997ad",
            "3147fdcb2c8549b0b57f7ccd56958de9",
            "fd9311a69ccb4cec9e568cc88d973550",
            "10b51e98bc6743ebb92fae29e7c78407",
            "4e060e4e19ea4fc089175ecd98d0dd63",
            "706a5318655d4331b1e4a264339fa763",
            "8629c76447b94433b4be7bc3f6969d48",
            "4dcfe1c4458447a9b58126c9f35e22ce"
          ]
        },
        "id": "1w5HOh6eBGlr",
        "outputId": "4b5e20ac-09eb-4178-ecac-3fd5c95386b3"
      },
      "outputs": [
        {
          "data": {
            "text/html": [
              "Waiting for W&B process to finish... <strong style=\"color:green\">(success).</strong>"
            ],
            "text/plain": [
              "<IPython.core.display.HTML object>"
            ]
          },
          "metadata": {},
          "output_type": "display_data"
        },
        {
          "data": {
            "application/vnd.jupyter.widget-view+json": {
              "model_id": "dbc07835fa374012966540bd473997ad",
              "version_major": 2,
              "version_minor": 0
            },
            "text/plain": [
              "VBox(children=(Label(value='0.001 MB of 0.001 MB uploaded (0.000 MB deduped)\\r'), FloatProgress(value=1.0, max…"
            ]
          },
          "metadata": {},
          "output_type": "display_data"
        },
        {
          "data": {
            "text/html": [
              "<style>\n",
              "    table.wandb td:nth-child(1) { padding: 0 10px; text-align: right }\n",
              "    .wandb-row { display: flex; flex-direction: row; flex-wrap: wrap; width: 100% }\n",
              "    .wandb-col { display: flex; flex-direction: column; flex-basis: 100%; flex: 1; padding: 10px; }\n",
              "    </style>\n",
              "<div class=\"wandb-row\"><div class=\"wandb-col\"><h3>Run history:</h3><br/><table class=\"wandb\"><tr><td>eval/loss</td><td>█▃▂▁▁▂▃▅▂▃▄▄▄▄▄▄</td></tr><tr><td>eval/runtime</td><td>▁▁▁▁▁▁▁▁▁▁▁▁▆▄█▄</td></tr><tr><td>eval/samples_per_second</td><td>█▇█████▇████▃▄▁▄</td></tr><tr><td>eval/steps_per_second</td><td>█▇█████▇████▃▄▁▄</td></tr><tr><td>train/epoch</td><td>▁▁▁▂▂▃▃▃▃▄▄▅▅▅▅▆▆▇▇▇▇████</td></tr><tr><td>train/global_step</td><td>▁▁▁▂▂▃▃▃▃▄▄▅▅▅▅▆▆▇▇▇▇████</td></tr><tr><td>train/learning_rate</td><td>█▇▆▅▄▃▂▁</td></tr><tr><td>train/loss</td><td>█▂▂▁▁▁▁▁</td></tr><tr><td>train/total_flos</td><td>▁</td></tr><tr><td>train/train_loss</td><td>▁</td></tr><tr><td>train/train_runtime</td><td>▁</td></tr><tr><td>train/train_samples_per_second</td><td>▁</td></tr><tr><td>train/train_steps_per_second</td><td>▁</td></tr></table><br/></div><div class=\"wandb-col\"><h3>Run summary:</h3><br/><table class=\"wandb\"><tr><td>eval/loss</td><td>0.15214</td></tr><tr><td>eval/runtime</td><td>0.3141</td></tr><tr><td>eval/samples_per_second</td><td>359.728</td></tr><tr><td>eval/steps_per_second</td><td>47.751</td></tr><tr><td>train/epoch</td><td>15.0</td></tr><tr><td>train/global_step</td><td>4020</td></tr><tr><td>train/learning_rate</td><td>0.0</td></tr><tr><td>train/loss</td><td>0.0034</td></tr><tr><td>train/total_flos</td><td>105133423572288.0</td></tr><tr><td>train/train_loss</td><td>0.07284</td></tr><tr><td>train/train_runtime</td><td>386.8501</td></tr><tr><td>train/train_samples_per_second</td><td>82.978</td></tr><tr><td>train/train_steps_per_second</td><td>10.392</td></tr></table><br/></div></div>"
            ],
            "text/plain": [
              "<IPython.core.display.HTML object>"
            ]
          },
          "metadata": {},
          "output_type": "display_data"
        },
        {
          "data": {
            "text/html": [
              "Synced <strong style=\"color:#cdcd00\">cerulean-music-4</strong>: <a href=\"https://wandb.ai/sriramja/NLP%20244%20-%20Slot%20tagging/runs/9o8ljrrc\" target=\"_blank\">https://wandb.ai/sriramja/NLP%20244%20-%20Slot%20tagging/runs/9o8ljrrc</a><br/>Synced 5 W&B file(s), 0 media file(s), 0 artifact file(s) and 0 other file(s)"
            ],
            "text/plain": [
              "<IPython.core.display.HTML object>"
            ]
          },
          "metadata": {},
          "output_type": "display_data"
        },
        {
          "data": {
            "text/html": [
              "Find logs at: <code>./wandb/run-20220423_202815-9o8ljrrc/logs</code>"
            ],
            "text/plain": [
              "<IPython.core.display.HTML object>"
            ]
          },
          "metadata": {},
          "output_type": "display_data"
        }
      ],
      "source": [
        "wandb.finish()"
      ]
    },
    {
      "cell_type": "markdown",
      "metadata": {
        "id": "QeR0PqVOeaUO"
      },
      "source": [
        "## Getting Predictions"
      ]
    },
    {
      "cell_type": "markdown",
      "metadata": {
        "id": "t43wqz6_gQ_a"
      },
      "source": [
        "### Approach 1 - To get predictions"
      ]
    },
    {
      "cell_type": "code",
      "execution_count": 36,
      "metadata": {
        "colab": {
          "base_uri": "https://localhost:8080/",
          "height": 423
        },
        "id": "P3aHbYgHBGhC",
        "outputId": "1e519e15-8a0c-41d2-e1a4-b8120c501db5"
      },
      "outputs": [
        {
          "data": {
            "text/html": [
              "\n",
              "  <div id=\"df-4d70b4ca-f65e-43b4-bb00-ff1ea91de3f1\">\n",
              "    <div class=\"colab-df-container\">\n",
              "      <div>\n",
              "<style scoped>\n",
              "    .dataframe tbody tr th:only-of-type {\n",
              "        vertical-align: middle;\n",
              "    }\n",
              "\n",
              "    .dataframe tbody tr th {\n",
              "        vertical-align: top;\n",
              "    }\n",
              "\n",
              "    .dataframe thead th {\n",
              "        text-align: right;\n",
              "    }\n",
              "</style>\n",
              "<table border=\"1\" class=\"dataframe\">\n",
              "  <thead>\n",
              "    <tr style=\"text-align: right;\">\n",
              "      <th></th>\n",
              "      <th>utterances</th>\n",
              "    </tr>\n",
              "  </thead>\n",
              "  <tbody>\n",
              "    <tr>\n",
              "      <th>0</th>\n",
              "      <td>star of thor</td>\n",
              "    </tr>\n",
              "    <tr>\n",
              "      <th>1</th>\n",
              "      <td>who is in the movie the campaign</td>\n",
              "    </tr>\n",
              "    <tr>\n",
              "      <th>2</th>\n",
              "      <td>list the cast of the movie the campaign</td>\n",
              "    </tr>\n",
              "    <tr>\n",
              "      <th>3</th>\n",
              "      <td>who was in twilight</td>\n",
              "    </tr>\n",
              "    <tr>\n",
              "      <th>4</th>\n",
              "      <td>who is in vulguria</td>\n",
              "    </tr>\n",
              "    <tr>\n",
              "      <th>...</th>\n",
              "      <td>...</td>\n",
              "    </tr>\n",
              "    <tr>\n",
              "      <th>976</th>\n",
              "      <td>trailer for star wars a new hope</td>\n",
              "    </tr>\n",
              "    <tr>\n",
              "      <th>977</th>\n",
              "      <td>show resident evil movies with trailers</td>\n",
              "    </tr>\n",
              "    <tr>\n",
              "      <th>978</th>\n",
              "      <td>can i see previews for upcoming warner brother...</td>\n",
              "    </tr>\n",
              "    <tr>\n",
              "      <th>979</th>\n",
              "      <td>how many woody allen movies are set in new yor...</td>\n",
              "    </tr>\n",
              "    <tr>\n",
              "      <th>980</th>\n",
              "      <td>how many scorsese films were filmed in france</td>\n",
              "    </tr>\n",
              "  </tbody>\n",
              "</table>\n",
              "<p>981 rows × 1 columns</p>\n",
              "</div>\n",
              "      <button class=\"colab-df-convert\" onclick=\"convertToInteractive('df-4d70b4ca-f65e-43b4-bb00-ff1ea91de3f1')\"\n",
              "              title=\"Convert this dataframe to an interactive table.\"\n",
              "              style=\"display:none;\">\n",
              "        \n",
              "  <svg xmlns=\"http://www.w3.org/2000/svg\" height=\"24px\"viewBox=\"0 0 24 24\"\n",
              "       width=\"24px\">\n",
              "    <path d=\"M0 0h24v24H0V0z\" fill=\"none\"/>\n",
              "    <path d=\"M18.56 5.44l.94 2.06.94-2.06 2.06-.94-2.06-.94-.94-2.06-.94 2.06-2.06.94zm-11 1L8.5 8.5l.94-2.06 2.06-.94-2.06-.94L8.5 2.5l-.94 2.06-2.06.94zm10 10l.94 2.06.94-2.06 2.06-.94-2.06-.94-.94-2.06-.94 2.06-2.06.94z\"/><path d=\"M17.41 7.96l-1.37-1.37c-.4-.4-.92-.59-1.43-.59-.52 0-1.04.2-1.43.59L10.3 9.45l-7.72 7.72c-.78.78-.78 2.05 0 2.83L4 21.41c.39.39.9.59 1.41.59.51 0 1.02-.2 1.41-.59l7.78-7.78 2.81-2.81c.8-.78.8-2.07 0-2.86zM5.41 20L4 18.59l7.72-7.72 1.47 1.35L5.41 20z\"/>\n",
              "  </svg>\n",
              "      </button>\n",
              "      \n",
              "  <style>\n",
              "    .colab-df-container {\n",
              "      display:flex;\n",
              "      flex-wrap:wrap;\n",
              "      gap: 12px;\n",
              "    }\n",
              "\n",
              "    .colab-df-convert {\n",
              "      background-color: #E8F0FE;\n",
              "      border: none;\n",
              "      border-radius: 50%;\n",
              "      cursor: pointer;\n",
              "      display: none;\n",
              "      fill: #1967D2;\n",
              "      height: 32px;\n",
              "      padding: 0 0 0 0;\n",
              "      width: 32px;\n",
              "    }\n",
              "\n",
              "    .colab-df-convert:hover {\n",
              "      background-color: #E2EBFA;\n",
              "      box-shadow: 0px 1px 2px rgba(60, 64, 67, 0.3), 0px 1px 3px 1px rgba(60, 64, 67, 0.15);\n",
              "      fill: #174EA6;\n",
              "    }\n",
              "\n",
              "    [theme=dark] .colab-df-convert {\n",
              "      background-color: #3B4455;\n",
              "      fill: #D2E3FC;\n",
              "    }\n",
              "\n",
              "    [theme=dark] .colab-df-convert:hover {\n",
              "      background-color: #434B5C;\n",
              "      box-shadow: 0px 1px 3px 1px rgba(0, 0, 0, 0.15);\n",
              "      filter: drop-shadow(0px 1px 2px rgba(0, 0, 0, 0.3));\n",
              "      fill: #FFFFFF;\n",
              "    }\n",
              "  </style>\n",
              "\n",
              "      <script>\n",
              "        const buttonEl =\n",
              "          document.querySelector('#df-4d70b4ca-f65e-43b4-bb00-ff1ea91de3f1 button.colab-df-convert');\n",
              "        buttonEl.style.display =\n",
              "          google.colab.kernel.accessAllowed ? 'block' : 'none';\n",
              "\n",
              "        async function convertToInteractive(key) {\n",
              "          const element = document.querySelector('#df-4d70b4ca-f65e-43b4-bb00-ff1ea91de3f1');\n",
              "          const dataTable =\n",
              "            await google.colab.kernel.invokeFunction('convertToInteractive',\n",
              "                                                     [key], {});\n",
              "          if (!dataTable) return;\n",
              "\n",
              "          const docLinkHtml = 'Like what you see? Visit the ' +\n",
              "            '<a target=\"_blank\" href=https://colab.research.google.com/notebooks/data_table.ipynb>data table notebook</a>'\n",
              "            + ' to learn more about interactive tables.';\n",
              "          element.innerHTML = '';\n",
              "          dataTable['output_type'] = 'display_data';\n",
              "          await google.colab.output.renderOutput(dataTable, element);\n",
              "          const docLink = document.createElement('div');\n",
              "          docLink.innerHTML = docLinkHtml;\n",
              "          element.appendChild(docLink);\n",
              "        }\n",
              "      </script>\n",
              "    </div>\n",
              "  </div>\n",
              "  "
            ],
            "text/plain": [
              "                                            utterances\n",
              "0                                         star of thor\n",
              "1                     who is in the movie the campaign\n",
              "2              list the cast of the movie the campaign\n",
              "3                                  who was in twilight\n",
              "4                                   who is in vulguria\n",
              "..                                                 ...\n",
              "976                   trailer for star wars a new hope\n",
              "977            show resident evil movies with trailers\n",
              "978  can i see previews for upcoming warner brother...\n",
              "979  how many woody allen movies are set in new yor...\n",
              "980      how many scorsese films were filmed in france\n",
              "\n",
              "[981 rows x 1 columns]"
            ]
          },
          "execution_count": 36,
          "metadata": {},
          "output_type": "execute_result"
        }
      ],
      "source": [
        "df_test = pd.read_excel('/content/test.xlsx')\n",
        "df_test[:5]"
      ]
    },
    {
      "cell_type": "code",
      "execution_count": 37,
      "metadata": {
        "colab": {
          "base_uri": "https://localhost:8080/",
          "height": 423
        },
        "id": "QThqkZhhB6JZ",
        "outputId": "97f6f30d-bbdc-4fde-8e3d-ec9bdb4889dd"
      },
      "outputs": [
        {
          "data": {
            "text/html": [
              "\n",
              "  <div id=\"df-83e47f50-bb58-4643-9db0-912d8db6b590\">\n",
              "    <div class=\"colab-df-container\">\n",
              "      <div>\n",
              "<style scoped>\n",
              "    .dataframe tbody tr th:only-of-type {\n",
              "        vertical-align: middle;\n",
              "    }\n",
              "\n",
              "    .dataframe tbody tr th {\n",
              "        vertical-align: top;\n",
              "    }\n",
              "\n",
              "    .dataframe thead th {\n",
              "        text-align: right;\n",
              "    }\n",
              "</style>\n",
              "<table border=\"1\" class=\"dataframe\">\n",
              "  <thead>\n",
              "    <tr style=\"text-align: right;\">\n",
              "      <th></th>\n",
              "      <th>utterances</th>\n",
              "      <th>input_ids</th>\n",
              "    </tr>\n",
              "  </thead>\n",
              "  <tbody>\n",
              "    <tr>\n",
              "      <th>0</th>\n",
              "      <td>star of thor</td>\n",
              "      <td>[101, 2732, 1997, 15321, 102]</td>\n",
              "    </tr>\n",
              "    <tr>\n",
              "      <th>1</th>\n",
              "      <td>who is in the movie the campaign</td>\n",
              "      <td>[101, 2040, 2003, 1999, 1996, 3185, 1996, 3049...</td>\n",
              "    </tr>\n",
              "    <tr>\n",
              "      <th>2</th>\n",
              "      <td>list the cast of the movie the campaign</td>\n",
              "      <td>[101, 2862, 1996, 3459, 1997, 1996, 3185, 1996...</td>\n",
              "    </tr>\n",
              "    <tr>\n",
              "      <th>3</th>\n",
              "      <td>who was in twilight</td>\n",
              "      <td>[101, 2040, 2001, 1999, 13132, 102]</td>\n",
              "    </tr>\n",
              "    <tr>\n",
              "      <th>4</th>\n",
              "      <td>who is in vulguria</td>\n",
              "      <td>[101, 2040, 2003, 1999, 24728, 2140, 27390, 24...</td>\n",
              "    </tr>\n",
              "    <tr>\n",
              "      <th>...</th>\n",
              "      <td>...</td>\n",
              "      <td>...</td>\n",
              "    </tr>\n",
              "    <tr>\n",
              "      <th>976</th>\n",
              "      <td>trailer for star wars a new hope</td>\n",
              "      <td>[101, 9117, 2005, 2732, 5233, 1037, 2047, 3246...</td>\n",
              "    </tr>\n",
              "    <tr>\n",
              "      <th>977</th>\n",
              "      <td>show resident evil movies with trailers</td>\n",
              "      <td>[101, 2265, 6319, 4763, 5691, 2007, 21389, 102]</td>\n",
              "    </tr>\n",
              "    <tr>\n",
              "      <th>978</th>\n",
              "      <td>can i see previews for upcoming warner brother...</td>\n",
              "      <td>[101, 2064, 1045, 2156, 19236, 2015, 2005, 904...</td>\n",
              "    </tr>\n",
              "    <tr>\n",
              "      <th>979</th>\n",
              "      <td>how many woody allen movies are set in new yor...</td>\n",
              "      <td>[101, 2129, 2116, 13703, 5297, 5691, 2024, 227...</td>\n",
              "    </tr>\n",
              "    <tr>\n",
              "      <th>980</th>\n",
              "      <td>how many scorsese films were filmed in france</td>\n",
              "      <td>[101, 2129, 2116, 8040, 5668, 6810, 3152, 2020...</td>\n",
              "    </tr>\n",
              "  </tbody>\n",
              "</table>\n",
              "<p>981 rows × 2 columns</p>\n",
              "</div>\n",
              "      <button class=\"colab-df-convert\" onclick=\"convertToInteractive('df-83e47f50-bb58-4643-9db0-912d8db6b590')\"\n",
              "              title=\"Convert this dataframe to an interactive table.\"\n",
              "              style=\"display:none;\">\n",
              "        \n",
              "  <svg xmlns=\"http://www.w3.org/2000/svg\" height=\"24px\"viewBox=\"0 0 24 24\"\n",
              "       width=\"24px\">\n",
              "    <path d=\"M0 0h24v24H0V0z\" fill=\"none\"/>\n",
              "    <path d=\"M18.56 5.44l.94 2.06.94-2.06 2.06-.94-2.06-.94-.94-2.06-.94 2.06-2.06.94zm-11 1L8.5 8.5l.94-2.06 2.06-.94-2.06-.94L8.5 2.5l-.94 2.06-2.06.94zm10 10l.94 2.06.94-2.06 2.06-.94-2.06-.94-.94-2.06-.94 2.06-2.06.94z\"/><path d=\"M17.41 7.96l-1.37-1.37c-.4-.4-.92-.59-1.43-.59-.52 0-1.04.2-1.43.59L10.3 9.45l-7.72 7.72c-.78.78-.78 2.05 0 2.83L4 21.41c.39.39.9.59 1.41.59.51 0 1.02-.2 1.41-.59l7.78-7.78 2.81-2.81c.8-.78.8-2.07 0-2.86zM5.41 20L4 18.59l7.72-7.72 1.47 1.35L5.41 20z\"/>\n",
              "  </svg>\n",
              "      </button>\n",
              "      \n",
              "  <style>\n",
              "    .colab-df-container {\n",
              "      display:flex;\n",
              "      flex-wrap:wrap;\n",
              "      gap: 12px;\n",
              "    }\n",
              "\n",
              "    .colab-df-convert {\n",
              "      background-color: #E8F0FE;\n",
              "      border: none;\n",
              "      border-radius: 50%;\n",
              "      cursor: pointer;\n",
              "      display: none;\n",
              "      fill: #1967D2;\n",
              "      height: 32px;\n",
              "      padding: 0 0 0 0;\n",
              "      width: 32px;\n",
              "    }\n",
              "\n",
              "    .colab-df-convert:hover {\n",
              "      background-color: #E2EBFA;\n",
              "      box-shadow: 0px 1px 2px rgba(60, 64, 67, 0.3), 0px 1px 3px 1px rgba(60, 64, 67, 0.15);\n",
              "      fill: #174EA6;\n",
              "    }\n",
              "\n",
              "    [theme=dark] .colab-df-convert {\n",
              "      background-color: #3B4455;\n",
              "      fill: #D2E3FC;\n",
              "    }\n",
              "\n",
              "    [theme=dark] .colab-df-convert:hover {\n",
              "      background-color: #434B5C;\n",
              "      box-shadow: 0px 1px 3px 1px rgba(0, 0, 0, 0.15);\n",
              "      filter: drop-shadow(0px 1px 2px rgba(0, 0, 0, 0.3));\n",
              "      fill: #FFFFFF;\n",
              "    }\n",
              "  </style>\n",
              "\n",
              "      <script>\n",
              "        const buttonEl =\n",
              "          document.querySelector('#df-83e47f50-bb58-4643-9db0-912d8db6b590 button.colab-df-convert');\n",
              "        buttonEl.style.display =\n",
              "          google.colab.kernel.accessAllowed ? 'block' : 'none';\n",
              "\n",
              "        async function convertToInteractive(key) {\n",
              "          const element = document.querySelector('#df-83e47f50-bb58-4643-9db0-912d8db6b590');\n",
              "          const dataTable =\n",
              "            await google.colab.kernel.invokeFunction('convertToInteractive',\n",
              "                                                     [key], {});\n",
              "          if (!dataTable) return;\n",
              "\n",
              "          const docLinkHtml = 'Like what you see? Visit the ' +\n",
              "            '<a target=\"_blank\" href=https://colab.research.google.com/notebooks/data_table.ipynb>data table notebook</a>'\n",
              "            + ' to learn more about interactive tables.';\n",
              "          element.innerHTML = '';\n",
              "          dataTable['output_type'] = 'display_data';\n",
              "          await google.colab.output.renderOutput(dataTable, element);\n",
              "          const docLink = document.createElement('div');\n",
              "          docLink.innerHTML = docLinkHtml;\n",
              "          element.appendChild(docLink);\n",
              "        }\n",
              "      </script>\n",
              "    </div>\n",
              "  </div>\n",
              "  "
            ],
            "text/plain": [
              "                                            utterances  \\\n",
              "0                                         star of thor   \n",
              "1                     who is in the movie the campaign   \n",
              "2              list the cast of the movie the campaign   \n",
              "3                                  who was in twilight   \n",
              "4                                   who is in vulguria   \n",
              "..                                                 ...   \n",
              "976                   trailer for star wars a new hope   \n",
              "977            show resident evil movies with trailers   \n",
              "978  can i see previews for upcoming warner brother...   \n",
              "979  how many woody allen movies are set in new yor...   \n",
              "980      how many scorsese films were filmed in france   \n",
              "\n",
              "                                             input_ids  \n",
              "0                        [101, 2732, 1997, 15321, 102]  \n",
              "1    [101, 2040, 2003, 1999, 1996, 3185, 1996, 3049...  \n",
              "2    [101, 2862, 1996, 3459, 1997, 1996, 3185, 1996...  \n",
              "3                  [101, 2040, 2001, 1999, 13132, 102]  \n",
              "4    [101, 2040, 2003, 1999, 24728, 2140, 27390, 24...  \n",
              "..                                                 ...  \n",
              "976  [101, 9117, 2005, 2732, 5233, 1037, 2047, 3246...  \n",
              "977    [101, 2265, 6319, 4763, 5691, 2007, 21389, 102]  \n",
              "978  [101, 2064, 1045, 2156, 19236, 2015, 2005, 904...  \n",
              "979  [101, 2129, 2116, 13703, 5297, 5691, 2024, 227...  \n",
              "980  [101, 2129, 2116, 8040, 5668, 6810, 3152, 2020...  \n",
              "\n",
              "[981 rows x 2 columns]"
            ]
          },
          "execution_count": 37,
          "metadata": {},
          "output_type": "execute_result"
        }
      ],
      "source": [
        "df_test['input_ids'] = df_test['utterances'].map(lambda x: tokenizer(x, truncation=True, is_split_into_words=False)['input_ids'])\n",
        "df_test[:2]"
      ]
    },
    {
      "cell_type": "code",
      "execution_count": 38,
      "metadata": {
        "colab": {
          "base_uri": "https://localhost:8080/",
          "height": 423
        },
        "id": "BbDAMd1WFRMt",
        "outputId": "6bc1e421-93a6-4200-8158-612da53d663b"
      },
      "outputs": [
        {
          "data": {
            "text/html": [
              "\n",
              "  <div id=\"df-dcc99909-869c-4bb2-96d1-fca82b88b37c\">\n",
              "    <div class=\"colab-df-container\">\n",
              "      <div>\n",
              "<style scoped>\n",
              "    .dataframe tbody tr th:only-of-type {\n",
              "        vertical-align: middle;\n",
              "    }\n",
              "\n",
              "    .dataframe tbody tr th {\n",
              "        vertical-align: top;\n",
              "    }\n",
              "\n",
              "    .dataframe thead th {\n",
              "        text-align: right;\n",
              "    }\n",
              "</style>\n",
              "<table border=\"1\" class=\"dataframe\">\n",
              "  <thead>\n",
              "    <tr style=\"text-align: right;\">\n",
              "      <th></th>\n",
              "      <th>utterances</th>\n",
              "      <th>input_ids</th>\n",
              "    </tr>\n",
              "  </thead>\n",
              "  <tbody>\n",
              "    <tr>\n",
              "      <th>0</th>\n",
              "      <td>[star, of, thor]</td>\n",
              "      <td>[101, 2732, 1997, 15321, 102]</td>\n",
              "    </tr>\n",
              "    <tr>\n",
              "      <th>1</th>\n",
              "      <td>[who, is, in, the, movie, the, campaign]</td>\n",
              "      <td>[101, 2040, 2003, 1999, 1996, 3185, 1996, 3049...</td>\n",
              "    </tr>\n",
              "    <tr>\n",
              "      <th>2</th>\n",
              "      <td>[list, the, cast, of, the, movie, the, campaign]</td>\n",
              "      <td>[101, 2862, 1996, 3459, 1997, 1996, 3185, 1996...</td>\n",
              "    </tr>\n",
              "    <tr>\n",
              "      <th>3</th>\n",
              "      <td>[who, was, in, twilight]</td>\n",
              "      <td>[101, 2040, 2001, 1999, 13132, 102]</td>\n",
              "    </tr>\n",
              "    <tr>\n",
              "      <th>4</th>\n",
              "      <td>[who, is, in, vulguria]</td>\n",
              "      <td>[101, 2040, 2003, 1999, 24728, 2140, 27390, 24...</td>\n",
              "    </tr>\n",
              "    <tr>\n",
              "      <th>...</th>\n",
              "      <td>...</td>\n",
              "      <td>...</td>\n",
              "    </tr>\n",
              "    <tr>\n",
              "      <th>976</th>\n",
              "      <td>[trailer, for, star, wars, a, new, hope]</td>\n",
              "      <td>[101, 9117, 2005, 2732, 5233, 1037, 2047, 3246...</td>\n",
              "    </tr>\n",
              "    <tr>\n",
              "      <th>977</th>\n",
              "      <td>[show, resident, evil, movies, with, trailers]</td>\n",
              "      <td>[101, 2265, 6319, 4763, 5691, 2007, 21389, 102]</td>\n",
              "    </tr>\n",
              "    <tr>\n",
              "      <th>978</th>\n",
              "      <td>[can, i, see, previews, for, upcoming, warner,...</td>\n",
              "      <td>[101, 2064, 1045, 2156, 19236, 2015, 2005, 904...</td>\n",
              "    </tr>\n",
              "    <tr>\n",
              "      <th>979</th>\n",
              "      <td>[how, many, woody, allen, movies, are, set, in...</td>\n",
              "      <td>[101, 2129, 2116, 13703, 5297, 5691, 2024, 227...</td>\n",
              "    </tr>\n",
              "    <tr>\n",
              "      <th>980</th>\n",
              "      <td>[how, many, scorsese, films, were, filmed, in,...</td>\n",
              "      <td>[101, 2129, 2116, 8040, 5668, 6810, 3152, 2020...</td>\n",
              "    </tr>\n",
              "  </tbody>\n",
              "</table>\n",
              "<p>981 rows × 2 columns</p>\n",
              "</div>\n",
              "      <button class=\"colab-df-convert\" onclick=\"convertToInteractive('df-dcc99909-869c-4bb2-96d1-fca82b88b37c')\"\n",
              "              title=\"Convert this dataframe to an interactive table.\"\n",
              "              style=\"display:none;\">\n",
              "        \n",
              "  <svg xmlns=\"http://www.w3.org/2000/svg\" height=\"24px\"viewBox=\"0 0 24 24\"\n",
              "       width=\"24px\">\n",
              "    <path d=\"M0 0h24v24H0V0z\" fill=\"none\"/>\n",
              "    <path d=\"M18.56 5.44l.94 2.06.94-2.06 2.06-.94-2.06-.94-.94-2.06-.94 2.06-2.06.94zm-11 1L8.5 8.5l.94-2.06 2.06-.94-2.06-.94L8.5 2.5l-.94 2.06-2.06.94zm10 10l.94 2.06.94-2.06 2.06-.94-2.06-.94-.94-2.06-.94 2.06-2.06.94z\"/><path d=\"M17.41 7.96l-1.37-1.37c-.4-.4-.92-.59-1.43-.59-.52 0-1.04.2-1.43.59L10.3 9.45l-7.72 7.72c-.78.78-.78 2.05 0 2.83L4 21.41c.39.39.9.59 1.41.59.51 0 1.02-.2 1.41-.59l7.78-7.78 2.81-2.81c.8-.78.8-2.07 0-2.86zM5.41 20L4 18.59l7.72-7.72 1.47 1.35L5.41 20z\"/>\n",
              "  </svg>\n",
              "      </button>\n",
              "      \n",
              "  <style>\n",
              "    .colab-df-container {\n",
              "      display:flex;\n",
              "      flex-wrap:wrap;\n",
              "      gap: 12px;\n",
              "    }\n",
              "\n",
              "    .colab-df-convert {\n",
              "      background-color: #E8F0FE;\n",
              "      border: none;\n",
              "      border-radius: 50%;\n",
              "      cursor: pointer;\n",
              "      display: none;\n",
              "      fill: #1967D2;\n",
              "      height: 32px;\n",
              "      padding: 0 0 0 0;\n",
              "      width: 32px;\n",
              "    }\n",
              "\n",
              "    .colab-df-convert:hover {\n",
              "      background-color: #E2EBFA;\n",
              "      box-shadow: 0px 1px 2px rgba(60, 64, 67, 0.3), 0px 1px 3px 1px rgba(60, 64, 67, 0.15);\n",
              "      fill: #174EA6;\n",
              "    }\n",
              "\n",
              "    [theme=dark] .colab-df-convert {\n",
              "      background-color: #3B4455;\n",
              "      fill: #D2E3FC;\n",
              "    }\n",
              "\n",
              "    [theme=dark] .colab-df-convert:hover {\n",
              "      background-color: #434B5C;\n",
              "      box-shadow: 0px 1px 3px 1px rgba(0, 0, 0, 0.15);\n",
              "      filter: drop-shadow(0px 1px 2px rgba(0, 0, 0, 0.3));\n",
              "      fill: #FFFFFF;\n",
              "    }\n",
              "  </style>\n",
              "\n",
              "      <script>\n",
              "        const buttonEl =\n",
              "          document.querySelector('#df-dcc99909-869c-4bb2-96d1-fca82b88b37c button.colab-df-convert');\n",
              "        buttonEl.style.display =\n",
              "          google.colab.kernel.accessAllowed ? 'block' : 'none';\n",
              "\n",
              "        async function convertToInteractive(key) {\n",
              "          const element = document.querySelector('#df-dcc99909-869c-4bb2-96d1-fca82b88b37c');\n",
              "          const dataTable =\n",
              "            await google.colab.kernel.invokeFunction('convertToInteractive',\n",
              "                                                     [key], {});\n",
              "          if (!dataTable) return;\n",
              "\n",
              "          const docLinkHtml = 'Like what you see? Visit the ' +\n",
              "            '<a target=\"_blank\" href=https://colab.research.google.com/notebooks/data_table.ipynb>data table notebook</a>'\n",
              "            + ' to learn more about interactive tables.';\n",
              "          element.innerHTML = '';\n",
              "          dataTable['output_type'] = 'display_data';\n",
              "          await google.colab.output.renderOutput(dataTable, element);\n",
              "          const docLink = document.createElement('div');\n",
              "          docLink.innerHTML = docLinkHtml;\n",
              "          element.appendChild(docLink);\n",
              "        }\n",
              "      </script>\n",
              "    </div>\n",
              "  </div>\n",
              "  "
            ],
            "text/plain": [
              "                                            utterances  \\\n",
              "0                                     [star, of, thor]   \n",
              "1             [who, is, in, the, movie, the, campaign]   \n",
              "2     [list, the, cast, of, the, movie, the, campaign]   \n",
              "3                             [who, was, in, twilight]   \n",
              "4                              [who, is, in, vulguria]   \n",
              "..                                                 ...   \n",
              "976           [trailer, for, star, wars, a, new, hope]   \n",
              "977     [show, resident, evil, movies, with, trailers]   \n",
              "978  [can, i, see, previews, for, upcoming, warner,...   \n",
              "979  [how, many, woody, allen, movies, are, set, in...   \n",
              "980  [how, many, scorsese, films, were, filmed, in,...   \n",
              "\n",
              "                                             input_ids  \n",
              "0                        [101, 2732, 1997, 15321, 102]  \n",
              "1    [101, 2040, 2003, 1999, 1996, 3185, 1996, 3049...  \n",
              "2    [101, 2862, 1996, 3459, 1997, 1996, 3185, 1996...  \n",
              "3                  [101, 2040, 2001, 1999, 13132, 102]  \n",
              "4    [101, 2040, 2003, 1999, 24728, 2140, 27390, 24...  \n",
              "..                                                 ...  \n",
              "976  [101, 9117, 2005, 2732, 5233, 1037, 2047, 3246...  \n",
              "977    [101, 2265, 6319, 4763, 5691, 2007, 21389, 102]  \n",
              "978  [101, 2064, 1045, 2156, 19236, 2015, 2005, 904...  \n",
              "979  [101, 2129, 2116, 13703, 5297, 5691, 2024, 227...  \n",
              "980  [101, 2129, 2116, 8040, 5668, 6810, 3152, 2020...  \n",
              "\n",
              "[981 rows x 2 columns]"
            ]
          },
          "execution_count": 38,
          "metadata": {},
          "output_type": "execute_result"
        }
      ],
      "source": [
        "df_test['utterances'] = df_test['utterances'].map(lambda x: x.split())\n",
        "df_test[:2]"
      ]
    },
    {
      "cell_type": "code",
      "execution_count": 39,
      "metadata": {
        "id": "pUFYYh0OEQfz"
      },
      "outputs": [],
      "source": [
        "attention_mask = []\n",
        "\n",
        "for z in range(len(df_test['utterances'])):\n",
        "  attention_mask.append( [1]*len(df_test['input_ids'][z] ))\n",
        "\n",
        "df_test['attention_mask'] = attention_mask"
      ]
    },
    {
      "cell_type": "code",
      "execution_count": 40,
      "metadata": {
        "colab": {
          "base_uri": "https://localhost:8080/",
          "height": 606
        },
        "id": "3cD8WCdGPSM6",
        "outputId": "4329a232-6fa0-4a0e-bff3-ef5a443d3e4a"
      },
      "outputs": [
        {
          "data": {
            "text/html": [
              "\n",
              "  <div id=\"df-6f1f6965-0100-4f28-ac70-4dcb1d219103\">\n",
              "    <div class=\"colab-df-container\">\n",
              "      <div>\n",
              "<style scoped>\n",
              "    .dataframe tbody tr th:only-of-type {\n",
              "        vertical-align: middle;\n",
              "    }\n",
              "\n",
              "    .dataframe tbody tr th {\n",
              "        vertical-align: top;\n",
              "    }\n",
              "\n",
              "    .dataframe thead th {\n",
              "        text-align: right;\n",
              "    }\n",
              "</style>\n",
              "<table border=\"1\" class=\"dataframe\">\n",
              "  <thead>\n",
              "    <tr style=\"text-align: right;\">\n",
              "      <th></th>\n",
              "      <th>utterances</th>\n",
              "      <th>input_ids</th>\n",
              "      <th>attention_mask</th>\n",
              "    </tr>\n",
              "  </thead>\n",
              "  <tbody>\n",
              "    <tr>\n",
              "      <th>0</th>\n",
              "      <td>[star, of, thor]</td>\n",
              "      <td>[101, 2732, 1997, 15321, 102]</td>\n",
              "      <td>[1, 1, 1, 1, 1]</td>\n",
              "    </tr>\n",
              "    <tr>\n",
              "      <th>1</th>\n",
              "      <td>[who, is, in, the, movie, the, campaign]</td>\n",
              "      <td>[101, 2040, 2003, 1999, 1996, 3185, 1996, 3049...</td>\n",
              "      <td>[1, 1, 1, 1, 1, 1, 1, 1, 1]</td>\n",
              "    </tr>\n",
              "    <tr>\n",
              "      <th>2</th>\n",
              "      <td>[list, the, cast, of, the, movie, the, campaign]</td>\n",
              "      <td>[101, 2862, 1996, 3459, 1997, 1996, 3185, 1996...</td>\n",
              "      <td>[1, 1, 1, 1, 1, 1, 1, 1, 1, 1]</td>\n",
              "    </tr>\n",
              "    <tr>\n",
              "      <th>3</th>\n",
              "      <td>[who, was, in, twilight]</td>\n",
              "      <td>[101, 2040, 2001, 1999, 13132, 102]</td>\n",
              "      <td>[1, 1, 1, 1, 1, 1]</td>\n",
              "    </tr>\n",
              "    <tr>\n",
              "      <th>4</th>\n",
              "      <td>[who, is, in, vulguria]</td>\n",
              "      <td>[101, 2040, 2003, 1999, 24728, 2140, 27390, 24...</td>\n",
              "      <td>[1, 1, 1, 1, 1, 1, 1, 1, 1]</td>\n",
              "    </tr>\n",
              "    <tr>\n",
              "      <th>...</th>\n",
              "      <td>...</td>\n",
              "      <td>...</td>\n",
              "      <td>...</td>\n",
              "    </tr>\n",
              "    <tr>\n",
              "      <th>976</th>\n",
              "      <td>[trailer, for, star, wars, a, new, hope]</td>\n",
              "      <td>[101, 9117, 2005, 2732, 5233, 1037, 2047, 3246...</td>\n",
              "      <td>[1, 1, 1, 1, 1, 1, 1, 1, 1]</td>\n",
              "    </tr>\n",
              "    <tr>\n",
              "      <th>977</th>\n",
              "      <td>[show, resident, evil, movies, with, trailers]</td>\n",
              "      <td>[101, 2265, 6319, 4763, 5691, 2007, 21389, 102]</td>\n",
              "      <td>[1, 1, 1, 1, 1, 1, 1, 1]</td>\n",
              "    </tr>\n",
              "    <tr>\n",
              "      <th>978</th>\n",
              "      <td>[can, i, see, previews, for, upcoming, warner,...</td>\n",
              "      <td>[101, 2064, 1045, 2156, 19236, 2015, 2005, 904...</td>\n",
              "      <td>[1, 1, 1, 1, 1, 1, 1, 1, 1, 1, 1, 1]</td>\n",
              "    </tr>\n",
              "    <tr>\n",
              "      <th>979</th>\n",
              "      <td>[how, many, woody, allen, movies, are, set, in...</td>\n",
              "      <td>[101, 2129, 2116, 13703, 5297, 5691, 2024, 227...</td>\n",
              "      <td>[1, 1, 1, 1, 1, 1, 1, 1, 1, 1, 1, 1, 1]</td>\n",
              "    </tr>\n",
              "    <tr>\n",
              "      <th>980</th>\n",
              "      <td>[how, many, scorsese, films, were, filmed, in,...</td>\n",
              "      <td>[101, 2129, 2116, 8040, 5668, 6810, 3152, 2020...</td>\n",
              "      <td>[1, 1, 1, 1, 1, 1, 1, 1, 1, 1, 1, 1]</td>\n",
              "    </tr>\n",
              "  </tbody>\n",
              "</table>\n",
              "<p>981 rows × 3 columns</p>\n",
              "</div>\n",
              "      <button class=\"colab-df-convert\" onclick=\"convertToInteractive('df-6f1f6965-0100-4f28-ac70-4dcb1d219103')\"\n",
              "              title=\"Convert this dataframe to an interactive table.\"\n",
              "              style=\"display:none;\">\n",
              "        \n",
              "  <svg xmlns=\"http://www.w3.org/2000/svg\" height=\"24px\"viewBox=\"0 0 24 24\"\n",
              "       width=\"24px\">\n",
              "    <path d=\"M0 0h24v24H0V0z\" fill=\"none\"/>\n",
              "    <path d=\"M18.56 5.44l.94 2.06.94-2.06 2.06-.94-2.06-.94-.94-2.06-.94 2.06-2.06.94zm-11 1L8.5 8.5l.94-2.06 2.06-.94-2.06-.94L8.5 2.5l-.94 2.06-2.06.94zm10 10l.94 2.06.94-2.06 2.06-.94-2.06-.94-.94-2.06-.94 2.06-2.06.94z\"/><path d=\"M17.41 7.96l-1.37-1.37c-.4-.4-.92-.59-1.43-.59-.52 0-1.04.2-1.43.59L10.3 9.45l-7.72 7.72c-.78.78-.78 2.05 0 2.83L4 21.41c.39.39.9.59 1.41.59.51 0 1.02-.2 1.41-.59l7.78-7.78 2.81-2.81c.8-.78.8-2.07 0-2.86zM5.41 20L4 18.59l7.72-7.72 1.47 1.35L5.41 20z\"/>\n",
              "  </svg>\n",
              "      </button>\n",
              "      \n",
              "  <style>\n",
              "    .colab-df-container {\n",
              "      display:flex;\n",
              "      flex-wrap:wrap;\n",
              "      gap: 12px;\n",
              "    }\n",
              "\n",
              "    .colab-df-convert {\n",
              "      background-color: #E8F0FE;\n",
              "      border: none;\n",
              "      border-radius: 50%;\n",
              "      cursor: pointer;\n",
              "      display: none;\n",
              "      fill: #1967D2;\n",
              "      height: 32px;\n",
              "      padding: 0 0 0 0;\n",
              "      width: 32px;\n",
              "    }\n",
              "\n",
              "    .colab-df-convert:hover {\n",
              "      background-color: #E2EBFA;\n",
              "      box-shadow: 0px 1px 2px rgba(60, 64, 67, 0.3), 0px 1px 3px 1px rgba(60, 64, 67, 0.15);\n",
              "      fill: #174EA6;\n",
              "    }\n",
              "\n",
              "    [theme=dark] .colab-df-convert {\n",
              "      background-color: #3B4455;\n",
              "      fill: #D2E3FC;\n",
              "    }\n",
              "\n",
              "    [theme=dark] .colab-df-convert:hover {\n",
              "      background-color: #434B5C;\n",
              "      box-shadow: 0px 1px 3px 1px rgba(0, 0, 0, 0.15);\n",
              "      filter: drop-shadow(0px 1px 2px rgba(0, 0, 0, 0.3));\n",
              "      fill: #FFFFFF;\n",
              "    }\n",
              "  </style>\n",
              "\n",
              "      <script>\n",
              "        const buttonEl =\n",
              "          document.querySelector('#df-6f1f6965-0100-4f28-ac70-4dcb1d219103 button.colab-df-convert');\n",
              "        buttonEl.style.display =\n",
              "          google.colab.kernel.accessAllowed ? 'block' : 'none';\n",
              "\n",
              "        async function convertToInteractive(key) {\n",
              "          const element = document.querySelector('#df-6f1f6965-0100-4f28-ac70-4dcb1d219103');\n",
              "          const dataTable =\n",
              "            await google.colab.kernel.invokeFunction('convertToInteractive',\n",
              "                                                     [key], {});\n",
              "          if (!dataTable) return;\n",
              "\n",
              "          const docLinkHtml = 'Like what you see? Visit the ' +\n",
              "            '<a target=\"_blank\" href=https://colab.research.google.com/notebooks/data_table.ipynb>data table notebook</a>'\n",
              "            + ' to learn more about interactive tables.';\n",
              "          element.innerHTML = '';\n",
              "          dataTable['output_type'] = 'display_data';\n",
              "          await google.colab.output.renderOutput(dataTable, element);\n",
              "          const docLink = document.createElement('div');\n",
              "          docLink.innerHTML = docLinkHtml;\n",
              "          element.appendChild(docLink);\n",
              "        }\n",
              "      </script>\n",
              "    </div>\n",
              "  </div>\n",
              "  "
            ],
            "text/plain": [
              "                                            utterances  \\\n",
              "0                                     [star, of, thor]   \n",
              "1             [who, is, in, the, movie, the, campaign]   \n",
              "2     [list, the, cast, of, the, movie, the, campaign]   \n",
              "3                             [who, was, in, twilight]   \n",
              "4                              [who, is, in, vulguria]   \n",
              "..                                                 ...   \n",
              "976           [trailer, for, star, wars, a, new, hope]   \n",
              "977     [show, resident, evil, movies, with, trailers]   \n",
              "978  [can, i, see, previews, for, upcoming, warner,...   \n",
              "979  [how, many, woody, allen, movies, are, set, in...   \n",
              "980  [how, many, scorsese, films, were, filmed, in,...   \n",
              "\n",
              "                                             input_ids  \\\n",
              "0                        [101, 2732, 1997, 15321, 102]   \n",
              "1    [101, 2040, 2003, 1999, 1996, 3185, 1996, 3049...   \n",
              "2    [101, 2862, 1996, 3459, 1997, 1996, 3185, 1996...   \n",
              "3                  [101, 2040, 2001, 1999, 13132, 102]   \n",
              "4    [101, 2040, 2003, 1999, 24728, 2140, 27390, 24...   \n",
              "..                                                 ...   \n",
              "976  [101, 9117, 2005, 2732, 5233, 1037, 2047, 3246...   \n",
              "977    [101, 2265, 6319, 4763, 5691, 2007, 21389, 102]   \n",
              "978  [101, 2064, 1045, 2156, 19236, 2015, 2005, 904...   \n",
              "979  [101, 2129, 2116, 13703, 5297, 5691, 2024, 227...   \n",
              "980  [101, 2129, 2116, 8040, 5668, 6810, 3152, 2020...   \n",
              "\n",
              "                              attention_mask  \n",
              "0                            [1, 1, 1, 1, 1]  \n",
              "1                [1, 1, 1, 1, 1, 1, 1, 1, 1]  \n",
              "2             [1, 1, 1, 1, 1, 1, 1, 1, 1, 1]  \n",
              "3                         [1, 1, 1, 1, 1, 1]  \n",
              "4                [1, 1, 1, 1, 1, 1, 1, 1, 1]  \n",
              "..                                       ...  \n",
              "976              [1, 1, 1, 1, 1, 1, 1, 1, 1]  \n",
              "977                 [1, 1, 1, 1, 1, 1, 1, 1]  \n",
              "978     [1, 1, 1, 1, 1, 1, 1, 1, 1, 1, 1, 1]  \n",
              "979  [1, 1, 1, 1, 1, 1, 1, 1, 1, 1, 1, 1, 1]  \n",
              "980     [1, 1, 1, 1, 1, 1, 1, 1, 1, 1, 1, 1]  \n",
              "\n",
              "[981 rows x 3 columns]"
            ]
          },
          "execution_count": 40,
          "metadata": {},
          "output_type": "execute_result"
        }
      ],
      "source": [
        "df_test"
      ]
    },
    {
      "cell_type": "code",
      "execution_count": 41,
      "metadata": {
        "colab": {
          "base_uri": "https://localhost:8080/"
        },
        "id": "i-OfASLBX8Lp",
        "outputId": "ffa76eda-681d-42db-ddce-4fe46a115d4a"
      },
      "outputs": [
        {
          "data": {
            "text/plain": [
              "Dataset({\n",
              "    features: ['utterances', 'input_ids', 'attention_mask'],\n",
              "    num_rows: 2\n",
              "})"
            ]
          },
          "execution_count": 41,
          "metadata": {},
          "output_type": "execute_result"
        }
      ],
      "source": [
        "dataset_test = Dataset.from_pandas(df_test[12:14], preserve_index=False)\n",
        "dataset_test"
      ]
    },
    {
      "cell_type": "code",
      "execution_count": 42,
      "metadata": {
        "colab": {
          "base_uri": "https://localhost:8080/"
        },
        "id": "ZEc-xDV9EBIR",
        "outputId": "c1059d4d-175a-4ef1-a83c-496e87b0844f"
      },
      "outputs": [
        {
          "data": {
            "text/plain": [
              "{'attention_mask': [1, 1, 1, 1, 1, 1, 1, 1, 1],\n",
              " 'input_ids': [101, 2040, 2001, 9348, 7093, 1005, 1055, 3459, 102],\n",
              " 'utterances': ['who', 'was', 'apollo', 'thirteen', \"'s\", 'cast']}"
            ]
          },
          "execution_count": 42,
          "metadata": {},
          "output_type": "execute_result"
        }
      ],
      "source": [
        "dataset_test[0]"
      ]
    },
    {
      "cell_type": "code",
      "execution_count": 43,
      "metadata": {
        "colab": {
          "base_uri": "https://localhost:8080/"
        },
        "id": "XE5SbMBNCrzU",
        "outputId": "5271db05-927a-4c92-c257-e8f1c3fb82c5"
      },
      "outputs": [
        {
          "data": {
            "text/plain": [
              "{'IOB Slot tags': [14, 14, 14, 8, 19],\n",
              " 'attention_mask': [1, 1, 1, 1, 1, 1, 1],\n",
              " 'input_ids': [101, 2713, 3058, 2005, 9121, 2466, 102],\n",
              " 'labels': [-100, 14, 14, 14, 8, 19, -100],\n",
              " 'utterances': ['release', 'date', 'for', 'toy', 'story']}"
            ]
          },
          "execution_count": 43,
          "metadata": {},
          "output_type": "execute_result"
        }
      ],
      "source": [
        "tokenized_validation_dataset[0]"
      ]
    },
    {
      "cell_type": "code",
      "execution_count": 44,
      "metadata": {
        "colab": {
          "base_uri": "https://localhost:8080/",
          "height": 161
        },
        "id": "hnwnVTORX8JV",
        "outputId": "616ac205-48f0-4011-f49f-af591580b1ec"
      },
      "outputs": [
        {
          "name": "stderr",
          "output_type": "stream",
          "text": [
            "The following columns in the test set  don't have a corresponding argument in `DistilBertForTokenClassification.forward` and have been ignored: utterances. If utterances are not expected by `DistilBertForTokenClassification.forward`,  you can safely ignore this message.\n",
            "***** Running Prediction *****\n",
            "  Num examples = 2\n",
            "  Batch size = 8\n"
          ]
        },
        {
          "data": {
            "text/html": [
              "\n",
              "    <div>\n",
              "      \n",
              "      <progress value='16' max='15' style='width:300px; height:20px; vertical-align: middle;'></progress>\n",
              "      [15/15 00:06]\n",
              "    </div>\n",
              "    "
            ],
            "text/plain": [
              "<IPython.core.display.HTML object>"
            ]
          },
          "metadata": {},
          "output_type": "display_data"
        },
        {
          "data": {
            "text/plain": [
              "array([[14, 14, 14,  8, 19, 14, 14, 14,  2, 14, 14, 14, 14, 14],\n",
              "       [14, 14, 14, 14, 14, 14, 14, 14, 14, 14,  8,  8, 19,  2]])"
            ]
          },
          "execution_count": 44,
          "metadata": {},
          "output_type": "execute_result"
        }
      ],
      "source": [
        "import numpy as np\n",
        "\n",
        "predictions, labels, _ = trainer.predict(dataset_test)\n",
        "predictions = np.argmax(predictions, axis=-1)\n",
        "\n",
        "predictions"
      ]
    },
    {
      "cell_type": "code",
      "execution_count": 45,
      "metadata": {
        "colab": {
          "base_uri": "https://localhost:8080/"
        },
        "id": "pYgkbfpNcJxr",
        "outputId": "be413130-626c-4269-d294-a0889c62b81e"
      },
      "outputs": [
        {
          "data": {
            "text/plain": [
              "array([14, 14, 14,  8, 19, 14, 14, 14,  2, 14, 14, 14, 14, 14])"
            ]
          },
          "execution_count": 45,
          "metadata": {},
          "output_type": "execute_result"
        }
      ],
      "source": [
        "predictions[0]"
      ]
    },
    {
      "cell_type": "code",
      "execution_count": 46,
      "metadata": {
        "colab": {
          "base_uri": "https://localhost:8080/"
        },
        "id": "dwRS4-aZZMku",
        "outputId": "1227e7e4-162f-486e-a100-8dcc6b45e02e"
      },
      "outputs": [
        {
          "data": {
            "text/plain": [
              "([None, 0, 1, 2, 3, 4, 4, 5, None],\n",
              " ['[CLS]', 'who', 'was', 'apollo', 'thirteen', \"'\", 's', 'cast', '[SEP]'])"
            ]
          },
          "execution_count": 46,
          "metadata": {},
          "output_type": "execute_result"
        }
      ],
      "source": [
        "tokenized_input = tokenizer(\"who was apollo thirteen 's cast\".split(), truncation=True,  is_split_into_words=True)\n",
        "tokens = tokenizer.convert_ids_to_tokens(tokenized_input[\"input_ids\"])\n",
        "word_ids = tokenized_input.word_ids()\n",
        "word_ids, tokens"
      ]
    },
    {
      "cell_type": "code",
      "execution_count": 49,
      "metadata": {
        "colab": {
          "base_uri": "https://localhost:8080/"
        },
        "id": "nO_0qusWAFaj",
        "outputId": "4b63b8b4-745b-4b9c-be01-1d455d01f97d"
      },
      "outputs": [
        {
          "name": "stdout",
          "output_type": "stream",
          "text": [
            "O\n",
            "O\n",
            "B_movie\n",
            "I_movie\n",
            "O\n",
            "O\n",
            "O\n",
            "I_mpaa_rating\n",
            "O\n",
            "O\n",
            "O\n",
            "O\n",
            "\n",
            "\n",
            "\n",
            "O\n",
            "O\n",
            "O\n",
            "O\n",
            "O\n",
            "O\n",
            "O\n",
            "O\n",
            "O\n",
            "B_movie\n",
            "B_movie\n",
            "I_movie\n",
            "\n",
            "\n",
            "\n"
          ]
        }
      ],
      "source": [
        "for i in range(len(predictions)):\n",
        "  for j in range(len(predictions[i])):\n",
        "    if j not in [0, len(predictions[i])-1]: # Not first or last words i.e. not None\n",
        "      print(index2slots[predictions[i][j]])\n",
        "  print('\\n')\n"
      ]
    },
    {
      "cell_type": "markdown",
      "metadata": {
        "id": "WtN3C_GKgcOR"
      },
      "source": [
        "### Approach 2 - To get predictions (Only way to get 'O' tags)"
      ]
    },
    {
      "cell_type": "code",
      "execution_count": 126,
      "metadata": {
        "colab": {
          "base_uri": "https://localhost:8080/"
        },
        "id": "uMbS35NKZZzK",
        "outputId": "d29156b5-8077-4c7b-d921-a0522a89183a"
      },
      "outputs": [
        {
          "name": "stderr",
          "output_type": "stream",
          "text": [
            "loading configuration file /content/distilbert-base-uncased-finetuned-pos/checkpoint-2500/config.json\n",
            "Model config DistilBertConfig {\n",
            "  \"_name_or_path\": \"/content/distilbert-base-uncased-finetuned-pos/checkpoint-2500/\",\n",
            "  \"activation\": \"gelu\",\n",
            "  \"architectures\": [\n",
            "    \"DistilBertForTokenClassification\"\n",
            "  ],\n",
            "  \"attention_dropout\": 0.1,\n",
            "  \"dim\": 768,\n",
            "  \"dropout\": 0.1,\n",
            "  \"hidden_dim\": 3072,\n",
            "  \"id2label\": {\n",
            "    \"0\": \"I_producer\",\n",
            "    \"1\": \"I_release_year\",\n",
            "    \"2\": \"I_mpaa_rating\",\n",
            "    \"3\": \"B_cast\",\n",
            "    \"4\": \"B_subject\",\n",
            "    \"5\": \"B_genre\",\n",
            "    \"6\": \"B_char\",\n",
            "    \"7\": \"B_country\",\n",
            "    \"8\": \"B_movie\",\n",
            "    \"9\": \"B_release_year\",\n",
            "    \"10\": \"B_director\",\n",
            "    \"11\": \"I_country\",\n",
            "    \"12\": \"I_subject\",\n",
            "    \"13\": \"B_producer\",\n",
            "    \"14\": \"O\",\n",
            "    \"15\": \"B_mpaa_rating\",\n",
            "    \"16\": \"B_language\",\n",
            "    \"17\": \"I_person\",\n",
            "    \"18\": \"I_language\",\n",
            "    \"19\": \"I_movie\",\n",
            "    \"20\": \"I_director\",\n",
            "    \"21\": \"I_char\",\n",
            "    \"22\": \"I_cast\",\n",
            "    \"23\": \"B_location\",\n",
            "    \"24\": \"I_genre\",\n",
            "    \"25\": \"B_person\",\n",
            "    \"26\": \"I-movie\"\n",
            "  },\n",
            "  \"initializer_range\": 0.02,\n",
            "  \"label2id\": {\n",
            "    \"B_cast\": 3,\n",
            "    \"B_char\": 6,\n",
            "    \"B_country\": 7,\n",
            "    \"B_director\": 10,\n",
            "    \"B_genre\": 5,\n",
            "    \"B_language\": 16,\n",
            "    \"B_location\": 23,\n",
            "    \"B_movie\": 8,\n",
            "    \"B_mpaa_rating\": 15,\n",
            "    \"B_person\": 25,\n",
            "    \"B_producer\": 13,\n",
            "    \"B_release_year\": 9,\n",
            "    \"B_subject\": 4,\n",
            "    \"I-movie\": 26,\n",
            "    \"I_cast\": 22,\n",
            "    \"I_char\": 21,\n",
            "    \"I_country\": 11,\n",
            "    \"I_director\": 20,\n",
            "    \"I_genre\": 24,\n",
            "    \"I_language\": 18,\n",
            "    \"I_movie\": 19,\n",
            "    \"I_mpaa_rating\": 2,\n",
            "    \"I_person\": 17,\n",
            "    \"I_producer\": 0,\n",
            "    \"I_release_year\": 1,\n",
            "    \"I_subject\": 12,\n",
            "    \"O\": 14\n",
            "  },\n",
            "  \"max_position_embeddings\": 512,\n",
            "  \"model_type\": \"distilbert\",\n",
            "  \"n_heads\": 12,\n",
            "  \"n_layers\": 6,\n",
            "  \"pad_token_id\": 0,\n",
            "  \"qa_dropout\": 0.1,\n",
            "  \"seq_classif_dropout\": 0.2,\n",
            "  \"sinusoidal_pos_embds\": false,\n",
            "  \"tie_weights_\": true,\n",
            "  \"torch_dtype\": \"float32\",\n",
            "  \"transformers_version\": \"4.18.0\",\n",
            "  \"vocab_size\": 30522\n",
            "}\n",
            "\n",
            "loading weights file /content/distilbert-base-uncased-finetuned-pos/checkpoint-2500/pytorch_model.bin\n",
            "All model checkpoint weights were used when initializing DistilBertForTokenClassification.\n",
            "\n",
            "All the weights of DistilBertForTokenClassification were initialized from the model checkpoint at /content/distilbert-base-uncased-finetuned-pos/checkpoint-2500/.\n",
            "If your task is similar to the task the model of the checkpoint was trained on, you can already use DistilBertForTokenClassification for predictions without further training.\n",
            "Didn't find file /content/distilbert-base-uncased-finetuned-pos/checkpoint-2500/added_tokens.json. We won't load it.\n",
            "loading file /content/distilbert-base-uncased-finetuned-pos/checkpoint-2500/vocab.txt\n",
            "loading file /content/distilbert-base-uncased-finetuned-pos/checkpoint-2500/tokenizer.json\n",
            "loading file None\n",
            "loading file /content/distilbert-base-uncased-finetuned-pos/checkpoint-2500/special_tokens_map.json\n",
            "loading file /content/distilbert-base-uncased-finetuned-pos/checkpoint-2500/tokenizer_config.json\n"
          ]
        },
        {
          "name": "stdout",
          "output_type": "stream",
          "text": [
            "[('[CLS]', 'O'), ('i', 'O'), ('would', 'O'), ('like', 'O'), ('to', 'O'), ('know', 'O'), ('more', 'O'), ('about', 'O'), ('the', 'O'), ('cast', 'O'), ('and', 'O'), ('crew', 'O'), ('of', 'O'), ('the', 'O'), ('movie', 'O'), ('apollo', 'B_movie'), ('thirteen', 'I_movie'), ('[SEP]', 'I_mpaa_rating')]\n"
          ]
        }
      ],
      "source": [
        "import torch\n",
        "\n",
        "model_checkpoint = \"/content/distilbert-base-uncased-finetuned-pos/checkpoint-2500/\"\n",
        "\n",
        "model = AutoModelForTokenClassification.from_pretrained(model_checkpoint, return_dict=True)\n",
        "tokenizer = AutoTokenizer.from_pretrained(model_checkpoint)"
      ]
    },
    {
      "cell_type": "markdown",
      "metadata": {
        "id": "TvbXFR8kgyvT"
      },
      "source": [
        "#### Sample"
      ]
    },
    {
      "cell_type": "code",
      "execution_count": 135,
      "metadata": {
        "id": "LZZ_8kBsfQVi"
      },
      "outputs": [],
      "source": [
        "sent = \"i would like to know more about the cast and crew of the movie apollo thirteen\"\n",
        "sent_prediction = []\n",
        "\n",
        "tokens = tokenizer.tokenize(tokenizer.decode(tokenizer.encode(sent)))\n",
        "inputs = tokenizer.encode(sent, return_tensors=\"pt\")\n",
        "\n",
        "outputs = model(inputs).logits\n",
        "predictions = torch.argmax(outputs, dim=2)\n",
        "\n",
        "sent_prediction = [(token, list(slots2index.keys())[prediction]) for token, prediction in zip(tokens, predictions[0].numpy())][1:-1]\n",
        "sent_prediction"
      ]
    },
    {
      "cell_type": "code",
      "execution_count": 139,
      "metadata": {
        "colab": {
          "base_uri": "https://localhost:8080/",
          "height": 35
        },
        "id": "JPF2l2mKhWhL",
        "outputId": "e00674e7-07a1-41ec-8ba8-8816e772d96e"
      },
      "outputs": [
        {
          "data": {
            "application/vnd.google.colaboratory.intrinsic+json": {
              "type": "string"
            },
            "text/plain": [
              "'O O O O O O O O O O O O O O B_movie I_movie'"
            ]
          },
          "execution_count": 139,
          "metadata": {},
          "output_type": "execute_result"
        }
      ],
      "source": [
        "slots_string = []\n",
        "for i in sent_prediction:\n",
        "  slots_string.append(i[1])\n",
        "slots_string = \" \".join(slots_string)\n",
        "slots_string"
      ]
    },
    {
      "cell_type": "markdown",
      "metadata": {
        "id": "qELEPHFlg0J5"
      },
      "source": [
        "#### Predictions from File"
      ]
    },
    {
      "cell_type": "code",
      "execution_count": 144,
      "metadata": {
        "id": "D1r18uilg2js"
      },
      "outputs": [],
      "source": [
        "df_test = pd.read_excel('/content/test.xlsx')\n",
        "\n",
        "with open('predictions.txt', 'w+') as f:\n",
        "  for i in range(len(df_test)):\n",
        "    sent = df_test['utterances'][i]\n",
        "    sent_prediction = []\n",
        "\n",
        "    tokens = tokenizer.tokenize(tokenizer.decode(tokenizer.encode(sent)))\n",
        "    inputs = tokenizer.encode(sent, return_tensors=\"pt\")\n",
        "\n",
        "    outputs = model(inputs).logits\n",
        "    predictions = torch.argmax(outputs, dim=2)\n",
        "\n",
        "    sent_prediction = [(token, list(slots2index.keys())[prediction]) for token, prediction in zip(tokens, predictions[0].numpy())][1:-1]\n",
        "    \n",
        "    slots_string = []\n",
        "    for i in sent_prediction:\n",
        "      slots_string.append(i[1])\n",
        "    slots_string = \" \".join(slots_string)\n",
        "\n",
        "    f.write(slots_string)\n",
        "    f.write('\\n')\n",
        "\n",
        "    # print(slots_string)"
      ]
    },
    {
      "cell_type": "markdown",
      "metadata": {
        "id": "i1F5rhhvfRSN"
      },
      "source": [
        "### Approach 3 - To get predictions"
      ]
    },
    {
      "cell_type": "code",
      "execution_count": null,
      "metadata": {
        "id": "3E2o8Tw0UF4w"
      },
      "outputs": [],
      "source": [
        "from transformers import TokenClassificationPipeline, pipeline\n",
        "\n",
        "model_checkpoint = \"/content/distilbert-base-uncased-finetuned-pos/checkpoint-2500/\"\n",
        "\n",
        "token_classifier = pipeline(\n",
        "    \"token-classification\", model=model_checkpoint, tokenizer= model_checkpoint, use_fast= False #, grouped_entities=False #aggregation_strategy=\"simple\"\n",
        ")"
      ]
    },
    {
      "cell_type": "markdown",
      "metadata": {
        "id": "GGbnVuQVfzK3"
      },
      "source": [
        "#### Sample"
      ]
    },
    {
      "cell_type": "code",
      "execution_count": 119,
      "metadata": {
        "colab": {
          "base_uri": "https://localhost:8080/"
        },
        "id": "9s8a7pwqykyd",
        "outputId": "a27dcd72-3e5e-4488-9a59-7955aeafcf02"
      },
      "outputs": [
        {
          "name": "stdout",
          "output_type": "stream",
          "text": [
            "['O', 'O', 'O', 'O', 'O', 'O', 'O', 'O', 'O', 'O', 'O', 'O', 'O', 'O', 'B_movie', 'I_movie']\n"
          ]
        }
      ],
      "source": [
        "sent = \"i would like to know more about the cast and crew of the movie apollo thirteen\"\n",
        "final = ['O' for x in range(len(sent.split()))]\n",
        "\n",
        "answer = token_classifier(sent)\n",
        "for j in range(len(answer)):\n",
        "  final[answer[j]['index']-1] = answer[j]['entity']\n",
        "\n",
        "print(final)"
      ]
    },
    {
      "cell_type": "code",
      "execution_count": 122,
      "metadata": {
        "colab": {
          "base_uri": "https://localhost:8080/"
        },
        "id": "ItzUP8-hSFqX",
        "outputId": "812cbf90-25e8-4a95-f719-573bc7b26921"
      },
      "outputs": [
        {
          "name": "stdout",
          "output_type": "stream",
          "text": [
            "[{'entity_group': 'B_movie', 'score': 0.9989666, 'word': 'apollo', 'start': None, 'end': None}, {'entity_group': 'I_movie', 'score': 0.9986847, 'word': 'thirteen', 'start': None, 'end': None}]\n",
            "[{'entity': 'B_movie', 'score': 0.9989666, 'index': 15, 'word': 'apollo', 'start': None, 'end': None}, {'entity': 'I_movie', 'score': 0.9986847, 'index': 16, 'word': 'thirteen', 'start': None, 'end': None}]\n",
            "[{'entity_group': 'B_movie', 'score': 0.9989666, 'word': 'apollo', 'start': None, 'end': None}, {'entity_group': 'I_movie', 'score': 0.9986847, 'word': 'thirteen', 'start': None, 'end': None}]\n"
          ]
        },
        {
          "name": "stderr",
          "output_type": "stream",
          "text": [
            "/usr/local/lib/python3.7/dist-packages/transformers/pipelines/token_classification.py:136: UserWarning: `grouped_entities` is deprecated and will be removed in version v5.0.0, defaulted to `aggregation_strategy=\"AggregationStrategy.SIMPLE\"` instead.\n",
            "  f'`grouped_entities` is deprecated and will be removed in version v5.0.0, defaulted to `aggregation_strategy=\"{aggregation_strategy}\"` instead.'\n"
          ]
        }
      ],
      "source": [
        "print(token_classifier(\"i would like to know more about the cast and crew of the movie apollo thirteen\", grouped_entities = True))\n",
        "print(token_classifier(\"i would like to know more about the cast and crew of the movie apollo thirteen\"))\n",
        "print(token_classifier(\"i would like to know more about the cast and crew of the movie apollo thirteen\", aggregation_strategy = 'simple'))"
      ]
    },
    {
      "cell_type": "markdown",
      "metadata": {
        "id": "LwsQvRXEf1MP"
      },
      "source": [
        "#### Predictions from File"
      ]
    },
    {
      "cell_type": "code",
      "execution_count": 55,
      "metadata": {
        "colab": {
          "base_uri": "https://localhost:8080/",
          "height": 35
        },
        "id": "q_0rpq4vIapH",
        "outputId": "ba7a38bd-e17e-4066-81af-301a9b32e714"
      },
      "outputs": [
        {
          "data": {
            "application/vnd.google.colaboratory.intrinsic+json": {
              "type": "string"
            },
            "text/plain": [
              "'star of thor'"
            ]
          },
          "execution_count": 55,
          "metadata": {},
          "output_type": "execute_result"
        }
      ],
      "source": [
        "df_test = pd.read_excel('/content/test.xlsx')\n",
        "\n",
        "df_test['utterances'][980]"
      ]
    },
    {
      "cell_type": "code",
      "execution_count": null,
      "metadata": {
        "id": "sLQu3iXrGe4b"
      },
      "outputs": [],
      "source": [
        "ans = ''\n",
        "\n",
        "with open('predictions.txt', 'w+') as f:\n",
        "  for i in range(len(df_test)):\n",
        "    final = ['O' for x in range(len(df_test['utterances'][i].split()))]\n",
        "    answer = token_classifier(df_test['utterances'][i])\n",
        "    \n",
        "    # print(answer)\n",
        "    for j in range(len(answer)):\n",
        "      \n",
        "      # print(j)\n",
        "      final[answer[j]['index']-1] = answer[j]['entity_group']\n",
        "\n",
        "    f.write(\" \".join(final))\n",
        "    f.write('\\n')"
      ]
    },
    {
      "cell_type": "markdown",
      "metadata": {
        "id": "8KezP213fcwh"
      },
      "source": [
        "## Download Checkpoints for the fine tuned model"
      ]
    },
    {
      "cell_type": "code",
      "execution_count": null,
      "metadata": {
        "colab": {
          "base_uri": "https://localhost:8080/"
        },
        "id": "n825G6QHCqLl",
        "outputId": "9fdd46d2-bdf1-466c-ed59-abe4609e375d"
      },
      "outputs": [
        {
          "name": "stdout",
          "output_type": "stream",
          "text": [
            "  adding: content/distilbert-base-uncased-finetuned-pos/checkpoint-4000/ (stored 0%)\n",
            "  adding: content/distilbert-base-uncased-finetuned-pos/checkpoint-4000/trainer_state.json (deflated 78%)\n",
            "  adding: content/distilbert-base-uncased-finetuned-pos/checkpoint-4000/tokenizer.json (deflated 71%)\n",
            "  adding: content/distilbert-base-uncased-finetuned-pos/checkpoint-4000/vocab.txt (deflated 53%)\n",
            "  adding: content/distilbert-base-uncased-finetuned-pos/checkpoint-4000/special_tokens_map.json (deflated 40%)\n",
            "  adding: content/distilbert-base-uncased-finetuned-pos/checkpoint-4000/training_args.bin (deflated 48%)\n",
            "  adding: content/distilbert-base-uncased-finetuned-pos/checkpoint-4000/config.json (deflated 62%)\n",
            "  adding: content/distilbert-base-uncased-finetuned-pos/checkpoint-4000/scheduler.pt (deflated 49%)\n",
            "  adding: content/distilbert-base-uncased-finetuned-pos/checkpoint-4000/rng_state.pth (deflated 27%)\n",
            "  adding: content/distilbert-base-uncased-finetuned-pos/checkpoint-4000/tokenizer_config.json (deflated 40%)\n",
            "  adding: content/distilbert-base-uncased-finetuned-pos/checkpoint-4000/optimizer.pt (deflated 40%)\n",
            "  adding: content/distilbert-base-uncased-finetuned-pos/checkpoint-4000/pytorch_model.bin (deflated 8%)\n"
          ]
        }
      ],
      "source": [
        "!zip -r /content/sriram-244-slot-tagging.zip /content/distilbert-base-uncased-finetuned-pos/checkpoint-4000"
      ]
    },
    {
      "cell_type": "code",
      "execution_count": null,
      "metadata": {
        "id": "wX3YlibAHiJJ"
      },
      "outputs": [],
      "source": []
    }
  ],
  "metadata": {
    "accelerator": "GPU",
    "colab": {
      "collapsed_sections": [],
      "name": "NLP 244 - Assignment 1 - Slot Tagging.ipynb",
      "provenance": [],
      "toc_visible": true
    },
    "kernelspec": {
      "display_name": "Python 3",
      "name": "python3"
    },
    "language_info": {
      "name": "python"
    },
    "widgets": {
      "application/vnd.jupyter.widget-state+json": {
        "0454efcb3ffb40f8afa4a09ec6e1b752": {
          "model_module": "@jupyter-widgets/base",
          "model_module_version": "1.2.0",
          "model_name": "LayoutModel",
          "state": {
            "_model_module": "@jupyter-widgets/base",
            "_model_module_version": "1.2.0",
            "_model_name": "LayoutModel",
            "_view_count": null,
            "_view_module": "@jupyter-widgets/base",
            "_view_module_version": "1.2.0",
            "_view_name": "LayoutView",
            "align_content": null,
            "align_items": null,
            "align_self": null,
            "border": null,
            "bottom": null,
            "display": null,
            "flex": null,
            "flex_flow": null,
            "grid_area": null,
            "grid_auto_columns": null,
            "grid_auto_flow": null,
            "grid_auto_rows": null,
            "grid_column": null,
            "grid_gap": null,
            "grid_row": null,
            "grid_template_areas": null,
            "grid_template_columns": null,
            "grid_template_rows": null,
            "height": null,
            "justify_content": null,
            "justify_items": null,
            "left": null,
            "margin": null,
            "max_height": null,
            "max_width": null,
            "min_height": null,
            "min_width": null,
            "object_fit": null,
            "object_position": null,
            "order": null,
            "overflow": null,
            "overflow_x": null,
            "overflow_y": null,
            "padding": null,
            "right": null,
            "top": null,
            "visibility": null,
            "width": null
          }
        },
        "06009e80ad4a43bfac0012ea57b782b4": {
          "model_module": "@jupyter-widgets/controls",
          "model_module_version": "1.5.0",
          "model_name": "DescriptionStyleModel",
          "state": {
            "_model_module": "@jupyter-widgets/controls",
            "_model_module_version": "1.5.0",
            "_model_name": "DescriptionStyleModel",
            "_view_count": null,
            "_view_module": "@jupyter-widgets/base",
            "_view_module_version": "1.2.0",
            "_view_name": "StyleView",
            "description_width": ""
          }
        },
        "0aca83bb25c24a05ac7942688698bc22": {
          "model_module": "@jupyter-widgets/controls",
          "model_module_version": "1.5.0",
          "model_name": "DescriptionStyleModel",
          "state": {
            "_model_module": "@jupyter-widgets/controls",
            "_model_module_version": "1.5.0",
            "_model_name": "DescriptionStyleModel",
            "_view_count": null,
            "_view_module": "@jupyter-widgets/base",
            "_view_module_version": "1.2.0",
            "_view_name": "StyleView",
            "description_width": ""
          }
        },
        "0bec622050ae40f98d21d9f1870dfdb2": {
          "model_module": "@jupyter-widgets/controls",
          "model_module_version": "1.5.0",
          "model_name": "HTMLModel",
          "state": {
            "_dom_classes": [],
            "_model_module": "@jupyter-widgets/controls",
            "_model_module_version": "1.5.0",
            "_model_name": "HTMLModel",
            "_view_count": null,
            "_view_module": "@jupyter-widgets/controls",
            "_view_module_version": "1.5.0",
            "_view_name": "HTMLView",
            "description": "",
            "description_tooltip": null,
            "layout": "IPY_MODEL_de35766b108b4bbeaf9839c6927a997d",
            "placeholder": "​",
            "style": "IPY_MODEL_0aca83bb25c24a05ac7942688698bc22",
            "value": " 1/1 [00:00&lt;00:00, 14.54ba/s]"
          }
        },
        "0cecb6fcfb274d59b02743e8f8f9cb2b": {
          "model_module": "@jupyter-widgets/controls",
          "model_module_version": "1.5.0",
          "model_name": "DescriptionStyleModel",
          "state": {
            "_model_module": "@jupyter-widgets/controls",
            "_model_module_version": "1.5.0",
            "_model_name": "DescriptionStyleModel",
            "_view_count": null,
            "_view_module": "@jupyter-widgets/base",
            "_view_module_version": "1.2.0",
            "_view_name": "StyleView",
            "description_width": ""
          }
        },
        "102abc7ac62646199525b85a582af5ea": {
          "model_module": "@jupyter-widgets/controls",
          "model_module_version": "1.5.0",
          "model_name": "DescriptionStyleModel",
          "state": {
            "_model_module": "@jupyter-widgets/controls",
            "_model_module_version": "1.5.0",
            "_model_name": "DescriptionStyleModel",
            "_view_count": null,
            "_view_module": "@jupyter-widgets/base",
            "_view_module_version": "1.2.0",
            "_view_name": "StyleView",
            "description_width": ""
          }
        },
        "10b51e98bc6743ebb92fae29e7c78407": {
          "model_module": "@jupyter-widgets/base",
          "model_module_version": "1.2.0",
          "model_name": "LayoutModel",
          "state": {
            "_model_module": "@jupyter-widgets/base",
            "_model_module_version": "1.2.0",
            "_model_name": "LayoutModel",
            "_view_count": null,
            "_view_module": "@jupyter-widgets/base",
            "_view_module_version": "1.2.0",
            "_view_name": "LayoutView",
            "align_content": null,
            "align_items": null,
            "align_self": null,
            "border": null,
            "bottom": null,
            "display": null,
            "flex": null,
            "flex_flow": null,
            "grid_area": null,
            "grid_auto_columns": null,
            "grid_auto_flow": null,
            "grid_auto_rows": null,
            "grid_column": null,
            "grid_gap": null,
            "grid_row": null,
            "grid_template_areas": null,
            "grid_template_columns": null,
            "grid_template_rows": null,
            "height": null,
            "justify_content": null,
            "justify_items": null,
            "left": null,
            "margin": null,
            "max_height": null,
            "max_width": null,
            "min_height": null,
            "min_width": null,
            "object_fit": null,
            "object_position": null,
            "order": null,
            "overflow": null,
            "overflow_x": null,
            "overflow_y": null,
            "padding": null,
            "right": null,
            "top": null,
            "visibility": null,
            "width": null
          }
        },
        "11302f7c1bde4aff9cc3e2138ef27f91": {
          "model_module": "@jupyter-widgets/controls",
          "model_module_version": "1.5.0",
          "model_name": "HBoxModel",
          "state": {
            "_dom_classes": [],
            "_model_module": "@jupyter-widgets/controls",
            "_model_module_version": "1.5.0",
            "_model_name": "HBoxModel",
            "_view_count": null,
            "_view_module": "@jupyter-widgets/controls",
            "_view_module_version": "1.5.0",
            "_view_name": "HBoxView",
            "box_style": "",
            "children": [
              "IPY_MODEL_e22894d4ab4a47a598ad939af2ad56fe",
              "IPY_MODEL_d3e28129b4c34971ae22e52cf7918e74",
              "IPY_MODEL_a7af8746b64c44a5a9bccb74e9222d08"
            ],
            "layout": "IPY_MODEL_0454efcb3ffb40f8afa4a09ec6e1b752"
          }
        },
        "16df8513fa2e44fba3ce1608cdfa618e": {
          "model_module": "@jupyter-widgets/controls",
          "model_module_version": "1.5.0",
          "model_name": "HTMLModel",
          "state": {
            "_dom_classes": [],
            "_model_module": "@jupyter-widgets/controls",
            "_model_module_version": "1.5.0",
            "_model_name": "HTMLModel",
            "_view_count": null,
            "_view_module": "@jupyter-widgets/controls",
            "_view_module_version": "1.5.0",
            "_view_name": "HTMLView",
            "description": "",
            "description_tooltip": null,
            "layout": "IPY_MODEL_326d2e6c8b24491fb42a8db8b85aa9df",
            "placeholder": "​",
            "style": "IPY_MODEL_ead6bf9e988944cea7e15818b10469ea",
            "value": " 483/483 [00:00&lt;00:00, 4.69kB/s]"
          }
        },
        "201809e4d4694cf2baec6734f1f67f89": {
          "model_module": "@jupyter-widgets/controls",
          "model_module_version": "1.5.0",
          "model_name": "DescriptionStyleModel",
          "state": {
            "_model_module": "@jupyter-widgets/controls",
            "_model_module_version": "1.5.0",
            "_model_name": "DescriptionStyleModel",
            "_view_count": null,
            "_view_module": "@jupyter-widgets/base",
            "_view_module_version": "1.2.0",
            "_view_name": "StyleView",
            "description_width": ""
          }
        },
        "229aeb52da854da5ae3ad1d2cd45b799": {
          "model_module": "@jupyter-widgets/base",
          "model_module_version": "1.2.0",
          "model_name": "LayoutModel",
          "state": {
            "_model_module": "@jupyter-widgets/base",
            "_model_module_version": "1.2.0",
            "_model_name": "LayoutModel",
            "_view_count": null,
            "_view_module": "@jupyter-widgets/base",
            "_view_module_version": "1.2.0",
            "_view_name": "LayoutView",
            "align_content": null,
            "align_items": null,
            "align_self": null,
            "border": null,
            "bottom": null,
            "display": null,
            "flex": null,
            "flex_flow": null,
            "grid_area": null,
            "grid_auto_columns": null,
            "grid_auto_flow": null,
            "grid_auto_rows": null,
            "grid_column": null,
            "grid_gap": null,
            "grid_row": null,
            "grid_template_areas": null,
            "grid_template_columns": null,
            "grid_template_rows": null,
            "height": null,
            "justify_content": null,
            "justify_items": null,
            "left": null,
            "margin": null,
            "max_height": null,
            "max_width": null,
            "min_height": null,
            "min_width": null,
            "object_fit": null,
            "object_position": null,
            "order": null,
            "overflow": null,
            "overflow_x": null,
            "overflow_y": null,
            "padding": null,
            "right": null,
            "top": null,
            "visibility": null,
            "width": null
          }
        },
        "24a8a5a3d9bc4afd8d4524dc8edf5e68": {
          "model_module": "@jupyter-widgets/controls",
          "model_module_version": "1.5.0",
          "model_name": "FloatProgressModel",
          "state": {
            "_dom_classes": [],
            "_model_module": "@jupyter-widgets/controls",
            "_model_module_version": "1.5.0",
            "_model_name": "FloatProgressModel",
            "_view_count": null,
            "_view_module": "@jupyter-widgets/controls",
            "_view_module_version": "1.5.0",
            "_view_name": "ProgressView",
            "bar_style": "success",
            "description": "",
            "description_tooltip": null,
            "layout": "IPY_MODEL_9300a6742e724f899b97f18731c89250",
            "max": 1,
            "min": 0,
            "orientation": "horizontal",
            "style": "IPY_MODEL_fab39126befa43128092cae6cbfe6023",
            "value": 1
          }
        },
        "27f5ba4173ec4c6db777e68b136f01c4": {
          "model_module": "@jupyter-widgets/base",
          "model_module_version": "1.2.0",
          "model_name": "LayoutModel",
          "state": {
            "_model_module": "@jupyter-widgets/base",
            "_model_module_version": "1.2.0",
            "_model_name": "LayoutModel",
            "_view_count": null,
            "_view_module": "@jupyter-widgets/base",
            "_view_module_version": "1.2.0",
            "_view_name": "LayoutView",
            "align_content": null,
            "align_items": null,
            "align_self": null,
            "border": null,
            "bottom": null,
            "display": null,
            "flex": null,
            "flex_flow": null,
            "grid_area": null,
            "grid_auto_columns": null,
            "grid_auto_flow": null,
            "grid_auto_rows": null,
            "grid_column": null,
            "grid_gap": null,
            "grid_row": null,
            "grid_template_areas": null,
            "grid_template_columns": null,
            "grid_template_rows": null,
            "height": null,
            "justify_content": null,
            "justify_items": null,
            "left": null,
            "margin": null,
            "max_height": null,
            "max_width": null,
            "min_height": null,
            "min_width": null,
            "object_fit": null,
            "object_position": null,
            "order": null,
            "overflow": null,
            "overflow_x": null,
            "overflow_y": null,
            "padding": null,
            "right": null,
            "top": null,
            "visibility": null,
            "width": null
          }
        },
        "2d4cb4000be64f6592ef42330a440e1f": {
          "model_module": "@jupyter-widgets/base",
          "model_module_version": "1.2.0",
          "model_name": "LayoutModel",
          "state": {
            "_model_module": "@jupyter-widgets/base",
            "_model_module_version": "1.2.0",
            "_model_name": "LayoutModel",
            "_view_count": null,
            "_view_module": "@jupyter-widgets/base",
            "_view_module_version": "1.2.0",
            "_view_name": "LayoutView",
            "align_content": null,
            "align_items": null,
            "align_self": null,
            "border": null,
            "bottom": null,
            "display": null,
            "flex": null,
            "flex_flow": null,
            "grid_area": null,
            "grid_auto_columns": null,
            "grid_auto_flow": null,
            "grid_auto_rows": null,
            "grid_column": null,
            "grid_gap": null,
            "grid_row": null,
            "grid_template_areas": null,
            "grid_template_columns": null,
            "grid_template_rows": null,
            "height": null,
            "justify_content": null,
            "justify_items": null,
            "left": null,
            "margin": null,
            "max_height": null,
            "max_width": null,
            "min_height": null,
            "min_width": null,
            "object_fit": null,
            "object_position": null,
            "order": null,
            "overflow": null,
            "overflow_x": null,
            "overflow_y": null,
            "padding": null,
            "right": null,
            "top": null,
            "visibility": null,
            "width": null
          }
        },
        "2da1b0209c954e4cbbf79804f4fa8738": {
          "model_module": "@jupyter-widgets/base",
          "model_module_version": "1.2.0",
          "model_name": "LayoutModel",
          "state": {
            "_model_module": "@jupyter-widgets/base",
            "_model_module_version": "1.2.0",
            "_model_name": "LayoutModel",
            "_view_count": null,
            "_view_module": "@jupyter-widgets/base",
            "_view_module_version": "1.2.0",
            "_view_name": "LayoutView",
            "align_content": null,
            "align_items": null,
            "align_self": null,
            "border": null,
            "bottom": null,
            "display": null,
            "flex": null,
            "flex_flow": null,
            "grid_area": null,
            "grid_auto_columns": null,
            "grid_auto_flow": null,
            "grid_auto_rows": null,
            "grid_column": null,
            "grid_gap": null,
            "grid_row": null,
            "grid_template_areas": null,
            "grid_template_columns": null,
            "grid_template_rows": null,
            "height": null,
            "justify_content": null,
            "justify_items": null,
            "left": null,
            "margin": null,
            "max_height": null,
            "max_width": null,
            "min_height": null,
            "min_width": null,
            "object_fit": null,
            "object_position": null,
            "order": null,
            "overflow": null,
            "overflow_x": null,
            "overflow_y": null,
            "padding": null,
            "right": null,
            "top": null,
            "visibility": null,
            "width": null
          }
        },
        "2f3d5067eb644641b6f83c8c3b23755a": {
          "model_module": "@jupyter-widgets/controls",
          "model_module_version": "1.5.0",
          "model_name": "HBoxModel",
          "state": {
            "_dom_classes": [],
            "_model_module": "@jupyter-widgets/controls",
            "_model_module_version": "1.5.0",
            "_model_name": "HBoxModel",
            "_view_count": null,
            "_view_module": "@jupyter-widgets/controls",
            "_view_module_version": "1.5.0",
            "_view_name": "HBoxView",
            "box_style": "",
            "children": [
              "IPY_MODEL_672c1e39f8fc4e148f7f511e9d5cff78",
              "IPY_MODEL_d6f14db5d99b4e9b8285dffc5a2d4cdb",
              "IPY_MODEL_7349862764874f248a68e675bf9d4890"
            ],
            "layout": "IPY_MODEL_f0bb7c1432694be8b691e0553dbcdc30"
          }
        },
        "3147fdcb2c8549b0b57f7ccd56958de9": {
          "model_module": "@jupyter-widgets/controls",
          "model_module_version": "1.5.0",
          "model_name": "LabelModel",
          "state": {
            "_dom_classes": [],
            "_model_module": "@jupyter-widgets/controls",
            "_model_module_version": "1.5.0",
            "_model_name": "LabelModel",
            "_view_count": null,
            "_view_module": "@jupyter-widgets/controls",
            "_view_module_version": "1.5.0",
            "_view_name": "LabelView",
            "description": "",
            "description_tooltip": null,
            "layout": "IPY_MODEL_4e060e4e19ea4fc089175ecd98d0dd63",
            "placeholder": "​",
            "style": "IPY_MODEL_706a5318655d4331b1e4a264339fa763",
            "value": "0.246 MB of 0.246 MB uploaded (0.000 MB deduped)\r"
          }
        },
        "326d2e6c8b24491fb42a8db8b85aa9df": {
          "model_module": "@jupyter-widgets/base",
          "model_module_version": "1.2.0",
          "model_name": "LayoutModel",
          "state": {
            "_model_module": "@jupyter-widgets/base",
            "_model_module_version": "1.2.0",
            "_model_name": "LayoutModel",
            "_view_count": null,
            "_view_module": "@jupyter-widgets/base",
            "_view_module_version": "1.2.0",
            "_view_name": "LayoutView",
            "align_content": null,
            "align_items": null,
            "align_self": null,
            "border": null,
            "bottom": null,
            "display": null,
            "flex": null,
            "flex_flow": null,
            "grid_area": null,
            "grid_auto_columns": null,
            "grid_auto_flow": null,
            "grid_auto_rows": null,
            "grid_column": null,
            "grid_gap": null,
            "grid_row": null,
            "grid_template_areas": null,
            "grid_template_columns": null,
            "grid_template_rows": null,
            "height": null,
            "justify_content": null,
            "justify_items": null,
            "left": null,
            "margin": null,
            "max_height": null,
            "max_width": null,
            "min_height": null,
            "min_width": null,
            "object_fit": null,
            "object_position": null,
            "order": null,
            "overflow": null,
            "overflow_x": null,
            "overflow_y": null,
            "padding": null,
            "right": null,
            "top": null,
            "visibility": null,
            "width": null
          }
        },
        "4081048b2de74d55b419246cdc7ba267": {
          "model_module": "@jupyter-widgets/base",
          "model_module_version": "1.2.0",
          "model_name": "LayoutModel",
          "state": {
            "_model_module": "@jupyter-widgets/base",
            "_model_module_version": "1.2.0",
            "_model_name": "LayoutModel",
            "_view_count": null,
            "_view_module": "@jupyter-widgets/base",
            "_view_module_version": "1.2.0",
            "_view_name": "LayoutView",
            "align_content": null,
            "align_items": null,
            "align_self": null,
            "border": null,
            "bottom": null,
            "display": null,
            "flex": null,
            "flex_flow": null,
            "grid_area": null,
            "grid_auto_columns": null,
            "grid_auto_flow": null,
            "grid_auto_rows": null,
            "grid_column": null,
            "grid_gap": null,
            "grid_row": null,
            "grid_template_areas": null,
            "grid_template_columns": null,
            "grid_template_rows": null,
            "height": null,
            "justify_content": null,
            "justify_items": null,
            "left": null,
            "margin": null,
            "max_height": null,
            "max_width": null,
            "min_height": null,
            "min_width": null,
            "object_fit": null,
            "object_position": null,
            "order": null,
            "overflow": null,
            "overflow_x": null,
            "overflow_y": null,
            "padding": null,
            "right": null,
            "top": null,
            "visibility": null,
            "width": null
          }
        },
        "41a0bfe33eba432087b0f77da3009d4c": {
          "model_module": "@jupyter-widgets/controls",
          "model_module_version": "1.5.0",
          "model_name": "FloatProgressModel",
          "state": {
            "_dom_classes": [],
            "_model_module": "@jupyter-widgets/controls",
            "_model_module_version": "1.5.0",
            "_model_name": "FloatProgressModel",
            "_view_count": null,
            "_view_module": "@jupyter-widgets/controls",
            "_view_module_version": "1.5.0",
            "_view_name": "ProgressView",
            "bar_style": "success",
            "description": "",
            "description_tooltip": null,
            "layout": "IPY_MODEL_7f87092086d243ffb3516dec3bf2dec1",
            "max": 28,
            "min": 0,
            "orientation": "horizontal",
            "style": "IPY_MODEL_4d45a3d8276f46f8842f082fd06516da",
            "value": 28
          }
        },
        "41a8f8801bb545b2b7a60c8d3d221475": {
          "model_module": "@jupyter-widgets/controls",
          "model_module_version": "1.5.0",
          "model_name": "DescriptionStyleModel",
          "state": {
            "_model_module": "@jupyter-widgets/controls",
            "_model_module_version": "1.5.0",
            "_model_name": "DescriptionStyleModel",
            "_view_count": null,
            "_view_module": "@jupyter-widgets/base",
            "_view_module_version": "1.2.0",
            "_view_name": "StyleView",
            "description_width": ""
          }
        },
        "445f29d6cfe945edbe16a06dcf1db174": {
          "model_module": "@jupyter-widgets/controls",
          "model_module_version": "1.5.0",
          "model_name": "DescriptionStyleModel",
          "state": {
            "_model_module": "@jupyter-widgets/controls",
            "_model_module_version": "1.5.0",
            "_model_name": "DescriptionStyleModel",
            "_view_count": null,
            "_view_module": "@jupyter-widgets/base",
            "_view_module_version": "1.2.0",
            "_view_name": "StyleView",
            "description_width": ""
          }
        },
        "4d45a3d8276f46f8842f082fd06516da": {
          "model_module": "@jupyter-widgets/controls",
          "model_module_version": "1.5.0",
          "model_name": "ProgressStyleModel",
          "state": {
            "_model_module": "@jupyter-widgets/controls",
            "_model_module_version": "1.5.0",
            "_model_name": "ProgressStyleModel",
            "_view_count": null,
            "_view_module": "@jupyter-widgets/base",
            "_view_module_version": "1.2.0",
            "_view_name": "StyleView",
            "bar_color": null,
            "description_width": ""
          }
        },
        "4dcfe1c4458447a9b58126c9f35e22ce": {
          "model_module": "@jupyter-widgets/controls",
          "model_module_version": "1.5.0",
          "model_name": "ProgressStyleModel",
          "state": {
            "_model_module": "@jupyter-widgets/controls",
            "_model_module_version": "1.5.0",
            "_model_name": "ProgressStyleModel",
            "_view_count": null,
            "_view_module": "@jupyter-widgets/base",
            "_view_module_version": "1.2.0",
            "_view_name": "StyleView",
            "bar_color": null,
            "description_width": ""
          }
        },
        "4e060e4e19ea4fc089175ecd98d0dd63": {
          "model_module": "@jupyter-widgets/base",
          "model_module_version": "1.2.0",
          "model_name": "LayoutModel",
          "state": {
            "_model_module": "@jupyter-widgets/base",
            "_model_module_version": "1.2.0",
            "_model_name": "LayoutModel",
            "_view_count": null,
            "_view_module": "@jupyter-widgets/base",
            "_view_module_version": "1.2.0",
            "_view_name": "LayoutView",
            "align_content": null,
            "align_items": null,
            "align_self": null,
            "border": null,
            "bottom": null,
            "display": null,
            "flex": null,
            "flex_flow": null,
            "grid_area": null,
            "grid_auto_columns": null,
            "grid_auto_flow": null,
            "grid_auto_rows": null,
            "grid_column": null,
            "grid_gap": null,
            "grid_row": null,
            "grid_template_areas": null,
            "grid_template_columns": null,
            "grid_template_rows": null,
            "height": null,
            "justify_content": null,
            "justify_items": null,
            "left": null,
            "margin": null,
            "max_height": null,
            "max_width": null,
            "min_height": null,
            "min_width": null,
            "object_fit": null,
            "object_position": null,
            "order": null,
            "overflow": null,
            "overflow_x": null,
            "overflow_y": null,
            "padding": null,
            "right": null,
            "top": null,
            "visibility": null,
            "width": null
          }
        },
        "4f4152985815450d9ec6f39d933243bb": {
          "model_module": "@jupyter-widgets/base",
          "model_module_version": "1.2.0",
          "model_name": "LayoutModel",
          "state": {
            "_model_module": "@jupyter-widgets/base",
            "_model_module_version": "1.2.0",
            "_model_name": "LayoutModel",
            "_view_count": null,
            "_view_module": "@jupyter-widgets/base",
            "_view_module_version": "1.2.0",
            "_view_name": "LayoutView",
            "align_content": null,
            "align_items": null,
            "align_self": null,
            "border": null,
            "bottom": null,
            "display": null,
            "flex": null,
            "flex_flow": null,
            "grid_area": null,
            "grid_auto_columns": null,
            "grid_auto_flow": null,
            "grid_auto_rows": null,
            "grid_column": null,
            "grid_gap": null,
            "grid_row": null,
            "grid_template_areas": null,
            "grid_template_columns": null,
            "grid_template_rows": null,
            "height": null,
            "justify_content": null,
            "justify_items": null,
            "left": null,
            "margin": null,
            "max_height": null,
            "max_width": null,
            "min_height": null,
            "min_width": null,
            "object_fit": null,
            "object_position": null,
            "order": null,
            "overflow": null,
            "overflow_x": null,
            "overflow_y": null,
            "padding": null,
            "right": null,
            "top": null,
            "visibility": null,
            "width": null
          }
        },
        "52795178d23e4864b9cfb857f3c53c35": {
          "model_module": "@jupyter-widgets/controls",
          "model_module_version": "1.5.0",
          "model_name": "ProgressStyleModel",
          "state": {
            "_model_module": "@jupyter-widgets/controls",
            "_model_module_version": "1.5.0",
            "_model_name": "ProgressStyleModel",
            "_view_count": null,
            "_view_module": "@jupyter-widgets/base",
            "_view_module_version": "1.2.0",
            "_view_name": "StyleView",
            "bar_color": null,
            "description_width": ""
          }
        },
        "54f09d4bcf8f486aafb00ff51eac07d9": {
          "model_module": "@jupyter-widgets/controls",
          "model_module_version": "1.5.0",
          "model_name": "HTMLModel",
          "state": {
            "_dom_classes": [],
            "_model_module": "@jupyter-widgets/controls",
            "_model_module_version": "1.5.0",
            "_model_name": "HTMLModel",
            "_view_count": null,
            "_view_module": "@jupyter-widgets/controls",
            "_view_module_version": "1.5.0",
            "_view_name": "HTMLView",
            "description": "",
            "description_tooltip": null,
            "layout": "IPY_MODEL_4081048b2de74d55b419246cdc7ba267",
            "placeholder": "​",
            "style": "IPY_MODEL_201809e4d4694cf2baec6734f1f67f89",
            "value": "Downloading: 100%"
          }
        },
        "57f5ff590c2242d2bf09ca7f461ea9ad": {
          "model_module": "@jupyter-widgets/controls",
          "model_module_version": "1.5.0",
          "model_name": "DescriptionStyleModel",
          "state": {
            "_model_module": "@jupyter-widgets/controls",
            "_model_module_version": "1.5.0",
            "_model_name": "DescriptionStyleModel",
            "_view_count": null,
            "_view_module": "@jupyter-widgets/base",
            "_view_module_version": "1.2.0",
            "_view_name": "StyleView",
            "description_width": ""
          }
        },
        "58c1e5054e304385b3f811b92907b526": {
          "model_module": "@jupyter-widgets/controls",
          "model_module_version": "1.5.0",
          "model_name": "HTMLModel",
          "state": {
            "_dom_classes": [],
            "_model_module": "@jupyter-widgets/controls",
            "_model_module_version": "1.5.0",
            "_model_name": "HTMLModel",
            "_view_count": null,
            "_view_module": "@jupyter-widgets/controls",
            "_view_module_version": "1.5.0",
            "_view_name": "HTMLView",
            "description": "",
            "description_tooltip": null,
            "layout": "IPY_MODEL_2d4cb4000be64f6592ef42330a440e1f",
            "placeholder": "​",
            "style": "IPY_MODEL_6fe0babc26834eb194cea27dfeb5ce4d",
            "value": " 256M/256M [00:17&lt;00:00, 13.9MB/s]"
          }
        },
        "5b7c901c4bb74492bd94184163185a2f": {
          "model_module": "@jupyter-widgets/base",
          "model_module_version": "1.2.0",
          "model_name": "LayoutModel",
          "state": {
            "_model_module": "@jupyter-widgets/base",
            "_model_module_version": "1.2.0",
            "_model_name": "LayoutModel",
            "_view_count": null,
            "_view_module": "@jupyter-widgets/base",
            "_view_module_version": "1.2.0",
            "_view_name": "LayoutView",
            "align_content": null,
            "align_items": null,
            "align_self": null,
            "border": null,
            "bottom": null,
            "display": null,
            "flex": null,
            "flex_flow": null,
            "grid_area": null,
            "grid_auto_columns": null,
            "grid_auto_flow": null,
            "grid_auto_rows": null,
            "grid_column": null,
            "grid_gap": null,
            "grid_row": null,
            "grid_template_areas": null,
            "grid_template_columns": null,
            "grid_template_rows": null,
            "height": null,
            "justify_content": null,
            "justify_items": null,
            "left": null,
            "margin": null,
            "max_height": null,
            "max_width": null,
            "min_height": null,
            "min_width": null,
            "object_fit": null,
            "object_position": null,
            "order": null,
            "overflow": null,
            "overflow_x": null,
            "overflow_y": null,
            "padding": null,
            "right": null,
            "top": null,
            "visibility": null,
            "width": null
          }
        },
        "60983d9887184bec87433cd38018de60": {
          "model_module": "@jupyter-widgets/controls",
          "model_module_version": "1.5.0",
          "model_name": "DescriptionStyleModel",
          "state": {
            "_model_module": "@jupyter-widgets/controls",
            "_model_module_version": "1.5.0",
            "_model_name": "DescriptionStyleModel",
            "_view_count": null,
            "_view_module": "@jupyter-widgets/base",
            "_view_module_version": "1.2.0",
            "_view_name": "StyleView",
            "description_width": ""
          }
        },
        "610eed017c0b42f7a2508ce3550e2718": {
          "model_module": "@jupyter-widgets/base",
          "model_module_version": "1.2.0",
          "model_name": "LayoutModel",
          "state": {
            "_model_module": "@jupyter-widgets/base",
            "_model_module_version": "1.2.0",
            "_model_name": "LayoutModel",
            "_view_count": null,
            "_view_module": "@jupyter-widgets/base",
            "_view_module_version": "1.2.0",
            "_view_name": "LayoutView",
            "align_content": null,
            "align_items": null,
            "align_self": null,
            "border": null,
            "bottom": null,
            "display": null,
            "flex": null,
            "flex_flow": null,
            "grid_area": null,
            "grid_auto_columns": null,
            "grid_auto_flow": null,
            "grid_auto_rows": null,
            "grid_column": null,
            "grid_gap": null,
            "grid_row": null,
            "grid_template_areas": null,
            "grid_template_columns": null,
            "grid_template_rows": null,
            "height": null,
            "justify_content": null,
            "justify_items": null,
            "left": null,
            "margin": null,
            "max_height": null,
            "max_width": null,
            "min_height": null,
            "min_width": null,
            "object_fit": null,
            "object_position": null,
            "order": null,
            "overflow": null,
            "overflow_x": null,
            "overflow_y": null,
            "padding": null,
            "right": null,
            "top": null,
            "visibility": null,
            "width": null
          }
        },
        "61ae3901d5cf4251b6be7595fbdb8fc3": {
          "model_module": "@jupyter-widgets/base",
          "model_module_version": "1.2.0",
          "model_name": "LayoutModel",
          "state": {
            "_model_module": "@jupyter-widgets/base",
            "_model_module_version": "1.2.0",
            "_model_name": "LayoutModel",
            "_view_count": null,
            "_view_module": "@jupyter-widgets/base",
            "_view_module_version": "1.2.0",
            "_view_name": "LayoutView",
            "align_content": null,
            "align_items": null,
            "align_self": null,
            "border": null,
            "bottom": null,
            "display": null,
            "flex": null,
            "flex_flow": null,
            "grid_area": null,
            "grid_auto_columns": null,
            "grid_auto_flow": null,
            "grid_auto_rows": null,
            "grid_column": null,
            "grid_gap": null,
            "grid_row": null,
            "grid_template_areas": null,
            "grid_template_columns": null,
            "grid_template_rows": null,
            "height": null,
            "justify_content": null,
            "justify_items": null,
            "left": null,
            "margin": null,
            "max_height": null,
            "max_width": null,
            "min_height": null,
            "min_width": null,
            "object_fit": null,
            "object_position": null,
            "order": null,
            "overflow": null,
            "overflow_x": null,
            "overflow_y": null,
            "padding": null,
            "right": null,
            "top": null,
            "visibility": null,
            "width": null
          }
        },
        "6630031bbb3e4df682d69d99ec1f2df6": {
          "model_module": "@jupyter-widgets/controls",
          "model_module_version": "1.5.0",
          "model_name": "DescriptionStyleModel",
          "state": {
            "_model_module": "@jupyter-widgets/controls",
            "_model_module_version": "1.5.0",
            "_model_name": "DescriptionStyleModel",
            "_view_count": null,
            "_view_module": "@jupyter-widgets/base",
            "_view_module_version": "1.2.0",
            "_view_name": "StyleView",
            "description_width": ""
          }
        },
        "6708362800f5426e898ab05d54a59528": {
          "model_module": "@jupyter-widgets/controls",
          "model_module_version": "1.5.0",
          "model_name": "HTMLModel",
          "state": {
            "_dom_classes": [],
            "_model_module": "@jupyter-widgets/controls",
            "_model_module_version": "1.5.0",
            "_model_name": "HTMLModel",
            "_view_count": null,
            "_view_module": "@jupyter-widgets/controls",
            "_view_module_version": "1.5.0",
            "_view_name": "HTMLView",
            "description": "",
            "description_tooltip": null,
            "layout": "IPY_MODEL_4f4152985815450d9ec6f39d933243bb",
            "placeholder": "​",
            "style": "IPY_MODEL_f92b8b5260f14086931911a085e851c2",
            "value": " 226k/226k [00:00&lt;00:00, 564kB/s]"
          }
        },
        "672c1e39f8fc4e148f7f511e9d5cff78": {
          "model_module": "@jupyter-widgets/controls",
          "model_module_version": "1.5.0",
          "model_name": "HTMLModel",
          "state": {
            "_dom_classes": [],
            "_model_module": "@jupyter-widgets/controls",
            "_model_module_version": "1.5.0",
            "_model_name": "HTMLModel",
            "_view_count": null,
            "_view_module": "@jupyter-widgets/controls",
            "_view_module_version": "1.5.0",
            "_view_name": "HTMLView",
            "description": "",
            "description_tooltip": null,
            "layout": "IPY_MODEL_9215570ac1a84ecc80cb614901e35095",
            "placeholder": "​",
            "style": "IPY_MODEL_72a175cb5ccd494d9f2d47c631d17f43",
            "value": "Downloading: 100%"
          }
        },
        "67d391d0fe0f42af81f1ca55aad3bb29": {
          "model_module": "@jupyter-widgets/controls",
          "model_module_version": "1.5.0",
          "model_name": "FloatProgressModel",
          "state": {
            "_dom_classes": [],
            "_model_module": "@jupyter-widgets/controls",
            "_model_module_version": "1.5.0",
            "_model_name": "FloatProgressModel",
            "_view_count": null,
            "_view_module": "@jupyter-widgets/controls",
            "_view_module_version": "1.5.0",
            "_view_name": "ProgressView",
            "bar_style": "success",
            "description": "",
            "description_tooltip": null,
            "layout": "IPY_MODEL_5b7c901c4bb74492bd94184163185a2f",
            "max": 483,
            "min": 0,
            "orientation": "horizontal",
            "style": "IPY_MODEL_52795178d23e4864b9cfb857f3c53c35",
            "value": 483
          }
        },
        "698558e152674665b301cf1a2a57c5e0": {
          "model_module": "@jupyter-widgets/base",
          "model_module_version": "1.2.0",
          "model_name": "LayoutModel",
          "state": {
            "_model_module": "@jupyter-widgets/base",
            "_model_module_version": "1.2.0",
            "_model_name": "LayoutModel",
            "_view_count": null,
            "_view_module": "@jupyter-widgets/base",
            "_view_module_version": "1.2.0",
            "_view_name": "LayoutView",
            "align_content": null,
            "align_items": null,
            "align_self": null,
            "border": null,
            "bottom": null,
            "display": null,
            "flex": null,
            "flex_flow": null,
            "grid_area": null,
            "grid_auto_columns": null,
            "grid_auto_flow": null,
            "grid_auto_rows": null,
            "grid_column": null,
            "grid_gap": null,
            "grid_row": null,
            "grid_template_areas": null,
            "grid_template_columns": null,
            "grid_template_rows": null,
            "height": null,
            "justify_content": null,
            "justify_items": null,
            "left": null,
            "margin": null,
            "max_height": null,
            "max_width": null,
            "min_height": null,
            "min_width": null,
            "object_fit": null,
            "object_position": null,
            "order": null,
            "overflow": null,
            "overflow_x": null,
            "overflow_y": null,
            "padding": null,
            "right": null,
            "top": null,
            "visibility": null,
            "width": null
          }
        },
        "6c9dd7a0521c44ca919eb4c9c61b746f": {
          "model_module": "@jupyter-widgets/controls",
          "model_module_version": "1.5.0",
          "model_name": "HTMLModel",
          "state": {
            "_dom_classes": [],
            "_model_module": "@jupyter-widgets/controls",
            "_model_module_version": "1.5.0",
            "_model_name": "HTMLModel",
            "_view_count": null,
            "_view_module": "@jupyter-widgets/controls",
            "_view_module_version": "1.5.0",
            "_view_name": "HTMLView",
            "description": "",
            "description_tooltip": null,
            "layout": "IPY_MODEL_e9cad88dd52a4bd69eea3e6a9bb21663",
            "placeholder": "​",
            "style": "IPY_MODEL_102abc7ac62646199525b85a582af5ea",
            "value": "Downloading: 100%"
          }
        },
        "6fe0babc26834eb194cea27dfeb5ce4d": {
          "model_module": "@jupyter-widgets/controls",
          "model_module_version": "1.5.0",
          "model_name": "DescriptionStyleModel",
          "state": {
            "_model_module": "@jupyter-widgets/controls",
            "_model_module_version": "1.5.0",
            "_model_name": "DescriptionStyleModel",
            "_view_count": null,
            "_view_module": "@jupyter-widgets/base",
            "_view_module_version": "1.2.0",
            "_view_name": "StyleView",
            "description_width": ""
          }
        },
        "706a5318655d4331b1e4a264339fa763": {
          "model_module": "@jupyter-widgets/controls",
          "model_module_version": "1.5.0",
          "model_name": "DescriptionStyleModel",
          "state": {
            "_model_module": "@jupyter-widgets/controls",
            "_model_module_version": "1.5.0",
            "_model_name": "DescriptionStyleModel",
            "_view_count": null,
            "_view_module": "@jupyter-widgets/base",
            "_view_module_version": "1.2.0",
            "_view_name": "StyleView",
            "description_width": ""
          }
        },
        "70bc009c469d46a4a44b03feb59d22ed": {
          "model_module": "@jupyter-widgets/controls",
          "model_module_version": "1.5.0",
          "model_name": "HBoxModel",
          "state": {
            "_dom_classes": [],
            "_model_module": "@jupyter-widgets/controls",
            "_model_module_version": "1.5.0",
            "_model_name": "HBoxModel",
            "_view_count": null,
            "_view_module": "@jupyter-widgets/controls",
            "_view_module_version": "1.5.0",
            "_view_name": "HBoxView",
            "box_style": "",
            "children": [
              "IPY_MODEL_f4b8181ad5d24c4fbe53061a70257a90",
              "IPY_MODEL_cab7fe2133744f59bb68918891ebead7",
              "IPY_MODEL_6708362800f5426e898ab05d54a59528"
            ],
            "layout": "IPY_MODEL_27f5ba4173ec4c6db777e68b136f01c4"
          }
        },
        "725e9791b1104621a126452ef1609505": {
          "model_module": "@jupyter-widgets/base",
          "model_module_version": "1.2.0",
          "model_name": "LayoutModel",
          "state": {
            "_model_module": "@jupyter-widgets/base",
            "_model_module_version": "1.2.0",
            "_model_name": "LayoutModel",
            "_view_count": null,
            "_view_module": "@jupyter-widgets/base",
            "_view_module_version": "1.2.0",
            "_view_name": "LayoutView",
            "align_content": null,
            "align_items": null,
            "align_self": null,
            "border": null,
            "bottom": null,
            "display": null,
            "flex": null,
            "flex_flow": null,
            "grid_area": null,
            "grid_auto_columns": null,
            "grid_auto_flow": null,
            "grid_auto_rows": null,
            "grid_column": null,
            "grid_gap": null,
            "grid_row": null,
            "grid_template_areas": null,
            "grid_template_columns": null,
            "grid_template_rows": null,
            "height": null,
            "justify_content": null,
            "justify_items": null,
            "left": null,
            "margin": null,
            "max_height": null,
            "max_width": null,
            "min_height": null,
            "min_width": null,
            "object_fit": null,
            "object_position": null,
            "order": null,
            "overflow": null,
            "overflow_x": null,
            "overflow_y": null,
            "padding": null,
            "right": null,
            "top": null,
            "visibility": null,
            "width": null
          }
        },
        "72a175cb5ccd494d9f2d47c631d17f43": {
          "model_module": "@jupyter-widgets/controls",
          "model_module_version": "1.5.0",
          "model_name": "DescriptionStyleModel",
          "state": {
            "_model_module": "@jupyter-widgets/controls",
            "_model_module_version": "1.5.0",
            "_model_name": "DescriptionStyleModel",
            "_view_count": null,
            "_view_module": "@jupyter-widgets/base",
            "_view_module_version": "1.2.0",
            "_view_name": "StyleView",
            "description_width": ""
          }
        },
        "7349862764874f248a68e675bf9d4890": {
          "model_module": "@jupyter-widgets/controls",
          "model_module_version": "1.5.0",
          "model_name": "HTMLModel",
          "state": {
            "_dom_classes": [],
            "_model_module": "@jupyter-widgets/controls",
            "_model_module_version": "1.5.0",
            "_model_name": "HTMLModel",
            "_view_count": null,
            "_view_module": "@jupyter-widgets/controls",
            "_view_module_version": "1.5.0",
            "_view_name": "HTMLView",
            "description": "",
            "description_tooltip": null,
            "layout": "IPY_MODEL_698558e152674665b301cf1a2a57c5e0",
            "placeholder": "​",
            "style": "IPY_MODEL_41a8f8801bb545b2b7a60c8d3d221475",
            "value": " 455k/455k [00:00&lt;00:00, 940kB/s]"
          }
        },
        "734fe12e9d5540f9be7a0601358165f7": {
          "model_module": "@jupyter-widgets/controls",
          "model_module_version": "1.5.0",
          "model_name": "ProgressStyleModel",
          "state": {
            "_model_module": "@jupyter-widgets/controls",
            "_model_module_version": "1.5.0",
            "_model_name": "ProgressStyleModel",
            "_view_count": null,
            "_view_module": "@jupyter-widgets/base",
            "_view_module_version": "1.2.0",
            "_view_name": "StyleView",
            "bar_color": null,
            "description_width": ""
          }
        },
        "74456e4f737a461d9c7ad5a6b5b13085": {
          "model_module": "@jupyter-widgets/controls",
          "model_module_version": "1.5.0",
          "model_name": "HTMLModel",
          "state": {
            "_dom_classes": [],
            "_model_module": "@jupyter-widgets/controls",
            "_model_module_version": "1.5.0",
            "_model_name": "HTMLModel",
            "_view_count": null,
            "_view_module": "@jupyter-widgets/controls",
            "_view_module_version": "1.5.0",
            "_view_name": "HTMLView",
            "description": "",
            "description_tooltip": null,
            "layout": "IPY_MODEL_725e9791b1104621a126452ef1609505",
            "placeholder": "​",
            "style": "IPY_MODEL_6630031bbb3e4df682d69d99ec1f2df6",
            "value": "Downloading: 100%"
          }
        },
        "775dcd7204bd4ade8d3ddec8e336e6b6": {
          "model_module": "@jupyter-widgets/base",
          "model_module_version": "1.2.0",
          "model_name": "LayoutModel",
          "state": {
            "_model_module": "@jupyter-widgets/base",
            "_model_module_version": "1.2.0",
            "_model_name": "LayoutModel",
            "_view_count": null,
            "_view_module": "@jupyter-widgets/base",
            "_view_module_version": "1.2.0",
            "_view_name": "LayoutView",
            "align_content": null,
            "align_items": null,
            "align_self": null,
            "border": null,
            "bottom": null,
            "display": null,
            "flex": null,
            "flex_flow": null,
            "grid_area": null,
            "grid_auto_columns": null,
            "grid_auto_flow": null,
            "grid_auto_rows": null,
            "grid_column": null,
            "grid_gap": null,
            "grid_row": null,
            "grid_template_areas": null,
            "grid_template_columns": null,
            "grid_template_rows": null,
            "height": null,
            "justify_content": null,
            "justify_items": null,
            "left": null,
            "margin": null,
            "max_height": null,
            "max_width": null,
            "min_height": null,
            "min_width": null,
            "object_fit": null,
            "object_position": null,
            "order": null,
            "overflow": null,
            "overflow_x": null,
            "overflow_y": null,
            "padding": null,
            "right": null,
            "top": null,
            "visibility": null,
            "width": null
          }
        },
        "782c00ec079d4691bfb477fe71890d13": {
          "model_module": "@jupyter-widgets/controls",
          "model_module_version": "1.5.0",
          "model_name": "HTMLModel",
          "state": {
            "_dom_classes": [],
            "_model_module": "@jupyter-widgets/controls",
            "_model_module_version": "1.5.0",
            "_model_name": "HTMLModel",
            "_view_count": null,
            "_view_module": "@jupyter-widgets/controls",
            "_view_module_version": "1.5.0",
            "_view_name": "HTMLView",
            "description": "",
            "description_tooltip": null,
            "layout": "IPY_MODEL_e13f68c9a35f44319db70f4b65544e1a",
            "placeholder": "​",
            "style": "IPY_MODEL_57f5ff590c2242d2bf09ca7f461ea9ad",
            "value": " 28.0/28.0 [00:00&lt;00:00, 670B/s]"
          }
        },
        "789ecb1cbf604904888d18adef450612": {
          "model_module": "@jupyter-widgets/controls",
          "model_module_version": "1.5.0",
          "model_name": "HBoxModel",
          "state": {
            "_dom_classes": [],
            "_model_module": "@jupyter-widgets/controls",
            "_model_module_version": "1.5.0",
            "_model_name": "HBoxModel",
            "_view_count": null,
            "_view_module": "@jupyter-widgets/controls",
            "_view_module_version": "1.5.0",
            "_view_name": "HBoxView",
            "box_style": "",
            "children": [
              "IPY_MODEL_74456e4f737a461d9c7ad5a6b5b13085",
              "IPY_MODEL_67d391d0fe0f42af81f1ca55aad3bb29",
              "IPY_MODEL_16df8513fa2e44fba3ce1608cdfa618e"
            ],
            "layout": "IPY_MODEL_c3107000827845b786144dc960794485"
          }
        },
        "7f87092086d243ffb3516dec3bf2dec1": {
          "model_module": "@jupyter-widgets/base",
          "model_module_version": "1.2.0",
          "model_name": "LayoutModel",
          "state": {
            "_model_module": "@jupyter-widgets/base",
            "_model_module_version": "1.2.0",
            "_model_name": "LayoutModel",
            "_view_count": null,
            "_view_module": "@jupyter-widgets/base",
            "_view_module_version": "1.2.0",
            "_view_name": "LayoutView",
            "align_content": null,
            "align_items": null,
            "align_self": null,
            "border": null,
            "bottom": null,
            "display": null,
            "flex": null,
            "flex_flow": null,
            "grid_area": null,
            "grid_auto_columns": null,
            "grid_auto_flow": null,
            "grid_auto_rows": null,
            "grid_column": null,
            "grid_gap": null,
            "grid_row": null,
            "grid_template_areas": null,
            "grid_template_columns": null,
            "grid_template_rows": null,
            "height": null,
            "justify_content": null,
            "justify_items": null,
            "left": null,
            "margin": null,
            "max_height": null,
            "max_width": null,
            "min_height": null,
            "min_width": null,
            "object_fit": null,
            "object_position": null,
            "order": null,
            "overflow": null,
            "overflow_x": null,
            "overflow_y": null,
            "padding": null,
            "right": null,
            "top": null,
            "visibility": null,
            "width": null
          }
        },
        "800ffe1e8b4344beb16a78488020f0e3": {
          "model_module": "@jupyter-widgets/base",
          "model_module_version": "1.2.0",
          "model_name": "LayoutModel",
          "state": {
            "_model_module": "@jupyter-widgets/base",
            "_model_module_version": "1.2.0",
            "_model_name": "LayoutModel",
            "_view_count": null,
            "_view_module": "@jupyter-widgets/base",
            "_view_module_version": "1.2.0",
            "_view_name": "LayoutView",
            "align_content": null,
            "align_items": null,
            "align_self": null,
            "border": null,
            "bottom": null,
            "display": null,
            "flex": null,
            "flex_flow": null,
            "grid_area": null,
            "grid_auto_columns": null,
            "grid_auto_flow": null,
            "grid_auto_rows": null,
            "grid_column": null,
            "grid_gap": null,
            "grid_row": null,
            "grid_template_areas": null,
            "grid_template_columns": null,
            "grid_template_rows": null,
            "height": null,
            "justify_content": null,
            "justify_items": null,
            "left": null,
            "margin": null,
            "max_height": null,
            "max_width": null,
            "min_height": null,
            "min_width": null,
            "object_fit": null,
            "object_position": null,
            "order": null,
            "overflow": null,
            "overflow_x": null,
            "overflow_y": null,
            "padding": null,
            "right": null,
            "top": null,
            "visibility": null,
            "width": null
          }
        },
        "8629c76447b94433b4be7bc3f6969d48": {
          "model_module": "@jupyter-widgets/base",
          "model_module_version": "1.2.0",
          "model_name": "LayoutModel",
          "state": {
            "_model_module": "@jupyter-widgets/base",
            "_model_module_version": "1.2.0",
            "_model_name": "LayoutModel",
            "_view_count": null,
            "_view_module": "@jupyter-widgets/base",
            "_view_module_version": "1.2.0",
            "_view_name": "LayoutView",
            "align_content": null,
            "align_items": null,
            "align_self": null,
            "border": null,
            "bottom": null,
            "display": null,
            "flex": null,
            "flex_flow": null,
            "grid_area": null,
            "grid_auto_columns": null,
            "grid_auto_flow": null,
            "grid_auto_rows": null,
            "grid_column": null,
            "grid_gap": null,
            "grid_row": null,
            "grid_template_areas": null,
            "grid_template_columns": null,
            "grid_template_rows": null,
            "height": null,
            "justify_content": null,
            "justify_items": null,
            "left": null,
            "margin": null,
            "max_height": null,
            "max_width": null,
            "min_height": null,
            "min_width": null,
            "object_fit": null,
            "object_position": null,
            "order": null,
            "overflow": null,
            "overflow_x": null,
            "overflow_y": null,
            "padding": null,
            "right": null,
            "top": null,
            "visibility": null,
            "width": null
          }
        },
        "9215570ac1a84ecc80cb614901e35095": {
          "model_module": "@jupyter-widgets/base",
          "model_module_version": "1.2.0",
          "model_name": "LayoutModel",
          "state": {
            "_model_module": "@jupyter-widgets/base",
            "_model_module_version": "1.2.0",
            "_model_name": "LayoutModel",
            "_view_count": null,
            "_view_module": "@jupyter-widgets/base",
            "_view_module_version": "1.2.0",
            "_view_name": "LayoutView",
            "align_content": null,
            "align_items": null,
            "align_self": null,
            "border": null,
            "bottom": null,
            "display": null,
            "flex": null,
            "flex_flow": null,
            "grid_area": null,
            "grid_auto_columns": null,
            "grid_auto_flow": null,
            "grid_auto_rows": null,
            "grid_column": null,
            "grid_gap": null,
            "grid_row": null,
            "grid_template_areas": null,
            "grid_template_columns": null,
            "grid_template_rows": null,
            "height": null,
            "justify_content": null,
            "justify_items": null,
            "left": null,
            "margin": null,
            "max_height": null,
            "max_width": null,
            "min_height": null,
            "min_width": null,
            "object_fit": null,
            "object_position": null,
            "order": null,
            "overflow": null,
            "overflow_x": null,
            "overflow_y": null,
            "padding": null,
            "right": null,
            "top": null,
            "visibility": null,
            "width": null
          }
        },
        "9300a6742e724f899b97f18731c89250": {
          "model_module": "@jupyter-widgets/base",
          "model_module_version": "1.2.0",
          "model_name": "LayoutModel",
          "state": {
            "_model_module": "@jupyter-widgets/base",
            "_model_module_version": "1.2.0",
            "_model_name": "LayoutModel",
            "_view_count": null,
            "_view_module": "@jupyter-widgets/base",
            "_view_module_version": "1.2.0",
            "_view_name": "LayoutView",
            "align_content": null,
            "align_items": null,
            "align_self": null,
            "border": null,
            "bottom": null,
            "display": null,
            "flex": null,
            "flex_flow": null,
            "grid_area": null,
            "grid_auto_columns": null,
            "grid_auto_flow": null,
            "grid_auto_rows": null,
            "grid_column": null,
            "grid_gap": null,
            "grid_row": null,
            "grid_template_areas": null,
            "grid_template_columns": null,
            "grid_template_rows": null,
            "height": null,
            "justify_content": null,
            "justify_items": null,
            "left": null,
            "margin": null,
            "max_height": null,
            "max_width": null,
            "min_height": null,
            "min_width": null,
            "object_fit": null,
            "object_position": null,
            "order": null,
            "overflow": null,
            "overflow_x": null,
            "overflow_y": null,
            "padding": null,
            "right": null,
            "top": null,
            "visibility": null,
            "width": null
          }
        },
        "968cb522cad84587b4007b682f9535f3": {
          "model_module": "@jupyter-widgets/base",
          "model_module_version": "1.2.0",
          "model_name": "LayoutModel",
          "state": {
            "_model_module": "@jupyter-widgets/base",
            "_model_module_version": "1.2.0",
            "_model_name": "LayoutModel",
            "_view_count": null,
            "_view_module": "@jupyter-widgets/base",
            "_view_module_version": "1.2.0",
            "_view_name": "LayoutView",
            "align_content": null,
            "align_items": null,
            "align_self": null,
            "border": null,
            "bottom": null,
            "display": null,
            "flex": null,
            "flex_flow": null,
            "grid_area": null,
            "grid_auto_columns": null,
            "grid_auto_flow": null,
            "grid_auto_rows": null,
            "grid_column": null,
            "grid_gap": null,
            "grid_row": null,
            "grid_template_areas": null,
            "grid_template_columns": null,
            "grid_template_rows": null,
            "height": null,
            "justify_content": null,
            "justify_items": null,
            "left": null,
            "margin": null,
            "max_height": null,
            "max_width": null,
            "min_height": null,
            "min_width": null,
            "object_fit": null,
            "object_position": null,
            "order": null,
            "overflow": null,
            "overflow_x": null,
            "overflow_y": null,
            "padding": null,
            "right": null,
            "top": null,
            "visibility": null,
            "width": null
          }
        },
        "98556730c6994bdc9b4287e7136ad3cb": {
          "model_module": "@jupyter-widgets/controls",
          "model_module_version": "1.5.0",
          "model_name": "HTMLModel",
          "state": {
            "_dom_classes": [],
            "_model_module": "@jupyter-widgets/controls",
            "_model_module_version": "1.5.0",
            "_model_name": "HTMLModel",
            "_view_count": null,
            "_view_module": "@jupyter-widgets/controls",
            "_view_module_version": "1.5.0",
            "_view_name": "HTMLView",
            "description": "",
            "description_tooltip": null,
            "layout": "IPY_MODEL_775dcd7204bd4ade8d3ddec8e336e6b6",
            "placeholder": "​",
            "style": "IPY_MODEL_445f29d6cfe945edbe16a06dcf1db174",
            "value": "100%"
          }
        },
        "997516f896914b6d81ba05e410b548b5": {
          "model_module": "@jupyter-widgets/base",
          "model_module_version": "1.2.0",
          "model_name": "LayoutModel",
          "state": {
            "_model_module": "@jupyter-widgets/base",
            "_model_module_version": "1.2.0",
            "_model_name": "LayoutModel",
            "_view_count": null,
            "_view_module": "@jupyter-widgets/base",
            "_view_module_version": "1.2.0",
            "_view_name": "LayoutView",
            "align_content": null,
            "align_items": null,
            "align_self": null,
            "border": null,
            "bottom": null,
            "display": null,
            "flex": null,
            "flex_flow": null,
            "grid_area": null,
            "grid_auto_columns": null,
            "grid_auto_flow": null,
            "grid_auto_rows": null,
            "grid_column": null,
            "grid_gap": null,
            "grid_row": null,
            "grid_template_areas": null,
            "grid_template_columns": null,
            "grid_template_rows": null,
            "height": null,
            "justify_content": null,
            "justify_items": null,
            "left": null,
            "margin": null,
            "max_height": null,
            "max_width": null,
            "min_height": null,
            "min_width": null,
            "object_fit": null,
            "object_position": null,
            "order": null,
            "overflow": null,
            "overflow_x": null,
            "overflow_y": null,
            "padding": null,
            "right": null,
            "top": null,
            "visibility": null,
            "width": null
          }
        },
        "a562683a464445a2a4d46ab95586e114": {
          "model_module": "@jupyter-widgets/controls",
          "model_module_version": "1.5.0",
          "model_name": "HBoxModel",
          "state": {
            "_dom_classes": [],
            "_model_module": "@jupyter-widgets/controls",
            "_model_module_version": "1.5.0",
            "_model_name": "HBoxModel",
            "_view_count": null,
            "_view_module": "@jupyter-widgets/controls",
            "_view_module_version": "1.5.0",
            "_view_name": "HBoxView",
            "box_style": "",
            "children": [
              "IPY_MODEL_98556730c6994bdc9b4287e7136ad3cb",
              "IPY_MODEL_24a8a5a3d9bc4afd8d4524dc8edf5e68",
              "IPY_MODEL_0bec622050ae40f98d21d9f1870dfdb2"
            ],
            "layout": "IPY_MODEL_61ae3901d5cf4251b6be7595fbdb8fc3"
          }
        },
        "a7af8746b64c44a5a9bccb74e9222d08": {
          "model_module": "@jupyter-widgets/controls",
          "model_module_version": "1.5.0",
          "model_name": "HTMLModel",
          "state": {
            "_dom_classes": [],
            "_model_module": "@jupyter-widgets/controls",
            "_model_module_version": "1.5.0",
            "_model_name": "HTMLModel",
            "_view_count": null,
            "_view_module": "@jupyter-widgets/controls",
            "_view_module_version": "1.5.0",
            "_view_name": "HTMLView",
            "description": "",
            "description_tooltip": null,
            "layout": "IPY_MODEL_afd2398079854be5a6f9c3452a5c7778",
            "placeholder": "​",
            "style": "IPY_MODEL_60983d9887184bec87433cd38018de60",
            "value": " 3/3 [00:00&lt;00:00,  6.95ba/s]"
          }
        },
        "afd2398079854be5a6f9c3452a5c7778": {
          "model_module": "@jupyter-widgets/base",
          "model_module_version": "1.2.0",
          "model_name": "LayoutModel",
          "state": {
            "_model_module": "@jupyter-widgets/base",
            "_model_module_version": "1.2.0",
            "_model_name": "LayoutModel",
            "_view_count": null,
            "_view_module": "@jupyter-widgets/base",
            "_view_module_version": "1.2.0",
            "_view_name": "LayoutView",
            "align_content": null,
            "align_items": null,
            "align_self": null,
            "border": null,
            "bottom": null,
            "display": null,
            "flex": null,
            "flex_flow": null,
            "grid_area": null,
            "grid_auto_columns": null,
            "grid_auto_flow": null,
            "grid_auto_rows": null,
            "grid_column": null,
            "grid_gap": null,
            "grid_row": null,
            "grid_template_areas": null,
            "grid_template_columns": null,
            "grid_template_rows": null,
            "height": null,
            "justify_content": null,
            "justify_items": null,
            "left": null,
            "margin": null,
            "max_height": null,
            "max_width": null,
            "min_height": null,
            "min_width": null,
            "object_fit": null,
            "object_position": null,
            "order": null,
            "overflow": null,
            "overflow_x": null,
            "overflow_y": null,
            "padding": null,
            "right": null,
            "top": null,
            "visibility": null,
            "width": null
          }
        },
        "b65362fd5a0f433fa1321a60f48693ff": {
          "model_module": "@jupyter-widgets/controls",
          "model_module_version": "1.5.0",
          "model_name": "ProgressStyleModel",
          "state": {
            "_model_module": "@jupyter-widgets/controls",
            "_model_module_version": "1.5.0",
            "_model_name": "ProgressStyleModel",
            "_view_count": null,
            "_view_module": "@jupyter-widgets/base",
            "_view_module_version": "1.2.0",
            "_view_name": "StyleView",
            "bar_color": null,
            "description_width": ""
          }
        },
        "c1b332bccaab4f0486a372436aae1c20": {
          "model_module": "@jupyter-widgets/controls",
          "model_module_version": "1.5.0",
          "model_name": "FloatProgressModel",
          "state": {
            "_dom_classes": [],
            "_model_module": "@jupyter-widgets/controls",
            "_model_module_version": "1.5.0",
            "_model_name": "FloatProgressModel",
            "_view_count": null,
            "_view_module": "@jupyter-widgets/controls",
            "_view_module_version": "1.5.0",
            "_view_name": "ProgressView",
            "bar_style": "success",
            "description": "",
            "description_tooltip": null,
            "layout": "IPY_MODEL_2da1b0209c954e4cbbf79804f4fa8738",
            "max": 267967963,
            "min": 0,
            "orientation": "horizontal",
            "style": "IPY_MODEL_734fe12e9d5540f9be7a0601358165f7",
            "value": 267967963
          }
        },
        "c3107000827845b786144dc960794485": {
          "model_module": "@jupyter-widgets/base",
          "model_module_version": "1.2.0",
          "model_name": "LayoutModel",
          "state": {
            "_model_module": "@jupyter-widgets/base",
            "_model_module_version": "1.2.0",
            "_model_name": "LayoutModel",
            "_view_count": null,
            "_view_module": "@jupyter-widgets/base",
            "_view_module_version": "1.2.0",
            "_view_name": "LayoutView",
            "align_content": null,
            "align_items": null,
            "align_self": null,
            "border": null,
            "bottom": null,
            "display": null,
            "flex": null,
            "flex_flow": null,
            "grid_area": null,
            "grid_auto_columns": null,
            "grid_auto_flow": null,
            "grid_auto_rows": null,
            "grid_column": null,
            "grid_gap": null,
            "grid_row": null,
            "grid_template_areas": null,
            "grid_template_columns": null,
            "grid_template_rows": null,
            "height": null,
            "justify_content": null,
            "justify_items": null,
            "left": null,
            "margin": null,
            "max_height": null,
            "max_width": null,
            "min_height": null,
            "min_width": null,
            "object_fit": null,
            "object_position": null,
            "order": null,
            "overflow": null,
            "overflow_x": null,
            "overflow_y": null,
            "padding": null,
            "right": null,
            "top": null,
            "visibility": null,
            "width": null
          }
        },
        "cab7fe2133744f59bb68918891ebead7": {
          "model_module": "@jupyter-widgets/controls",
          "model_module_version": "1.5.0",
          "model_name": "FloatProgressModel",
          "state": {
            "_dom_classes": [],
            "_model_module": "@jupyter-widgets/controls",
            "_model_module_version": "1.5.0",
            "_model_name": "FloatProgressModel",
            "_view_count": null,
            "_view_module": "@jupyter-widgets/controls",
            "_view_module_version": "1.5.0",
            "_view_name": "ProgressView",
            "bar_style": "success",
            "description": "",
            "description_tooltip": null,
            "layout": "IPY_MODEL_229aeb52da854da5ae3ad1d2cd45b799",
            "max": 231508,
            "min": 0,
            "orientation": "horizontal",
            "style": "IPY_MODEL_e5de9bb3d5d146e3ba7d062eb14ad1f0",
            "value": 231508
          }
        },
        "d3e28129b4c34971ae22e52cf7918e74": {
          "model_module": "@jupyter-widgets/controls",
          "model_module_version": "1.5.0",
          "model_name": "FloatProgressModel",
          "state": {
            "_dom_classes": [],
            "_model_module": "@jupyter-widgets/controls",
            "_model_module_version": "1.5.0",
            "_model_name": "FloatProgressModel",
            "_view_count": null,
            "_view_module": "@jupyter-widgets/controls",
            "_view_module_version": "1.5.0",
            "_view_name": "ProgressView",
            "bar_style": "success",
            "description": "",
            "description_tooltip": null,
            "layout": "IPY_MODEL_800ffe1e8b4344beb16a78488020f0e3",
            "max": 3,
            "min": 0,
            "orientation": "horizontal",
            "style": "IPY_MODEL_fb7c341083114ba3ac6c8573b18efce1",
            "value": 3
          }
        },
        "d6f14db5d99b4e9b8285dffc5a2d4cdb": {
          "model_module": "@jupyter-widgets/controls",
          "model_module_version": "1.5.0",
          "model_name": "FloatProgressModel",
          "state": {
            "_dom_classes": [],
            "_model_module": "@jupyter-widgets/controls",
            "_model_module_version": "1.5.0",
            "_model_name": "FloatProgressModel",
            "_view_count": null,
            "_view_module": "@jupyter-widgets/controls",
            "_view_module_version": "1.5.0",
            "_view_name": "ProgressView",
            "bar_style": "success",
            "description": "",
            "description_tooltip": null,
            "layout": "IPY_MODEL_610eed017c0b42f7a2508ce3550e2718",
            "max": 466062,
            "min": 0,
            "orientation": "horizontal",
            "style": "IPY_MODEL_b65362fd5a0f433fa1321a60f48693ff",
            "value": 466062
          }
        },
        "db3fe7a2fd624818a6db50fd28d850c7": {
          "model_module": "@jupyter-widgets/base",
          "model_module_version": "1.2.0",
          "model_name": "LayoutModel",
          "state": {
            "_model_module": "@jupyter-widgets/base",
            "_model_module_version": "1.2.0",
            "_model_name": "LayoutModel",
            "_view_count": null,
            "_view_module": "@jupyter-widgets/base",
            "_view_module_version": "1.2.0",
            "_view_name": "LayoutView",
            "align_content": null,
            "align_items": null,
            "align_self": null,
            "border": null,
            "bottom": null,
            "display": null,
            "flex": null,
            "flex_flow": null,
            "grid_area": null,
            "grid_auto_columns": null,
            "grid_auto_flow": null,
            "grid_auto_rows": null,
            "grid_column": null,
            "grid_gap": null,
            "grid_row": null,
            "grid_template_areas": null,
            "grid_template_columns": null,
            "grid_template_rows": null,
            "height": null,
            "justify_content": null,
            "justify_items": null,
            "left": null,
            "margin": null,
            "max_height": null,
            "max_width": null,
            "min_height": null,
            "min_width": null,
            "object_fit": null,
            "object_position": null,
            "order": null,
            "overflow": null,
            "overflow_x": null,
            "overflow_y": null,
            "padding": null,
            "right": null,
            "top": null,
            "visibility": null,
            "width": null
          }
        },
        "dbc07835fa374012966540bd473997ad": {
          "model_module": "@jupyter-widgets/controls",
          "model_module_version": "1.5.0",
          "model_name": "VBoxModel",
          "state": {
            "_dom_classes": [],
            "_model_module": "@jupyter-widgets/controls",
            "_model_module_version": "1.5.0",
            "_model_name": "VBoxModel",
            "_view_count": null,
            "_view_module": "@jupyter-widgets/controls",
            "_view_module_version": "1.5.0",
            "_view_name": "VBoxView",
            "box_style": "",
            "children": [
              "IPY_MODEL_3147fdcb2c8549b0b57f7ccd56958de9",
              "IPY_MODEL_fd9311a69ccb4cec9e568cc88d973550"
            ],
            "layout": "IPY_MODEL_10b51e98bc6743ebb92fae29e7c78407"
          }
        },
        "de35766b108b4bbeaf9839c6927a997d": {
          "model_module": "@jupyter-widgets/base",
          "model_module_version": "1.2.0",
          "model_name": "LayoutModel",
          "state": {
            "_model_module": "@jupyter-widgets/base",
            "_model_module_version": "1.2.0",
            "_model_name": "LayoutModel",
            "_view_count": null,
            "_view_module": "@jupyter-widgets/base",
            "_view_module_version": "1.2.0",
            "_view_name": "LayoutView",
            "align_content": null,
            "align_items": null,
            "align_self": null,
            "border": null,
            "bottom": null,
            "display": null,
            "flex": null,
            "flex_flow": null,
            "grid_area": null,
            "grid_auto_columns": null,
            "grid_auto_flow": null,
            "grid_auto_rows": null,
            "grid_column": null,
            "grid_gap": null,
            "grid_row": null,
            "grid_template_areas": null,
            "grid_template_columns": null,
            "grid_template_rows": null,
            "height": null,
            "justify_content": null,
            "justify_items": null,
            "left": null,
            "margin": null,
            "max_height": null,
            "max_width": null,
            "min_height": null,
            "min_width": null,
            "object_fit": null,
            "object_position": null,
            "order": null,
            "overflow": null,
            "overflow_x": null,
            "overflow_y": null,
            "padding": null,
            "right": null,
            "top": null,
            "visibility": null,
            "width": null
          }
        },
        "e13f68c9a35f44319db70f4b65544e1a": {
          "model_module": "@jupyter-widgets/base",
          "model_module_version": "1.2.0",
          "model_name": "LayoutModel",
          "state": {
            "_model_module": "@jupyter-widgets/base",
            "_model_module_version": "1.2.0",
            "_model_name": "LayoutModel",
            "_view_count": null,
            "_view_module": "@jupyter-widgets/base",
            "_view_module_version": "1.2.0",
            "_view_name": "LayoutView",
            "align_content": null,
            "align_items": null,
            "align_self": null,
            "border": null,
            "bottom": null,
            "display": null,
            "flex": null,
            "flex_flow": null,
            "grid_area": null,
            "grid_auto_columns": null,
            "grid_auto_flow": null,
            "grid_auto_rows": null,
            "grid_column": null,
            "grid_gap": null,
            "grid_row": null,
            "grid_template_areas": null,
            "grid_template_columns": null,
            "grid_template_rows": null,
            "height": null,
            "justify_content": null,
            "justify_items": null,
            "left": null,
            "margin": null,
            "max_height": null,
            "max_width": null,
            "min_height": null,
            "min_width": null,
            "object_fit": null,
            "object_position": null,
            "order": null,
            "overflow": null,
            "overflow_x": null,
            "overflow_y": null,
            "padding": null,
            "right": null,
            "top": null,
            "visibility": null,
            "width": null
          }
        },
        "e22894d4ab4a47a598ad939af2ad56fe": {
          "model_module": "@jupyter-widgets/controls",
          "model_module_version": "1.5.0",
          "model_name": "HTMLModel",
          "state": {
            "_dom_classes": [],
            "_model_module": "@jupyter-widgets/controls",
            "_model_module_version": "1.5.0",
            "_model_name": "HTMLModel",
            "_view_count": null,
            "_view_module": "@jupyter-widgets/controls",
            "_view_module_version": "1.5.0",
            "_view_name": "HTMLView",
            "description": "",
            "description_tooltip": null,
            "layout": "IPY_MODEL_f4b24d93ad3e405bac4d3ab1e8b51708",
            "placeholder": "​",
            "style": "IPY_MODEL_06009e80ad4a43bfac0012ea57b782b4",
            "value": "100%"
          }
        },
        "e5de9bb3d5d146e3ba7d062eb14ad1f0": {
          "model_module": "@jupyter-widgets/controls",
          "model_module_version": "1.5.0",
          "model_name": "ProgressStyleModel",
          "state": {
            "_model_module": "@jupyter-widgets/controls",
            "_model_module_version": "1.5.0",
            "_model_name": "ProgressStyleModel",
            "_view_count": null,
            "_view_module": "@jupyter-widgets/base",
            "_view_module_version": "1.2.0",
            "_view_name": "StyleView",
            "bar_color": null,
            "description_width": ""
          }
        },
        "e9cad88dd52a4bd69eea3e6a9bb21663": {
          "model_module": "@jupyter-widgets/base",
          "model_module_version": "1.2.0",
          "model_name": "LayoutModel",
          "state": {
            "_model_module": "@jupyter-widgets/base",
            "_model_module_version": "1.2.0",
            "_model_name": "LayoutModel",
            "_view_count": null,
            "_view_module": "@jupyter-widgets/base",
            "_view_module_version": "1.2.0",
            "_view_name": "LayoutView",
            "align_content": null,
            "align_items": null,
            "align_self": null,
            "border": null,
            "bottom": null,
            "display": null,
            "flex": null,
            "flex_flow": null,
            "grid_area": null,
            "grid_auto_columns": null,
            "grid_auto_flow": null,
            "grid_auto_rows": null,
            "grid_column": null,
            "grid_gap": null,
            "grid_row": null,
            "grid_template_areas": null,
            "grid_template_columns": null,
            "grid_template_rows": null,
            "height": null,
            "justify_content": null,
            "justify_items": null,
            "left": null,
            "margin": null,
            "max_height": null,
            "max_width": null,
            "min_height": null,
            "min_width": null,
            "object_fit": null,
            "object_position": null,
            "order": null,
            "overflow": null,
            "overflow_x": null,
            "overflow_y": null,
            "padding": null,
            "right": null,
            "top": null,
            "visibility": null,
            "width": null
          }
        },
        "ead6bf9e988944cea7e15818b10469ea": {
          "model_module": "@jupyter-widgets/controls",
          "model_module_version": "1.5.0",
          "model_name": "DescriptionStyleModel",
          "state": {
            "_model_module": "@jupyter-widgets/controls",
            "_model_module_version": "1.5.0",
            "_model_name": "DescriptionStyleModel",
            "_view_count": null,
            "_view_module": "@jupyter-widgets/base",
            "_view_module_version": "1.2.0",
            "_view_name": "StyleView",
            "description_width": ""
          }
        },
        "ee89a061b3b74dac8e5223f9fbaada51": {
          "model_module": "@jupyter-widgets/controls",
          "model_module_version": "1.5.0",
          "model_name": "HBoxModel",
          "state": {
            "_dom_classes": [],
            "_model_module": "@jupyter-widgets/controls",
            "_model_module_version": "1.5.0",
            "_model_name": "HBoxModel",
            "_view_count": null,
            "_view_module": "@jupyter-widgets/controls",
            "_view_module_version": "1.5.0",
            "_view_name": "HBoxView",
            "box_style": "",
            "children": [
              "IPY_MODEL_54f09d4bcf8f486aafb00ff51eac07d9",
              "IPY_MODEL_41a0bfe33eba432087b0f77da3009d4c",
              "IPY_MODEL_782c00ec079d4691bfb477fe71890d13"
            ],
            "layout": "IPY_MODEL_db3fe7a2fd624818a6db50fd28d850c7"
          }
        },
        "f0bb7c1432694be8b691e0553dbcdc30": {
          "model_module": "@jupyter-widgets/base",
          "model_module_version": "1.2.0",
          "model_name": "LayoutModel",
          "state": {
            "_model_module": "@jupyter-widgets/base",
            "_model_module_version": "1.2.0",
            "_model_name": "LayoutModel",
            "_view_count": null,
            "_view_module": "@jupyter-widgets/base",
            "_view_module_version": "1.2.0",
            "_view_name": "LayoutView",
            "align_content": null,
            "align_items": null,
            "align_self": null,
            "border": null,
            "bottom": null,
            "display": null,
            "flex": null,
            "flex_flow": null,
            "grid_area": null,
            "grid_auto_columns": null,
            "grid_auto_flow": null,
            "grid_auto_rows": null,
            "grid_column": null,
            "grid_gap": null,
            "grid_row": null,
            "grid_template_areas": null,
            "grid_template_columns": null,
            "grid_template_rows": null,
            "height": null,
            "justify_content": null,
            "justify_items": null,
            "left": null,
            "margin": null,
            "max_height": null,
            "max_width": null,
            "min_height": null,
            "min_width": null,
            "object_fit": null,
            "object_position": null,
            "order": null,
            "overflow": null,
            "overflow_x": null,
            "overflow_y": null,
            "padding": null,
            "right": null,
            "top": null,
            "visibility": null,
            "width": null
          }
        },
        "f4b24d93ad3e405bac4d3ab1e8b51708": {
          "model_module": "@jupyter-widgets/base",
          "model_module_version": "1.2.0",
          "model_name": "LayoutModel",
          "state": {
            "_model_module": "@jupyter-widgets/base",
            "_model_module_version": "1.2.0",
            "_model_name": "LayoutModel",
            "_view_count": null,
            "_view_module": "@jupyter-widgets/base",
            "_view_module_version": "1.2.0",
            "_view_name": "LayoutView",
            "align_content": null,
            "align_items": null,
            "align_self": null,
            "border": null,
            "bottom": null,
            "display": null,
            "flex": null,
            "flex_flow": null,
            "grid_area": null,
            "grid_auto_columns": null,
            "grid_auto_flow": null,
            "grid_auto_rows": null,
            "grid_column": null,
            "grid_gap": null,
            "grid_row": null,
            "grid_template_areas": null,
            "grid_template_columns": null,
            "grid_template_rows": null,
            "height": null,
            "justify_content": null,
            "justify_items": null,
            "left": null,
            "margin": null,
            "max_height": null,
            "max_width": null,
            "min_height": null,
            "min_width": null,
            "object_fit": null,
            "object_position": null,
            "order": null,
            "overflow": null,
            "overflow_x": null,
            "overflow_y": null,
            "padding": null,
            "right": null,
            "top": null,
            "visibility": null,
            "width": null
          }
        },
        "f4b8181ad5d24c4fbe53061a70257a90": {
          "model_module": "@jupyter-widgets/controls",
          "model_module_version": "1.5.0",
          "model_name": "HTMLModel",
          "state": {
            "_dom_classes": [],
            "_model_module": "@jupyter-widgets/controls",
            "_model_module_version": "1.5.0",
            "_model_name": "HTMLModel",
            "_view_count": null,
            "_view_module": "@jupyter-widgets/controls",
            "_view_module_version": "1.5.0",
            "_view_name": "HTMLView",
            "description": "",
            "description_tooltip": null,
            "layout": "IPY_MODEL_968cb522cad84587b4007b682f9535f3",
            "placeholder": "​",
            "style": "IPY_MODEL_0cecb6fcfb274d59b02743e8f8f9cb2b",
            "value": "Downloading: 100%"
          }
        },
        "f713d1f9162d41de92556b5b40a88c39": {
          "model_module": "@jupyter-widgets/controls",
          "model_module_version": "1.5.0",
          "model_name": "HBoxModel",
          "state": {
            "_dom_classes": [],
            "_model_module": "@jupyter-widgets/controls",
            "_model_module_version": "1.5.0",
            "_model_name": "HBoxModel",
            "_view_count": null,
            "_view_module": "@jupyter-widgets/controls",
            "_view_module_version": "1.5.0",
            "_view_name": "HBoxView",
            "box_style": "",
            "children": [
              "IPY_MODEL_6c9dd7a0521c44ca919eb4c9c61b746f",
              "IPY_MODEL_c1b332bccaab4f0486a372436aae1c20",
              "IPY_MODEL_58c1e5054e304385b3f811b92907b526"
            ],
            "layout": "IPY_MODEL_997516f896914b6d81ba05e410b548b5"
          }
        },
        "f92b8b5260f14086931911a085e851c2": {
          "model_module": "@jupyter-widgets/controls",
          "model_module_version": "1.5.0",
          "model_name": "DescriptionStyleModel",
          "state": {
            "_model_module": "@jupyter-widgets/controls",
            "_model_module_version": "1.5.0",
            "_model_name": "DescriptionStyleModel",
            "_view_count": null,
            "_view_module": "@jupyter-widgets/base",
            "_view_module_version": "1.2.0",
            "_view_name": "StyleView",
            "description_width": ""
          }
        },
        "fab39126befa43128092cae6cbfe6023": {
          "model_module": "@jupyter-widgets/controls",
          "model_module_version": "1.5.0",
          "model_name": "ProgressStyleModel",
          "state": {
            "_model_module": "@jupyter-widgets/controls",
            "_model_module_version": "1.5.0",
            "_model_name": "ProgressStyleModel",
            "_view_count": null,
            "_view_module": "@jupyter-widgets/base",
            "_view_module_version": "1.2.0",
            "_view_name": "StyleView",
            "bar_color": null,
            "description_width": ""
          }
        },
        "fb7c341083114ba3ac6c8573b18efce1": {
          "model_module": "@jupyter-widgets/controls",
          "model_module_version": "1.5.0",
          "model_name": "ProgressStyleModel",
          "state": {
            "_model_module": "@jupyter-widgets/controls",
            "_model_module_version": "1.5.0",
            "_model_name": "ProgressStyleModel",
            "_view_count": null,
            "_view_module": "@jupyter-widgets/base",
            "_view_module_version": "1.2.0",
            "_view_name": "StyleView",
            "bar_color": null,
            "description_width": ""
          }
        },
        "fd9311a69ccb4cec9e568cc88d973550": {
          "model_module": "@jupyter-widgets/controls",
          "model_module_version": "1.5.0",
          "model_name": "FloatProgressModel",
          "state": {
            "_dom_classes": [],
            "_model_module": "@jupyter-widgets/controls",
            "_model_module_version": "1.5.0",
            "_model_name": "FloatProgressModel",
            "_view_count": null,
            "_view_module": "@jupyter-widgets/controls",
            "_view_module_version": "1.5.0",
            "_view_name": "ProgressView",
            "bar_style": "",
            "description": "",
            "description_tooltip": null,
            "layout": "IPY_MODEL_8629c76447b94433b4be7bc3f6969d48",
            "max": 1,
            "min": 0,
            "orientation": "horizontal",
            "style": "IPY_MODEL_4dcfe1c4458447a9b58126c9f35e22ce",
            "value": 1
          }
        }
      }
    }
  },
  "nbformat": 4,
  "nbformat_minor": 0
}
