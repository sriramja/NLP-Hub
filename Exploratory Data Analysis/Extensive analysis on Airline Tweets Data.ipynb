{
  "cells": [
    {
      "cell_type": "code",
      "execution_count": 2,
      "metadata": {
        "colab": {
          "base_uri": "https://localhost:8080/"
        },
        "id": "b2Kqk9MmZ8fb",
        "outputId": "df5f017d-0a52-49e6-dd12-47e646a47a0a"
      },
      "outputs": [
        {
          "name": "stdout",
          "output_type": "stream",
          "text": [
            "Count of Data Samples: 14640\n"
          ]
        }
      ],
      "source": [
        "import pandas as pd\n",
        "\n",
        "columns = ['tweet_id','airline_sentiment','airline_sentiment_confidence','negativereason','negativereason_confidence','airline','airline_sentiment_gold','name','negativereason_gold','retweet_count','text','tweet_location','user_timezone','tweet_created']\n",
        "\n",
        "df = pd.read_csv(\"/content/Tweets.csv\", usecols= columns)\n",
        "\n",
        "print(\"Count of Data Samples:\", len(df))"
      ]
    },
    {
      "cell_type": "code",
      "execution_count": 3,
      "metadata": {
        "colab": {
          "base_uri": "https://localhost:8080/"
        },
        "id": "0GdW9DkPul7A",
        "outputId": "2371371c-bb80-405c-ce0c-71adfa15f474"
      },
      "outputs": [
        {
          "name": "stderr",
          "output_type": "stream",
          "text": [
            "/usr/local/lib/python3.7/dist-packages/ipykernel_launcher.py:4: FutureWarning: Passing a negative integer is deprecated in version 1.0 and will not be supported in future version. Instead, use None to not limit the column width.\n",
            "  after removing the cwd from sys.path.\n"
          ]
        }
      ],
      "source": [
        "pd.set_option('display.max_rows', None)\n",
        "# pd.set_option('display.max_columns', None)\n",
        "pd.set_option('display.width', None)\n",
        "pd.set_option('display.max_colwidth', -1)"
      ]
    },
    {
      "cell_type": "code",
      "execution_count": 4,
      "metadata": {
        "colab": {
          "base_uri": "https://localhost:8080/"
        },
        "id": "-0PQBqGacP7S",
        "outputId": "b5304974-add6-4faa-d109-ffc2cb37029d"
      },
      "outputs": [
        {
          "name": "stdout",
          "output_type": "stream",
          "text": [
            "Number of Unique 'Airline Sentiment' values:  3\n",
            "Number of Unique 'Negative Reason' values:  11\n"
          ]
        }
      ],
      "source": [
        "airline_sentiment = list(df['airline_sentiment'])\n",
        "negativereason = list(df['negativereason'])\n",
        "\n",
        "airline_sentiment_unique = list(set(airline_sentiment))\n",
        "negativereason_unique = list(set(negativereason))\n",
        "\n",
        "print(\"Number of Unique 'Airline Sentiment' values: \",len(airline_sentiment_unique))\n",
        "print(\"Number of Unique 'Negative Reason' values: \",len(negativereason_unique))"
      ]
    },
    {
      "cell_type": "code",
      "execution_count": 5,
      "metadata": {
        "colab": {
          "base_uri": "https://localhost:8080/"
        },
        "id": "oRIJ8Sh6dMr0",
        "outputId": "188ec7e9-8ae2-4b39-8d78-f77e76b5d7fe"
      },
      "outputs": [
        {
          "name": "stdout",
          "output_type": "stream",
          "text": [
            "Frequency of 'Airline Sentiment' values:  {'neutral': 3099, 'positive': 2363, 'negative': 9178}\n",
            "\n",
            "Frequency of 'Negative Reason' values:  {nan: 5462, 'Bad Flight': 580, \"Can't Tell\": 1190, 'Late Flight': 1665, 'Customer Service Issue': 2910, 'Flight Booking Problems': 529, 'Lost Luggage': 724, 'Flight Attendant Complaints': 481, 'Cancelled Flight': 847, 'Damaged Luggage': 74, 'longlines': 178}\n",
            "\n",
            "Most frequent 'Airline Sentiment' and its frequency :  ['negative', 9178]\n",
            "\n",
            "Most frequent 'Negative Reason' and its frequency :  [nan, 5462]\n"
          ]
        }
      ],
      "source": [
        "from collections import  Counter\n",
        "\n",
        "airline_sentiment_fd = Counter(airline_sentiment)\n",
        "negativereason_fd = Counter(negativereason)\n",
        "\n",
        "print(\"Frequency of 'Airline Sentiment' values: \", dict(airline_sentiment_fd))\n",
        "print(\"\\nFrequency of 'Negative Reason' values: \", dict(negativereason_fd))\n",
        "\n",
        "print(\"\\nMost frequent 'Airline Sentiment' and its frequency : \", list(airline_sentiment_fd.most_common(1)[0]))\n",
        "print(\"\\nMost frequent 'Negative Reason' and its frequency : \", list(negativereason_fd.most_common(1)[0]))"
      ]
    },
    {
      "cell_type": "code",
      "execution_count": 6,
      "metadata": {
        "colab": {
          "base_uri": "https://localhost:8080/"
        },
        "id": "dRTz8zmweqh9",
        "outputId": "39396fb8-0889-4aaa-ca8a-2d80133d6a9b"
      },
      "outputs": [
        {
          "name": "stdout",
          "output_type": "stream",
          "text": [
            "\n",
            "Longest tweet in the dataset:  @USAirways Eyyyy! Cancelled Flightlations, Flight Booking Problemss, reFlight Booking Problemss, but y'all got me on the same flight out tonight (not tomorrow) &amp; the FC upgrade. Thx!\n",
            "\n",
            "Longest tweet length:  186\n",
            "\n",
            "Shortest tweet in the dataset:  @united done\n",
            "\n",
            "Shortest tweet length:  12\n"
          ]
        }
      ],
      "source": [
        "tweets = df['text']\n",
        "\n",
        "max_tweet = max(tweets, key = len)\n",
        "min_tweet = min(tweets, key = len)\n",
        "\n",
        "print(\"\\nLongest tweet in the dataset: \",max_tweet) \n",
        "print(\"\\nLongest tweet length: \",len(max_tweet))\n",
        "print(\"\\nShortest tweet in the dataset: \", min_tweet)\n",
        "print(\"\\nShortest tweet length: \",len(min_tweet))\n"
      ]
    },
    {
      "cell_type": "code",
      "execution_count": 7,
      "metadata": {
        "colab": {
          "base_uri": "https://localhost:8080/",
          "height": 295
        },
        "id": "sgqkxPZGeqfz",
        "outputId": "379cdacc-38d7-426c-9eac-387199e461ab"
      },
      "outputs": [
        {
          "data": {
            "image/png": "[encoded data removed]",
            "text/plain": [
              "<Figure size 432x288 with 1 Axes>"
            ]
          },
          "metadata": {
            "needs_background": "light"
          },
          "output_type": "display_data"
        }
      ],
      "source": [
        "import matplotlib.pyplot as plt\n",
        "import numpy as np\n",
        "\n",
        "tweet_len = [len(i) for i in tweets]\n",
        "\n",
        "nearest_multiple = 5 * round(len(max_tweet)/5)\n",
        "\n",
        "bin = [ j for j in range(1,len(max_tweet),5)]\n",
        "\n",
        "fig, ax = plt.subplots(1, 1)\n",
        "\n",
        "ax.set_title(\"Tweet length distribution\")\n",
        "ax.set_xlabel('Tweet length')\n",
        "ax.set_ylabel('Number of tweets')\n",
        "\n",
        "# print(bin)\n",
        "ax.hist(tweet_len, bins= bin )\n",
        "plt.show() "
      ]
    },
    {
      "cell_type": "markdown",
      "metadata": {
        "id": "3NikyMn0jd8D"
      },
      "source": [
        "#Part B (Add different color & check x axis for sentiments)"
      ]
    },
    {
      "cell_type": "code",
      "execution_count": 8,
      "metadata": {
        "colab": {
          "base_uri": "https://localhost:8080/",
          "height": 175
        },
        "id": "Oo7yeS3k0KHO",
        "outputId": "651960b2-5d0c-4e6a-f700-c219f4d50a59"
      },
      "outputs": [
        {
          "data": {
            "text/html": [
              "<div>\n",
              "<style scoped>\n",
              "    .dataframe tbody tr th:only-of-type {\n",
              "        vertical-align: middle;\n",
              "    }\n",
              "\n",
              "    .dataframe tbody tr th {\n",
              "        vertical-align: top;\n",
              "    }\n",
              "\n",
              "    .dataframe thead th {\n",
              "        text-align: right;\n",
              "    }\n",
              "</style>\n",
              "<table border=\"1\" class=\"dataframe\">\n",
              "  <thead>\n",
              "    <tr style=\"text-align: right;\">\n",
              "      <th></th>\n",
              "      <th>Southwest</th>\n",
              "      <th>Virgin</th>\n",
              "      <th>American</th>\n",
              "      <th>Delta</th>\n",
              "      <th>US Airways</th>\n",
              "      <th>United</th>\n",
              "    </tr>\n",
              "    <tr>\n",
              "      <th>airline_sentiment</th>\n",
              "      <th></th>\n",
              "      <th></th>\n",
              "      <th></th>\n",
              "      <th></th>\n",
              "      <th></th>\n",
              "      <th></th>\n",
              "    </tr>\n",
              "  </thead>\n",
              "  <tbody>\n",
              "    <tr>\n",
              "      <th>negative</th>\n",
              "      <td>1186</td>\n",
              "      <td>181</td>\n",
              "      <td>1960</td>\n",
              "      <td>955</td>\n",
              "      <td>2263</td>\n",
              "      <td>2633</td>\n",
              "    </tr>\n",
              "    <tr>\n",
              "      <th>neutral</th>\n",
              "      <td>664</td>\n",
              "      <td>171</td>\n",
              "      <td>463</td>\n",
              "      <td>723</td>\n",
              "      <td>381</td>\n",
              "      <td>697</td>\n",
              "    </tr>\n",
              "    <tr>\n",
              "      <th>positive</th>\n",
              "      <td>570</td>\n",
              "      <td>152</td>\n",
              "      <td>336</td>\n",
              "      <td>544</td>\n",
              "      <td>269</td>\n",
              "      <td>492</td>\n",
              "    </tr>\n",
              "  </tbody>\n",
              "</table>\n",
              "</div>"
            ],
            "text/plain": [
              "                   Southwest  Virgin  American  Delta  US Airways  United\n",
              "airline_sentiment                                                        \n",
              "negative           1186       181     1960      955    2263        2633  \n",
              "neutral            664        171     463       723    381         697   \n",
              "positive           570        152     336       544    269         492   "
            ]
          },
          "execution_count": 8,
          "metadata": {},
          "output_type": "execute_result"
        }
      ],
      "source": [
        "df2 = df[['airline','airline_sentiment']]\n",
        "\n",
        "df_virgin = df2[df['airline'] == 'Virgin America']\n",
        "df_american = df2[df['airline'] == 'American']\n",
        "df_Delta = df2[df['airline'] == 'Delta']\n",
        "df_Airways = df2[df['airline'] == 'US Airways']\n",
        "df_United = df2[df['airline'] == 'United']\n",
        "df_Southwest = df2[df['airline'] == 'Southwest']\n",
        "\n",
        "df_Southwest = df_Southwest.groupby(['airline_sentiment']).count()\n",
        "df_Southwest= df_Southwest.rename(columns={\"airline\": \"Southwest\"})\n",
        "df_virgin = df_virgin.groupby(['airline_sentiment']).count()\n",
        "df_virgin = df_virgin.rename(columns={\"airline\": \"Virgin\"})\n",
        "df_american = df_american.groupby(['airline_sentiment']).count()\n",
        "df_american = df_american.rename(columns={\"airline\": \"American\"})\n",
        "df_Delta = df_Delta.groupby(['airline_sentiment']).count()\n",
        "df_Delta = df_Delta.rename(columns={\"airline\": \"Delta\"})\n",
        "df_Airways = df_Airways.groupby(['airline_sentiment']).count()\n",
        "df_Airways = df_Airways.rename(columns={\"airline\": \"US Airways\"})\n",
        "df_United = df_United.groupby(['airline_sentiment']).count()\n",
        "df_United = df_United.rename(columns={\"airline\": \"United\"})\n",
        "\n",
        "df_final = pd.concat([df_Southwest, df_virgin, df_american, df_Delta, df_Airways, df_United], axis=1)\n",
        "df_final"
      ]
    },
    {
      "cell_type": "code",
      "execution_count": 9,
      "metadata": {
        "colab": {
          "base_uri": "https://localhost:8080/",
          "height": 520
        },
        "id": "Rpe4xw3pjb5w",
        "outputId": "7e29f22a-8a26-49f1-a5e6-75b0997d1daf"
      },
      "outputs": [
        {
          "data": {
            "image/png": "[encoded data removed]",
            "text/plain": [
              "<Figure size 1476x756 with 6 Axes>"
            ]
          },
          "metadata": {
            "needs_background": "light"
          },
          "output_type": "display_data"
        }
      ],
      "source": [
        "import pandas as pd\n",
        "import numpy as np\n",
        "import matplotlib.pyplot as plt\n",
        "\n",
        "def draw_histograms(df, variables, n_rows, n_cols):\n",
        "    fig=plt.figure()\n",
        "    colors = ['orange','green','red']\n",
        "    for i, var_name in enumerate(variables):\n",
        "        ax=fig.add_subplot(n_rows,n_cols,i+1)\n",
        "        # plt.hist(ax=ax, colors = colors)\n",
        "        my_colors = ['green','red','orange']\n",
        "        df[var_name].plot(kind='bar', stacked=True, color=my_colors)\n",
        "        \n",
        "        ax.set_xlabel('Sentiment')\n",
        "        ax.set_ylabel('Count')\n",
        "        ax.set_title(var_name+\" Distribution\")\n",
        "    fig.tight_layout()  # Improves appearance a bit.\n",
        "    fig.set_size_inches(20.5, 10.5)\n",
        "    plt.show()\n",
        "\n",
        "draw_histograms(df_final, df_final.columns, 2, 3)"
      ]
    },
    {
      "cell_type": "markdown",
      "metadata": {
        "id": "tAMVrneW44Jc"
      },
      "source": [
        "#part c"
      ]
    },
    {
      "cell_type": "code",
      "execution_count": 10,
      "metadata": {
        "colab": {
          "base_uri": "https://localhost:8080/"
        },
        "id": "jXKDgJycjb08",
        "outputId": "6231d23e-3dd6-4fac-f793-c3f8df428d83"
      },
      "outputs": [
        {
          "name": "stdout",
          "output_type": "stream",
          "text": [
            "['Who', \"'s\", 'kid', 'are', 'you', 'talking', 'about', '+', '91', '-', '9444929219', '.']\n"
          ]
        }
      ],
      "source": [
        "import re\n",
        "\n",
        "def tokenize(str):\n",
        "  \n",
        "  split_pattern = rf\"(\\w+')(?:\\W+|$)|('\\w+)|(?:\\s+)|(\\W)\"\n",
        "\n",
        "  tokens = [x for x in re.split(r\"([^'\\w\\s]|'(?![^\\W\\d_])|(?<![^\\W\\d_])')|(?='(?<=[^\\W\\d_]')(?=[^\\W\\d_]))|\\s+\", str) if x]\n",
        "\n",
        "  return tokens\n",
        "\n",
        "words = tokenize(\"Who's kid are you talking about +91-9444929219.\")\n",
        "print(words)"
      ]
    },
    {
      "cell_type": "code",
      "execution_count": null,
      "metadata": {
        "colab": {
          "base_uri": "https://localhost:8080/"
        },
        "id": "wvBOhbHBgxaV",
        "outputId": "922db39d-d687-40ce-dc6d-847c1c1b98ee"
      },
      "outputs": [],
      "source": [
        "tweets = list(df['text'])\n",
        "\n",
        "tokenized_tweets = [tokenize(i) for i in tweets]\n",
        "\n",
        "print(tokenized_tweets)"
      ]
    },
    {
      "cell_type": "markdown",
      "metadata": {
        "id": "61MBjSSzWtDr"
      },
      "source": [
        "# Part D"
      ]
    },
    {
      "cell_type": "code",
      "execution_count": 12,
      "metadata": {
        "colab": {
          "base_uri": "https://localhost:8080/"
        },
        "id": "UItBGa2cgxXk",
        "outputId": "fabf2e27-a23e-4d62-d0de-3af6ef5c1640"
      },
      "outputs": [
        {
          "name": "stdout",
          "output_type": "stream",
          "text": [
            "[nltk_data] Downloading package punkt to /root/nltk_data...\n",
            "[nltk_data]   Unzipping tokenizers/punkt.zip.\n"
          ]
        },
        {
          "name": "stderr",
          "output_type": "stream",
          "text": [
            "IOPub data rate exceeded.\n",
            "The notebook server will temporarily stop sending output\n",
            "to the client in order to avoid crashing it.\n",
            "To change this limit, set the config variable\n",
            "`--NotebookApp.iopub_data_rate_limit`.\n",
            "\n",
            "Current values:\n",
            "NotebookApp.iopub_data_rate_limit=1000000.0 (bytes/sec)\n",
            "NotebookApp.rate_limit_window=3.0 (secs)\n",
            "\n"
          ]
        }
      ],
      "source": [
        "import nltk\n",
        "nltk.download('punkt')\n",
        "\n",
        "df_tokenized = pd.DataFrame(columns=['NLTK', 'Sriram'])\n",
        "\n",
        "for i in tweets:\n",
        "  \n",
        "  df_tokenized.loc[len(df_tokenized)] = [nltk.word_tokenize(i), tokenize(i)]\n",
        "\n",
        "print(df_tokenized)"
      ]
    },
    {
      "cell_type": "markdown",
      "metadata": {
        "id": "lP-zaiq9bGwB"
      },
      "source": [
        "# Part E"
      ]
    },
    {
      "cell_type": "code",
      "execution_count": 13,
      "metadata": {
        "colab": {
          "base_uri": "https://localhost:8080/"
        },
        "id": "_W0TvRS4bJJr",
        "outputId": "0bf5fbcf-8a71-47e4-d978-d085f6ca063a"
      },
      "outputs": [
        {
          "name": "stdout",
          "output_type": "stream",
          "text": [
            "number of missing values for tweet-location 4733\n",
            "number of missing values for user_timezone 4820\n"
          ]
        }
      ],
      "source": [
        "location_NaN = len(df[df['tweet_location'].isna() == True])\n",
        "timezone_NaN = len(df[df['user_timezone'].isna() == True])\n",
        "\n",
        "print(\"number of missing values for tweet-location\", location_NaN)\n",
        "print(\"number of missing values for user_timezone\", timezone_NaN)"
      ]
    },
    {
      "cell_type": "code",
      "execution_count": 14,
      "metadata": {
        "colab": {
          "base_uri": "https://localhost:8080/"
        },
        "id": "KWh0Bal1bJHF",
        "outputId": "a6d1f22b-0b70-47d2-85bc-1aaf10e6e627"
      },
      "outputs": [
        {
          "name": "stdout",
          "output_type": "stream",
          "text": [
            "2015-02-24 11:35:52-08:00  ---> is now ---> <class 'pandas._libs.tslibs.timestamps.Timestamp'>\n",
            "2015-02-24 11:15:59-08:00  ---> is now ---> <class 'pandas._libs.tslibs.timestamps.Timestamp'>\n",
            "2015-02-24 11:15:48-08:00  ---> is now ---> <class 'pandas._libs.tslibs.timestamps.Timestamp'>\n",
            "2015-02-24 11:15:36-08:00  ---> is now ---> <class 'pandas._libs.tslibs.timestamps.Timestamp'>\n",
            "2015-02-24 11:14:45-08:00  ---> is now ---> <class 'pandas._libs.tslibs.timestamps.Timestamp'>\n"
          ]
        }
      ],
      "source": [
        "df['tweet_created']= pd.to_datetime(df['tweet_created'])\n",
        "\n",
        "for j in df['tweet_created'].head():\n",
        "  print(j, \" ---> is now --->\", type(j))"
      ]
    },
    {
      "cell_type": "code",
      "execution_count": 15,
      "metadata": {
        "colab": {
          "base_uri": "https://localhost:8080/"
        },
        "id": "RzvtftrBkq3E",
        "outputId": "8fe6d1a2-fb57-4074-f29e-4b996f13fe6e"
      },
      "outputs": [
        {
          "name": "stdout",
          "output_type": "stream",
          "text": [
            "Collecting fuzzywuzzy\n",
            "  Downloading fuzzywuzzy-0.18.0-py2.py3-none-any.whl (18 kB)\n",
            "Installing collected packages: fuzzywuzzy\n",
            "Successfully installed fuzzywuzzy-0.18.0\n"
          ]
        }
      ],
      "source": [
        "!pip install fuzzywuzzy"
      ]
    },
    {
      "cell_type": "code",
      "execution_count": 16,
      "metadata": {
        "colab": {
          "base_uri": "https://localhost:8080/"
        },
        "id": "Tw5y0BNhbFiU",
        "outputId": "668e1c25-5cf7-4999-ad22-a91e79e38ff3"
      },
      "outputs": [
        {
          "name": "stderr",
          "output_type": "stream",
          "text": [
            "/usr/local/lib/python3.7/dist-packages/fuzzywuzzy/fuzz.py:11: UserWarning: Using slow pure-python SequenceMatcher. Install python-Levenshtein to remove this warning\n",
            "  warnings.warn('Using slow pure-python SequenceMatcher. Install python-Levenshtein to remove this warning')\n"
          ]
        },
        {
          "name": "stdout",
          "output_type": "stream",
          "text": [
            "                 tweet_id  ...               user_timezone\n",
            "168    569461469042966528  ...  Eastern Time (US & Canada)\n",
            "3575   568258906159501312  ...  Pacific Time (US & Canada)\n",
            "4482   570214946815868929  ...  Eastern Time (US & Canada)\n",
            "4615   569978197284130817  ...  Eastern Time (US & Canada)\n",
            "4636   569971070394101763  ...  Quito                     \n",
            "5049   569493077368422400  ...  NaN                       \n",
            "5295   569209051260678144  ...  Quito                     \n",
            "5465   568971449815289856  ...  Quito                     \n",
            "5474   568958697856040961  ...  Quito                     \n",
            "5477   568957365464076288  ...  Quito                     \n",
            "5565   568892540889509888  ...  NaN                       \n",
            "5797   568588931379253248  ...  Eastern Time (US & Canada)\n",
            "5800   568587424747511808  ...  Eastern Time (US & Canada)\n",
            "6870   570076673162543104  ...  Eastern Time (US & Canada)\n",
            "6952   569994012670734336  ...  NaN                       \n",
            "8050   568836365309190145  ...  Eastern Time (US & Canada)\n",
            "8799   567841828411551744  ...  Eastern Time (US & Canada)\n",
            "9034   570275106724782080  ...  NaN                       \n",
            "9036   570274417546113025  ...  NaN                       \n",
            "9277   570011533205336064  ...  NaN                       \n",
            "9304   569992414653362176  ...  Eastern Time (US & Canada)\n",
            "9305   569992362728005632  ...  Central Time (US & Canada)\n",
            "9388   569959393917149189  ...  Eastern Time (US & Canada)\n",
            "9409   569947001456070656  ...  Quito                     \n",
            "9478   569914076496850945  ...  Eastern Time (US & Canada)\n",
            "9688   569717336959160323  ...  Atlantic Time (Canada)    \n",
            "9689   569717188468334593  ...  Atlantic Time (Canada)    \n",
            "9690   569716908787933184  ...  Atlantic Time (Canada)    \n",
            "9692   569716646165778432  ...  Atlantic Time (Canada)    \n",
            "9693   569716449704587265  ...  Atlantic Time (Canada)    \n",
            "9695   569715361660207105  ...  Atlantic Time (Canada)    \n",
            "9800   569659952681361408  ...  NaN                       \n",
            "9831   569649125525983233  ...  Eastern Time (US & Canada)\n",
            "9957   569600990430806017  ...  Atlantic Time (Canada)    \n",
            "10078  569544955800264704  ...  Central Time (US & Canada)\n",
            "10079  569544528299995137  ...  Central Time (US & Canada)\n",
            "10175  569506974930481153  ...  Eastern Time (US & Canada)\n",
            "10246  569463202817417216  ...  Eastern Time (US & Canada)\n",
            "10295  569386555107733505  ...  Eastern Time (US & Canada)\n",
            "10322  569372015980707840  ...  Eastern Time (US & Canada)\n",
            "10324  569371393294344192  ...  Eastern Time (US & Canada)\n",
            "10511  569241701434449920  ...  Eastern Time (US & Canada)\n",
            "10623  569116333998256129  ...  NaN                       \n",
            "10737  568922138348019712  ...  NaN                       \n",
            "10746  568912678917271552  ...  Quito                     \n",
            "11076  568531781835571200  ...  Eastern Time (US & Canada)\n",
            "11185  568449649951907840  ...  Eastern Time (US & Canada)\n",
            "11338  568194475077570560  ...  NaN                       \n",
            "11492  568073698877554689  ...  Eastern Time (US & Canada)\n",
            "11648  567850465406394368  ...  Eastern Time (US & Canada)\n",
            "11758  567777100112101376  ...  Quito                     \n",
            "11780  567762685200228352  ...  Central Time (US & Canada)\n",
            "13782  569718461217308673  ...  Atlantic Time (Canada)    \n",
            "13784  569718285060706304  ...  Atlantic Time (Canada)    \n",
            "13787  569717739113320448  ...  Atlantic Time (Canada)    \n",
            "13792  569716270184173568  ...  Atlantic Time (Canada)    \n",
            "13795  569715802703859712  ...  Atlantic Time (Canada)    \n",
            "14119  569664330163200000  ...  Quito                     \n",
            "14121  569664261678600192  ...  Quito                     \n",
            "14271  569643354557796353  ...  Eastern Time (US & Canada)\n",
            "14302  569639607639285761  ...  Eastern Time (US & Canada)\n",
            "\n",
            "[61 rows x 14 columns]\n",
            "Number of tweets from Philadelphia:  61\n"
          ]
        }
      ],
      "source": [
        "from fuzzywuzzy import fuzz\n",
        "from fuzzywuzzy import process\n",
        "\n",
        "locations = list(set(list(df['tweet_location'])))\n",
        "location_list_ph = process.extract(\"Philadelphia PA\", locations, limit=15)\n",
        "location_list_ph = [i[0] for i in location_list_ph if len(i[0]) > 2]\n",
        "\n",
        "print(df[df['tweet_location'].isin(location_list_ph)])\n",
        "print(\"Number of tweets from Philadelphia: \", len(df[df['tweet_location'].isin(location_list_ph)]))"
      ]
    },
    {
      "cell_type": "markdown",
      "metadata": {
        "id": "XK8zccTPogn2"
      },
      "source": [
        "# Part F "
      ]
    },
    {
      "cell_type": "code",
      "execution_count": 17,
      "metadata": {
        "colab": {
          "base_uri": "https://localhost:8080/"
        },
        "id": "0WONp64qkpzT",
        "outputId": "5fce2230-dffb-43b8-c0ae-814f8cb7691f"
      },
      "outputs": [
        {
          "name": "stdout",
          "output_type": "stream",
          "text": [
            "Number of examples - random sampling - Train set:  10248\n",
            "Number of examples - random sampling - Dev set:  2928\n",
            "Number of examples - random sampling - Test set:  1464\n"
          ]
        }
      ],
      "source": [
        "# Simple random sampling\n",
        "\n",
        "length = len(df)\n",
        "\n",
        "simple_train = df.sample(n = round(length * 0.7) )\n",
        "simple_dev =  df.sample(n = round(length * 0.2) )\n",
        "simple_test =  df.sample(n = round(length * 0.1) )\n",
        "\n",
        "print(\"Number of examples - random sampling - Train set: \",len(simple_train))\n",
        "simple_train.to_csv(\"simple-train.csv\")\n",
        "print(\"Number of examples - random sampling - Dev set: \",len(simple_dev))\n",
        "simple_dev.to_csv(\"simple-dev.csv\")\n",
        "print(\"Number of examples - random sampling - Test set: \",len(simple_test))\n",
        "simple_test.to_csv(\"simple-test.csv\")"
      ]
    },
    {
      "cell_type": "code",
      "execution_count": 18,
      "metadata": {
        "colab": {
          "base_uri": "https://localhost:8080/"
        },
        "id": "xm59Ffgepkpu",
        "outputId": "a4e18f95-fa4e-40ba-fc65-92c7e4a84db4"
      },
      "outputs": [
        {
          "name": "stdout",
          "output_type": "stream",
          "text": [
            "Number of examples -  Stratified random sampling - Train set:  10248\n",
            "Number of examples -  Stratified random sampling - Dev set:  2928\n",
            "Number of examples - Stratified random sampling - Test set:  1464\n"
          ]
        }
      ],
      "source": [
        "# Stratified random sampling\n",
        "\n",
        "from sklearn.model_selection import StratifiedShuffleSplit\n",
        "\n",
        "train_straified = StratifiedShuffleSplit(n_splits=1, test_size= round(length * 0.7))\n",
        "dev_straified = StratifiedShuffleSplit(n_splits=1, test_size= round(length * 0.2))\n",
        "test_straified = StratifiedShuffleSplit(n_splits=1, test_size= round(length * 0.1))\n",
        "\n",
        "for x,y in train_straified.split(df,df['airline']):\n",
        "  Stratified_train = df.iloc[y, :]\n",
        "print(\"Number of examples -  Stratified random sampling - Train set: \",len(Stratified_train))\n",
        "Stratified_train.to_csv(\"stratified-train.csv\")\n",
        "\n",
        "for x,y in dev_straified.split(df,df['airline']):\n",
        "  Stratified_dev = df.iloc[y, :]\n",
        "print(\"Number of examples -  Stratified random sampling - Dev set: \",len(Stratified_dev))\n",
        "Stratified_dev.to_csv(\"stratified-dev.csv\")\n",
        "\n",
        "for x,y in test_straified.split(df,df['airline']):\n",
        "  Stratified_test = df.iloc[y, :]\n",
        "print(\"Number of examples - Stratified random sampling - Test set: \",len(Stratified_test))\n",
        "Stratified_test.to_csv(\"stratified-test.csv\")"
      ]
    },
    {
      "cell_type": "code",
      "execution_count": 19,
      "metadata": {
        "colab": {
          "base_uri": "https://localhost:8080/"
        },
        "id": "z17ApHm3JGW_",
        "outputId": "97eec684-ccc3-4a8c-d6b7-c4d207c3164a"
      },
      "outputs": [
        {
          "name": "stdout",
          "output_type": "stream",
          "text": [
            "Simple train:  {'neutral': 2185, 'negative': 6461, 'positive': 1602}\n",
            "Simple dev:  {'negative': 1828, 'neutral': 623, 'positive': 477}\n",
            "Simple test:  {'negative': 921, 'neutral': 324, 'positive': 219}\n",
            "\n",
            "Stratified train:  {'neutral': 2144, 'positive': 1664, 'negative': 6440}\n",
            "Stratified dev:  {'negative': 1849, 'neutral': 589, 'positive': 490}\n",
            "Stratified test:  {'neutral': 288, 'negative': 949, 'positive': 227}\n"
          ]
        }
      ],
      "source": [
        "# Distributions of labels for each set\n",
        "\n",
        "print(\"Simple train: \", dict(Counter(simple_train['airline_sentiment'])))\n",
        "\n",
        "print(\"Simple dev: \", dict(Counter(simple_dev['airline_sentiment'])))\n",
        "\n",
        "print(\"Simple test: \", dict(Counter(simple_test['airline_sentiment'])))\n",
        "\n",
        "print(\"\\nStratified train: \", dict(Counter(Stratified_train['airline_sentiment'])))\n",
        "\n",
        "print(\"Stratified dev: \", dict(Counter(Stratified_dev['airline_sentiment'])))\n",
        "\n",
        "print(\"Stratified test: \", dict(Counter(Stratified_test['airline_sentiment'])))"
      ]
    },
    {
      "cell_type": "markdown",
      "metadata": {
        "id": "CRJHdP-N7IYP"
      },
      "source": [
        "# Part G"
      ]
    },
    {
      "cell_type": "code",
      "execution_count": 20,
      "metadata": {
        "id": "jW5KiLAOtked"
      },
      "outputs": [],
      "source": [
        "import json\n",
        "\n",
        "with open (\"/content/tweets.json\", mode='r+', encoding='UTF-8') as f2:\n",
        "  tweets_json = json.load(f2)"
      ]
    },
    {
      "cell_type": "code",
      "execution_count": 21,
      "metadata": {
        "colab": {
          "base_uri": "https://localhost:8080/"
        },
        "id": "16Jk6H8Qzk8c",
        "outputId": "667e7f51-7bf7-44cc-febb-336b7da8864c"
      },
      "outputs": [
        {
          "name": "stdout",
          "output_type": "stream",
          "text": [
            "Displaying just 5 values from Tweets collected: \n",
            " 0    \"Many people are surprised that Minnesota’s COVID-19 case rates are rising, given the state’s relatively high vacci… https://t.co/x6dfDnPVXU  \n",
            "1    RT @GeneforTexas: A reminder that Texas is nearing it's 80th TDCJ employee COVID-19 death and 200th inmate death.\\n\\nThe unit staff vaccinati…\n",
            "2    RT @JohnArnoldFndtn: NYC doesn't require vaccination, but makes it very hard to participate in public life without one. Hence the adult vax…  \n",
            "3    RT @News24: LIVE | Level 1 will not be sustainable if SA does not increase its vaccination rate, warns Ramaphosa\\n\\nhttps://t.co/SUrNI53qH6 h…\n",
            "4    RT @usi_research: Shopping malls are currently at 63% capacity, with weekend crowds reaching 81% and weekday footfall at 50%. Economic mana…  \n",
            "Name: text, dtype: object\n"
          ]
        }
      ],
      "source": [
        "import pandas as pd\n",
        "\n",
        "df_tweets = pd.json_normalize(tweets_json)\n",
        "df_tweets = df_tweets['text']\n",
        "print(\"Displaying just 5 values from Tweets collected: \\n\", df_tweets[:5])\n"
      ]
    },
    {
      "cell_type": "code",
      "execution_count": 22,
      "metadata": {
        "colab": {
          "base_uri": "https://localhost:8080/"
        },
        "id": "0fIVPilgojUc",
        "outputId": "0bb284e2-8aa5-40d4-f626-4d06b923b26e"
      },
      "outputs": [
        {
          "name": "stdout",
          "output_type": "stream",
          "text": [
            "Requirement already satisfied: SQLAlchemy in /usr/local/lib/python3.7/dist-packages (1.4.27)\n",
            "Requirement already satisfied: greenlet!=0.4.17 in /usr/local/lib/python3.7/dist-packages (from SQLAlchemy) (1.1.2)\n",
            "Requirement already satisfied: importlib-metadata in /usr/local/lib/python3.7/dist-packages (from SQLAlchemy) (4.8.2)\n",
            "Requirement already satisfied: typing-extensions>=3.6.4 in /usr/local/lib/python3.7/dist-packages (from importlib-metadata->SQLAlchemy) (3.10.0.2)\n",
            "Requirement already satisfied: zipp>=0.5 in /usr/local/lib/python3.7/dist-packages (from importlib-metadata->SQLAlchemy) (3.6.0)\n"
          ]
        }
      ],
      "source": [
        "!pip install SQLAlchemy"
      ]
    },
    {
      "cell_type": "code",
      "execution_count": 23,
      "metadata": {
        "colab": {
          "base_uri": "https://localhost:8080/"
        },
        "id": "UJeUT25yrouP",
        "outputId": "8c43acfa-93ed-4f0f-f56e-1b6be4f0a918"
      },
      "outputs": [
        {
          "name": "stdout",
          "output_type": "stream",
          "text": [
            "2021-12-03 00:54:42,567 INFO sqlalchemy.engine.Engine PRAGMA main.table_info(\"tweets\")\n",
            "2021-12-03 00:54:42,569 INFO sqlalchemy.engine.Engine [raw sql] ()\n",
            "2021-12-03 00:54:42,572 INFO sqlalchemy.engine.Engine PRAGMA temp.table_info(\"tweets\")\n",
            "2021-12-03 00:54:42,575 INFO sqlalchemy.engine.Engine [raw sql] ()\n",
            "2021-12-03 00:54:42,580 INFO sqlalchemy.engine.Engine BEGIN (implicit)\n",
            "2021-12-03 00:54:42,583 INFO sqlalchemy.engine.Engine \n",
            "CREATE TABLE tweets (\n",
            "\t\"index\" BIGINT, \n",
            "\ttext TEXT\n",
            ")\n",
            "\n",
            "\n",
            "2021-12-03 00:54:42,586 INFO sqlalchemy.engine.Engine [no key 0.00245s] ()\n",
            "2021-12-03 00:54:42,601 INFO sqlalchemy.engine.Engine CREATE INDEX ix_tweets_index ON tweets (\"index\")\n",
            "2021-12-03 00:54:42,603 INFO sqlalchemy.engine.Engine [no key 0.00141s] ()\n",
            "2021-12-03 00:54:42,618 INFO sqlalchemy.engine.Engine COMMIT\n",
            "2021-12-03 00:54:42,621 INFO sqlalchemy.engine.Engine BEGIN (implicit)\n",
            "2021-12-03 00:54:42,632 INFO sqlalchemy.engine.Engine INSERT INTO tweets (\"index\", text) VALUES (?, ?)\n",
            "2021-12-03 00:54:42,634 INFO sqlalchemy.engine.Engine [generated in 0.00514s] ((0, '\"Many people are surprised that Minnesota’s COVID-19 case rates are rising, given the state’s relatively high vacci… https://t.co/x6dfDnPVXU'), (1, \"RT @GeneforTexas: A reminder that Texas is nearing it's 80th TDCJ employee COVID-19 death and 200th inmate death.\\n\\nThe unit staff vaccinati…\"), (2, \"RT @JohnArnoldFndtn: NYC doesn't require vaccination, but makes it very hard to participate in public life without one. Hence the adult vax…\"), (3, 'RT @News24: LIVE | Level 1 will not be sustainable if SA does not increase its vaccination rate, warns Ramaphosa\\n\\nhttps://t.co/SUrNI53qH6 h…'), (4, 'RT @usi_research: Shopping malls are currently at 63% capacity, with weekend crowds reaching 81% and weekday footfall at 50%. Economic mana…'), (5, 'RT @duckalini: @Styla73 More specific update: \"The factors considered when setting the colours in each region include vaccination, the stat…'), (6, 'RT @duckalini: @Styla73 More specific update: \"The factors considered when setting the colours in each region include vaccination, the stat…'), (7, '@article107 @ajd121 @AlexanderFreeUK @ScottAdamsSays Best answer I found:\\n\\n\"...[the variant was found] largely amon… https://t.co/T6o9hl04KZ')  ... displaying 10 of 600 total bound parameter sets ...  (598, 'RT @ianapharri: The West refuses to ensure Africa gets vaccinated for Covid 19.\\nAfrica currently has a 3% vaccination rate.\\nThe new deadly…'), (599, 'RT @TIME: How Puerto Rico achieved the highest vaccination rate in the U.S.—without a political fight\\nhttps://t.co/0Y8OcM7Yrr'))\n",
            "2021-12-03 00:54:42,639 INFO sqlalchemy.engine.Engine COMMIT\n"
          ]
        }
      ],
      "source": [
        "from sqlalchemy import create_engine\n",
        "import sqlite3\n",
        "\n",
        "sqlite3.connect('tweetsDB.db')\n",
        "\n",
        "engine = create_engine('sqlite:///tweetsDB.db', echo=True)\n",
        "\n",
        "df_tweets.to_sql('tweets', con=engine)"
      ]
    },
    {
      "cell_type": "code",
      "execution_count": 24,
      "metadata": {
        "id": "WzM3sTYtrx_p"
      },
      "outputs": [],
      "source": [
        "import re\n",
        "\n",
        "def my_ngrams(s, n):\n",
        "    s = s.lower()\n",
        "    s = re.sub(r'[^a-zA-Z0-9\\s]', ' ', s)\n",
        "    tokens = [token for token in s.split(\" \") if token != \"\"]\n",
        "    ngrams = zip(*[tokens[i:] for i in range(n)])\n",
        "    return [\" \".join(ngram) for ngram in ngrams]"
      ]
    },
    {
      "cell_type": "code",
      "execution_count": 25,
      "metadata": {
        "id": "BRchr6O4HFbn"
      },
      "outputs": [],
      "source": [
        "from itertools import chain\n",
        "\n",
        "bigrams = []\n",
        "trigrams = []\n",
        "unigrams = []\n",
        "\n",
        "for i in df_tweets:\n",
        "  unigrams.append(my_ngrams(i,1))\n",
        "  bigrams.append(my_ngrams(i,2))\n",
        "  trigrams.append(my_ngrams(i,3))\n",
        "\n",
        "unigrams = list(chain.from_iterable(unigrams))\n",
        "bigrams = list(chain.from_iterable(bigrams))\n",
        "trigrams = list(chain.from_iterable(trigrams))\n"
      ]
    },
    {
      "cell_type": "code",
      "execution_count": null,
      "metadata": {
        "colab": {
          "base_uri": "https://localhost:8080/"
        },
        "id": "Xc30pVoGIGee",
        "outputId": "3889bdf8-93a6-4f51-dff1-5b2133ffc792"
      },
      "outputs": [],
      "source": [
        "# Frequency distribution\n",
        "unigram_fd = dict(Counter(unigrams).most_common(len(unigrams)))\n",
        "bigrams_fd = dict(Counter(bigrams).most_common(len(bigrams)))\n",
        "trigrams_fd = dict(Counter(trigrams).most_common(len(trigrams)))\n",
        "\n",
        "print(\"Frequency distribution of Unigrams: \", unigram_fd )\n",
        "print(\"Frequency distribution of Bigrams: \", bigrams_fd)\n",
        "print(\"Frequency distribution of Trigrams: \", trigrams_fd )\n"
      ]
    },
    {
      "cell_type": "code",
      "execution_count": 34,
      "metadata": {
        "colab": {
          "base_uri": "https://localhost:8080/",
          "height": 565
        },
        "id": "dNsgZjEFaoed",
        "outputId": "83ef20c1-a274-4e0f-8221-ce937b6d3e28"
      },
      "outputs": [
        {
          "data": {
            "image/png": "[encoded data removed]",
            "text/plain": [
              "<Figure size 1476x756 with 1 Axes>"
            ]
          },
          "metadata": {
            "needs_background": "light"
          },
          "output_type": "display_data"
        }
      ],
      "source": [
        "unigram_fd = dict(Counter(unigrams).most_common(10)) # Displaying top 10 due to visual space constraint\n",
        "\n",
        "lists = sorted(unigram_fd.items())\n",
        "fig1 = plt.figure()\n",
        "x, y = zip(*lists)\n",
        "fig1.set_size_inches(20.5, 10.5)\n",
        "plt.bar(x, y)\n",
        "plt.show()"
      ]
    },
    {
      "cell_type": "code",
      "execution_count": 35,
      "metadata": {
        "colab": {
          "base_uri": "https://localhost:8080/",
          "height": 565
        },
        "id": "oOgDuVuOf23Q",
        "outputId": "43d47c16-5223-4a2a-d70c-ac5c1402f34a"
      },
      "outputs": [
        {
          "data": {
            "image/png": "[encoded data removed]",
            "text/plain": [
              "<Figure size 1476x756 with 1 Axes>"
            ]
          },
          "metadata": {
            "needs_background": "light"
          },
          "output_type": "display_data"
        }
      ],
      "source": [
        "bigrams_fd = dict(Counter(bigrams).most_common(10)) # Displaying top 10 due to visual space constraint\n",
        "\n",
        "lists = sorted(bigrams_fd.items())\n",
        "fig1 = plt.figure()\n",
        "x, y = zip(*lists)\n",
        "fig1.set_size_inches(20.5, 10.5)\n",
        "plt.bar(x, y)\n",
        "plt.show()"
      ]
    },
    {
      "cell_type": "code",
      "execution_count": 36,
      "metadata": {
        "colab": {
          "base_uri": "https://localhost:8080/",
          "height": 565
        },
        "id": "cRG7XcquyW8t",
        "outputId": "0cada6b8-5444-4851-e40f-a76a105e82a4"
      },
      "outputs": [
        {
          "data": {
            "image/png": "[encoded data removed]",
            "text/plain": [
              "<Figure size 1476x756 with 1 Axes>"
            ]
          },
          "metadata": {
            "needs_background": "light"
          },
          "output_type": "display_data"
        }
      ],
      "source": [
        "trigrams_fd = dict(Counter(trigrams).most_common(10)) # Displaying top 10 due to visual space constraint\n",
        "\n",
        "lists = sorted(trigrams_fd.items())\n",
        "fig1 = plt.figure()\n",
        "x, y = zip(*lists)\n",
        "fig1.set_size_inches(20.5, 10.5)\n",
        "plt.bar(x, y)\n",
        "plt.show()"
      ]
    },
    {
      "cell_type": "code",
      "execution_count": null,
      "metadata": {
        "id": "eXmxoajF0hXJ"
      },
      "outputs": [],
      "source": []
    }
  ],
  "metadata": {
    "colab": {
      "collapsed_sections": [],
      "name": "NLP 220 - Assignment 4 - srmahesh.ipynb",
      "provenance": []
    },
    "kernelspec": {
      "display_name": "Python 3",
      "name": "python3"
    },
    "language_info": {
      "name": "python"
    }
  },
  "nbformat": 4,
  "nbformat_minor": 0
}
