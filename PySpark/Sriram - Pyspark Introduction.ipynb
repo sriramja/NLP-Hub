{
 "cells": [
  {
   "cell_type": "code",
   "execution_count": 1,
   "metadata": {
    "collapsed": false,
    "jupyter": {
     "outputs_hidden": false
    }
   },
   "outputs": [],
   "source": [
    "from pyspark.sql import SQLContext\n",
    "from pyspark.sql import DataFrameNaFunctions\n",
    "from pyspark.ml import Pipeline\n",
    "from pyspark.ml.classification import DecisionTreeClassifier\n",
    "from pyspark.ml.feature import Binarizer\n",
    "from pyspark.ml.feature import VectorAssembler, StringIndexer, VectorIndexer"
   ]
  },
  {
   "cell_type": "code",
   "execution_count": 3,
   "metadata": {
    "collapsed": false,
    "jupyter": {
     "outputs_hidden": false
    }
   },
   "outputs": [
    {
     "name": "stderr",
     "output_type": "stream",
     "text": [
      "Using Spark's default log4j profile: org/apache/spark/log4j-defaults.properties\n",
      "Setting default log level to \"WARN\".\n",
      "To adjust logging level use sc.setLogLevel(newLevel). For SparkR, use setLogLevel(newLevel).\n",
      "22/04/02 15:21:07 WARN NativeCodeLoader: Unable to load native-hadoop library for your platform... using builtin-java classes where applicable\n",
      "22/04/02 15:21:08 WARN Utils: Service 'SparkUI' could not bind on port 4040. Attempting port 4041.\n",
      "/soe/srmahesh/miniconda3/envs/sampleenv/lib/python3.9/site-packages/pyspark/sql/context.py:77: FutureWarning: Deprecated in 3.0.0. Use SparkSession.builder.getOrCreate() instead.\n",
      "  warnings.warn(\n"
     ]
    },
    {
     "data": {
      "text/plain": [
       "['number',\n",
       " 'air_pressure_9am',\n",
       " 'air_temp_9am',\n",
       " 'avg_wind_direction_9am',\n",
       " 'avg_wind_speed_9am',\n",
       " 'max_wind_direction_9am',\n",
       " 'max_wind_speed_9am',\n",
       " 'rain_accumulation_9am',\n",
       " 'rain_duration_9am',\n",
       " 'relative_humidity_9am',\n",
       " 'relative_humidity_3pm']"
      ]
     },
     "execution_count": 3,
     "metadata": {},
     "output_type": "execute_result"
    }
   ],
   "source": [
    "from pyspark import SparkContext\n",
    "\n",
    "sc = SparkContext()\n",
    "sqlContext = SQLContext(sc)\n",
    "df = sqlContext.read.load('daily_weather.csv', \n",
    "                          format='com.databricks.spark.csv', \n",
    "                          header='true',inferSchema='true')\n",
    "df.columns"
   ]
  },
  {
   "cell_type": "code",
   "execution_count": 4,
   "metadata": {
    "tags": []
   },
   "outputs": [],
   "source": [
    "featureColumns = ['air_pressure_9am','air_temp_9am','avg_wind_direction_9am','avg_wind_speed_9am',\n",
    "        'max_wind_direction_9am','max_wind_speed_9am','rain_accumulation_9am',\n",
    "        'rain_duration_9am']"
   ]
  },
  {
   "cell_type": "code",
   "execution_count": 12,
   "metadata": {},
   "outputs": [
    {
     "name": "stdout",
     "output_type": "stream",
     "text": [
      "-RECORD 0------------------------------------\n",
      " air_pressure_9am       | 918.0600000000087  \n",
      " air_temp_9am           | 74.82200000000041  \n",
      " avg_wind_direction_9am | 271.1              \n",
      " avg_wind_speed_9am     | 2.080354199999768  \n",
      " max_wind_direction_9am | 295.39999999999986 \n",
      " max_wind_speed_9am     | 2.863283199999908  \n",
      " rain_accumulation_9am  | 0.0                \n",
      " rain_duration_9am      | 0.0                \n",
      "-RECORD 1------------------------------------\n",
      " air_pressure_9am       | 917.3476881177097  \n",
      " air_temp_9am           | 71.40384263106537  \n",
      " avg_wind_direction_9am | 101.93517935618371 \n",
      " avg_wind_speed_9am     | 2.4430092157340217 \n",
      " max_wind_direction_9am | 140.47154847112498 \n",
      " max_wind_speed_9am     | 3.5333236016106238 \n",
      " rain_accumulation_9am  | 0.0                \n",
      " rain_duration_9am      | 0.0                \n",
      "only showing top 2 rows\n",
      "\n"
     ]
    }
   ],
   "source": [
    "df[featureColumns].show(2, vertical=True)"
   ]
  },
  {
   "cell_type": "code",
   "execution_count": 37,
   "metadata": {},
   "outputs": [
    {
     "name": "stdout",
     "output_type": "stream",
     "text": [
      "Requirement already satisfied: pyarrow in /soe/srmahesh/miniconda3/envs/sampleenv/lib/python3.9/site-packages (7.0.0)\n",
      "Requirement already satisfied: numpy in /soe/srmahesh/miniconda3/envs/sampleenv/lib/python3.9/site-packages (1.21.4)\n"
     ]
    }
   ],
   "source": [
    "!pip install pyarrow numpy"
   ]
  },
  {
   "cell_type": "code",
   "execution_count": null,
   "metadata": {},
   "outputs": [],
   "source": []
  },
  {
   "cell_type": "markdown",
   "metadata": {},
   "source": [
    "##### ANOTHER WAY"
   ]
  },
  {
   "cell_type": "markdown",
   "metadata": {},
   "source": [
    "from pyspark.sql import SparkSession\n",
    "\n",
    "spark = SparkSession.builder.getOrCreate()"
   ]
  },
  {
   "cell_type": "code",
   "execution_count": 39,
   "metadata": {},
   "outputs": [],
   "source": [
    "spark.conf.set(\"spark.sql.execution.arrow.pyspark.enabled\", \"true\")"
   ]
  },
  {
   "cell_type": "code",
   "execution_count": 41,
   "metadata": {},
   "outputs": [],
   "source": [
    "spark.conf.set('spark.sql.repl.eagerEval.enabled', True)"
   ]
  },
  {
   "cell_type": "code",
   "execution_count": 42,
   "metadata": {},
   "outputs": [
    {
     "data": {
      "text/html": [
       "<table border='1'>\n",
       "<tr><th>number</th><th>air_pressure_9am</th><th>air_temp_9am</th><th>avg_wind_direction_9am</th><th>avg_wind_speed_9am</th><th>max_wind_direction_9am</th><th>max_wind_speed_9am</th><th>rain_accumulation_9am</th><th>rain_duration_9am</th><th>relative_humidity_9am</th><th>relative_humidity_3pm</th></tr>\n",
       "<tr><td>0</td><td>918.0600000000087</td><td>74.82200000000041</td><td>271.1</td><td>2.080354199999768</td><td>295.39999999999986</td><td>2.863283199999908</td><td>0.0</td><td>0.0</td><td>42.42000000000046</td><td>36.160000000000494</td></tr>\n",
       "<tr><td>1</td><td>917.3476881177097</td><td>71.40384263106537</td><td>101.93517935618371</td><td>2.4430092157340217</td><td>140.47154847112498</td><td>3.5333236016106238</td><td>0.0</td><td>0.0</td><td>24.328697291802207</td><td>19.4265967985621</td></tr>\n",
       "<tr><td>2</td><td>923.0400000000084</td><td>60.637999999998776</td><td>51.000000000000036</td><td>17.067852199999727</td><td>63.6999999999999</td><td>22.100967200000003</td><td>0.0</td><td>20.0</td><td>8.900000000000047</td><td>14.460000000000045</td></tr>\n",
       "<tr><td>3</td><td>920.5027511759195</td><td>70.13889486830053</td><td>198.83213271746368</td><td>4.337363056162703</td><td>211.20334124325618</td><td>5.190045360219378</td><td>0.0</td><td>0.0</td><td>12.189101868764444</td><td>12.742547353761848</td></tr>\n",
       "<tr><td>4</td><td>921.1600000000036</td><td>44.29400000000284</td><td>277.8</td><td>1.8566601999998955</td><td>136.49999999999991</td><td>2.863283199999954</td><td>8.899999999998613</td><td>14730.0</td><td>92.41000000000044</td><td>76.74000000000046</td></tr>\n",
       "<tr><td>5</td><td>915.300000000006</td><td>78.40400000000422</td><td>182.8</td><td>9.93201359999979</td><td>188.99999999999986</td><td>10.983375399999995</td><td>0.02000000000043656</td><td>170.0</td><td>35.130000000000265</td><td>33.930000000000256</td></tr>\n",
       "<tr><td>6</td><td>915.5988675132801</td><td>70.04330431686239</td><td>177.87540718659943</td><td>3.7455865377244795</td><td>186.60669587586753</td><td>4.589632428699432</td><td>0.0</td><td>0.0</td><td>10.657421657822635</td><td>21.385656725200974</td></tr>\n",
       "<tr><td>7</td><td>918.0700000000023</td><td>51.710000000002346</td><td>242.4</td><td>2.527742199999939</td><td>271.5999999999999</td><td>3.6462121999999924</td><td>0.0</td><td>0.0</td><td>80.47000000000041</td><td>74.92000000000041</td></tr>\n",
       "<tr><td>8</td><td>920.080000000006</td><td>80.58200000000384</td><td>40.7</td><td>4.518618799999764</td><td>62.99999999999986</td><td>5.883152199999977</td><td>0.0</td><td>0.0</td><td>29.58000000000045</td><td>24.030000000000427</td></tr>\n",
       "<tr><td>9</td><td>915.0100000000116</td><td>47.4979999999998</td><td>163.10000000000005</td><td>4.943637399999545</td><td>195.89999999999992</td><td>6.576603599999951</td><td>0.0</td><td>0.0</td><td>88.6000000000012</td><td>68.0500000000012</td></tr>\n",
       "<tr><td>10</td><td>919.650000000002</td><td>77.0360000000015</td><td>70.6</td><td>3.825167399999994</td><td>85.5</td><td>4.764682199999966</td><td>0.0</td><td>0.0</td><td>22.070000000000228</td><td>32.13000000000024</td></tr>\n",
       "<tr><td>11</td><td>915.6400000000099</td><td>45.71599999999757</td><td>241.60000000000005</td><td>5.860782799999633</td><td>265.7999999999999</td><td>8.030614600000042</td><td>0.5499999999999545</td><td>1770.0</td><td>90.56000000000022</td><td>79.0900000000002</td></tr>\n",
       "<tr><td>12</td><td>917.3900000000112</td><td>49.78399999999978</td><td>204.10000000000005</td><td>1.2750557999995473</td><td>211.79999999999993</td><td>2.01324599999997</td><td>0.0</td><td>0.0</td><td>73.1500000000012</td><td>58.43000000000119</td></tr>\n",
       "<tr><td>13</td><td>920.8200000000083</td><td>62.43799999999798</td><td>213.60000000000005</td><td>2.6172197999996376</td><td>165.6999999999999</td><td>3.310671200000037</td><td>0.0</td><td>0.0</td><td>43.64000000000018</td><td>27.990000000000173</td></tr>\n",
       "<tr><td>14</td><td>911.0000000000076</td><td>86.43199999999833</td><td>202.90000000000003</td><td>1.2079475999998548</td><td>162.8999999999999</td><td>1.677704999999817</td><td>0.0</td><td>0.0</td><td>15.189999999999962</td><td>24.369999999999948</td></tr>\n",
       "<tr><td>15</td><td>922.3831311993919</td><td>70.86526349026626</td><td>36.174174777424966</td><td>1.8472780842202248</td><td>58.42863248830409</td><td>2.529142073698898</td><td>0.0</td><td>0.0</td><td>12.110889335294598</td><td>14.801705962979918</td></tr>\n",
       "<tr><td>16</td><td>917.8900000000048</td><td>null</td><td>169.2</td><td>2.1922011999998263</td><td>196.7999999999999</td><td>2.9303914000000866</td><td>0.0</td><td>0.0</td><td>48.989999999999846</td><td>51.18999999999985</td></tr>\n",
       "<tr><td>17</td><td>916.9152553899988</td><td>77.01896058080769</td><td>234.53934498620535</td><td>2.2747252969339</td><td>229.4741986768941</td><td>2.906513109197139</td><td>0.0</td><td>0.0</td><td>21.031461768790646</td><td>20.75568332171184</td></tr>\n",
       "<tr><td>18</td><td>918.8000000000037</td><td>67.08200000000228</td><td>176.1</td><td>4.876529199999688</td><td>183.39999999999984</td><td>5.569980599999913</td><td>0.0</td><td>0.0</td><td>18.90000000000005</td><td>45.87000000000005</td></tr>\n",
       "<tr><td>19</td><td>922.0400000000093</td><td>68.5759999999986</td><td>58.30000000000005</td><td>9.55173379999966</td><td>81.8999999999999</td><td>12.571602800000015</td><td>0.0</td><td>0.0</td><td>7.540000000000102</td><td>7.740000000000088</td></tr>\n",
       "</table>\n",
       "only showing top 20 rows\n"
      ],
      "text/plain": [
       "DataFrame[number: int, air_pressure_9am: double, air_temp_9am: double, avg_wind_direction_9am: double, avg_wind_speed_9am: double, max_wind_direction_9am: double, max_wind_speed_9am: double, rain_accumulation_9am: double, rain_duration_9am: double, relative_humidity_9am: double, relative_humidity_3pm: double]"
      ]
     },
     "execution_count": 42,
     "metadata": {},
     "output_type": "execute_result"
    }
   ],
   "source": [
    "df"
   ]
  },
  {
   "cell_type": "code",
   "execution_count": 47,
   "metadata": {},
   "outputs": [],
   "source": [
    "df_x = spark.read.csv('marketing_data.csv', header=True)"
   ]
  },
  {
   "cell_type": "code",
   "execution_count": 58,
   "metadata": {},
   "outputs": [
    {
     "data": {
      "text/html": [
       "<table border='1'>\n",
       "<tr><th>ID</th><th>Year_Birth</th><th>Education</th><th>Marital_Status</th><th> Income </th><th>Kidhome</th><th>Teenhome</th><th>Dt_Customer</th><th>Recency</th><th>MntWines</th><th>MntFruits</th><th>MntMeatProducts</th><th>MntFishProducts</th><th>MntSweetProducts</th><th>MntGoldProds</th><th>NumDealsPurchases</th><th>NumWebPurchases</th><th>NumCatalogPurchases</th><th>NumStorePurchases</th><th>NumWebVisitsMonth</th><th>AcceptedCmp3</th><th>AcceptedCmp4</th><th>AcceptedCmp5</th><th>AcceptedCmp1</th><th>AcceptedCmp2</th><th>Response</th><th>Complain</th><th>Country</th></tr>\n",
       "<tr><td>1826</td><td>1970</td><td>Graduation</td><td>Divorced</td><td>$84,835.00 </td><td>0</td><td>0</td><td>6/16/14</td><td>0</td><td>189</td><td>104</td><td>379</td><td>111</td><td>189</td><td>218</td><td>1</td><td>4</td><td>4</td><td>6</td><td>1</td><td>0</td><td>0</td><td>0</td><td>0</td><td>0</td><td>1</td><td>0</td><td>SP</td></tr>\n",
       "<tr><td>1</td><td>1961</td><td>Graduation</td><td>Single</td><td>$57,091.00 </td><td>0</td><td>0</td><td>6/15/14</td><td>0</td><td>464</td><td>5</td><td>64</td><td>7</td><td>0</td><td>37</td><td>1</td><td>7</td><td>3</td><td>7</td><td>5</td><td>0</td><td>0</td><td>0</td><td>0</td><td>1</td><td>1</td><td>0</td><td>CA</td></tr>\n",
       "<tr><td>10476</td><td>1958</td><td>Graduation</td><td>Married</td><td>$67,267.00 </td><td>0</td><td>1</td><td>5/13/14</td><td>0</td><td>134</td><td>11</td><td>59</td><td>15</td><td>2</td><td>30</td><td>1</td><td>3</td><td>2</td><td>5</td><td>2</td><td>0</td><td>0</td><td>0</td><td>0</td><td>0</td><td>0</td><td>0</td><td>US</td></tr>\n",
       "<tr><td>1386</td><td>1967</td><td>Graduation</td><td>Together</td><td>$32,474.00 </td><td>1</td><td>1</td><td>5/11/14</td><td>0</td><td>10</td><td>0</td><td>1</td><td>0</td><td>0</td><td>0</td><td>1</td><td>1</td><td>0</td><td>2</td><td>7</td><td>0</td><td>0</td><td>0</td><td>0</td><td>0</td><td>0</td><td>0</td><td>AUS</td></tr>\n",
       "<tr><td>5371</td><td>1989</td><td>Graduation</td><td>Single</td><td>$21,474.00 </td><td>1</td><td>0</td><td>4/8/14</td><td>0</td><td>6</td><td>16</td><td>24</td><td>11</td><td>0</td><td>34</td><td>2</td><td>3</td><td>1</td><td>2</td><td>7</td><td>1</td><td>0</td><td>0</td><td>0</td><td>0</td><td>1</td><td>0</td><td>SP</td></tr>\n",
       "<tr><td>7348</td><td>1958</td><td>PhD</td><td>Single</td><td>$71,691.00 </td><td>0</td><td>0</td><td>3/17/14</td><td>0</td><td>336</td><td>130</td><td>411</td><td>240</td><td>32</td><td>43</td><td>1</td><td>4</td><td>7</td><td>5</td><td>2</td><td>0</td><td>0</td><td>0</td><td>0</td><td>0</td><td>1</td><td>0</td><td>SP</td></tr>\n",
       "<tr><td>4073</td><td>1954</td><td>2n Cycle</td><td>Married</td><td>$63,564.00 </td><td>0</td><td>0</td><td>1/29/14</td><td>0</td><td>769</td><td>80</td><td>252</td><td>15</td><td>34</td><td>65</td><td>1</td><td>10</td><td>10</td><td>7</td><td>6</td><td>1</td><td>0</td><td>0</td><td>0</td><td>0</td><td>1</td><td>0</td><td>GER</td></tr>\n",
       "<tr><td>1991</td><td>1967</td><td>Graduation</td><td>Together</td><td>$44,931.00 </td><td>0</td><td>1</td><td>1/18/14</td><td>0</td><td>78</td><td>0</td><td>11</td><td>0</td><td>0</td><td>7</td><td>1</td><td>2</td><td>1</td><td>3</td><td>5</td><td>0</td><td>0</td><td>0</td><td>0</td><td>0</td><td>0</td><td>0</td><td>SP</td></tr>\n",
       "<tr><td>4047</td><td>1954</td><td>PhD</td><td>Married</td><td>$65,324.00 </td><td>0</td><td>1</td><td>1/11/14</td><td>0</td><td>384</td><td>0</td><td>102</td><td>21</td><td>32</td><td>5</td><td>3</td><td>6</td><td>2</td><td>9</td><td>4</td><td>0</td><td>0</td><td>0</td><td>0</td><td>0</td><td>0</td><td>0</td><td>US</td></tr>\n",
       "<tr><td>9477</td><td>1954</td><td>PhD</td><td>Married</td><td>$65,324.00 </td><td>0</td><td>1</td><td>1/11/14</td><td>0</td><td>384</td><td>0</td><td>102</td><td>21</td><td>32</td><td>5</td><td>3</td><td>6</td><td>2</td><td>9</td><td>4</td><td>0</td><td>0</td><td>0</td><td>0</td><td>0</td><td>0</td><td>0</td><td>IND</td></tr>\n",
       "<tr><td>2079</td><td>1947</td><td>2n Cycle</td><td>Married</td><td>$81,044.00 </td><td>0</td><td>0</td><td>12/27/13</td><td>0</td><td>450</td><td>26</td><td>535</td><td>73</td><td>98</td><td>26</td><td>1</td><td>5</td><td>6</td><td>10</td><td>1</td><td>0</td><td>0</td><td>0</td><td>0</td><td>0</td><td>0</td><td>0</td><td>US</td></tr>\n",
       "<tr><td>5642</td><td>1979</td><td>Master</td><td>Together</td><td>$62,499.00 </td><td>1</td><td>0</td><td>12/9/13</td><td>0</td><td>140</td><td>4</td><td>61</td><td>0</td><td>13</td><td>4</td><td>2</td><td>3</td><td>1</td><td>6</td><td>4</td><td>0</td><td>0</td><td>0</td><td>0</td><td>0</td><td>0</td><td>0</td><td>SP</td></tr>\n",
       "<tr><td>10530</td><td>1959</td><td>PhD</td><td>Widow</td><td>$67,786.00 </td><td>0</td><td>0</td><td>12/7/13</td><td>0</td><td>431</td><td>82</td><td>441</td><td>80</td><td>20</td><td>102</td><td>1</td><td>3</td><td>6</td><td>6</td><td>1</td><td>0</td><td>0</td><td>0</td><td>0</td><td>0</td><td>1</td><td>0</td><td>IND</td></tr>\n",
       "<tr><td>2964</td><td>1981</td><td>Graduation</td><td>Married</td><td>$26,872.00 </td><td>0</td><td>0</td><td>10/16/13</td><td>0</td><td>3</td><td>10</td><td>8</td><td>3</td><td>16</td><td>32</td><td>1</td><td>1</td><td>1</td><td>2</td><td>6</td><td>0</td><td>0</td><td>0</td><td>0</td><td>0</td><td>0</td><td>0</td><td>CA</td></tr>\n",
       "<tr><td>10311</td><td>1969</td><td>Graduation</td><td>Married</td><td>$4,428.00 </td><td>0</td><td>1</td><td>10/5/13</td><td>0</td><td>16</td><td>4</td><td>12</td><td>2</td><td>4</td><td>321</td><td>0</td><td>25</td><td>0</td><td>0</td><td>1</td><td>0</td><td>0</td><td>0</td><td>0</td><td>0</td><td>0</td><td>0</td><td>SP</td></tr>\n",
       "<tr><td>837</td><td>1977</td><td>Graduation</td><td>Married</td><td>$54,809.00 </td><td>1</td><td>1</td><td>9/11/13</td><td>0</td><td>63</td><td>6</td><td>57</td><td>13</td><td>13</td><td>22</td><td>4</td><td>2</td><td>1</td><td>5</td><td>4</td><td>0</td><td>0</td><td>0</td><td>0</td><td>0</td><td>0</td><td>0</td><td>SP</td></tr>\n",
       "<tr><td>10521</td><td>1977</td><td>Graduation</td><td>Married</td><td>$54,809.00 </td><td>1</td><td>1</td><td>9/11/13</td><td>0</td><td>63</td><td>6</td><td>57</td><td>13</td><td>13</td><td>22</td><td>4</td><td>2</td><td>1</td><td>5</td><td>4</td><td>0</td><td>0</td><td>0</td><td>0</td><td>0</td><td>1</td><td>0</td><td>SP</td></tr>\n",
       "<tr><td>10175</td><td>1958</td><td>PhD</td><td>Divorced</td><td>$32,173.00 </td><td>0</td><td>1</td><td>8/1/13</td><td>0</td><td>18</td><td>0</td><td>2</td><td>0</td><td>0</td><td>2</td><td>1</td><td>1</td><td>0</td><td>3</td><td>4</td><td>0</td><td>0</td><td>0</td><td>0</td><td>0</td><td>0</td><td>0</td><td>SP</td></tr>\n",
       "<tr><td>1473</td><td>1960</td><td>2n Cycle</td><td>Single</td><td>$47,823.00 </td><td>0</td><td>1</td><td>7/23/13</td><td>0</td><td>53</td><td>1</td><td>5</td><td>2</td><td>1</td><td>10</td><td>2</td><td>2</td><td>0</td><td>3</td><td>8</td><td>0</td><td>0</td><td>0</td><td>0</td><td>0</td><td>0</td><td>0</td><td>CA</td></tr>\n",
       "<tr><td>2795</td><td>1958</td><td>Master</td><td>Single</td><td>$30,523.00 </td><td>2</td><td>1</td><td>7/1/13</td><td>0</td><td>5</td><td>0</td><td>3</td><td>0</td><td>0</td><td>5</td><td>1</td><td>1</td><td>0</td><td>2</td><td>7</td><td>0</td><td>0</td><td>0</td><td>0</td><td>0</td><td>0</td><td>0</td><td>CA</td></tr>\n",
       "</table>\n",
       "only showing top 20 rows\n"
      ],
      "text/plain": [
       "DataFrame[ID: string, Year_Birth: string, Education: string, Marital_Status: string,  Income : string, Kidhome: string, Teenhome: string, Dt_Customer: string, Recency: string, MntWines: string, MntFruits: string, MntMeatProducts: string, MntFishProducts: string, MntSweetProducts: string, MntGoldProds: string, NumDealsPurchases: string, NumWebPurchases: string, NumCatalogPurchases: string, NumStorePurchases: string, NumWebVisitsMonth: string, AcceptedCmp3: string, AcceptedCmp4: string, AcceptedCmp5: string, AcceptedCmp1: string, AcceptedCmp2: string, Response: string, Complain: string, Country: string]"
      ]
     },
     "execution_count": 58,
     "metadata": {},
     "output_type": "execute_result"
    }
   ],
   "source": [
    "df_x"
   ]
  },
  {
   "cell_type": "code",
   "execution_count": 67,
   "metadata": {},
   "outputs": [],
   "source": [
    "df_x.createTempView(\"tableB\")"
   ]
  },
  {
   "cell_type": "code",
   "execution_count": 79,
   "metadata": {},
   "outputs": [
    {
     "data": {
      "text/html": [
       "<table border='1'>\n",
       "<tr><th>ID</th><th>Year_Birth</th><th>Education</th><th>Marital_Status</th><th> Income </th><th>Kidhome</th><th>Teenhome</th><th>Dt_Customer</th><th>Recency</th><th>MntWines</th><th>MntFruits</th><th>MntMeatProducts</th><th>MntFishProducts</th><th>MntSweetProducts</th><th>MntGoldProds</th><th>NumDealsPurchases</th><th>NumWebPurchases</th><th>NumCatalogPurchases</th><th>NumStorePurchases</th><th>NumWebVisitsMonth</th><th>AcceptedCmp3</th><th>AcceptedCmp4</th><th>AcceptedCmp5</th><th>AcceptedCmp1</th><th>AcceptedCmp2</th><th>Response</th><th>Complain</th><th>Country</th></tr>\n",
       "<tr><td>999</td><td>1991</td><td>Graduation</td><td>Single</td><td>$86,037.00 </td><td>0</td><td>0</td><td>1/2/13</td><td>95</td><td>490</td><td>44</td><td>125</td><td>29</td><td>20</td><td>22</td><td>1</td><td>6</td><td>7</td><td>11</td><td>3</td><td>0</td><td>1</td><td>1</td><td>0</td><td>0</td><td>1</td><td>0</td><td>CA</td></tr>\n",
       "<tr><td>9960</td><td>1991</td><td>Basic</td><td>Single</td><td>$26,868.00 </td><td>1</td><td>0</td><td>4/30/14</td><td>52</td><td>0</td><td>0</td><td>1</td><td>8</td><td>3</td><td>2</td><td>1</td><td>1</td><td>0</td><td>2</td><td>7</td><td>0</td><td>0</td><td>0</td><td>0</td><td>0</td><td>0</td><td>0</td><td>SA</td></tr>\n",
       "<tr><td>9909</td><td>1996</td><td>2n Cycle</td><td>Married</td><td>$7,500.00 </td><td>0</td><td>0</td><td>11/9/12</td><td>24</td><td>3</td><td>18</td><td>14</td><td>15</td><td>22</td><td>50</td><td>3</td><td>3</td><td>1</td><td>3</td><td>9</td><td>0</td><td>0</td><td>0</td><td>0</td><td>0</td><td>1</td><td>0</td><td>AUS</td></tr>\n",
       "<tr><td>9771</td><td>1988</td><td>2n Cycle</td><td>Single</td><td>$23,331.00 </td><td>1</td><td>0</td><td>10/5/12</td><td>97</td><td>104</td><td>20</td><td>101</td><td>24</td><td>15</td><td>5</td><td>6</td><td>5</td><td>1</td><td>5</td><td>9</td><td>0</td><td>0</td><td>0</td><td>0</td><td>0</td><td>0</td><td>0</td><td>IND</td></tr>\n",
       "<tr><td>9701</td><td>1988</td><td>Graduation</td><td>Together</td><td>$41,883.00 </td><td>1</td><td>0</td><td>3/19/13</td><td>13</td><td>32</td><td>34</td><td>41</td><td>73</td><td>16</td><td>116</td><td>3</td><td>4</td><td>2</td><td>3</td><td>7</td><td>0</td><td>0</td><td>0</td><td>0</td><td>0</td><td>0</td><td>0</td><td>CA</td></tr>\n",
       "</table>\n"
      ],
      "text/plain": [
       "+----+----------+----------+--------------+-----------+-------+--------+-----------+-------+--------+---------+---------------+---------------+----------------+------------+-----------------+---------------+-------------------+-----------------+-----------------+------------+------------+------------+------------+------------+--------+--------+-------+\n",
       "|  ID|Year_Birth| Education|Marital_Status|    Income |Kidhome|Teenhome|Dt_Customer|Recency|MntWines|MntFruits|MntMeatProducts|MntFishProducts|MntSweetProducts|MntGoldProds|NumDealsPurchases|NumWebPurchases|NumCatalogPurchases|NumStorePurchases|NumWebVisitsMonth|AcceptedCmp3|AcceptedCmp4|AcceptedCmp5|AcceptedCmp1|AcceptedCmp2|Response|Complain|Country|\n",
       "+----+----------+----------+--------------+-----------+-------+--------+-----------+-------+--------+---------+---------------+---------------+----------------+------------+-----------------+---------------+-------------------+-----------------+-----------------+------------+------------+------------+------------+------------+--------+--------+-------+\n",
       "| 999|      1991|Graduation|        Single|$86,037.00 |      0|       0|     1/2/13|     95|     490|       44|            125|             29|              20|          22|                1|              6|                  7|               11|                3|           0|           1|           1|           0|           0|       1|       0|     CA|\n",
       "|9960|      1991|     Basic|        Single|$26,868.00 |      1|       0|    4/30/14|     52|       0|        0|              1|              8|               3|           2|                1|              1|                  0|                2|                7|           0|           0|           0|           0|           0|       0|       0|     SA|\n",
       "|9909|      1996|  2n Cycle|       Married| $7,500.00 |      0|       0|    11/9/12|     24|       3|       18|             14|             15|              22|          50|                3|              3|                  1|                3|                9|           0|           0|           0|           0|           0|       1|       0|    AUS|\n",
       "|9771|      1988|  2n Cycle|        Single|$23,331.00 |      1|       0|    10/5/12|     97|     104|       20|            101|             24|              15|           5|                6|              5|                  1|                5|                9|           0|           0|           0|           0|           0|       0|       0|    IND|\n",
       "|9701|      1988|Graduation|      Together|$41,883.00 |      1|       0|    3/19/13|     13|      32|       34|             41|             73|              16|         116|                3|              4|                  2|                3|                7|           0|           0|           0|           0|           0|       0|       0|     CA|\n",
       "+----+----------+----------+--------------+-----------+-------+--------+-----------+-------+--------+---------+---------------+---------------+----------------+------------+-----------------+---------------+-------------------+-----------------+-----------------+------------+------------+------------+------------+------------+--------+--------+-------+"
      ]
     },
     "execution_count": 79,
     "metadata": {},
     "output_type": "execute_result"
    }
   ],
   "source": [
    "spark.sql(\"select DISTINCT * from tableB where Year_Birth> 1986 order by ID desc LIMIT 5\")"
   ]
  },
  {
   "cell_type": "code",
   "execution_count": 77,
   "metadata": {},
   "outputs": [],
   "source": [
    "dfff = spark.sql(\"select DISTINCT * from tableB where Year_Birth > 1986 order by ID desc LIMIT 5\")"
   ]
  },
  {
   "cell_type": "code",
   "execution_count": 82,
   "metadata": {},
   "outputs": [
    {
     "name": "stderr",
     "output_type": "stream",
     "text": [
      "                                                                                \r"
     ]
    }
   ],
   "source": [
    "dfff.write.csv(\"out.csv\")"
   ]
  },
  {
   "cell_type": "markdown",
   "metadata": {},
   "source": [
    "#### RDD"
   ]
  },
  {
   "cell_type": "code",
   "execution_count": 95,
   "metadata": {},
   "outputs": [],
   "source": [
    "rdd = sc.parallelize([('C',85,76,87,91), ('B',85,76,87,91), (\"A\", 85,78,96,92), (\"A\", 92,76,89,96)], 4)"
   ]
  },
  {
   "cell_type": "code",
   "execution_count": 94,
   "metadata": {},
   "outputs": [
    {
     "data": {
      "text/plain": [
       "pyspark.rdd.RDD"
      ]
     },
     "execution_count": 94,
     "metadata": {},
     "output_type": "execute_result"
    }
   ],
   "source": [
    "type(rdd)"
   ]
  },
  {
   "cell_type": "code",
   "execution_count": 103,
   "metadata": {},
   "outputs": [
    {
     "name": "stdout",
     "output_type": "stream",
     "text": [
      "ParallelCollectionRDD[306] at readRDDFromFile at PythonRDD.scala:274\n"
     ]
    }
   ],
   "source": [
    "print(rdd)"
   ]
  },
  {
   "cell_type": "code",
   "execution_count": 107,
   "metadata": {},
   "outputs": [
    {
     "data": {
      "text/html": [
       "<table border='1'>\n",
       "<tr><th>number</th><th>air_pressure_9am</th><th>air_temp_9am</th><th>avg_wind_direction_9am</th><th>avg_wind_speed_9am</th><th>max_wind_direction_9am</th><th>max_wind_speed_9am</th><th>rain_accumulation_9am</th><th>rain_duration_9am</th><th>relative_humidity_9am</th><th>relative_humidity_3pm</th></tr>\n",
       "<tr><td>4</td><td>921.1600000000036</td><td>44.29400000000284</td><td>277.8</td><td>1.8566601999998955</td><td>136.49999999999991</td><td>2.863283199999954</td><td>8.899999999998613</td><td>14730.0</td><td>92.41000000000044</td><td>76.74000000000046</td></tr>\n",
       "<tr><td>9</td><td>915.0100000000116</td><td>47.4979999999998</td><td>163.10000000000005</td><td>4.943637399999545</td><td>195.89999999999992</td><td>6.576603599999951</td><td>0.0</td><td>0.0</td><td>88.6000000000012</td><td>68.0500000000012</td></tr>\n",
       "<tr><td>11</td><td>915.6400000000099</td><td>45.71599999999757</td><td>241.60000000000005</td><td>5.860782799999633</td><td>265.7999999999999</td><td>8.030614600000042</td><td>0.5499999999999545</td><td>1770.0</td><td>90.56000000000022</td><td>79.0900000000002</td></tr>\n",
       "<tr><td>12</td><td>917.3900000000112</td><td>49.78399999999978</td><td>204.10000000000005</td><td>1.2750557999995473</td><td>211.79999999999993</td><td>2.01324599999997</td><td>0.0</td><td>0.0</td><td>73.1500000000012</td><td>58.43000000000119</td></tr>\n",
       "<tr><td>23</td><td>920.3500000000046</td><td>47.5700000000002</td><td>192.10000000000005</td><td>6.2634319999996935</td><td>205.69999999999993</td><td>7.605596000000003</td><td>0.0</td><td>0.0</td><td>54.55</td><td>66.00000000000001</td></tr>\n",
       "<tr><td>26</td><td>914.4900000000038</td><td>49.892000000005595</td><td>163.0</td><td>4.854159799999914</td><td>189.59999999999994</td><td>6.733189399999966</td><td>0.0</td><td>0.0</td><td>92.10000000000042</td><td>90.9900000000004</td></tr>\n",
       "<tr><td>28</td><td>915.8400000000056</td><td>40.11800000000114</td><td>171.90000000000003</td><td>10.535987399999618</td><td>187.99999999999991</td><td>12.929513199999962</td><td>0.0</td><td>0.0</td><td>86.43000000000026</td><td>84.39000000000027</td></tr>\n",
       "<tr><td>29</td><td>916.3100000000024</td><td>45.42800000000261</td><td>183.1</td><td>8.343786199999892</td><td>194.59999999999994</td><td>10.088599399999971</td><td>0.0</td><td>0.0</td><td>86.15000000000046</td><td>90.58000000000048</td></tr>\n",
       "<tr><td>42</td><td>921.5000000000059</td><td>49.55000000000121</td><td>90.70000000000003</td><td>1.7448131999996142</td><td>112.29999999999993</td><td>2.684327999999957</td><td>1.5299999999997451</td><td>5420.0</td><td>34.35000000000028</td><td>49.50000000000024</td></tr>\n",
       "<tr><td>55</td><td>916.420000000002</td><td>45.014000000005645</td><td>82.8</td><td>3.064607800000057</td><td>129.7999999999999</td><td>4.809421000000055</td><td>8.739999999999782</td><td>7000.0</td><td>57.710000000000136</td><td>41.80000000000011</td></tr>\n",
       "<tr><td>56</td><td>922.5700000000054</td><td>45.625999999999934</td><td>182.80000000000004</td><td>5.212070199999689</td><td>191.39999999999992</td><td>6.017368599999999</td><td>0.0</td><td>0.0</td><td>85.71</td><td>80.22999999999998</td></tr>\n",
       "<tr><td>61</td><td>918.540000000002</td><td>46.65200000000421</td><td>213.6</td><td>16.48624779999996</td><td>221.19999999999993</td><td>18.029736400000044</td><td>0.07999999999992724</td><td>1153.0</td><td>91.36000000000038</td><td>89.93000000000042</td></tr>\n",
       "<tr><td>77</td><td>921.6100000000064</td><td>38.13800000000076</td><td>46.60000000000005</td><td>4.518618799999635</td><td>59.5999999999999</td><td>5.525241800000045</td><td>0.0</td><td>0.0</td><td>29.799999999999976</td><td>16.399999999999984</td></tr>\n",
       "<tr><td>82</td><td>925.7400000000059</td><td>49.55000000000146</td><td>154.20000000000005</td><td>2.326417599999625</td><td>197.09999999999994</td><td>3.4001488000000113</td><td>0.0</td><td>0.0</td><td>69.7799999999999</td><td>52.04999999999997</td></tr>\n",
       "<tr><td>83</td><td>917.6700000000033</td><td>43.86200000000369</td><td>192.9</td><td>5.838413399999953</td><td>206.39999999999992</td><td>7.2700549999999655</td><td>0.0</td><td>0.0</td><td>85.18000000000049</td><td>20.710000000000512</td></tr>\n",
       "<tr><td>93</td><td>921.408129860134</td><td>47.97039461358988</td><td>46.31142850673576</td><td>10.99845315330274</td><td>67.23285723989625</td><td>14.385412785801327</td><td>0.0</td><td>0.0</td><td>22.147701376038988</td><td>21.865532431069614</td></tr>\n",
       "<tr><td>97</td><td>921.5400000000087</td><td>43.16000000000035</td><td>52.500000000000036</td><td>23.554978199999763</td><td>67.9999999999999</td><td>29.84077959999996</td><td>0.049999999999954525</td><td>100.0</td><td>19.37999999999999</td><td>18.379999999999992</td></tr>\n",
       "<tr><td>99</td><td>921.3900000000044</td><td>46.67000000000071</td><td>46.000000000000036</td><td>1.7000743999996872</td><td>72.6999999999999</td><td>2.2145705999999725</td><td>0.0</td><td>0.0</td><td>38.09</td><td>35.18000000000001</td></tr>\n",
       "<tr><td>106</td><td>914.9500000000077</td><td>47.20999999999799</td><td>183.90000000000003</td><td>7.627965399999777</td><td>191.19999999999993</td><td>8.612218999999852</td><td>20.01999999999964</td><td>11650.0</td><td>90.68000000000008</td><td>65.65000000000005</td></tr>\n",
       "<tr><td>110</td><td>922.7114406707591</td><td>47.521110164260094</td><td>198.5919491444014</td><td>6.111253729694223</td><td>215.4258050718364</td><td>7.4519485531296095</td><td>0.0</td><td>0.0</td><td>50.75183903229225</td><td>22.18990677754444</td></tr>\n",
       "</table>\n",
       "only showing top 20 rows\n"
      ],
      "text/plain": [
       "+------+-----------------+------------------+----------------------+------------------+----------------------+------------------+---------------------+-----------------+---------------------+---------------------+\n",
       "|number| air_pressure_9am|      air_temp_9am|avg_wind_direction_9am|avg_wind_speed_9am|max_wind_direction_9am|max_wind_speed_9am|rain_accumulation_9am|rain_duration_9am|relative_humidity_9am|relative_humidity_3pm|\n",
       "+------+-----------------+------------------+----------------------+------------------+----------------------+------------------+---------------------+-----------------+---------------------+---------------------+\n",
       "|     4|921.1600000000036| 44.29400000000284|                 277.8|1.8566601999998955|    136.49999999999991| 2.863283199999954|    8.899999999998613|          14730.0|    92.41000000000044|    76.74000000000046|\n",
       "|     9|915.0100000000116|  47.4979999999998|    163.10000000000005| 4.943637399999545|    195.89999999999992| 6.576603599999951|                  0.0|              0.0|     88.6000000000012|     68.0500000000012|\n",
       "|    11|915.6400000000099| 45.71599999999757|    241.60000000000005| 5.860782799999633|     265.7999999999999| 8.030614600000042|   0.5499999999999545|           1770.0|    90.56000000000022|     79.0900000000002|\n",
       "|    12|917.3900000000112| 49.78399999999978|    204.10000000000005|1.2750557999995473|    211.79999999999993|  2.01324599999997|                  0.0|              0.0|     73.1500000000012|    58.43000000000119|\n",
       "|    23|920.3500000000046|  47.5700000000002|    192.10000000000005|6.2634319999996935|    205.69999999999993| 7.605596000000003|                  0.0|              0.0|                54.55|    66.00000000000001|\n",
       "|    26|914.4900000000038|49.892000000005595|                 163.0| 4.854159799999914|    189.59999999999994| 6.733189399999966|                  0.0|              0.0|    92.10000000000042|     90.9900000000004|\n",
       "|    28|915.8400000000056| 40.11800000000114|    171.90000000000003|10.535987399999618|    187.99999999999991|12.929513199999962|                  0.0|              0.0|    86.43000000000026|    84.39000000000027|\n",
       "|    29|916.3100000000024| 45.42800000000261|                 183.1| 8.343786199999892|    194.59999999999994|10.088599399999971|                  0.0|              0.0|    86.15000000000046|    90.58000000000048|\n",
       "|    42|921.5000000000059| 49.55000000000121|     90.70000000000003|1.7448131999996142|    112.29999999999993| 2.684327999999957|   1.5299999999997451|           5420.0|    34.35000000000028|    49.50000000000024|\n",
       "|    55| 916.420000000002|45.014000000005645|                  82.8| 3.064607800000057|     129.7999999999999| 4.809421000000055|    8.739999999999782|           7000.0|   57.710000000000136|    41.80000000000011|\n",
       "|    56|922.5700000000054|45.625999999999934|    182.80000000000004| 5.212070199999689|    191.39999999999992| 6.017368599999999|                  0.0|              0.0|                85.71|    80.22999999999998|\n",
       "|    61| 918.540000000002| 46.65200000000421|                 213.6| 16.48624779999996|    221.19999999999993|18.029736400000044|  0.07999999999992724|           1153.0|    91.36000000000038|    89.93000000000042|\n",
       "|    77|921.6100000000064| 38.13800000000076|     46.60000000000005| 4.518618799999635|      59.5999999999999| 5.525241800000045|                  0.0|              0.0|   29.799999999999976|   16.399999999999984|\n",
       "|    82|925.7400000000059| 49.55000000000146|    154.20000000000005| 2.326417599999625|    197.09999999999994|3.4001488000000113|                  0.0|              0.0|     69.7799999999999|    52.04999999999997|\n",
       "|    83|917.6700000000033| 43.86200000000369|                 192.9| 5.838413399999953|    206.39999999999992|7.2700549999999655|                  0.0|              0.0|    85.18000000000049|   20.710000000000512|\n",
       "|    93| 921.408129860134| 47.97039461358988|     46.31142850673576| 10.99845315330274|     67.23285723989625|14.385412785801327|                  0.0|              0.0|   22.147701376038988|   21.865532431069614|\n",
       "|    97|921.5400000000087| 43.16000000000035|    52.500000000000036|23.554978199999763|      67.9999999999999| 29.84077959999996| 0.049999999999954525|            100.0|    19.37999999999999|   18.379999999999992|\n",
       "|    99|921.3900000000044| 46.67000000000071|    46.000000000000036|1.7000743999996872|      72.6999999999999|2.2145705999999725|                  0.0|              0.0|                38.09|    35.18000000000001|\n",
       "|   106|914.9500000000077| 47.20999999999799|    183.90000000000003| 7.627965399999777|    191.19999999999993| 8.612218999999852|    20.01999999999964|          11650.0|    90.68000000000008|    65.65000000000005|\n",
       "|   110|922.7114406707591|47.521110164260094|     198.5919491444014| 6.111253729694223|     215.4258050718364|7.4519485531296095|                  0.0|              0.0|    50.75183903229225|    22.18990677754444|\n",
       "+------+-----------------+------------------+----------------------+------------------+----------------------+------------------+---------------------+-----------------+---------------------+---------------------+\n",
       "only showing top 20 rows"
      ]
     },
     "execution_count": 107,
     "metadata": {},
     "output_type": "execute_result"
    }
   ],
   "source": [
    "df[df.air_temp_9am < 50]"
   ]
  },
  {
   "cell_type": "code",
   "execution_count": 108,
   "metadata": {},
   "outputs": [
    {
     "data": {
      "text/plain": [
       "'/soe/srmahesh/bigdata/big-data-4'"
      ]
     },
     "execution_count": 108,
     "metadata": {},
     "output_type": "execute_result"
    }
   ],
   "source": [
    "pwd"
   ]
  },
  {
   "cell_type": "code",
   "execution_count": null,
   "metadata": {},
   "outputs": [
    {
     "name": "stdout",
     "output_type": "stream",
     "text": [
      "Python 3.9.5 (default, Jun  4 2021, 12:28:51) \n",
      "[GCC 7.5.0] :: Anaconda, Inc. on linux\n",
      "Type \"help\", \"copyright\", \"credits\" or \"license\" for more information.\n",
      "Using Spark's default log4j profile: org/apache/spark/log4j-defaults.properties\n",
      "Setting default log level to \"WARN\".\n",
      "To adjust logging level use sc.setLogLevel(newLevel). For SparkR, use setLogLevel(newLevel).\n",
      "22/04/02 18:33:15 WARN NativeCodeLoader: Unable to load native-hadoop library for your platform... using builtin-java classes where applicable\n",
      "22/04/02 18:33:16 WARN Utils: Service 'SparkUI' could not bind on port 4040. Attempting port 4041.\n",
      "22/04/02 18:33:16 WARN Utils: Service 'SparkUI' could not bind on port 4041. Attempting port 4042.\n",
      "Welcome to\n",
      "      ____              __\n",
      "     / __/__  ___ _____/ /__\n",
      "    _\\ \\/ _ \\/ _ `/ __/  '_/\n",
      "   /__ / .__/\\_,_/_/ /_/\\_\\   version 3.2.1\n",
      "      /_/\n",
      "\n",
      "Using Python version 3.9.5 (default, Jun  4 2021 12:28:51)\n",
      "Spark context Web UI available at http://nlp-gpu-01.soe.ucsc.edu:4042\n",
      "Spark context available as 'sc' (master = local[*], app id = local-1648949596550).\n",
      "SparkSession available as 'spark'.\n",
      ">>> "
     ]
    }
   ],
   "source": [
    "!pyspark"
   ]
  },
  {
   "cell_type": "code",
   "execution_count": null,
   "metadata": {},
   "outputs": [],
   "source": []
  }
 ],
 "metadata": {
  "kernelspec": {
   "display_name": "Python 3 (ipykernel)",
   "language": "python",
   "name": "python3"
  },
  "language_info": {
   "codemirror_mode": {
    "name": "ipython",
    "version": 3
   },
   "file_extension": ".py",
   "mimetype": "text/x-python",
   "name": "python",
   "nbconvert_exporter": "python",
   "pygments_lexer": "ipython3",
   "version": "3.9.5"
  }
 },
 "nbformat": 4,
 "nbformat_minor": 4
}
