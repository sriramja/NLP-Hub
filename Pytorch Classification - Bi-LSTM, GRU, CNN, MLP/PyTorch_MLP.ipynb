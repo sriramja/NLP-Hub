{
  "cells": [
    {
      "cell_type": "code",
      "execution_count": null,
      "metadata": {
        "colab": {
          "base_uri": "https://localhost:8080/"
        },
        "id": "jGP6ygtpVI80",
        "outputId": "93523684-6a84-476e-b397-96f30be970e9"
      },
      "outputs": [
        {
          "name": "stdout",
          "output_type": "stream",
          "text": [
            "Collecting torchtext==0.8.1\n",
            "  Downloading torchtext-0.8.1-cp37-cp37m-manylinux1_x86_64.whl (7.0 MB)\n",
            "\u001b[K     |████████████████████████████████| 7.0 MB 4.6 MB/s \n",
            "\u001b[?25hRequirement already satisfied: requests in /usr/local/lib/python3.7/dist-packages (from torchtext==0.8.1) (2.23.0)\n",
            "Requirement already satisfied: tqdm in /usr/local/lib/python3.7/dist-packages (from torchtext==0.8.1) (4.62.3)\n",
            "Requirement already satisfied: numpy in /usr/local/lib/python3.7/dist-packages (from torchtext==0.8.1) (1.19.5)\n",
            "Collecting torch==1.7.1\n",
            "  Downloading torch-1.7.1-cp37-cp37m-manylinux1_x86_64.whl (776.8 MB)\n",
            "\u001b[K     |████████████████████████████████| 776.8 MB 19 kB/s \n",
            "\u001b[?25hRequirement already satisfied: typing-extensions in /usr/local/lib/python3.7/dist-packages (from torch==1.7.1->torchtext==0.8.1) (3.7.4.3)\n",
            "Requirement already satisfied: urllib3!=1.25.0,!=1.25.1,<1.26,>=1.21.1 in /usr/local/lib/python3.7/dist-packages (from requests->torchtext==0.8.1) (1.24.3)\n",
            "Requirement already satisfied: idna<3,>=2.5 in /usr/local/lib/python3.7/dist-packages (from requests->torchtext==0.8.1) (2.10)\n",
            "Requirement already satisfied: certifi>=2017.4.17 in /usr/local/lib/python3.7/dist-packages (from requests->torchtext==0.8.1) (2021.5.30)\n",
            "Requirement already satisfied: chardet<4,>=3.0.2 in /usr/local/lib/python3.7/dist-packages (from requests->torchtext==0.8.1) (3.0.4)\n",
            "Installing collected packages: torch, torchtext\n",
            "  Attempting uninstall: torch\n",
            "    Found existing installation: torch 1.9.0+cu111\n",
            "    Uninstalling torch-1.9.0+cu111:\n",
            "      Successfully uninstalled torch-1.9.0+cu111\n",
            "  Attempting uninstall: torchtext\n",
            "    Found existing installation: torchtext 0.10.0\n",
            "    Uninstalling torchtext-0.10.0:\n",
            "      Successfully uninstalled torchtext-0.10.0\n",
            "\u001b[31mERROR: pip's dependency resolver does not currently take into account all the packages that are installed. This behaviour is the source of the following dependency conflicts.\n",
            "torchvision 0.10.0+cu111 requires torch==1.9.0, but you have torch 1.7.1 which is incompatible.\u001b[0m\n",
            "Successfully installed torch-1.7.1 torchtext-0.8.1\n"
          ]
        }
      ],
      "source": [
        "!pip install torchtext==0.8.1"
      ]
    },
    {
      "cell_type": "code",
      "execution_count": null,
      "metadata": {
        "id": "X0N0Bt07QdQm"
      },
      "outputs": [],
      "source": [
        "import torch\n",
        "import torch.nn as nn\n",
        "import torchtext.data as ttd\n",
        "from torchtext.vocab import GloVe\n",
        "import numpy as np\n",
        "import pandas as pd\n",
        "import matplotlib.pyplot as plt\n",
        "from datetime import datetime"
      ]
    },
    {
      "cell_type": "code",
      "execution_count": null,
      "metadata": {
        "id": "mNRtvNKquPUJ"
      },
      "outputs": [],
      "source": [
        "df = pd.read_csv('/content/train_data_merged_labels.csv', header=0)\n"
      ]
    },
    {
      "cell_type": "code",
      "execution_count": null,
      "metadata": {
        "colab": {
          "base_uri": "https://localhost:8080/",
          "height": 204
        },
        "id": "2VWZD0KSRNFk",
        "outputId": "1ef5bda0-3b69-44f0-ad64-0b17a8adab77"
      },
      "outputs": [
        {
          "data": {
            "text/html": [
              "<div>\n",
              "<style scoped>\n",
              "    .dataframe tbody tr th:only-of-type {\n",
              "        vertical-align: middle;\n",
              "    }\n",
              "\n",
              "    .dataframe tbody tr th {\n",
              "        vertical-align: top;\n",
              "    }\n",
              "\n",
              "    .dataframe thead th {\n",
              "        text-align: right;\n",
              "    }\n",
              "</style>\n",
              "<table border=\"1\" class=\"dataframe\">\n",
              "  <thead>\n",
              "    <tr style=\"text-align: right;\">\n",
              "      <th></th>\n",
              "      <th>utterances</th>\n",
              "      <th>Core Relations</th>\n",
              "    </tr>\n",
              "  </thead>\n",
              "  <tbody>\n",
              "    <tr>\n",
              "      <th>0</th>\n",
              "      <td>who plays luke on star wars new hope</td>\n",
              "      <td>movie.starring.actor_movie.starring.character</td>\n",
              "    </tr>\n",
              "    <tr>\n",
              "      <th>1</th>\n",
              "      <td>show credits for the godfather</td>\n",
              "      <td>movie.starring.actor</td>\n",
              "    </tr>\n",
              "    <tr>\n",
              "      <th>2</th>\n",
              "      <td>who was the main actor in the exorcist</td>\n",
              "      <td>movie.starring.actor</td>\n",
              "    </tr>\n",
              "    <tr>\n",
              "      <th>3</th>\n",
              "      <td>who played dory on finding nemo</td>\n",
              "      <td>movie.starring.actor_movie.starring.character</td>\n",
              "    </tr>\n",
              "    <tr>\n",
              "      <th>4</th>\n",
              "      <td>who was the female lead in resident evil</td>\n",
              "      <td>actor.gender_movie.starring.actor</td>\n",
              "    </tr>\n",
              "  </tbody>\n",
              "</table>\n",
              "</div>"
            ],
            "text/plain": [
              "                                 utterances                                 Core Relations\n",
              "0      who plays luke on star wars new hope  movie.starring.actor_movie.starring.character\n",
              "1            show credits for the godfather                           movie.starring.actor\n",
              "2    who was the main actor in the exorcist                           movie.starring.actor\n",
              "3           who played dory on finding nemo  movie.starring.actor_movie.starring.character\n",
              "4  who was the female lead in resident evil              actor.gender_movie.starring.actor"
            ]
          },
          "execution_count": 3,
          "metadata": {},
          "output_type": "execute_result"
        }
      ],
      "source": [
        "df.head()"
      ]
    },
    {
      "cell_type": "code",
      "execution_count": null,
      "metadata": {
        "colab": {
          "base_uri": "https://localhost:8080/"
        },
        "id": "_emGJJZSvc_o",
        "outputId": "09fca562-51c4-4041-a094-995237b6dcb9"
      },
      "outputs": [
        {
          "name": "stdout",
          "output_type": "stream",
          "text": [
            "['movie.directed_by', 'birth', 'movie.genre_movie.production', 'movie.production', 'companies', 'movie.directed_by_movie.initial_release', 'movie.genre_movie.initial_release', 'movie.language', 'movie.initial_release_date_movie.produced', 'movie.initial_release_date_movie.production', 'person.date_of', 'date', 'movie.initial_release_date', 'movie.country', 'movie.directed_by_movie.estimated', 'movie.starring.character', 'by', 'actor.gender', 'movie.estimated', 'none', 'revenue', 'movie.music', 'budget', 'movie.subjects', 'movie.production_companies', 'movie.starring.actor', 'movie.genre', 'movie.initial_release', 'movie.gross', 'movie.country_movie.genre', 'movie.country_movie.genre_movie.language', 'movie.locations', 'movie.directed_by_movie.produced', 'gr.amount_movie.gross', 'movie.rating', 'movie.directed', 'movie.genre_movie.gross', 'movie.produced', 'movie.produced_by_movie.production']\n"
          ]
        }
      ],
      "source": [
        "from itertools import chain\n",
        "\n",
        "unique_relations = []\n",
        "for i in range(0,len(df['Core Relations'])):\n",
        "  unique_relations.append(df['Core Relations'][i].rsplit('_',1))\n",
        "\n",
        "unique_relations = list(set(list(chain.from_iterable( unique_relations ))))\n",
        "print(unique_relations)\n",
        " # = chain.from_iterable( df['Core Relations'] )"
      ]
    },
    {
      "cell_type": "code",
      "execution_count": null,
      "metadata": {
        "colab": {
          "base_uri": "https://localhost:8080/",
          "height": 420
        },
        "id": "xJY2m935RWcz",
        "outputId": "37475c2a-6a73-4a5b-e9d0-af42d811eb79"
      },
      "outputs": [
        {
          "data": {
            "text/html": [
              "<div>\n",
              "<style scoped>\n",
              "    .dataframe tbody tr th:only-of-type {\n",
              "        vertical-align: middle;\n",
              "    }\n",
              "\n",
              "    .dataframe tbody tr th {\n",
              "        vertical-align: top;\n",
              "    }\n",
              "\n",
              "    .dataframe thead th {\n",
              "        text-align: right;\n",
              "    }\n",
              "</style>\n",
              "<table border=\"1\" class=\"dataframe\">\n",
              "  <thead>\n",
              "    <tr style=\"text-align: right;\">\n",
              "      <th></th>\n",
              "      <th>utterances</th>\n",
              "      <th>Encoded Relations</th>\n",
              "    </tr>\n",
              "  </thead>\n",
              "  <tbody>\n",
              "    <tr>\n",
              "      <th>0</th>\n",
              "      <td>who plays luke on star wars new hope</td>\n",
              "      <td>42</td>\n",
              "    </tr>\n",
              "    <tr>\n",
              "      <th>1</th>\n",
              "      <td>show credits for the godfather</td>\n",
              "      <td>41</td>\n",
              "    </tr>\n",
              "    <tr>\n",
              "      <th>2</th>\n",
              "      <td>who was the main actor in the exorcist</td>\n",
              "      <td>41</td>\n",
              "    </tr>\n",
              "    <tr>\n",
              "      <th>3</th>\n",
              "      <td>who played dory on finding nemo</td>\n",
              "      <td>42</td>\n",
              "    </tr>\n",
              "    <tr>\n",
              "      <th>4</th>\n",
              "      <td>who was the female lead in resident evil</td>\n",
              "      <td>0</td>\n",
              "    </tr>\n",
              "    <tr>\n",
              "      <th>...</th>\n",
              "      <td>...</td>\n",
              "      <td>...</td>\n",
              "    </tr>\n",
              "    <tr>\n",
              "      <th>2248</th>\n",
              "      <td>revenue for titanic</td>\n",
              "      <td>26</td>\n",
              "    </tr>\n",
              "    <tr>\n",
              "      <th>2249</th>\n",
              "      <td>total titanic revenues</td>\n",
              "      <td>26</td>\n",
              "    </tr>\n",
              "    <tr>\n",
              "      <th>2250</th>\n",
              "      <td>what was the revenue for toy story 3</td>\n",
              "      <td>26</td>\n",
              "    </tr>\n",
              "    <tr>\n",
              "      <th>2251</th>\n",
              "      <td>dark knight revenue</td>\n",
              "      <td>26</td>\n",
              "    </tr>\n",
              "    <tr>\n",
              "      <th>2252</th>\n",
              "      <td>how much did the dark night generate</td>\n",
              "      <td>26</td>\n",
              "    </tr>\n",
              "  </tbody>\n",
              "</table>\n",
              "<p>2253 rows × 2 columns</p>\n",
              "</div>"
            ],
            "text/plain": [
              "                                    utterances  Encoded Relations\n",
              "0         who plays luke on star wars new hope                 42\n",
              "1               show credits for the godfather                 41\n",
              "2       who was the main actor in the exorcist                 41\n",
              "3              who played dory on finding nemo                 42\n",
              "4     who was the female lead in resident evil                  0\n",
              "...                                        ...                ...\n",
              "2248                       revenue for titanic                 26\n",
              "2249                    total titanic revenues                 26\n",
              "2250      what was the revenue for toy story 3                 26\n",
              "2251                       dark knight revenue                 26\n",
              "2252      how much did the dark night generate                 26\n",
              "\n",
              "[2253 rows x 2 columns]"
            ]
          },
          "execution_count": 5,
          "metadata": {},
          "output_type": "execute_result"
        }
      ],
      "source": [
        "from sklearn import preprocessing\n",
        "from sklearn.preprocessing import LabelEncoder\n",
        "\n",
        "\n",
        "enc = preprocessing.LabelEncoder()\n",
        "df['Encoded Relations'] = enc.fit_transform(df['Core Relations'])\n",
        "df1 = df[['utterances','Encoded Relations']]\n",
        "df1"
      ]
    },
    {
      "cell_type": "code",
      "execution_count": null,
      "metadata": {
        "colab": {
          "base_uri": "https://localhost:8080/",
          "height": 420
        },
        "id": "t939Hfio03qd",
        "outputId": "c89693d0-217f-459a-9dc3-6ff6e824b06c"
      },
      "outputs": [
        {
          "data": {
            "text/html": [
              "<div>\n",
              "<style scoped>\n",
              "    .dataframe tbody tr th:only-of-type {\n",
              "        vertical-align: middle;\n",
              "    }\n",
              "\n",
              "    .dataframe tbody tr th {\n",
              "        vertical-align: top;\n",
              "    }\n",
              "\n",
              "    .dataframe thead th {\n",
              "        text-align: right;\n",
              "    }\n",
              "</style>\n",
              "<table border=\"1\" class=\"dataframe\">\n",
              "  <thead>\n",
              "    <tr style=\"text-align: right;\">\n",
              "      <th></th>\n",
              "      <th>utterances</th>\n",
              "    </tr>\n",
              "  </thead>\n",
              "  <tbody>\n",
              "    <tr>\n",
              "      <th>0</th>\n",
              "      <td>star of thor</td>\n",
              "    </tr>\n",
              "    <tr>\n",
              "      <th>1</th>\n",
              "      <td>who is in the movie the campaign</td>\n",
              "    </tr>\n",
              "    <tr>\n",
              "      <th>2</th>\n",
              "      <td>list the cast of the movie the campaign</td>\n",
              "    </tr>\n",
              "    <tr>\n",
              "      <th>3</th>\n",
              "      <td>who was in twilight</td>\n",
              "    </tr>\n",
              "    <tr>\n",
              "      <th>4</th>\n",
              "      <td>who is in vulguria</td>\n",
              "    </tr>\n",
              "    <tr>\n",
              "      <th>...</th>\n",
              "      <td>...</td>\n",
              "    </tr>\n",
              "    <tr>\n",
              "      <th>976</th>\n",
              "      <td>trailer for star wars a new hope</td>\n",
              "    </tr>\n",
              "    <tr>\n",
              "      <th>977</th>\n",
              "      <td>show resident evil movies with trailers</td>\n",
              "    </tr>\n",
              "    <tr>\n",
              "      <th>978</th>\n",
              "      <td>can i see previews for upcoming warner brother...</td>\n",
              "    </tr>\n",
              "    <tr>\n",
              "      <th>979</th>\n",
              "      <td>how many woody allen movies are set in new yor...</td>\n",
              "    </tr>\n",
              "    <tr>\n",
              "      <th>980</th>\n",
              "      <td>how many scorsese films were filmed in france</td>\n",
              "    </tr>\n",
              "  </tbody>\n",
              "</table>\n",
              "<p>981 rows × 1 columns</p>\n",
              "</div>"
            ],
            "text/plain": [
              "                                            utterances\n",
              "0                                         star of thor\n",
              "1                     who is in the movie the campaign\n",
              "2              list the cast of the movie the campaign\n",
              "3                                  who was in twilight\n",
              "4                                   who is in vulguria\n",
              "..                                                 ...\n",
              "976                   trailer for star wars a new hope\n",
              "977            show resident evil movies with trailers\n",
              "978  can i see previews for upcoming warner brother...\n",
              "979  how many woody allen movies are set in new yor...\n",
              "980      how many scorsese films were filmed in france\n",
              "\n",
              "[981 rows x 1 columns]"
            ]
          },
          "execution_count": 6,
          "metadata": {},
          "output_type": "execute_result"
        }
      ],
      "source": [
        "df2 = pd.read_csv('/content/test_data.csv', header=0)\n",
        "df2"
      ]
    },
    {
      "cell_type": "code",
      "execution_count": null,
      "metadata": {
        "id": "hlgbM1PVWgkm"
      },
      "outputs": [],
      "source": [
        "df1.to_csv('train.csv', index=False)"
      ]
    },
    {
      "cell_type": "code",
      "execution_count": null,
      "metadata": {
        "colab": {
          "base_uri": "https://localhost:8080/"
        },
        "id": "QFMuv5sZQke5",
        "outputId": "85bca494-dfcf-4481-910a-304896b5bf4e"
      },
      "outputs": [],
      "source": [
        "TEXT = ttd.Field(\n",
        "    sequential=True,\n",
        "    batch_first=True,\n",
        "    lower=True,\n",
        "    tokenize='spacy',\n",
        "    use_vocab=True,\n",
        "    pad_first=True)\n",
        "LABEL = ttd.Field(sequential=False, use_vocab=False, lower=True, is_target=True)\n",
        "\n",
        "# Note: if you don't specify use_vocab=False, then PyTorch will\n",
        "# complain later when you try to iterate over the dataset that\n",
        "# the attribute `vocab` doesn't exist.\n",
        "\n",
        "# Note 2: if you don't specify is_target=True, then PyTorch will\n",
        "# assume it's part of the input, so when you iterate over the\n",
        "# dataset it will be like:\n",
        "# for (inputs, targets), _ in iterator:\n",
        "# where the 2nd element (_) should have been the target.\n",
        "\n",
        "dataset = ttd.TabularDataset(\n",
        "    path='train.csv',\n",
        "    format='csv',\n",
        "    skip_header=True,\n",
        "    fields=[('utterances', TEXT), ('Encoded Relations', LABEL)]\n",
        ")"
      ]
    },
    {
      "cell_type": "code",
      "execution_count": null,
      "metadata": {
        "colab": {
          "base_uri": "https://localhost:8080/"
        },
        "id": "SWfFfouu5ZCB",
        "outputId": "d1ac0557-8a71-400b-df0e-fcf92ea8a5a4"
      },
      "outputs": [
        {
          "data": {
            "text/plain": [
              "{'Encoded Relations': <torchtext.data.field.Field at 0x7f4889021a90>,\n",
              " 'utterances': <torchtext.data.field.Field at 0x7f490d130bd0>}"
            ]
          },
          "execution_count": 9,
          "metadata": {},
          "output_type": "execute_result"
        }
      ],
      "source": [
        "dataset.fields"
      ]
    },
    {
      "cell_type": "code",
      "execution_count": null,
      "metadata": {
        "id": "xmdkw_zFWp9E"
      },
      "outputs": [],
      "source": [
        "train_dataset, test_dataset = dataset.split(split_ratio=0.85) # default is 0.7"
      ]
    },
    {
      "cell_type": "code",
      "execution_count": null,
      "metadata": {
        "colab": {
          "base_uri": "https://localhost:8080/"
        },
        "id": "GFeqvQ9c-E5C",
        "outputId": "0496cb02-14da-4dca-c073-3b2154fa8ad3"
      },
      "outputs": [
        {
          "data": {
            "text/plain": [
              "1915"
            ]
          },
          "execution_count": 21,
          "metadata": {},
          "output_type": "execute_result"
        }
      ],
      "source": [
        "len(train_dataset)"
      ]
    },
    {
      "cell_type": "code",
      "execution_count": null,
      "metadata": {
        "colab": {
          "base_uri": "https://localhost:8080/"
        },
        "id": "UvjWBiMH-Gvy",
        "outputId": "7d40142f-7c68-4d3b-e521-51f714b62bb7"
      },
      "outputs": [
        {
          "data": {
            "text/plain": [
              "338"
            ]
          },
          "execution_count": 22,
          "metadata": {},
          "output_type": "execute_result"
        }
      ],
      "source": [
        "len(test_dataset)"
      ]
    },
    {
      "cell_type": "code",
      "execution_count": null,
      "metadata": {
        "colab": {
          "base_uri": "https://localhost:8080/"
        },
        "id": "MXKK61pz557m",
        "outputId": "3abba1c0-15f0-4ca9-ad3d-c3f5069d82e7"
      },
      "outputs": [
        {
          "name": "stdout",
          "output_type": "stream",
          "text": [
            "dict_keys(['utterances', 'Encoded Relations'])\n",
            "dict_values([['list', 'movies', 'rated', 'g'], '39'])\n"
          ]
        }
      ],
      "source": [
        "print(train_dataset[0].__dict__.keys())\n",
        "print(train_dataset[0].__dict__.values())"
      ]
    },
    {
      "cell_type": "code",
      "execution_count": null,
      "metadata": {
        "id": "czCW945vZh8y"
      },
      "outputs": [],
      "source": [
        "TEXT.build_vocab(train_dataset,vectors = 'glove.6B.100d')\n",
        "LABEL.build_vocab(train_dataset)"
      ]
    },
    {
      "cell_type": "code",
      "execution_count": null,
      "metadata": {
        "colab": {
          "base_uri": "https://localhost:8080/"
        },
        "id": "1anYtok9Aqfq",
        "outputId": "757d0f8c-efce-405a-df1d-8638b2f8be8b"
      },
      "outputs": [
        {
          "data": {
            "text/plain": [
              "47"
            ]
          },
          "execution_count": 40,
          "metadata": {},
          "output_type": "execute_result"
        }
      ],
      "source": [
        "len(LABEL.vocab)"
      ]
    },
    {
      "cell_type": "code",
      "execution_count": null,
      "metadata": {
        "colab": {
          "base_uri": "https://localhost:8080/"
        },
        "id": "14o7Q6sNA4Oi",
        "outputId": "68f8011c-5197-480e-bf37-58abf6f8d3bd"
      },
      "outputs": [
        {
          "data": {
            "text/plain": [
              "1064"
            ]
          },
          "execution_count": 41,
          "metadata": {},
          "output_type": "execute_result"
        }
      ],
      "source": [
        "len(TEXT.vocab)"
      ]
    },
    {
      "cell_type": "code",
      "execution_count": null,
      "metadata": {
        "id": "MRtqrYMaBCET"
      },
      "outputs": [],
      "source": [
        "LABEL.vocab.freqs"
      ]
    },
    {
      "cell_type": "code",
      "execution_count": null,
      "metadata": {
        "colab": {
          "base_uri": "https://localhost:8080/"
        },
        "id": "OeFjl1Ba-By7",
        "outputId": "de3c451c-b3bf-4b9c-ed79-8b1c41dac94b"
      },
      "outputs": [
        {
          "data": {
            "text/plain": [
              "torch.Size([1064, 100])"
            ]
          },
          "execution_count": 34,
          "metadata": {},
          "output_type": "execute_result"
        }
      ],
      "source": [
        "TEXT.vocab.vectors.size()"
      ]
    },
    {
      "cell_type": "code",
      "execution_count": null,
      "metadata": {
        "colab": {
          "base_uri": "https://localhost:8080/"
        },
        "id": "1mI0na9_-fcO",
        "outputId": "23461280-bd67-4842-8540-f7e8af9c43af"
      },
      "outputs": [
        {
          "name": "stdout",
          "output_type": "stream",
          "text": [
            "tensor([[ 0.0000,  0.0000,  0.0000,  ...,  0.0000,  0.0000,  0.0000],\n",
            "        [ 0.0000,  0.0000,  0.0000,  ...,  0.0000,  0.0000,  0.0000],\n",
            "        [-0.0382, -0.2449,  0.7281,  ..., -0.1459,  0.8278,  0.2706],\n",
            "        ...,\n",
            "        [ 0.2998,  0.0968,  0.7899,  ..., -0.1484, -0.1905,  0.1449],\n",
            "        [-0.1194,  0.5419,  0.6217,  ..., -0.3805, -0.0422,  0.3516],\n",
            "        [ 0.2783,  0.4995,  0.2494,  ..., -0.3274, -0.3004,  0.0930]])\n"
          ]
        }
      ],
      "source": [
        "print(TEXT.vocab.vectors)"
      ]
    },
    {
      "cell_type": "code",
      "execution_count": null,
      "metadata": {
        "id": "56Bz-9U4ZvuE"
      },
      "outputs": [],
      "source": [
        "vocab = TEXT.vocab"
      ]
    },
    {
      "cell_type": "code",
      "execution_count": null,
      "metadata": {
        "id": "iRAHg5zAyV9N"
      },
      "outputs": [],
      "source": [
        "vocab.stoi"
      ]
    },
    {
      "cell_type": "code",
      "execution_count": null,
      "metadata": {
        "id": "MG3n709uyWaO"
      },
      "outputs": [],
      "source": [
        "vocab.itos"
      ]
    },
    {
      "cell_type": "code",
      "execution_count": null,
      "metadata": {
        "colab": {
          "base_uri": "https://localhost:8080/"
        },
        "id": "AEtkVKc3YnDx",
        "outputId": "059e0281-6304-418d-f44a-ef312cac43ab"
      },
      "outputs": [
        {
          "name": "stdout",
          "output_type": "stream",
          "text": [
            "cuda:0\n"
          ]
        }
      ],
      "source": [
        "device = torch.device(\"cuda:0\" if torch.cuda.is_available() else \"cpu\")\n",
        "print(device)"
      ]
    },
    {
      "cell_type": "code",
      "execution_count": null,
      "metadata": {
        "colab": {
          "base_uri": "https://localhost:8080/"
        },
        "id": "iQ7viCd4Xhm4",
        "outputId": "9957bcc8-a281-4128-eb76-2f3bc5806ab1"
      },
      "outputs": [
        {
          "name": "stderr",
          "output_type": "stream",
          "text": [
            "/usr/local/lib/python3.7/dist-packages/torchtext/data/iterator.py:48: UserWarning: Iterator class will be retired soon and moved to torchtext.legacy. Please see the most recent release notes for further information.\n",
            "  warnings.warn('{} class will be retired soon and moved to torchtext.legacy. Please see the most recent release notes for further information.'.format(self.__class__.__name__), UserWarning)\n"
          ]
        }
      ],
      "source": [
        "train_iter, test_iter = ttd.Iterator.splits(\n",
        "        (train_dataset, test_dataset), sort_key=lambda x: len(x.utterances),\n",
        "        batch_sizes=(32, 256), device=device)"
      ]
    },
    {
      "cell_type": "code",
      "execution_count": null,
      "metadata": {
        "colab": {
          "base_uri": "https://localhost:8080/"
        },
        "id": "_R_0W0SBycyG",
        "outputId": "faf343da-ba75-41ee-eefc-fd408feb1877"
      },
      "outputs": [
        {
          "name": "stderr",
          "output_type": "stream",
          "text": [
            "/usr/local/lib/python3.7/dist-packages/torchtext/data/batch.py:23: UserWarning: Batch class will be retired soon and moved to torchtext.legacy. Please see the most recent release notes for further information.\n",
            "  warnings.warn('{} class will be retired soon and moved to torchtext.legacy. Please see the most recent release notes for further information.'.format(self.__class__.__name__), UserWarning)\n"
          ]
        },
        {
          "name": "stdout",
          "output_type": "stream",
          "text": [
            "inputs: tensor([[   1,    1,    1,    1,    1,    1,    1,    1,    1,    1,   13,  335,\n",
            "          350,   32],\n",
            "        [   1,    1,    1,    1,    1,    1,    1,   60,    6,  135,   71,  205,\n",
            "           41,    3],\n",
            "        [   1,    1,    1,    1,    1,    1,    1,    1,    1,    1,   60,    3,\n",
            "           21,  155],\n",
            "        [   1,    1,    1,    1,    1,    1,    8,  225,    2,   54,   10,   72,\n",
            "           14,   77],\n",
            "        [   1,    1,    1,    1,    1,    1,    1,    1,    1,    1,   11,   22,\n",
            "           45,   46],\n",
            "        [   1,    1,    1,    1,    1,    1,    1,    1,    8,   90,   20,    2,\n",
            "            5,  214],\n",
            "        [   1,    1,    1,    1,    1,    1,   15,   28,    2,    3,  288, 1027,\n",
            "           51,  233],\n",
            "        [   1,    1,    1,    1,    1,    1,    1,    1,    1,    1,    1,  748,\n",
            "          662,    3],\n",
            "        [   1,    1,    1,    1,    1,    1,    1,    1,    1,    1,    1,   11,\n",
            "           20,  311],\n",
            "        [   1,    1,    1,    1,    1,    1,    1,    1,    1,    1,   30,   19,\n",
            "           47,   37],\n",
            "        [   1,    1,    1,    1,    1,    1,    1,   30,   31,    2,  284,  390,\n",
            "          120,   93],\n",
            "        [  48,   66,    6,   30,   31,    2,    5,  124,   24,    2,  125,   31,\n",
            "          120,   37],\n",
            "        [   1,    1,    1,    1,    1,    1,    1,    1,    1,    1,   11,  222,\n",
            "            7,  280],\n",
            "        [   1,    1,    1,    1,    1,    1,    1,   23,  153,  114,    3,   36,\n",
            "            7,  221],\n",
            "        [   1,    1,    1,    1,    1,    1,    1,   35,   10,    3,   22,   17,\n",
            "          359,  342],\n",
            "        [   1,    1,    1,    1,    1,    1,    1,    1,    8,   19,    2,   68,\n",
            "           10,   47],\n",
            "        [   1,    1,    1,    1,    1,    1,    1,    1,    1,    1,   11,   20,\n",
            "            2,    5],\n",
            "        [   1,    1,    1,    1,    1,    1,    1,   15,    5,  197,   10,  360,\n",
            "            5,  332],\n",
            "        [   1,    1,    1,    1,    1,    1,    1,    1,    8,   75,   14,    2,\n",
            "          401,    3],\n",
            "        [   1,    1,    1,    1,    1,    1,    1,    1,    1,    1,    1,    3,\n",
            "            7,  159],\n",
            "        [   1,    1,    1,    1,    1,    9,    6,    2,   54,   65,   15,   10,\n",
            "           61,   57],\n",
            "        [   1,    1,    1,    1,    1,    1,    1,    1,    1,    1,  105,   40,\n",
            "          849,  388],\n",
            "        [   1,   54,   65,   85,   10,    2,    5,  110,   99,    2,  109,    4,\n",
            "            2,  113],\n",
            "        [   1,    1,    1,    1,   48,    9,    6,   76,   44,    2,    5,   72,\n",
            "           14,   77],\n",
            "        [   1,    1,    1,    1,    1,   42,   97,   34,  182,  137,   16,  175,\n",
            "          289,  295],\n",
            "        [   1,    1,    1,    1,    1,    8,  926,  130,    2,  100,   86,   64,\n",
            "           10, 1042],\n",
            "        [   1,    1,    1,    1,    1,    1,    1,   25,   33,    9,    6,    3,\n",
            "           21,  262],\n",
            "        [   1,    1,    1,    1,    1,    8,  349,   56,  108,   10,    2,    5,\n",
            "           45,   46],\n",
            "        [   1,    1,   12,   80,   16,   69,    8,   14,    2,   50,    4,    2,\n",
            "            5,  397],\n",
            "        [   1,    1,    1,    1,    1,    1,    1,    1,    1,    1,    1,   11,\n",
            "           22,  163],\n",
            "        [   1,    1,    1,    1,    1,    1,    1,   13,    3,   24,   70,  138,\n",
            "            7,  200],\n",
            "        [   1,    1,    1,    1,    1,    1,    1,    1,    1,    1,    8,   14,\n",
            "            5,   41]], device='cuda:0') shape: torch.Size([32, 14])\n",
            "targets: tensor([ 9, 39, 44, 41,  9,  2, 41,  9, 35, 27, 27, 27, 41,  2,  9, 18, 35,  8,\n",
            "        19, 32, 41, 41, 41, 45, 18, 39, 44, 45, 32,  9, 41, 39],\n",
            "       device='cuda:0') shape: torch.Size([32])\n"
          ]
        }
      ],
      "source": [
        "for inputs, targets in train_iter:\n",
        "  print(\"inputs:\", inputs, \"shape:\", inputs.shape)\n",
        "  print(\"targets:\", targets, \"shape:\", targets.shape)\n",
        "  break"
      ]
    },
    {
      "cell_type": "code",
      "execution_count": null,
      "metadata": {
        "colab": {
          "base_uri": "https://localhost:8080/"
        },
        "id": "GpBE8b_qydOz",
        "outputId": "f6a45902-e78d-48ab-81e7-e6160bbbec31"
      },
      "outputs": [
        {
          "name": "stdout",
          "output_type": "stream",
          "text": [
            "inputs: tensor([[ 11, 130,   0,  ...,   7,  45,  46],\n",
            "        [ 11,  19,   2,  ...,   7,   2, 115],\n",
            "        [ 12,  80,  16,  ...,  22,  82, 103],\n",
            "        ...,\n",
            "        [  1,   1,   1,  ...,   1,  13,  32],\n",
            "        [  1,   1,   1,  ...,   1,  31,  62],\n",
            "        [  1,   1,   1,  ...,   1, 563,  26]], device='cuda:0')\n",
            "targets: tensor([42, 41,  9, 32, 39, 37, 39, 35,  2,  9, 27,  9, 27, 35, 41,  9, 27, 35,\n",
            "         9,  9, 18, 39,  9,  8, 32, 41, 45, 41, 37,  2, 44, 41, 37, 37, 31, 35,\n",
            "        35, 19, 45, 18, 35,  6, 45, 35, 42, 41, 19, 35, 39,  9,  9, 32,  9,  9,\n",
            "        18,  9,  9, 31, 18, 35, 32, 16, 27, 41,  9, 35, 32,  9,  9, 18, 35, 30,\n",
            "         9, 29,  9, 35, 35, 35,  9, 35,  2, 35, 37,  9,  9, 39, 19, 44, 45,  0,\n",
            "        19,  9, 44,  6, 19, 45, 35, 45, 27,  9, 45,  2, 44,  9,  9, 45, 41, 39,\n",
            "        32, 27, 39, 45, 35, 39,  9, 35, 19, 37, 27, 44, 27, 45, 39, 39, 32,  9,\n",
            "        45, 45,  6,  9, 19,  2, 44, 19, 39, 39, 39, 41,  9, 32, 19, 37,  9, 38,\n",
            "        41, 37, 27, 41,  9, 39,  9, 37, 35, 45, 44, 32,  2, 27,  2,  9, 39,  2,\n",
            "        32, 19, 32,  9, 27, 41, 41, 32, 32, 41, 19, 26,  2,  2, 41, 27,  6, 45,\n",
            "         2, 41, 32, 39,  9, 44, 41, 19, 19, 37, 37, 19,  2, 32, 37, 27,  9, 39,\n",
            "        27, 45, 44, 45, 41, 41, 19, 46, 41, 32,  9, 41,  9, 35, 45,  9, 19, 45,\n",
            "        45,  9, 39, 35, 32,  9, 18, 27, 32, 45, 41, 45,  6, 18, 45, 45,  6,  9,\n",
            "        45, 32, 19, 41,  6,  6, 45,  9,  2,  6, 44,  2, 27,  9,  9,  6, 45,  9,\n",
            "        41, 45, 45,  9], device='cuda:0')\n"
          ]
        },
        {
          "name": "stderr",
          "output_type": "stream",
          "text": [
            "/usr/local/lib/python3.7/dist-packages/torchtext/data/batch.py:23: UserWarning: Batch class will be retired soon and moved to torchtext.legacy. Please see the most recent release notes for further information.\n",
            "  warnings.warn('{} class will be retired soon and moved to torchtext.legacy. Please see the most recent release notes for further information.'.format(self.__class__.__name__), UserWarning)\n"
          ]
        }
      ],
      "source": [
        "for inputs, targets in test_iter:\n",
        "  print(\"inputs:\", inputs)\n",
        "  print(\"targets:\", targets)\n",
        "  break"
      ]
    },
    {
      "cell_type": "code",
      "execution_count": null,
      "metadata": {
        "id": "oTdqSCmwfRNp"
      },
      "outputs": [],
      "source": [
        "# Define the model\n",
        "class RNN(nn.Module):\n",
        "  def __init__(self, input_dim, embed_dim, hidden_dim, output_dim):\n",
        "    super(RNN, self).__init__()\n",
        "    self.V = input_dim\n",
        "    self.D = embed_dim\n",
        "    self.M = hidden_dim\n",
        "    self.K = output_dim\n",
        "    self.L = 1 # number of rnn layers\n",
        "\n",
        "    self.embed = nn.Embedding(self.V, self.D)\n",
        "    self.rnn = nn.LSTM(\n",
        "        input_size=self.D,\n",
        "        hidden_size=self.M,\n",
        "        num_layers=self.L,\n",
        "        batch_first=True)\n",
        "    self.fc = nn.Linear(self.M, self.K)\n",
        "  \n",
        "  def forward(self, X):\n",
        "    # initial hidden states\n",
        "    h0 = torch.zeros(self.L, X.size(0), self.M).to(device)\n",
        "    c0 = torch.zeros(self.L, X.size(0), self.M).to(device)\n",
        "\n",
        "    # embedding layer\n",
        "    # turns word indexes into word vectors\n",
        "    out = self.embed(X)\n",
        "\n",
        "    # get RNN unit output\n",
        "    out, _ = self.rnn(out, (h0, c0))\n",
        "\n",
        "    # max pool\n",
        "    out, _ = torch.max(out, 1)\n",
        "\n",
        "    # we only want h(T) at the final time step\n",
        "    out = self.fc(out)\n",
        "    return out"
      ]
    },
    {
      "cell_type": "code",
      "execution_count": null,
      "metadata": {
        "colab": {
          "base_uri": "https://localhost:8080/"
        },
        "id": "c7IXFlkDf9Bl",
        "outputId": "f45c9ed1-4653-4e1d-d94d-b4a60e46eab0"
      },
      "outputs": [
        {
          "data": {
            "text/plain": [
              "RNN(\n",
              "  (embed): Embedding(1064, 300)\n",
              "  (rnn): LSTM(300, 50, batch_first=True)\n",
              "  (fc): Linear(in_features=50, out_features=1, bias=True)\n",
              ")"
            ]
          },
          "execution_count": 48,
          "metadata": {},
          "output_type": "execute_result"
        }
      ],
      "source": [
        "INPUT_DIM = len(TEXT.vocab)\n",
        "EMBED_DIM = 300\n",
        "HIDDEN_DIM = 50\n",
        "OUTPUT_DIM = 1\n",
        "\n",
        "\n",
        "model = RNN(INPUT_DIM, EMBED_DIM, HIDDEN_DIM, OUTPUT_DIM)\n",
        "model.to(device)"
      ]
    },
    {
      "cell_type": "code",
      "execution_count": null,
      "metadata": {
        "id": "MIJTThwEgMs4"
      },
      "outputs": [],
      "source": [
        "# Loss and optimizer\n",
        "criterion = nn.BCEWithLogitsLoss()\n",
        "optimizer = torch.optim.Adam(model.parameters())"
      ]
    },
    {
      "cell_type": "code",
      "execution_count": null,
      "metadata": {
        "id": "HiYHRnM6gRz7"
      },
      "outputs": [],
      "source": [
        "# A function to encapsulate the training loop\n",
        "def batch_gd(model, criterion, optimizer, train_iter, test_iter, epochs):\n",
        "  train_losses = np.zeros(epochs)\n",
        "  test_losses = np.zeros(epochs)\n",
        "\n",
        "  for it in range(epochs):\n",
        "    t0 = datetime.now()\n",
        "    train_loss = []\n",
        "    for inputs, targets in train_iter:\n",
        "      # print(\"inputs.shape:\", inputs.shape, \"targets.shape:\", targets.shape)\n",
        "      targets = targets.view(-1, 1).float()\n",
        "      # move data to GPU\n",
        "      # inputs, targets = inputs.to(device), targets.to(device)\n",
        "\n",
        "      # zero the parameter gradients\n",
        "      optimizer.zero_grad()\n",
        "\n",
        "      # Forward pass\n",
        "      outputs = model(inputs)\n",
        "      loss = criterion(outputs, targets)\n",
        "        \n",
        "      # Backward and optimize\n",
        "      loss.backward()\n",
        "      optimizer.step()\n",
        "\n",
        "      train_loss.append(loss.item())\n",
        "\n",
        "    # Get train loss and test loss\n",
        "    train_loss = np.mean(train_loss) # a little misleading\n",
        "    \n",
        "    test_loss = []\n",
        "    for inputs, targets in test_iter:\n",
        "      # inputs, targets = inputs.to(device), targets.to(device)\n",
        "      targets = targets.view(-1, 1).float()\n",
        "      outputs = model(inputs)\n",
        "      loss = criterion(outputs, targets)\n",
        "      test_loss.append(loss.item())\n",
        "    test_loss = np.mean(test_loss)\n",
        "\n",
        "    # Save losses\n",
        "    train_losses[it] = train_loss\n",
        "    test_losses[it] = test_loss\n",
        "    \n",
        "    dt = datetime.now() - t0\n",
        "    print(f'Epoch {it+1}/{epochs}, Train Loss: {train_loss:.4f}, \\\n",
        "      Test Loss: {test_loss:.4f}, Duration: {dt}')\n",
        "  \n",
        "  return train_losses, test_losses"
      ]
    },
    {
      "cell_type": "code",
      "execution_count": null,
      "metadata": {
        "colab": {
          "base_uri": "https://localhost:8080/"
        },
        "id": "T60TTrZKgjEL",
        "outputId": "728ddd85-12f4-472b-a6e7-4e42733d04ef"
      },
      "outputs": [
        {
          "name": "stderr",
          "output_type": "stream",
          "text": [
            "/usr/local/lib/python3.7/dist-packages/torchtext/data/batch.py:23: UserWarning: Batch class will be retired soon and moved to torchtext.legacy. Please see the most recent release notes for further information.\n",
            "  warnings.warn('{} class will be retired soon and moved to torchtext.legacy. Please see the most recent release notes for further information.'.format(self.__class__.__name__), UserWarning)\n"
          ]
        },
        {
          "name": "stdout",
          "output_type": "stream",
          "text": [
            "Epoch 1/100, Train Loss: -48.8750,       Test Loss: -107.0744, Duration: 0:00:00.324878\n",
            "Epoch 2/100, Train Loss: -162.8596,       Test Loss: -214.6392, Duration: 0:00:00.314395\n",
            "Epoch 3/100, Train Loss: -254.1755,       Test Loss: -301.0686, Duration: 0:00:00.318232\n",
            "Epoch 4/100, Train Loss: -337.8678,       Test Loss: -384.5573, Duration: 0:00:00.312043\n",
            "Epoch 5/100, Train Loss: -420.6319,       Test Loss: -468.5520, Duration: 0:00:00.305156\n",
            "Epoch 6/100, Train Loss: -503.5656,       Test Loss: -551.0891, Duration: 0:00:00.306331\n",
            "Epoch 7/100, Train Loss: -584.3609,       Test Loss: -631.7530, Duration: 0:00:00.294520\n",
            "Epoch 8/100, Train Loss: -664.0640,       Test Loss: -711.2124, Duration: 0:00:00.331480\n",
            "Epoch 9/100, Train Loss: -742.8612,       Test Loss: -790.4912, Duration: 0:00:00.296186\n",
            "Epoch 10/100, Train Loss: -820.5977,       Test Loss: -868.5500, Duration: 0:00:00.300319\n",
            "Epoch 11/100, Train Loss: -897.8443,       Test Loss: -946.8452, Duration: 0:00:00.310318\n",
            "Epoch 12/100, Train Loss: -975.3056,       Test Loss: -1024.0019, Duration: 0:00:00.302198\n",
            "Epoch 13/100, Train Loss: -1051.9899,       Test Loss: -1101.4577, Duration: 0:00:00.304035\n",
            "Epoch 14/100, Train Loss: -1129.0860,       Test Loss: -1178.3748, Duration: 0:00:00.330173\n",
            "Epoch 15/100, Train Loss: -1204.4328,       Test Loss: -1255.2983, Duration: 0:00:00.304327\n",
            "Epoch 16/100, Train Loss: -1280.9620,       Test Loss: -1332.0637, Duration: 0:00:00.302016\n",
            "Epoch 17/100, Train Loss: -1357.3643,       Test Loss: -1408.8419, Duration: 0:00:00.297481\n",
            "Epoch 18/100, Train Loss: -1433.3092,       Test Loss: -1484.9250, Duration: 0:00:00.322882\n",
            "Epoch 19/100, Train Loss: -1508.3222,       Test Loss: -1561.5125, Duration: 0:00:00.308040\n",
            "Epoch 20/100, Train Loss: -1584.9824,       Test Loss: -1637.3003, Duration: 0:00:00.297400\n",
            "Epoch 21/100, Train Loss: -1659.0540,       Test Loss: -1714.1819, Duration: 0:00:00.304164\n",
            "Epoch 22/100, Train Loss: -1734.5393,       Test Loss: -1790.1420, Duration: 0:00:00.297441\n",
            "Epoch 23/100, Train Loss: -1810.8457,       Test Loss: -1865.7685, Duration: 0:00:00.307887\n",
            "Epoch 24/100, Train Loss: -1886.4687,       Test Loss: -1941.8256, Duration: 0:00:00.297144\n",
            "Epoch 25/100, Train Loss: -1961.2072,       Test Loss: -2017.6691, Duration: 0:00:00.317778\n",
            "Epoch 26/100, Train Loss: -2037.6109,       Test Loss: -2093.4786, Duration: 0:00:00.314656\n",
            "Epoch 27/100, Train Loss: -2112.0359,       Test Loss: -2169.4771, Duration: 0:00:00.304924\n",
            "Epoch 28/100, Train Loss: -2186.8533,       Test Loss: -2245.0887, Duration: 0:00:00.302813\n",
            "Epoch 29/100, Train Loss: -2262.4007,       Test Loss: -2321.2418, Duration: 0:00:00.298704\n",
            "Epoch 30/100, Train Loss: -2337.2730,       Test Loss: -2396.7585, Duration: 0:00:00.299806\n",
            "Epoch 31/100, Train Loss: -2411.7513,       Test Loss: -2472.3649, Duration: 0:00:00.307721\n",
            "Epoch 32/100, Train Loss: -2488.1942,       Test Loss: -2547.8423, Duration: 0:00:00.304115\n",
            "Epoch 33/100, Train Loss: -2562.6890,       Test Loss: -2624.2761, Duration: 0:00:00.298468\n",
            "Epoch 34/100, Train Loss: -2637.2329,       Test Loss: -2699.3564, Duration: 0:00:00.294580\n",
            "Epoch 35/100, Train Loss: -2711.0043,       Test Loss: -2775.0770, Duration: 0:00:00.309664\n",
            "Epoch 36/100, Train Loss: -2787.6564,       Test Loss: -2850.3990, Duration: 0:00:00.308975\n",
            "Epoch 37/100, Train Loss: -2862.1406,       Test Loss: -2926.2404, Duration: 0:00:00.296395\n",
            "Epoch 38/100, Train Loss: -2937.6531,       Test Loss: -3001.8270, Duration: 0:00:00.302696\n",
            "Epoch 39/100, Train Loss: -3010.4939,       Test Loss: -3077.6034, Duration: 0:00:00.300916\n",
            "Epoch 40/100, Train Loss: -3086.7210,       Test Loss: -3153.2423, Duration: 0:00:00.304734\n",
            "Epoch 41/100, Train Loss: -3163.0459,       Test Loss: -3228.0737, Duration: 0:00:00.299763\n",
            "Epoch 42/100, Train Loss: -3234.8812,       Test Loss: -3304.0988, Duration: 0:00:00.310889\n",
            "Epoch 43/100, Train Loss: -3310.5286,       Test Loss: -3379.4838, Duration: 0:00:00.297363\n",
            "Epoch 44/100, Train Loss: -3386.8181,       Test Loss: -3454.6903, Duration: 0:00:00.297100\n",
            "Epoch 45/100, Train Loss: -3459.5548,       Test Loss: -3530.0404, Duration: 0:00:00.321188\n",
            "Epoch 46/100, Train Loss: -3536.5486,       Test Loss: -3605.3746, Duration: 0:00:00.294784\n",
            "Epoch 47/100, Train Loss: -3611.3416,       Test Loss: -3680.8235, Duration: 0:00:00.300953\n",
            "Epoch 48/100, Train Loss: -3687.3847,       Test Loss: -3756.4955, Duration: 0:00:00.301524\n",
            "Epoch 49/100, Train Loss: -3760.6160,       Test Loss: -3832.3158, Duration: 0:00:00.302622\n",
            "Epoch 50/100, Train Loss: -3833.0749,       Test Loss: -3907.5493, Duration: 0:00:00.305229\n",
            "Epoch 51/100, Train Loss: -3907.3344,       Test Loss: -3983.0095, Duration: 0:00:00.295930\n",
            "Epoch 52/100, Train Loss: -3983.7261,       Test Loss: -4058.0658, Duration: 0:00:00.310572\n",
            "Epoch 53/100, Train Loss: -4060.5962,       Test Loss: -4133.1779, Duration: 0:00:00.293384\n",
            "Epoch 54/100, Train Loss: -4131.8066,       Test Loss: -4208.9468, Duration: 0:00:00.315276\n",
            "Epoch 55/100, Train Loss: -4209.8768,       Test Loss: -4283.7902, Duration: 0:00:00.310140\n",
            "Epoch 56/100, Train Loss: -4281.9531,       Test Loss: -4359.8544, Duration: 0:00:00.299812\n",
            "Epoch 57/100, Train Loss: -4356.8538,       Test Loss: -4434.7881, Duration: 0:00:00.299240\n",
            "Epoch 58/100, Train Loss: -4430.3056,       Test Loss: -4510.2009, Duration: 0:00:00.319828\n",
            "Epoch 59/100, Train Loss: -4506.5138,       Test Loss: -4585.4644, Duration: 0:00:00.299965\n",
            "Epoch 60/100, Train Loss: -4581.7678,       Test Loss: -4661.0784, Duration: 0:00:00.302135\n",
            "Epoch 61/100, Train Loss: -4654.7497,       Test Loss: -4736.1545, Duration: 0:00:00.302073\n",
            "Epoch 62/100, Train Loss: -4731.2394,       Test Loss: -4811.5898, Duration: 0:00:00.305507\n",
            "Epoch 63/100, Train Loss: -4806.5037,       Test Loss: -4886.9834, Duration: 0:00:00.306463\n",
            "Epoch 64/100, Train Loss: -4878.0317,       Test Loss: -4962.5801, Duration: 0:00:00.295852\n",
            "Epoch 65/100, Train Loss: -4954.5412,       Test Loss: -5037.5593, Duration: 0:00:00.323904\n",
            "Epoch 66/100, Train Loss: -5031.1835,       Test Loss: -5112.8230, Duration: 0:00:00.303041\n",
            "Epoch 67/100, Train Loss: -5103.0664,       Test Loss: -5188.0093, Duration: 0:00:00.299108\n",
            "Epoch 68/100, Train Loss: -5178.7587,       Test Loss: -5263.5942, Duration: 0:00:00.310510\n",
            "Epoch 69/100, Train Loss: -5252.1845,       Test Loss: -5339.0371, Duration: 0:00:00.296237\n",
            "Epoch 70/100, Train Loss: -5328.0889,       Test Loss: -5414.0989, Duration: 0:00:00.308069\n",
            "Epoch 71/100, Train Loss: -5405.6055,       Test Loss: -5489.2454, Duration: 0:00:00.298453\n",
            "Epoch 72/100, Train Loss: -5477.9567,       Test Loss: -5564.7551, Duration: 0:00:00.311384\n",
            "Epoch 73/100, Train Loss: -5554.0460,       Test Loss: -5639.7910, Duration: 0:00:00.296751\n",
            "Epoch 74/100, Train Loss: -5623.5371,       Test Loss: -5715.6602, Duration: 0:00:00.292954\n",
            "Epoch 75/100, Train Loss: -5702.0899,       Test Loss: -5790.6733, Duration: 0:00:00.320109\n",
            "Epoch 76/100, Train Loss: -5774.8981,       Test Loss: -5866.0806, Duration: 0:00:00.290791\n",
            "Epoch 77/100, Train Loss: -5849.0915,       Test Loss: -5941.1304, Duration: 0:00:00.300870\n",
            "Epoch 78/100, Train Loss: -5923.4486,       Test Loss: -6016.7485, Duration: 0:00:00.336670\n",
            "Epoch 79/100, Train Loss: -5995.7654,       Test Loss: -6092.2417, Duration: 0:00:00.299388\n",
            "Epoch 80/100, Train Loss: -6074.2640,       Test Loss: -6167.1040, Duration: 0:00:00.297163\n",
            "Epoch 81/100, Train Loss: -6149.8859,       Test Loss: -6242.3909, Duration: 0:00:00.297010\n",
            "Epoch 82/100, Train Loss: -6223.1497,       Test Loss: -6317.4543, Duration: 0:00:00.309898\n",
            "Epoch 83/100, Train Loss: -6295.7305,       Test Loss: -6393.0125, Duration: 0:00:00.298058\n",
            "Epoch 84/100, Train Loss: -6372.3642,       Test Loss: -6468.7429, Duration: 0:00:00.304307\n",
            "Epoch 85/100, Train Loss: -6444.9393,       Test Loss: -6544.0984, Duration: 0:00:00.319334\n",
            "Epoch 86/100, Train Loss: -6521.2808,       Test Loss: -6619.0652, Duration: 0:00:00.293775\n",
            "Epoch 87/100, Train Loss: -6593.1595,       Test Loss: -6694.7446, Duration: 0:00:00.300060\n",
            "Epoch 88/100, Train Loss: -6670.4022,       Test Loss: -6769.6753, Duration: 0:00:00.313401\n",
            "Epoch 89/100, Train Loss: -6748.5847,       Test Loss: -6844.9062, Duration: 0:00:00.294369\n",
            "Epoch 90/100, Train Loss: -6820.8128,       Test Loss: -6920.1189, Duration: 0:00:00.304822\n",
            "Epoch 91/100, Train Loss: -6893.7711,       Test Loss: -6995.7151, Duration: 0:00:00.296563\n",
            "Epoch 92/100, Train Loss: -6971.2379,       Test Loss: -7070.4819, Duration: 0:00:00.318995\n",
            "Epoch 93/100, Train Loss: -7041.1238,       Test Loss: -7146.5728, Duration: 0:00:00.304371\n",
            "Epoch 94/100, Train Loss: -7117.8280,       Test Loss: -7221.3611, Duration: 0:00:00.309620\n",
            "Epoch 95/100, Train Loss: -7190.5775,       Test Loss: -7296.8342, Duration: 0:00:00.309867\n",
            "Epoch 96/100, Train Loss: -7271.0508,       Test Loss: -7371.8818, Duration: 0:00:00.296965\n",
            "Epoch 97/100, Train Loss: -7341.8120,       Test Loss: -7447.2664, Duration: 0:00:00.294699\n",
            "Epoch 98/100, Train Loss: -7413.0126,       Test Loss: -7522.7498, Duration: 0:00:00.308535\n",
            "Epoch 99/100, Train Loss: -7489.6344,       Test Loss: -7597.7832, Duration: 0:00:00.301635\n",
            "Epoch 100/100, Train Loss: -7569.4562,       Test Loss: -7672.8274, Duration: 0:00:00.297214\n"
          ]
        }
      ],
      "source": [
        "train_losses, test_losses = batch_gd(\n",
        "    model, criterion, optimizer, train_iter, test_iter, 100)"
      ]
    },
    {
      "cell_type": "code",
      "execution_count": null,
      "metadata": {
        "colab": {
          "base_uri": "https://localhost:8080/",
          "height": 265
        },
        "id": "NoqoPH75j9L3",
        "outputId": "5e2157c3-1074-4399-bbc7-8e464eb69749"
      },
      "outputs": [
        {
          "data": {
            "image/png": "[encoded data removed]",
            "text/plain": [
              "<Figure size 432x288 with 1 Axes>"
            ]
          },
          "metadata": {
            "needs_background": "light"
          },
          "output_type": "display_data"
        }
      ],
      "source": [
        "# Plot the train loss and test loss per iteration\n",
        "plt.plot(train_losses, label='train loss')\n",
        "plt.plot(test_losses, label='test loss')\n",
        "plt.legend()\n",
        "plt.show()"
      ]
    },
    {
      "cell_type": "code",
      "execution_count": null,
      "metadata": {
        "colab": {
          "base_uri": "https://localhost:8080/",
          "height": 34
        },
        "id": "jP-E181MkC0z",
        "outputId": "65c77dac-21e7-4f90-a182-074208eb8a67"
      },
      "outputs": [
        {
          "name": "stdout",
          "output_type": "stream",
          "text": [
            "Train acc: 0.9941, Test acc: 0.9617\n"
          ]
        }
      ],
      "source": [
        "# Accuracy\n",
        "\n",
        "n_correct = 0.\n",
        "n_total = 0.\n",
        "for inputs, targets in train_iter:\n",
        "  targets = targets.view(-1, 1).float()\n",
        "\n",
        "  # Forward pass\n",
        "  outputs = model(inputs)\n",
        "\n",
        "  # Get prediction\n",
        "  predictions = (outputs > 0)\n",
        "  \n",
        "  # update counts\n",
        "  n_correct += (predictions == targets).sum().item()\n",
        "  n_total += targets.shape[0]\n",
        "\n",
        "train_acc = n_correct / n_total\n",
        "\n",
        "\n",
        "n_correct = 0.\n",
        "n_total = 0.\n",
        "for inputs, targets in test_iter:\n",
        "  targets = targets.view(-1, 1).float()\n",
        "\n",
        "  # Forward pass\n",
        "  outputs = model(inputs)\n",
        "\n",
        "  # Get prediction\n",
        "  predictions = (outputs > 0)\n",
        "  \n",
        "  # update counts\n",
        "  n_correct += (predictions == targets).sum().item()\n",
        "  n_total += targets.shape[0]\n",
        "\n",
        "test_acc = n_correct / n_total\n",
        "print(f\"Train acc: {train_acc:.4f}, Test acc: {test_acc:.4f}\")"
      ]
    },
    {
      "cell_type": "code",
      "execution_count": null,
      "metadata": {
        "id": "CCv_H7iWkXlj"
      },
      "outputs": [],
      "source": []
    }
  ],
  "metadata": {
    "accelerator": "GPU",
    "colab": {
      "collapsed_sections": [],
      "name": "PyTorch Kaggle Assignment 2 - Sriram Mahesh.ipynb",
      "provenance": []
    },
    "kernelspec": {
      "display_name": "Python 3",
      "name": "python3"
    }
  },
  "nbformat": 4,
  "nbformat_minor": 0
}
