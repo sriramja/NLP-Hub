{
  "cells": [
    {
      "cell_type": "code",
      "execution_count": 4,
      "metadata": {
        "colab": {
          "base_uri": "https://localhost:8080/"
        },
        "id": "KuhhaiZaU3-V",
        "outputId": "37a5eb8d-8fbc-45c3-a662-b6e2774723cc"
      },
      "outputs": [
        {
          "name": "stdout",
          "output_type": "stream",
          "text": [
            "Requirement already satisfied: torchtext==0.8.1 in /usr/local/lib/python3.7/dist-packages (0.8.1)\n",
            "Requirement already satisfied: numpy in /usr/local/lib/python3.7/dist-packages (from torchtext==0.8.1) (1.19.5)\n",
            "Requirement already satisfied: torch==1.7.1 in /usr/local/lib/python3.7/dist-packages (from torchtext==0.8.1) (1.7.1)\n",
            "Requirement already satisfied: tqdm in /usr/local/lib/python3.7/dist-packages (from torchtext==0.8.1) (4.62.3)\n",
            "Requirement already satisfied: requests in /usr/local/lib/python3.7/dist-packages (from torchtext==0.8.1) (2.23.0)\n",
            "Requirement already satisfied: typing-extensions in /usr/local/lib/python3.7/dist-packages (from torch==1.7.1->torchtext==0.8.1) (3.7.4.3)\n",
            "Requirement already satisfied: certifi>=2017.4.17 in /usr/local/lib/python3.7/dist-packages (from requests->torchtext==0.8.1) (2021.5.30)\n",
            "Requirement already satisfied: urllib3!=1.25.0,!=1.25.1,<1.26,>=1.21.1 in /usr/local/lib/python3.7/dist-packages (from requests->torchtext==0.8.1) (1.24.3)\n",
            "Requirement already satisfied: chardet<4,>=3.0.2 in /usr/local/lib/python3.7/dist-packages (from requests->torchtext==0.8.1) (3.0.4)\n",
            "Requirement already satisfied: idna<3,>=2.5 in /usr/local/lib/python3.7/dist-packages (from requests->torchtext==0.8.1) (2.10)\n"
          ]
        }
      ],
      "source": [
        "!pip install torchtext==0.8.1"
      ]
    },
    {
      "cell_type": "code",
      "execution_count": 5,
      "metadata": {
        "id": "X0N0Bt07QdQm"
      },
      "outputs": [],
      "source": [
        "import torch\n",
        "import torch.nn as nn\n",
        "import torch.nn.functional as F\n",
        "import torchtext.data as ttd\n",
        "import numpy as np\n",
        "import pandas as pd\n",
        "import matplotlib.pyplot as plt\n",
        "from datetime import datetime"
      ]
    },
    {
      "cell_type": "code",
      "execution_count": 6,
      "metadata": {
        "colab": {
          "base_uri": "https://localhost:8080/",
          "height": 457
        },
        "id": "LLRmg9rHQrJ6",
        "outputId": "22ff2eed-7a5b-46b6-8cef-f82c5d557c0e"
      },
      "outputs": [
        {
          "name": "stdout",
          "output_type": "stream",
          "text": [
            "['actor.gender', 'movie.initial_release_date_movie.produced', 'movie.estimated', 'movie.directed_by_movie.initial_release', 'movie.directed', 'movie.initial_release_date_movie.production', 'person.date_of', 'companies', 'movie.country_movie.genre', 'movie.locations', 'movie.country_movie.genre_movie.language', 'by', 'movie.gross', 'movie.rating', 'movie.genre', 'movie.initial_release', 'birth', 'movie.music', 'movie.produced_by_movie.production', 'movie.production', 'movie.country', 'budget', 'none', 'movie.genre_movie.gross', 'movie.directed_by', 'movie.subjects', 'movie.production_companies', 'date', 'movie.directed_by_movie.produced', 'movie.starring.character', 'movie.starring.actor', 'movie.directed_by_movie.estimated', 'movie.language', 'movie.genre_movie.production', 'revenue', 'gr.amount_movie.gross', 'movie.initial_release_date', 'movie.genre_movie.initial_release', 'movie.produced']\n"
          ]
        },
        {
          "data": {
            "text/html": [
              "<div>\n",
              "<style scoped>\n",
              "    .dataframe tbody tr th:only-of-type {\n",
              "        vertical-align: middle;\n",
              "    }\n",
              "\n",
              "    .dataframe tbody tr th {\n",
              "        vertical-align: top;\n",
              "    }\n",
              "\n",
              "    .dataframe thead th {\n",
              "        text-align: right;\n",
              "    }\n",
              "</style>\n",
              "<table border=\"1\" class=\"dataframe\">\n",
              "  <thead>\n",
              "    <tr style=\"text-align: right;\">\n",
              "      <th></th>\n",
              "      <th>utterances</th>\n",
              "      <th>Encoded Relations</th>\n",
              "    </tr>\n",
              "  </thead>\n",
              "  <tbody>\n",
              "    <tr>\n",
              "      <th>0</th>\n",
              "      <td>who plays luke on star wars new hope</td>\n",
              "      <td>42</td>\n",
              "    </tr>\n",
              "    <tr>\n",
              "      <th>1</th>\n",
              "      <td>show credits for the godfather</td>\n",
              "      <td>41</td>\n",
              "    </tr>\n",
              "    <tr>\n",
              "      <th>2</th>\n",
              "      <td>who was the main actor in the exorcist</td>\n",
              "      <td>41</td>\n",
              "    </tr>\n",
              "    <tr>\n",
              "      <th>3</th>\n",
              "      <td>who played dory on finding nemo</td>\n",
              "      <td>42</td>\n",
              "    </tr>\n",
              "    <tr>\n",
              "      <th>4</th>\n",
              "      <td>who was the female lead in resident evil</td>\n",
              "      <td>0</td>\n",
              "    </tr>\n",
              "    <tr>\n",
              "      <th>...</th>\n",
              "      <td>...</td>\n",
              "      <td>...</td>\n",
              "    </tr>\n",
              "    <tr>\n",
              "      <th>2248</th>\n",
              "      <td>revenue for titanic</td>\n",
              "      <td>26</td>\n",
              "    </tr>\n",
              "    <tr>\n",
              "      <th>2249</th>\n",
              "      <td>total titanic revenues</td>\n",
              "      <td>26</td>\n",
              "    </tr>\n",
              "    <tr>\n",
              "      <th>2250</th>\n",
              "      <td>what was the revenue for toy story 3</td>\n",
              "      <td>26</td>\n",
              "    </tr>\n",
              "    <tr>\n",
              "      <th>2251</th>\n",
              "      <td>dark knight revenue</td>\n",
              "      <td>26</td>\n",
              "    </tr>\n",
              "    <tr>\n",
              "      <th>2252</th>\n",
              "      <td>how much did the dark night generate</td>\n",
              "      <td>26</td>\n",
              "    </tr>\n",
              "  </tbody>\n",
              "</table>\n",
              "<p>2253 rows × 2 columns</p>\n",
              "</div>"
            ],
            "text/plain": [
              "                                    utterances  Encoded Relations\n",
              "0         who plays luke on star wars new hope                 42\n",
              "1               show credits for the godfather                 41\n",
              "2       who was the main actor in the exorcist                 41\n",
              "3              who played dory on finding nemo                 42\n",
              "4     who was the female lead in resident evil                  0\n",
              "...                                        ...                ...\n",
              "2248                       revenue for titanic                 26\n",
              "2249                    total titanic revenues                 26\n",
              "2250      what was the revenue for toy story 3                 26\n",
              "2251                       dark knight revenue                 26\n",
              "2252      how much did the dark night generate                 26\n",
              "\n",
              "[2253 rows x 2 columns]"
            ]
          },
          "execution_count": 6,
          "metadata": {},
          "output_type": "execute_result"
        }
      ],
      "source": [
        "df = pd.read_csv('/content/train_data_merged_labels.csv', header=0)\n",
        "\n",
        "from itertools import chain\n",
        "\n",
        "unique_relations = []\n",
        "for i in range(0,len(df['Core Relations'])):\n",
        "  unique_relations.append(df['Core Relations'][i].rsplit('_',1))\n",
        "\n",
        "unique_relations = list(set(list(chain.from_iterable( unique_relations ))))\n",
        "print(unique_relations)\n",
        " # = chain.from_iterable( df['Core Relations'] )\n",
        "\n",
        "from sklearn import preprocessing\n",
        "from sklearn.preprocessing import LabelEncoder\n",
        "\n",
        "\n",
        "enc = preprocessing.LabelEncoder()\n",
        "df['Encoded Relations'] = enc.fit_transform(df['Core Relations'])\n",
        "df1 = df[['utterances','Encoded Relations']]\n",
        "df1"
      ]
    },
    {
      "cell_type": "code",
      "execution_count": null,
      "metadata": {
        "colab": {
          "base_uri": "https://localhost:8080/",
          "height": 1000
        },
        "id": "6YmeDPmT1Vud",
        "outputId": "33c53fe8-882b-44e5-f875-e08af5692909"
      },
      "outputs": [],
      "source": [
        "pd.set_option('display.max_rows', 5000)\n",
        "print(df[['Core Relations','Encoded Relations']][df['Encoded Relations']==16].head(1))\n",
        "#print(df[['Core Relations','Encoded Relations']][df['Core Relations']=='movie.starring.actor'].head(1))\n",
        "\n",
        "df2 = pd.read_csv('/content/test_data.csv', header=0)\n",
        "df2"
      ]
    },
    {
      "cell_type": "code",
      "execution_count": 8,
      "metadata": {
        "id": "8-zFAOUc1bdO"
      },
      "outputs": [],
      "source": [
        "df1.to_csv('train.csv', index=False)"
      ]
    },
    {
      "cell_type": "code",
      "execution_count": null,
      "metadata": {
        "colab": {
          "base_uri": "https://localhost:8080/"
        },
        "id": "TshVyHsg1h-N",
        "outputId": "23ef0cbf-6deb-4b15-ae95-e396aeb6526c"
      },
      "outputs": [],
      "source": [
        "TEXT = ttd.Field(\n",
        "    sequential=True,\n",
        "    batch_first=True,\n",
        "    lower=True,\n",
        "    tokenize='spacy',\n",
        "    use_vocab=True,\n",
        "    pad_first=False)\n",
        "LABEL = ttd.Field(sequential=False, use_vocab=False, lower=True, is_target=True)\n",
        "\n",
        "# Note: if you don't specify use_vocab=False, then PyTorch will\n",
        "# complain later when you try to iterate over the dataset that\n",
        "# the attribute `vocab` doesn't exist.\n",
        "\n",
        "# Note 2: if you don't specify is_target=True, then PyTorch will\n",
        "# assume it's part of the input, so when you iterate over the\n",
        "# dataset it will be like:\n",
        "# for (inputs, targets), _ in iterator:\n",
        "# where the 2nd element (_) should have been the target.\n",
        "\n",
        "dataset = ttd.TabularDataset(\n",
        "    path='train.csv',\n",
        "    format='csv',\n",
        "    skip_header=True,\n",
        "    fields=[('utterances', TEXT), ('Encoded Relations', LABEL)]\n",
        ")"
      ]
    },
    {
      "cell_type": "code",
      "execution_count": 10,
      "metadata": {
        "id": "xmdkw_zFWp9E"
      },
      "outputs": [],
      "source": [
        "train_dataset, test_dataset = dataset.split(split_ratio=0.85) # default is 0.7"
      ]
    },
    {
      "cell_type": "code",
      "execution_count": 11,
      "metadata": {
        "colab": {
          "base_uri": "https://localhost:8080/"
        },
        "id": "czCW945vZh8y",
        "outputId": "afa48bc7-3ec5-42c3-ac17-5fd68b5ed0e7"
      },
      "outputs": [
        {
          "name": "stderr",
          "output_type": "stream",
          "text": [
            ".vector_cache/glove.6B.zip: 862MB [02:41, 5.35MB/s]                           \n",
            "100%|█████████▉| 399999/400000 [00:21<00:00, 18429.95it/s]\n"
          ]
        }
      ],
      "source": [
        "TEXT.build_vocab(train_dataset,vectors = 'glove.6B.100d')\n",
        "LABEL.build_vocab(train_dataset)"
      ]
    },
    {
      "cell_type": "code",
      "execution_count": 12,
      "metadata": {
        "id": "56Bz-9U4ZvuE"
      },
      "outputs": [],
      "source": [
        "vocab = TEXT.vocab"
      ]
    },
    {
      "cell_type": "code",
      "execution_count": 13,
      "metadata": {
        "colab": {
          "base_uri": "https://localhost:8080/"
        },
        "id": "AEtkVKc3YnDx",
        "outputId": "4e8f8569-5c74-444e-ea89-c424aa99377d"
      },
      "outputs": [
        {
          "name": "stdout",
          "output_type": "stream",
          "text": [
            "cpu\n"
          ]
        }
      ],
      "source": [
        "device = torch.device(\"cuda:0\" if torch.cuda.is_available() else \"cpu\")\n",
        "print(device)"
      ]
    },
    {
      "cell_type": "code",
      "execution_count": 24,
      "metadata": {
        "colab": {
          "base_uri": "https://localhost:8080/"
        },
        "id": "iQ7viCd4Xhm4",
        "outputId": "31910c3a-703a-405f-892d-7300334c79ae"
      },
      "outputs": [
        {
          "name": "stderr",
          "output_type": "stream",
          "text": [
            "/usr/local/lib/python3.7/dist-packages/torchtext/data/iterator.py:48: UserWarning: Iterator class will be retired soon and moved to torchtext.legacy. Please see the most recent release notes for further information.\n",
            "  warnings.warn('{} class will be retired soon and moved to torchtext.legacy. Please see the most recent release notes for further information.'.format(self.__class__.__name__), UserWarning)\n"
          ]
        }
      ],
      "source": [
        "train_iter, test_iter = ttd.Iterator.splits(\n",
        "        (train_dataset, test_dataset), sort_key=lambda x: len(x.utterances),\n",
        "        batch_sizes=(32, 256), device=device)"
      ]
    },
    {
      "cell_type": "code",
      "execution_count": 25,
      "metadata": {
        "colab": {
          "base_uri": "https://localhost:8080/"
        },
        "id": "XEplp8Tton2W",
        "outputId": "322aa40f-627d-4a26-d0c3-d9688bcc5019"
      },
      "outputs": [
        {
          "name": "stdout",
          "output_type": "stream",
          "text": [
            "input shape: torch.Size([32, 11]) output shape: torch.Size([32, 11, 20])\n"
          ]
        },
        {
          "name": "stderr",
          "output_type": "stream",
          "text": [
            "/usr/local/lib/python3.7/dist-packages/torchtext/data/batch.py:23: UserWarning: Batch class will be retired soon and moved to torchtext.legacy. Please see the most recent release notes for further information.\n",
            "  warnings.warn('{} class will be retired soon and moved to torchtext.legacy. Please see the most recent release notes for further information.'.format(self.__class__.__name__), UserWarning)\n"
          ]
        }
      ],
      "source": [
        "# What is the shape of embedding output?\n",
        "# N x T x D\n",
        "embed = nn.Embedding(len(vocab), 20).to(device)\n",
        "for inputs, targets in train_iter:\n",
        "  out = embed(inputs)\n",
        "  print(\"input shape:\", inputs.shape, \"output shape:\", out.shape)\n",
        "  break"
      ]
    },
    {
      "cell_type": "code",
      "execution_count": 26,
      "metadata": {
        "id": "oTdqSCmwfRNp"
      },
      "outputs": [],
      "source": [
        "# Define the model\n",
        "class CNN(nn.Module):\n",
        "  def __init__(self, n_vocab, embed_dim, n_outputs):\n",
        "    super(CNN, self).__init__()\n",
        "    self.V = n_vocab\n",
        "    self.D = embed_dim\n",
        "    self.K = n_outputs\n",
        "\n",
        "    # if input is T words\n",
        "    # then output is (T, D) matrix\n",
        "    self.embed = nn.Embedding(self.V, self.D)\n",
        "\n",
        "    # conv layers\n",
        "    self.conv1 = nn.Conv1d(self.D, 32, 3, padding=1)\n",
        "    self.pool1 = nn.MaxPool1d(2)\n",
        "    self.conv2 = nn.Conv1d(32, 64, 3, padding=1)\n",
        "    self.pool2 = nn.MaxPool1d(2)\n",
        "    self.conv3 = nn.Conv1d(64, 128, 3, padding=1)\n",
        "    \n",
        "    self.fc = nn.Linear(128, self.K)\n",
        "  \n",
        "  def forward(self, X):\n",
        "    # embedding layer\n",
        "    # turns word indexes into word vectors\n",
        "    out = self.embed(X)\n",
        "\n",
        "    # note: output of embedding is always\n",
        "    # (N, T, D)\n",
        "    # conv1d expects\n",
        "    # (N, D, T)\n",
        "\n",
        "    # conv layers\n",
        "    out = out.permute(0, 2, 1)\n",
        "    out = self.conv1(out)\n",
        "    out = F.relu(out)\n",
        "    out = self.pool1(out)\n",
        "    out = self.conv2(out)\n",
        "    out = F.relu(out)\n",
        "    out = self.pool2(out)\n",
        "    out = self.conv3(out)\n",
        "    out = F.relu(out)\n",
        "\n",
        "    # change it back\n",
        "    out = out.permute(0, 2, 1)\n",
        "\n",
        "    # max pool\n",
        "    out, _ = torch.max(out, 1)\n",
        "\n",
        "    # final dense layer\n",
        "    out = self.fc(out)\n",
        "    return out"
      ]
    },
    {
      "cell_type": "code",
      "execution_count": 27,
      "metadata": {
        "colab": {
          "base_uri": "https://localhost:8080/"
        },
        "id": "c7IXFlkDf9Bl",
        "outputId": "bd7021cd-9a4a-4fe2-f39a-3eb9ea49b1b3"
      },
      "outputs": [
        {
          "data": {
            "text/plain": [
              "CNN(\n",
              "  (embed): Embedding(1064, 20)\n",
              "  (conv1): Conv1d(20, 32, kernel_size=(3,), stride=(1,), padding=(1,))\n",
              "  (pool1): MaxPool1d(kernel_size=2, stride=2, padding=0, dilation=1, ceil_mode=False)\n",
              "  (conv2): Conv1d(32, 64, kernel_size=(3,), stride=(1,), padding=(1,))\n",
              "  (pool2): MaxPool1d(kernel_size=2, stride=2, padding=0, dilation=1, ceil_mode=False)\n",
              "  (conv3): Conv1d(64, 128, kernel_size=(3,), stride=(1,), padding=(1,))\n",
              "  (fc): Linear(in_features=128, out_features=1, bias=True)\n",
              ")"
            ]
          },
          "execution_count": 27,
          "metadata": {},
          "output_type": "execute_result"
        }
      ],
      "source": [
        "model = CNN(len(vocab), 20, 1)\n",
        "model.to(device)"
      ]
    },
    {
      "cell_type": "code",
      "execution_count": 45,
      "metadata": {
        "id": "MIJTThwEgMs4"
      },
      "outputs": [],
      "source": [
        "# Loss and optimizer\n",
        "criterion = nn.MSELoss()\n",
        "optimizer = torch.optim.Adam(model.parameters())"
      ]
    },
    {
      "cell_type": "code",
      "execution_count": 50,
      "metadata": {
        "id": "HiYHRnM6gRz7"
      },
      "outputs": [],
      "source": [
        "# A function to encapsulate the training loop\n",
        "def batch_gd(model, criterion, optimizer, train_iter, test_iter, epochs):\n",
        "  train_losses = np.zeros(epochs)\n",
        "  test_losses = np.zeros(epochs)\n",
        "\n",
        "  for it in range(epochs):\n",
        "    t0 = datetime.now()\n",
        "    train_loss = []\n",
        "    for inputs, targets in train_iter:\n",
        "      # print(\"inputs.shape:\", inputs.shape, \"targets.shape:\", targets.shape)\n",
        "      targets = targets.view(-1, 1).float()\n",
        "      # move data to GPU\n",
        "      # inputs, targets = inputs.to(device), targets.to(device)\n",
        "\n",
        "      # zero the parameter gradients\n",
        "      optimizer.zero_grad()\n",
        "\n",
        "      # Forward pass\n",
        "      outputs = model(inputs)\n",
        "      # print(\"outputs.shape:\", outputs.shape)\n",
        "      loss = criterion(outputs, targets)\n",
        "        \n",
        "      # Backward and optimize\n",
        "      loss.backward()\n",
        "      optimizer.step()\n",
        "\n",
        "      train_loss.append(loss.item())\n",
        "\n",
        "    # Get train loss and test loss\n",
        "    train_loss = np.mean(train_loss) # a little misleading\n",
        "    \n",
        "    test_loss = []\n",
        "    for inputs, targets in test_iter:\n",
        "      # inputs, targets = inputs.to(device), targets.to(device)\n",
        "      targets = targets.view(-1, 1).float()\n",
        "      outputs = model(inputs)\n",
        "      loss = criterion(outputs, targets)\n",
        "      test_loss.append(loss.item())\n",
        "    test_loss = np.mean(test_loss)\n",
        "\n",
        "    # Save losses\n",
        "    train_losses[it] = train_loss\n",
        "    test_losses[it] = test_loss\n",
        "    \n",
        "    dt = datetime.now() - t0\n",
        "    print(f'Epoch {it+1}/{epochs}, Train Loss: {train_loss:.4f}, \\\n",
        "      Test Loss: {test_loss:.4f}, Duration: {dt}')\n",
        "  \n",
        "  return train_losses, test_losses"
      ]
    },
    {
      "cell_type": "code",
      "execution_count": 55,
      "metadata": {
        "colab": {
          "base_uri": "https://localhost:8080/"
        },
        "id": "T60TTrZKgjEL",
        "outputId": "9b61bb6c-b052-40e0-bf24-67078822bba3"
      },
      "outputs": [
        {
          "name": "stderr",
          "output_type": "stream",
          "text": [
            "/usr/local/lib/python3.7/dist-packages/torchtext/data/batch.py:23: UserWarning: Batch class will be retired soon and moved to torchtext.legacy. Please see the most recent release notes for further information.\n",
            "  warnings.warn('{} class will be retired soon and moved to torchtext.legacy. Please see the most recent release notes for further information.'.format(self.__class__.__name__), UserWarning)\n"
          ]
        },
        {
          "name": "stdout",
          "output_type": "stream",
          "text": [
            "Epoch 1/100, Train Loss: 425.5357,       Test Loss: 11264.3828, Duration: 0:00:00.549601\n",
            "Epoch 2/100, Train Loss: 678.4753,       Test Loss: 11224.6133, Duration: 0:00:00.401766\n",
            "Epoch 3/100, Train Loss: 555.1455,       Test Loss: 10750.5865, Duration: 0:00:00.415087\n",
            "Epoch 4/100, Train Loss: 312.0347,       Test Loss: 10984.5582, Duration: 0:00:00.388560\n",
            "Epoch 5/100, Train Loss: 405.7820,       Test Loss: 11697.4849, Duration: 0:00:00.397943\n",
            "Epoch 6/100, Train Loss: 575.2610,       Test Loss: 12522.2000, Duration: 0:00:00.395501\n",
            "Epoch 7/100, Train Loss: 835.7929,       Test Loss: 11440.0863, Duration: 0:00:00.412357\n",
            "Epoch 8/100, Train Loss: 967.9634,       Test Loss: 13548.3740, Duration: 0:00:00.422702\n",
            "Epoch 9/100, Train Loss: 2529.3307,       Test Loss: 18053.5596, Duration: 0:00:00.417785\n",
            "Epoch 10/100, Train Loss: 1700.7709,       Test Loss: 12934.6702, Duration: 0:00:00.391976\n",
            "Epoch 11/100, Train Loss: 1956.7690,       Test Loss: 15399.9529, Duration: 0:00:00.389541\n",
            "Epoch 12/100, Train Loss: 4470.0607,       Test Loss: 13388.3752, Duration: 0:00:00.387354\n",
            "Epoch 13/100, Train Loss: 1216.1665,       Test Loss: 12027.4832, Duration: 0:00:00.413518\n",
            "Epoch 14/100, Train Loss: 846.2035,       Test Loss: 12701.3480, Duration: 0:00:00.436402\n",
            "Epoch 15/100, Train Loss: 547.0871,       Test Loss: 12117.1202, Duration: 0:00:00.420231\n",
            "Epoch 16/100, Train Loss: 636.2012,       Test Loss: 12246.5994, Duration: 0:00:00.379184\n",
            "Epoch 17/100, Train Loss: 303.3929,       Test Loss: 11791.9758, Duration: 0:00:00.399028\n",
            "Epoch 18/100, Train Loss: 479.1353,       Test Loss: 10713.2947, Duration: 0:00:00.395068\n",
            "Epoch 19/100, Train Loss: 1803.1823,       Test Loss: 11459.2509, Duration: 0:00:00.401847\n",
            "Epoch 20/100, Train Loss: 515.8289,       Test Loss: 10686.1671, Duration: 0:00:00.399704\n",
            "Epoch 21/100, Train Loss: 429.1508,       Test Loss: 11830.1299, Duration: 0:00:00.392158\n",
            "Epoch 22/100, Train Loss: 652.4203,       Test Loss: 11156.0670, Duration: 0:00:00.397310\n",
            "Epoch 23/100, Train Loss: 1060.1289,       Test Loss: 12042.4026, Duration: 0:00:00.408473\n",
            "Epoch 24/100, Train Loss: 398.8780,       Test Loss: 11592.6583, Duration: 0:00:00.387160\n",
            "Epoch 25/100, Train Loss: 527.5316,       Test Loss: 10532.0170, Duration: 0:00:00.409797\n",
            "Epoch 26/100, Train Loss: 423.1551,       Test Loss: 10277.8185, Duration: 0:00:00.386873\n",
            "Epoch 27/100, Train Loss: 315.2233,       Test Loss: 10479.7399, Duration: 0:00:00.405939\n",
            "Epoch 28/100, Train Loss: 697.3121,       Test Loss: 10908.4978, Duration: 0:00:00.416292\n",
            "Epoch 29/100, Train Loss: 374.5108,       Test Loss: 10727.2817, Duration: 0:00:00.392000\n",
            "Epoch 30/100, Train Loss: 292.2593,       Test Loss: 10467.4573, Duration: 0:00:00.424513\n",
            "Epoch 31/100, Train Loss: 791.2880,       Test Loss: 10220.8588, Duration: 0:00:00.390423\n",
            "Epoch 32/100, Train Loss: 1558.7200,       Test Loss: 12073.8818, Duration: 0:00:00.391040\n",
            "Epoch 33/100, Train Loss: 2390.6478,       Test Loss: 11474.6499, Duration: 0:00:00.402299\n",
            "Epoch 34/100, Train Loss: 522.0213,       Test Loss: 12612.8477, Duration: 0:00:00.389618\n",
            "Epoch 35/100, Train Loss: 527.9045,       Test Loss: 11324.4806, Duration: 0:00:00.400057\n",
            "Epoch 36/100, Train Loss: 400.5422,       Test Loss: 10359.4917, Duration: 0:00:00.387595\n",
            "Epoch 37/100, Train Loss: 359.9326,       Test Loss: 10804.3027, Duration: 0:00:00.392156\n",
            "Epoch 38/100, Train Loss: 344.4816,       Test Loss: 9987.6606, Duration: 0:00:00.398780\n",
            "Epoch 39/100, Train Loss: 298.8727,       Test Loss: 10428.5951, Duration: 0:00:00.384925\n",
            "Epoch 40/100, Train Loss: 510.6926,       Test Loss: 12678.0868, Duration: 0:00:00.397756\n",
            "Epoch 41/100, Train Loss: 573.6534,       Test Loss: 11588.2665, Duration: 0:00:00.388704\n",
            "Epoch 42/100, Train Loss: 1144.9114,       Test Loss: 11169.0128, Duration: 0:00:00.393766\n",
            "Epoch 43/100, Train Loss: 441.3274,       Test Loss: 10000.7366, Duration: 0:00:00.407929\n",
            "Epoch 44/100, Train Loss: 377.0816,       Test Loss: 10953.2622, Duration: 0:00:00.385563\n",
            "Epoch 45/100, Train Loss: 1757.0265,       Test Loss: 13030.3799, Duration: 0:00:00.386724\n",
            "Epoch 46/100, Train Loss: 1136.3178,       Test Loss: 11086.5898, Duration: 0:00:00.416177\n",
            "Epoch 47/100, Train Loss: 439.3542,       Test Loss: 11072.9694, Duration: 0:00:00.408768\n",
            "Epoch 48/100, Train Loss: 459.1910,       Test Loss: 11270.7867, Duration: 0:00:00.407019\n",
            "Epoch 49/100, Train Loss: 1358.5439,       Test Loss: 11214.9344, Duration: 0:00:00.383121\n",
            "Epoch 50/100, Train Loss: 758.5354,       Test Loss: 11310.5043, Duration: 0:00:00.397206\n",
            "Epoch 51/100, Train Loss: 318.1411,       Test Loss: 10488.7427, Duration: 0:00:00.407573\n",
            "Epoch 52/100, Train Loss: 517.5869,       Test Loss: 14598.5239, Duration: 0:00:00.389287\n",
            "Epoch 53/100, Train Loss: 840.8088,       Test Loss: 10626.9490, Duration: 0:00:00.398380\n",
            "Epoch 54/100, Train Loss: 691.3191,       Test Loss: 10998.1848, Duration: 0:00:00.401108\n",
            "Epoch 55/100, Train Loss: 649.7075,       Test Loss: 12191.7625, Duration: 0:00:00.393469\n",
            "Epoch 56/100, Train Loss: 5205.6561,       Test Loss: 13403.0098, Duration: 0:00:00.405830\n",
            "Epoch 57/100, Train Loss: 969.0798,       Test Loss: 11477.0687, Duration: 0:00:00.395174\n",
            "Epoch 58/100, Train Loss: 584.3185,       Test Loss: 11839.6100, Duration: 0:00:00.391054\n",
            "Epoch 59/100, Train Loss: 439.7696,       Test Loss: 11034.8446, Duration: 0:00:00.391617\n",
            "Epoch 60/100, Train Loss: 464.7107,       Test Loss: 10393.1455, Duration: 0:00:00.388673\n",
            "Epoch 61/100, Train Loss: 577.2212,       Test Loss: 11302.6927, Duration: 0:00:00.398568\n",
            "Epoch 62/100, Train Loss: 390.7804,       Test Loss: 10471.7162, Duration: 0:00:00.378483\n",
            "Epoch 63/100, Train Loss: 655.1211,       Test Loss: 10516.5286, Duration: 0:00:00.401636\n",
            "Epoch 64/100, Train Loss: 437.1447,       Test Loss: 10130.0077, Duration: 0:00:00.379357\n",
            "Epoch 65/100, Train Loss: 318.1269,       Test Loss: 10643.1370, Duration: 0:00:00.394825\n",
            "Epoch 66/100, Train Loss: 653.0689,       Test Loss: 11312.4750, Duration: 0:00:00.388613\n",
            "Epoch 67/100, Train Loss: 398.0075,       Test Loss: 10067.6169, Duration: 0:00:00.380020\n",
            "Epoch 68/100, Train Loss: 259.0131,       Test Loss: 10073.3401, Duration: 0:00:00.396474\n",
            "Epoch 69/100, Train Loss: 295.5403,       Test Loss: 9628.1562, Duration: 0:00:00.397036\n",
            "Epoch 70/100, Train Loss: 225.9335,       Test Loss: 9856.0856, Duration: 0:00:00.386407\n",
            "Epoch 71/100, Train Loss: 220.3466,       Test Loss: 10231.6320, Duration: 0:00:00.389006\n",
            "Epoch 72/100, Train Loss: 232.9844,       Test Loss: 9931.2096, Duration: 0:00:00.390642\n",
            "Epoch 73/100, Train Loss: 1066.7564,       Test Loss: 12275.9384, Duration: 0:00:00.388913\n",
            "Epoch 74/100, Train Loss: 1581.0329,       Test Loss: 9876.7440, Duration: 0:00:00.396019\n",
            "Epoch 75/100, Train Loss: 423.1143,       Test Loss: 11024.1855, Duration: 0:00:00.391902\n",
            "Epoch 76/100, Train Loss: 756.3082,       Test Loss: 10368.5862, Duration: 0:00:00.403250\n",
            "Epoch 77/100, Train Loss: 519.8051,       Test Loss: 9352.6908, Duration: 0:00:00.383574\n",
            "Epoch 78/100, Train Loss: 342.1793,       Test Loss: 11092.8795, Duration: 0:00:00.393452\n",
            "Epoch 79/100, Train Loss: 407.4582,       Test Loss: 9841.4785, Duration: 0:00:00.399283\n",
            "Epoch 80/100, Train Loss: 4011.6375,       Test Loss: 12808.4856, Duration: 0:00:00.411999\n",
            "Epoch 81/100, Train Loss: 924.3079,       Test Loss: 10808.3313, Duration: 0:00:00.409134\n",
            "Epoch 82/100, Train Loss: 391.0572,       Test Loss: 10055.5460, Duration: 0:00:00.397895\n",
            "Epoch 83/100, Train Loss: 272.7293,       Test Loss: 9948.9982, Duration: 0:00:00.398645\n",
            "Epoch 84/100, Train Loss: 265.1091,       Test Loss: 9780.6565, Duration: 0:00:00.445368\n",
            "Epoch 85/100, Train Loss: 272.2994,       Test Loss: 9459.8947, Duration: 0:00:00.398898\n",
            "Epoch 86/100, Train Loss: 294.5275,       Test Loss: 9859.8716, Duration: 0:00:00.411755\n",
            "Epoch 87/100, Train Loss: 359.9543,       Test Loss: 9030.1464, Duration: 0:00:00.402066\n",
            "Epoch 88/100, Train Loss: 699.6865,       Test Loss: 9572.7871, Duration: 0:00:00.391025\n",
            "Epoch 89/100, Train Loss: 661.1832,       Test Loss: 11106.6738, Duration: 0:00:00.395028\n",
            "Epoch 90/100, Train Loss: 1144.4832,       Test Loss: 9092.0497, Duration: 0:00:00.397694\n",
            "Epoch 91/100, Train Loss: 732.6299,       Test Loss: 9731.7675, Duration: 0:00:00.385038\n",
            "Epoch 92/100, Train Loss: 965.1877,       Test Loss: 9934.6249, Duration: 0:00:00.385096\n",
            "Epoch 93/100, Train Loss: 878.4629,       Test Loss: 10217.3478, Duration: 0:00:00.386125\n",
            "Epoch 94/100, Train Loss: 356.3727,       Test Loss: 9580.2332, Duration: 0:00:00.404666\n",
            "Epoch 95/100, Train Loss: 501.7146,       Test Loss: 10100.4879, Duration: 0:00:00.405929\n",
            "Epoch 96/100, Train Loss: 272.9541,       Test Loss: 9592.5132, Duration: 0:00:00.387072\n",
            "Epoch 97/100, Train Loss: 434.3626,       Test Loss: 9820.6774, Duration: 0:00:00.392583\n",
            "Epoch 98/100, Train Loss: 222.1345,       Test Loss: 10379.7246, Duration: 0:00:00.385349\n",
            "Epoch 99/100, Train Loss: 387.4564,       Test Loss: 10697.2551, Duration: 0:00:00.386634\n",
            "Epoch 100/100, Train Loss: 305.2308,       Test Loss: 9346.2845, Duration: 0:00:00.382564\n"
          ]
        }
      ],
      "source": [
        "train_losses, test_losses = batch_gd(\n",
        "    model, criterion, optimizer, train_iter, test_iter, 100)"
      ]
    },
    {
      "cell_type": "code",
      "execution_count": 56,
      "metadata": {
        "id": "3KSqxoxo5aoE"
      },
      "outputs": [],
      "source": [
        "#inference \n",
        "import spacy\n",
        "nlp = spacy.load('en')\n",
        "\n",
        "def predict(model, sentence):\n",
        "    tokenized = [tok.text for tok in nlp.tokenizer(sentence)]  #tokenize the sentence \n",
        "    indexed = [TEXT.vocab.stoi[t] for t in tokenized]          #convert to integer sequence\n",
        "    length = [len(indexed)]                                    #compute no. of words\n",
        "    tensor = torch.LongTensor(indexed).to(device)              #convert to tensor\n",
        "    tensor = tensor.unsqueeze(1).T                             #reshape in form of batch,no. of words\n",
        "    length_tensor = torch.LongTensor(length)                   #convert to tensor\n",
        "    #print(tensor, length_tensor)\n",
        "    prediction = model(tensor)                  #prediction \n",
        "    return prediction.item()           "
      ]
    },
    {
      "cell_type": "code",
      "execution_count": 60,
      "metadata": {
        "colab": {
          "base_uri": "https://localhost:8080/"
        },
        "id": "Pz-d2UbU5dgy",
        "outputId": "c18cfdd4-5f92-4f9f-9b54-3e2ec4c9610e"
      },
      "outputs": [
        {
          "data": {
            "text/plain": [
              "102.78245544433594"
            ]
          },
          "execution_count": 60,
          "metadata": {},
          "output_type": "execute_result"
        }
      ],
      "source": [
        "predict(model = model, sentence=\"who was the female lead in resident evil\")"
      ]
    },
    {
      "cell_type": "code",
      "execution_count": 53,
      "metadata": {
        "colab": {
          "base_uri": "https://localhost:8080/",
          "height": 276
        },
        "id": "NoqoPH75j9L3",
        "outputId": "37bc1325-ae4c-4881-96ef-408b8d56243d"
      },
      "outputs": [
        {
          "data": {
            "image/png": "[encoded data removed]",
            "text/plain": [
              "<Figure size 432x288 with 1 Axes>"
            ]
          },
          "metadata": {
            "needs_background": "light"
          },
          "output_type": "display_data"
        }
      ],
      "source": [
        "# Plot the train loss and test loss per iteration\n",
        "plt.plot(train_losses, label='train loss')\n",
        "plt.plot(test_losses, label='test loss')\n",
        "plt.legend()\n",
        "plt.show()"
      ]
    },
    {
      "cell_type": "code",
      "execution_count": null,
      "metadata": {
        "colab": {
          "base_uri": "https://localhost:8080/",
          "height": 34
        },
        "id": "jP-E181MkC0z",
        "outputId": "8e8c1415-b430-4060-e887-56d87ab3ca9e"
      },
      "outputs": [
        {
          "name": "stdout",
          "output_type": "stream",
          "text": [
            "Train acc: 0.9964, Test acc: 0.9450\n"
          ]
        }
      ],
      "source": [
        "# Accuracy\n",
        "\n",
        "n_correct = 0.\n",
        "n_total = 0.\n",
        "for inputs, targets in train_iter:\n",
        "  targets = targets.view(-1, 1).float()\n",
        "\n",
        "  # Forward pass\n",
        "  outputs = model(inputs)\n",
        "\n",
        "  # Get prediction\n",
        "  predictions = (outputs > 0)\n",
        "  \n",
        "  # update counts\n",
        "  n_correct += (predictions == targets).sum().item()\n",
        "  n_total += targets.shape[0]\n",
        "\n",
        "train_acc = n_correct / n_total\n",
        "\n",
        "\n",
        "n_correct = 0.\n",
        "n_total = 0.\n",
        "for inputs, targets in test_iter:\n",
        "  targets = targets.view(-1, 1).float()\n",
        "\n",
        "  # Forward pass\n",
        "  outputs = model(inputs)\n",
        "\n",
        "  # Get prediction\n",
        "  predictions = (outputs > 0)\n",
        "  \n",
        "  # update counts\n",
        "  n_correct += (predictions == targets).sum().item()\n",
        "  n_total += targets.shape[0]\n",
        "\n",
        "test_acc = n_correct / n_total\n",
        "print(f\"Train acc: {train_acc:.4f}, Test acc: {test_acc:.4f}\")"
      ]
    }
  ],
  "metadata": {
    "accelerator": "GPU",
    "colab": {
      "collapsed_sections": [],
      "name": "PyTorch Text Classification CNN.ipynb",
      "provenance": []
    },
    "kernelspec": {
      "display_name": "Python 3",
      "name": "python3"
    }
  },
  "nbformat": 4,
  "nbformat_minor": 0
}
