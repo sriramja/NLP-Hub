{
  "cells": [
    {
      "cell_type": "markdown",
      "metadata": {
        "id": "kt5xUaAgCZYS"
      },
      "source": [
        "# Typical Machine Learning NLP Workflow with PyTorch\n",
        "\n",
        "1. Import your data \n",
        "2. Pre-process/clean your corpus (remove punctuation, etc..) if neccessary\n",
        "2. If it is not tokenized, then tokenize (break into words)\n",
        "3. In order to do batching, input should be of same length, because these models are usually not dynamic, so <PAD>\n",
        "4. Define a mapping for the tokens\n",
        "5. Map tokens to ints\n",
        "6. Train-test-val split (if enough data)\n",
        "7. Define and Train/validate your model\n",
        "8. Test your model."
      ]
    },
    {
      "cell_type": "code",
      "execution_count": 1,
      "metadata": {
        "id": "D1ouqKPn-0rq"
      },
      "outputs": [],
      "source": [
        "import torch\n",
        "import torch.nn as nn\n",
        "import torch.nn.functional as F\n",
        "import torch.optim as optim\n",
        "from torch.utils.data import Dataset, DataLoader\n",
        "import numpy as np\n",
        "import matplotlib.pyplot as plt"
      ]
    },
    {
      "cell_type": "code",
      "execution_count": 2,
      "metadata": {
        "id": "X8nJcAID-0uQ"
      },
      "outputs": [],
      "source": [
        "slot_vocab = ['O',\n",
        " 'PAD',\n",
        " 'B-aircraft_code',\n",
        " 'B-airline_code',\n",
        " 'B-airline_name',\n",
        " 'B-airport_code',\n",
        " 'B-airport_name',\n",
        " 'B-arrive_date.date_relative',\n",
        " 'B-arrive_date.day_name',\n",
        " 'B-arrive_date.day_number',\n",
        " 'B-arrive_date.month_name',\n",
        " 'B-arrive_date.today_relative',\n",
        " 'B-arrive_time.end_time',\n",
        " 'B-arrive_time.period_mod',\n",
        " 'B-arrive_time.period_of_day',\n",
        " 'B-arrive_time.start_time',\n",
        " 'B-arrive_time.time',\n",
        " 'B-arrive_time.time_relative',\n",
        " 'B-booking_class',\n",
        " 'B-city_name',\n",
        " 'B-class_type',\n",
        " 'B-compartment',\n",
        " 'B-connect',\n",
        " 'B-cost_relative',\n",
        " 'B-day_name',\n",
        " 'B-day_number',\n",
        " 'B-days_code',\n",
        " 'B-depart_date.date_relative',\n",
        " 'B-depart_date.day_name',\n",
        " 'B-depart_date.day_number',\n",
        " 'B-depart_date.month_name',\n",
        " 'B-depart_date.today_relative',\n",
        " 'B-depart_date.year',\n",
        " 'B-depart_time.end_time',\n",
        " 'B-depart_time.period_mod',\n",
        " 'B-depart_time.period_of_day',\n",
        " 'B-depart_time.start_time',\n",
        " 'B-depart_time.time',\n",
        " 'B-depart_time.time_relative',\n",
        " 'B-economy',\n",
        " 'B-fare_amount',\n",
        " 'B-fare_basis_code',\n",
        " 'B-flight',\n",
        " 'B-flight_days',\n",
        " 'B-flight_mod',\n",
        " 'B-flight_number',\n",
        " 'B-flight_stop',\n",
        " 'B-flight_time',\n",
        " 'B-fromloc.airport_code',\n",
        " 'B-fromloc.airport_name',\n",
        " 'B-fromloc.city_name',\n",
        " 'B-fromloc.state_code',\n",
        " 'B-fromloc.state_name',\n",
        " 'B-meal',\n",
        " 'B-meal_code',\n",
        " 'B-meal_description',\n",
        " 'B-mod',\n",
        " 'B-month_name',\n",
        " 'B-or',\n",
        " 'B-period_of_day',\n",
        " 'B-restriction_code',\n",
        " 'B-return_date.date_relative',\n",
        " 'B-return_date.day_name',\n",
        " 'B-return_date.day_number',\n",
        " 'B-return_date.month_name',\n",
        " 'B-return_date.today_relative',\n",
        " 'B-return_time.period_mod',\n",
        " 'B-return_time.period_of_day',\n",
        " 'B-round_trip',\n",
        " 'B-state_code',\n",
        " 'B-state_name',\n",
        " 'B-stoploc.airport_code',\n",
        " 'B-stoploc.airport_name',\n",
        " 'B-stoploc.city_name',\n",
        " 'B-stoploc.state_code',\n",
        " 'B-time',\n",
        " 'B-time_relative',\n",
        " 'B-today_relative',\n",
        " 'B-toloc.airport_code',\n",
        " 'B-toloc.airport_name',\n",
        " 'B-toloc.city_name',\n",
        " 'B-toloc.country_name',\n",
        " 'B-toloc.state_code',\n",
        " 'B-toloc.state_name',\n",
        " 'B-transport_type',\n",
        " 'BOS',\n",
        " 'I-airline_name',\n",
        " 'I-airport_name',\n",
        " 'I-arrive_date.day_number',\n",
        " 'I-arrive_time.end_time',\n",
        " 'I-arrive_time.period_of_day',\n",
        " 'I-arrive_time.start_time',\n",
        " 'I-arrive_time.time',\n",
        " 'I-arrive_time.time_relative',\n",
        " 'I-city_name',\n",
        " 'I-class_type',\n",
        " 'I-cost_relative',\n",
        " 'I-depart_date.day_number',\n",
        " 'I-depart_date.today_relative',\n",
        " 'I-depart_time.end_time',\n",
        " 'I-depart_time.period_of_day',\n",
        " 'I-depart_time.start_time',\n",
        " 'I-depart_time.time',\n",
        " 'I-depart_time.time_relative',\n",
        " 'I-economy',\n",
        " 'I-fare_amount',\n",
        " 'I-fare_basis_code',\n",
        " 'I-flight_mod',\n",
        " 'I-flight_number',\n",
        " 'I-flight_stop',\n",
        " 'I-flight_time',\n",
        " 'I-fromloc.airport_name',\n",
        " 'I-fromloc.city_name',\n",
        " 'I-fromloc.state_name',\n",
        " 'I-meal_code',\n",
        " 'I-meal_description',\n",
        " 'I-restriction_code',\n",
        " 'I-return_date.date_relative',\n",
        " 'I-return_date.day_number',\n",
        " 'I-return_date.today_relative',\n",
        " 'I-round_trip',\n",
        " 'I-state_name',\n",
        " 'I-stoploc.city_name',\n",
        " 'I-time',\n",
        " 'I-today_relative',\n",
        " 'I-toloc.airport_name',\n",
        " 'I-toloc.city_name',\n",
        " 'I-toloc.state_name',\n",
        " 'I-transport_type',\n",
        " 'EOS']"
      ]
    },
    {
      "cell_type": "code",
      "execution_count": 3,
      "metadata": {
        "id": "bChnn1m9-6RJ"
      },
      "outputs": [],
      "source": [
        "# 1 Import data\n",
        "atis_sentences = [\n",
        "             ['tpo','i','want','to','fly','from','baltimore','to','dallas','round','trip','end'],\n",
        "             ['top','round','trip','fares','from','baltimore','to','philadelphia','less','than','1000','dollars','round','trip','fares','from',\n",
        "              'denver','to','philadelphia','less','than','1000','dollars','round','trip','fares','from','pittsburgh','to','philadelphia','less',\n",
        "              'than','1000','dollars','end']\n",
        "             ]\n",
        "atis_slots = [['BOS','O','O','O','O','O','B-fromloc.city_name','O','B-toloc.city_name','B-round_trip','I-round_trip','EOS'],\n",
        "         ['BOS','B-round_trip','I-round_trip','O','O','B-fromloc.city_name','O','B-toloc.city_name','B-cost_relative',\n",
        " 'O','B-fare_amount','I-fare_amount','B-round_trip','I-round_trip','O','O',\n",
        " 'B-fromloc.city_name','O','B-toloc.city_name','B-cost_relative','O','B-fare_amount','I-fare_amount','B-round_trip',\n",
        " 'I-round_trip','O','O','B-fromloc.city_name','O','B-toloc.city_name','B-cost_relative','O','B-fare_amount','I-fare_amount','EOS']\n",
        "         ]"
      ]
    },
    {
      "cell_type": "code",
      "execution_count": null,
      "metadata": {
        "id": "jA9rfi-ACZBm"
      },
      "outputs": [],
      "source": [
        "# 2 Tokenize, above is already tokenized"
      ]
    },
    {
      "cell_type": "code",
      "execution_count": 4,
      "metadata": {
        "id": "hRHd_GGEkPX_"
      },
      "outputs": [],
      "source": [
        "# 3 PAD to maximum length OR you can truncate. Your choice\n",
        "MAX_LEN = len(max(atis_sentences, key=len))\n",
        "\n",
        "def pad_sequence(sentences,max_len=50):\n",
        "  for i in range(len(sentences)):\n",
        "    while len(sentences[i])<max_len:\n",
        "      sentences[i].append('PAD')\n",
        "\n",
        "pad_sequence(atis_sentences, max_len=MAX_LEN)\n",
        "pad_sequence(atis_slots, max_len=MAX_LEN)"
      ]
    },
    {
      "cell_type": "code",
      "execution_count": 5,
      "metadata": {
        "id": "59IE83CNmVEk"
      },
      "outputs": [],
      "source": [
        "# 4 For mapping slots and intents between ints and string\n",
        "slot2id = {slot:id for id,slot in enumerate(slot_vocab)}\n",
        "id2slot = {id:slot for slot,id in slot2id.items()}\n",
        "\n",
        "token2id = {}\n",
        "counter = 0\n",
        "for sentence in atis_sentences:\n",
        "  for token in sentence:\n",
        "    if token not in token2id:\n",
        "      token2id[token] = counter\n",
        "      counter+=1\n",
        "id2token = {id:token for token,id in token2id.items()}"
      ]
    },
    {
      "cell_type": "code",
      "execution_count": 6,
      "metadata": {
        "id": "pyrumhNgmcNF"
      },
      "outputs": [],
      "source": [
        "# 5 Mapping tokens to ints\n",
        "def map_sequence(sequence, mapping):\n",
        "  mapped_sequence = []\n",
        "  for token in sequence:\n",
        "    mapped_sequence.append(mapping[token])\n",
        "  return mapped_sequence\n",
        "\n",
        "def map_corpa(corpa, mapping):\n",
        "  mapped_corpa = []\n",
        "  for sequence in corpa:\n",
        "    mapped_corpa.append(map_sequence(sequence, mapping))\n",
        "  return mapped_corpa\n",
        "\n",
        "mapped_sentences = map_corpa(atis_sentences,token2id)\n",
        "mapped_slots = map_corpa(atis_slots, slot2id)"
      ]
    },
    {
      "cell_type": "code",
      "execution_count": 7,
      "metadata": {
        "id": "j4guPH28GIPP"
      },
      "outputs": [],
      "source": [
        "# Create Dataset class\n",
        "class ATISDataset(Dataset):\n",
        "  def __init__(self, X, y):\n",
        "    # Convert arrays to torch tensors\n",
        "    self.X = torch.tensor(X)\n",
        "    self.y = torch.tensor(y)\n",
        "  \n",
        "  #Must have\n",
        "  def __len__(self):\n",
        "    return len(self.y)\n",
        "\n",
        "  #Must have\n",
        "  def __getitem__(self,index):\n",
        "    return self.X[index], self.y[index]"
      ]
    },
    {
      "cell_type": "code",
      "execution_count": 8,
      "metadata": {
        "id": "OeloAhFiHVHJ"
      },
      "outputs": [],
      "source": [
        "# define dataset\n",
        "atis_dataset = ATISDataset(X=mapped_sentences, y=mapped_slots)\n",
        "\n",
        "# define a Dataloader\n",
        "dataloader = DataLoader(dataset=atis_dataset, \n",
        "                        batch_size=1,#only 1 for this toy example\n",
        "                        shuffle=True)"
      ]
    },
    {
      "cell_type": "code",
      "execution_count": 9,
      "metadata": {
        "colab": {
          "base_uri": "https://localhost:8080/"
        },
        "id": "1gQFC-kigaFO",
        "outputId": "1d645cd6-9f23-4ea4-fff4-fd729c6e1d4c"
      },
      "outputs": [
        {
          "data": {
            "text/plain": [
              "20"
            ]
          },
          "execution_count": 9,
          "metadata": {},
          "output_type": "execute_result"
        }
      ],
      "source": [
        "len(token2id)\n",
        "\n",
        "# [book me a flight] -> [0 1 2 3] -> #get word2vec vectors -> [ [0 100dim], [1 100 dim].. etc]"
      ]
    },
    {
      "cell_type": "code",
      "execution_count": 17,
      "metadata": {
        "id": "oq0_9p7_H2Fp"
      },
      "outputs": [],
      "source": [
        "# Define RNN + MLP taken from Yelp Review example\n",
        "class Classifier(nn.Module):\n",
        "    \"\"\" a RNN + multi-layered perceptron based classifier \"\"\"\n",
        "    def __init__(self, num_features,out_features):\n",
        "        \"\"\"\n",
        "        Args:\n",
        "            num_features (int): the size of the input feature vector\n",
        "        \"\"\"\n",
        "        super(Classifier, self).__init__()\n",
        "        self.emb = nn.Embedding(num_embeddings=len(token2id),\n",
        "                                embedding_dim=num_features)\n",
        "        \n",
        "        self.rnn = nn.RNN(num_features,hidden_size=num_features)\n",
        "        self.fc1 = nn.Linear(in_features=num_features, \n",
        "                             out_features=64)\n",
        "        self.fc2 = nn.Linear(in_features=64, \n",
        "                             out_features=32)\n",
        "        self.fc3 = nn.Linear(in_features=32, \n",
        "                             out_features=16)\n",
        "        self.fc4 = nn.Linear(in_features=16,\n",
        "                             out_features=out_features)\n",
        "\n",
        "    def forward(self, x_in, apply_softmax=False):\n",
        "        \"\"\"The forward pass of the classifier\n",
        "        \n",
        "        Args:\n",
        "            x_in (torch.Tensor): an input data tensor. \n",
        "                x_in.shape should be (batch, num_features)\n",
        "            apply_softmax (bool): a flag for the sigmoid activation\n",
        "                should be false if used with the Cross Entropy losses\n",
        "        Returns:\n",
        "            the resulting tensor. tensor.shape should be (batch,)\n",
        "        \"\"\"\n",
        "        y_out = self.emb(x_in)\n",
        "        y_out,_ = self.rnn(y_out)\n",
        "        y_out = torch.relu(self.fc1(y_out))\n",
        "        y_out = torch.relu(self.fc2(y_out))\n",
        "        y_out = torch.relu(self.fc3(y_out))\n",
        "        y_out = self.fc4(y_out)#.squeeze(0)\n",
        "        if apply_softmax:\n",
        "            y_out = torch.softmax(y_out)\n",
        "        return y_out"
      ]
    },
    {
      "cell_type": "code",
      "execution_count": 18,
      "metadata": {
        "colab": {
          "base_uri": "https://localhost:8080/"
        },
        "id": "q5hhGhMfgPn3",
        "outputId": "c3c17d61-bbc8-4466-fef3-a186c719f189"
      },
      "outputs": [
        {
          "name": "stdout",
          "output_type": "stream",
          "text": [
            "Using CUDA: True\n"
          ]
        }
      ],
      "source": [
        "cuda = torch.cuda.is_available()\n",
        "print(\"Using CUDA: {}\".format(cuda))\n",
        "\n",
        "device = torch.device(\"cuda\" if cuda else \"cpu\")"
      ]
    },
    {
      "cell_type": "code",
      "execution_count": 19,
      "metadata": {
        "id": "5eT62liGpOyN"
      },
      "outputs": [],
      "source": [
        "# 6 Train-test-val split but not enough data :(\n",
        "\n",
        "# 7 Define and set up train loop\n",
        "# Training hyper parameters\n",
        "learning_rate=0.001\n",
        "num_epochs=100\n",
        "\n",
        "\n",
        "clf = Classifier(num_features=MAX_LEN,out_features=len(slot2id))\n",
        "clf.to(device)\n",
        "loss_func = nn.CrossEntropyLoss()\n",
        "optimizer = optim.Adam(clf.parameters(), lr=learning_rate)"
      ]
    },
    {
      "cell_type": "code",
      "execution_count": 20,
      "metadata": {
        "id": "hHUUdrYlJGhx"
      },
      "outputs": [],
      "source": [
        "losses = []\n",
        "for epoch in range(num_epochs):\n",
        "  epoch_loss = 0\n",
        "  for X,y in dataloader:\n",
        "    # the training routine is these 5 steps:\n",
        "    X = X.to(device)\n",
        "    y = y.to(device)\n",
        "    # print(X)\n",
        "    # print(y)\n",
        "    # --------------------------------------\n",
        "    # step 1. zero the gradients\n",
        "    optimizer.zero_grad()\n",
        "\n",
        "    # step 2. compute the output\n",
        "    y_pred = clf(X.long())\n",
        "\n",
        "    # step 3. compute the loss\n",
        "    # print(y.size())\n",
        "    # print(y_pred.size())\n",
        "    loss = loss_func(y_pred.squeeze(0), y.squeeze(0))\n",
        "    epoch_loss+= loss.item()\n",
        "    \n",
        "    # step 4. use loss to produce gradients\n",
        "    loss.backward()\n",
        "\n",
        "    # step 5. use optimizer to take gradient step\n",
        "    optimizer.step()\n",
        "  # -----------------------------------------\n",
        "  losses.append(epoch_loss)"
      ]
    },
    {
      "cell_type": "code",
      "execution_count": 21,
      "metadata": {
        "colab": {
          "base_uri": "https://localhost:8080/",
          "height": 313
        },
        "id": "R_Hk-agGOI0c",
        "outputId": "94d1966d-8d70-4e92-c933-db47405d09fa"
      },
      "outputs": [
        {
          "data": {
            "text/plain": [
              "[<matplotlib.lines.Line2D at 0x7fc5be9e1ed0>]"
            ]
          },
          "execution_count": 21,
          "metadata": {},
          "output_type": "execute_result"
        },
        {
          "data": {
            "image/png": "[encoded data removed]",
            "text/plain": [
              "<Figure size 432x288 with 1 Axes>"
            ]
          },
          "metadata": {
            "needs_background": "light"
          },
          "output_type": "display_data"
        }
      ],
      "source": [
        "plt.xlabel('Epoch')\n",
        "plt.ylabel('Cross Entropy Loss')\n",
        "plt.title('RNN Classification Performance')\n",
        "plt.plot(losses)"
      ]
    },
    {
      "cell_type": "code",
      "execution_count": 22,
      "metadata": {
        "colab": {
          "base_uri": "https://localhost:8080/"
        },
        "id": "OTqywtgOptFp",
        "outputId": "0885285c-04c7-4c49-94b3-06326934425b"
      },
      "outputs": [
        {
          "data": {
            "text/plain": [
              "0.0"
            ]
          },
          "execution_count": 22,
          "metadata": {},
          "output_type": "execute_result"
        }
      ],
      "source": [
        "# 8 Testing \n",
        "test_input = torch.tensor(mapped_sentences[0]).unsqueeze(0).long().to(device)\n",
        "clf.eval()\n",
        "sm_weights = torch.softmax(clf(test_input),dim=0)\n",
        "pred = torch.argmax(sm_weights,dim=2).squeeze(0).cpu().numpy()\n",
        "pred = map_sequence(\n",
        "    pred,\n",
        "    id2slot)\n",
        "def accuracy(pred, truth):\n",
        "  measurements = []\n",
        "  for p,t in zip(pred,truth):\n",
        "    measurements.append(pred==truth)\n",
        "  return np.mean(measurements)\n",
        "accuracy(pred, atis_slots[0])"
      ]
    },
    {
      "cell_type": "code",
      "execution_count": 23,
      "metadata": {
        "colab": {
          "base_uri": "https://localhost:8080/"
        },
        "id": "Je0eABSDbenN",
        "outputId": "7ea0df39-5c3d-4dde-9baa-991e8e08ab37"
      },
      "outputs": [
        {
          "data": {
            "text/plain": [
              "['O',\n",
              " 'O',\n",
              " 'O',\n",
              " 'O',\n",
              " 'O',\n",
              " 'O',\n",
              " 'O',\n",
              " 'O',\n",
              " 'O',\n",
              " 'O',\n",
              " 'O',\n",
              " 'O',\n",
              " 'O',\n",
              " 'O',\n",
              " 'O',\n",
              " 'O',\n",
              " 'O',\n",
              " 'O',\n",
              " 'O',\n",
              " 'O',\n",
              " 'O',\n",
              " 'O',\n",
              " 'O',\n",
              " 'O',\n",
              " 'O',\n",
              " 'O',\n",
              " 'O',\n",
              " 'O',\n",
              " 'O',\n",
              " 'O',\n",
              " 'O',\n",
              " 'O',\n",
              " 'O',\n",
              " 'O',\n",
              " 'O']"
            ]
          },
          "execution_count": 23,
          "metadata": {},
          "output_type": "execute_result"
        }
      ],
      "source": [
        "pred"
      ]
    },
    {
      "cell_type": "code",
      "execution_count": null,
      "metadata": {
        "id": "nM0zUvzMIa96"
      },
      "outputs": [],
      "source": []
    }
  ],
  "metadata": {
    "accelerator": "GPU",
    "colab": {
      "collapsed_sections": [],
      "name": "NLP-243 Week 6 Section.ipynb",
      "provenance": []
    },
    "kernelspec": {
      "display_name": "Python 3",
      "name": "python3"
    },
    "language_info": {
      "name": "python"
    }
  },
  "nbformat": 4,
  "nbformat_minor": 0
}
