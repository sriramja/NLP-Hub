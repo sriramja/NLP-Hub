{
  "nbformat": 4,
  "nbformat_minor": 0,
  "metadata": {
    "colab": {
      "name": "Untitled74.ipynb",
      "provenance": []
    },
    "kernelspec": {
      "name": "python3",
      "display_name": "Python 3"
    },
    "language_info": {
      "name": "python"
    }
  },
  "cells": [
    {
      "cell_type": "code",
      "execution_count": null,
      "metadata": {
        "id": "o-TgMn-9Aq9k"
      },
      "outputs": [],
      "source": [
        "import requests\n",
        "import numpy as np\n",
        "import pandas as pd\n",
        "from bs4 import BeautifulSoup\n",
        "import matplotlib.pyplot as plt\n",
        "\n",
        "%matplotlib inline"
      ]
    },
    {
      "cell_type": "code",
      "source": [
        "\n",
        "url = 'https://www2.ipm.ucanr.edu/agriculture/'\n",
        "\n",
        "\n",
        "response = requests.get(url)\n",
        "\n",
        "\n",
        "soup = BeautifulSoup(response.text, 'html.parser')\n",
        "\n",
        "\n",
        "links = [link.get('href') for link in soup.find_all('a')]\n",
        "filtered_links = []\n",
        "\n",
        "for i in links:\n",
        "  if i.startswith('/agriculture/'):\n",
        "    i = i.replace('/agriculture/', '')\n",
        "    filtered_links.append(url + i)\n",
        "\n",
        "filtered_links = list(set(filtered_links))\n",
        "\n",
        "# fixed_links = set([''.join([imdb_url, link]) for link in links if link])\n",
        "\n",
        "filtered_links, f\"Number of links: {len(filtered_links)}\""
      ],
      "metadata": {
        "colab": {
          "base_uri": "https://localhost:8080/"
        },
        "id": "IJlmNqc3BeAP",
        "outputId": "4348406b-0666-4d54-fe16-23735572acab"
      },
      "execution_count": null,
      "outputs": [
        {
          "output_type": "execute_result",
          "data": {
            "text/plain": [
              "(['https://www2.ipm.ucanr.edu/agriculture/pear/',\n",
              "  'https://www2.ipm.ucanr.edu/agriculture/pecan/',\n",
              "  'https://www2.ipm.ucanr.edu/agriculture/grape/',\n",
              "  'https://www2.ipm.ucanr.edu/agriculture/strawberry/',\n",
              "  'https://www2.ipm.ucanr.edu/agriculture/avocado/',\n",
              "  'https://www2.ipm.ucanr.edu/agriculture/tomato/',\n",
              "  'https://www2.ipm.ucanr.edu/agriculture/dry-beans/',\n",
              "  'https://www2.ipm.ucanr.edu/agriculture/lettuce/',\n",
              "  'https://www2.ipm.ucanr.edu/agriculture/walnut/',\n",
              "  'https://www2.ipm.ucanr.edu/agriculture/pomegranate/',\n",
              "  'https://www2.ipm.ucanr.edu/agriculture/cilantro-and-parsley/',\n",
              "  'https://www2.ipm.ucanr.edu/agriculture/almond/',\n",
              "  'https://www2.ipm.ucanr.edu/agriculture/cherry/',\n",
              "  'https://www2.ipm.ucanr.edu/agriculture/bermudagrass-seed-production/',\n",
              "  'https://www2.ipm.ucanr.edu/agriculture/peach/',\n",
              "  'https://www2.ipm.ucanr.edu/agriculture/artichoke/',\n",
              "  'https://www2.ipm.ucanr.edu/agriculture/citrus/',\n",
              "  'https://www2.ipm.ucanr.edu/agriculture/fig/',\n",
              "  'https://www2.ipm.ucanr.edu/agriculture/blueberry/',\n",
              "  'https://www2.ipm.ucanr.edu/agriculture/apricot/',\n",
              "  'https://www2.ipm.ucanr.edu/agriculture/potato/',\n",
              "  'https://www2.ipm.ucanr.edu/agriculture/alfalfa/',\n",
              "  'https://www2.ipm.ucanr.edu/agriculture/spinach/',\n",
              "  'https://www2.ipm.ucanr.edu/agriculture/floriculture-and-ornamental-nurseries/',\n",
              "  'https://www2.ipm.ucanr.edu/agriculture/cole-crops/',\n",
              "  'https://www2.ipm.ucanr.edu/agriculture/rice/',\n",
              "  'https://www2.ipm.ucanr.edu/agriculture/',\n",
              "  'https://www2.ipm.ucanr.edu/agriculture/turfgrass/',\n",
              "  'https://www2.ipm.ucanr.edu/agriculture/caneberries/',\n",
              "  'https://www2.ipm.ucanr.edu/agriculture/asparagus/',\n",
              "  'https://www2.ipm.ucanr.edu/agriculture/apple/',\n",
              "  'https://www2.ipm.ucanr.edu/agriculture/olive/',\n",
              "  'https://www2.ipm.ucanr.edu/agriculture/onion-and-garlic/',\n",
              "  'https://www2.ipm.ucanr.edu/agriculture/small-grains/',\n",
              "  'https://www2.ipm.ucanr.edu/agriculture/pistachio/',\n",
              "  'https://www2.ipm.ucanr.edu/agriculture/peppermint/'],\n",
              " 'Number of links: 36')"
            ]
          },
          "metadata": {},
          "execution_count": 45
        }
      ]
    },
    {
      "cell_type": "code",
      "source": [
        "import time\n",
        "import json\n",
        "\n",
        "dataset = []\n",
        "for i in filtered_links:\n",
        "\n",
        "  category = i.split('/')[4]\n",
        "\n",
        "  \n",
        "  time.sleep(0.5)\n",
        "  sublink_response = requests.get(i)\n",
        "  time.sleep(0.05)\n",
        "  sublink_soup = BeautifulSoup(sublink_response.text, 'html.parser')\n",
        "  sublink_links = [link.get('href') for link in sublink_soup.find_all('a')] # find_all('img', {\"class\": \"img-fluid\"})\n",
        "  sublink_filtered_links = []\n",
        "\n",
        "  print(category)\n",
        "\n",
        "  subcategories = []\n",
        "  for j in sublink_links:\n",
        "    if j.startswith(f'/agriculture/{category}') or j.startswith(f'/agriculture/{category.capitalize()}'):\n",
        "      j = j.replace('/agriculture/', '')\n",
        "      \n",
        "\n",
        "      print(url + j)\n",
        "\n",
        "      time.sleep(0.5)\n",
        "      subcategory_response = requests.get(url + j)\n",
        "      time.sleep(0.05)\n",
        "      subcategory_soup = BeautifulSoup(subcategory_response.text, 'html.parser')\n",
        "      subcategory_links = [link.get('src') for link in subcategory_soup.find_all('image', {\"class\": \"img-fluid\"})] # find_all('img', {\"class\": \"img-fluid\"})\n",
        "      print(subcategory_links)\n",
        "\n",
        "      if len(subcategory_links)>0:\n",
        "        subcategory_json = {\n",
        "            \"subcategory\" : j.split('/')[1],\n",
        "            \"subcategory_link\" : url + j,\n",
        "            \"subcategory_image\" : \"https://www2.ipm.ucanr.edu\" + subcategory_links[0],\n",
        "            \"image_present\" : \"True\",\n",
        "            \"content\" : \"\"\n",
        "        }\n",
        "      else:\n",
        "        subcategory_json = {\n",
        "            \"subcategory\" : j.split('/')[1],\n",
        "            \"subcategory_link\" : url + j,\n",
        "            \"subcategory_image\" : \"\",\n",
        "            \"image_present\" : \"False\",\n",
        "            \"content\" : \"\"\n",
        "        }\n",
        "\n",
        "      subcategories.append(subcategory_json)\n",
        "\n",
        "      sublink_filtered_links.append(url + i)\n",
        "\n",
        "  # category_json = {}\n",
        "  # dataset[num_category] = \n",
        "  # dataset[num_category] = sublink_filtered_links\n",
        "\n",
        "  # dataset['links'] = \n",
        "  category_json = {\n",
        "      \"category\" : category,\n",
        "      \"category_link\" : i,\n",
        "      \"subcategories\" : subcategories\n",
        "  }\n",
        "\n",
        "  with open(\"cat.txt\", 'a+') as w:\n",
        "    json.dumps(category_json)\n",
        "  dataset.append(category_json)\n",
        "  # time.sleep(40)\n",
        "\n",
        "print(dataset)"
      ],
      "metadata": {
        "colab": {
          "base_uri": "https://localhost:8080/",
          "height": 339
        },
        "id": "-6c8FIBvBto3",
        "outputId": "00e92001-3983-45af-80c9-750cbd4ddee4"
      },
      "execution_count": null,
      "outputs": [
        {
          "output_type": "stream",
          "name": "stdout",
          "text": [
            "pear\n",
            "https://www2.ipm.ucanr.edu/agriculture/pear/Introduction\n",
            "[]\n",
            "https://www2.ipm.ucanr.edu/agriculture/pear/Dormancy-to-delayed-dormancy\n",
            "[]\n",
            "https://www2.ipm.ucanr.edu/agriculture/pear/Bloom\n"
          ]
        },
        {
          "output_type": "error",
          "ename": "KeyboardInterrupt",
          "evalue": "ignored",
          "traceback": [
            "\u001b[0;31m---------------------------------------------------------------------------\u001b[0m",
            "\u001b[0;31mKeyboardInterrupt\u001b[0m                         Traceback (most recent call last)",
            "\u001b[0;32m<ipython-input-95-5d7181aca30d>\u001b[0m in \u001b[0;36m<module>\u001b[0;34m()\u001b[0m\n\u001b[1;32m     25\u001b[0m       \u001b[0mprint\u001b[0m\u001b[0;34m(\u001b[0m\u001b[0murl\u001b[0m \u001b[0;34m+\u001b[0m \u001b[0mj\u001b[0m\u001b[0;34m)\u001b[0m\u001b[0;34m\u001b[0m\u001b[0;34m\u001b[0m\u001b[0m\n\u001b[1;32m     26\u001b[0m \u001b[0;34m\u001b[0m\u001b[0m\n\u001b[0;32m---> 27\u001b[0;31m       \u001b[0mtime\u001b[0m\u001b[0;34m.\u001b[0m\u001b[0msleep\u001b[0m\u001b[0;34m(\u001b[0m\u001b[0;36m0.5\u001b[0m\u001b[0;34m)\u001b[0m\u001b[0;34m\u001b[0m\u001b[0;34m\u001b[0m\u001b[0m\n\u001b[0m\u001b[1;32m     28\u001b[0m       \u001b[0msubcategory_response\u001b[0m \u001b[0;34m=\u001b[0m \u001b[0mrequests\u001b[0m\u001b[0;34m.\u001b[0m\u001b[0mget\u001b[0m\u001b[0;34m(\u001b[0m\u001b[0murl\u001b[0m \u001b[0;34m+\u001b[0m \u001b[0mj\u001b[0m\u001b[0;34m)\u001b[0m\u001b[0;34m\u001b[0m\u001b[0;34m\u001b[0m\u001b[0m\n\u001b[1;32m     29\u001b[0m       \u001b[0mtime\u001b[0m\u001b[0;34m.\u001b[0m\u001b[0msleep\u001b[0m\u001b[0;34m(\u001b[0m\u001b[0;36m0.05\u001b[0m\u001b[0;34m)\u001b[0m\u001b[0;34m\u001b[0m\u001b[0;34m\u001b[0m\u001b[0m\n",
            "\u001b[0;31mKeyboardInterrupt\u001b[0m: "
          ]
        }
      ]
    },
    {
      "cell_type": "code",
      "source": [
        ""
      ],
      "metadata": {
        "id": "zB6BmP-iCEx8"
      },
      "execution_count": null,
      "outputs": []
    }
  ]
}