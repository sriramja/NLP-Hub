{
  "nbformat": 4,
  "nbformat_minor": 0,
  "metadata": {
    "colab": {
      "name": "Two HTML Compare - DOM Comparator.ipynb",
      "provenance": [],
      "collapsed_sections": []
    },
    "kernelspec": {
      "name": "python3",
      "display_name": "Python 3"
    },
    "language_info": {
      "name": "python"
    }
  },
  "cells": [
    {
      "cell_type": "markdown",
      "metadata": {
        "id": "eiix7ug1ZgiF"
      },
      "source": [
        "####Visually Compare TWO HTML Pages\n",
        "\n",
        "Creates a new html with a comparison render (color differences)\n"
      ]
    },
    {
      "cell_type": "code",
      "metadata": {
        "id": "yxH0SQZtWWqw"
      },
      "source": [
        "import difflib\n",
        "\n",
        "file1 = open('/content/MentorBOT.html', 'r').readlines()\n",
        "file2 = open('/content/MentorBOT1.html', 'r').readlines()\n",
        "\n",
        "htmlDiffer = difflib.HtmlDiff()\n",
        "htmldiffs = htmlDiffer.make_file(file1, file2)\n",
        "\n",
        "with open('comparison.html', 'w') as outfile:\n",
        "    outfile.write(htmldiffs)"
      ],
      "execution_count": 3,
      "outputs": []
    }
  ]
}