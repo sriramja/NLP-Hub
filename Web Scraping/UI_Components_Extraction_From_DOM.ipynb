{
 "cells": [
  {
   "cell_type": "code",
   "execution_count": 1,
   "metadata": {},
   "outputs": [],
   "source": [
    "import codecs\n",
    "from bs4 import BeautifulSoup\n",
    "import csv"
   ]
  },
  {
   "cell_type": "markdown",
   "metadata": {},
   "source": [
    "## Open HTML DOM file and intialize variables"
   ]
  },
  {
   "cell_type": "code",
   "execution_count": 2,
   "metadata": {},
   "outputs": [],
   "source": [
    "input_file_path='Wiki Application.html'\n",
    "output_file_name='Wiki_UI_Components.csv'\n",
    "f=codecs.open(file_path, 'r', 'utf-8')\n",
    "dic = dict()\n",
    "ls=[]\n",
    "itt = 0\n",
    "rows=[]"
   ]
  },
  {
   "cell_type": "markdown",
   "metadata": {},
   "source": [
    "## Function to generate Xpath of elements"
   ]
  },
  {
   "cell_type": "code",
   "execution_count": 3,
   "metadata": {},
   "outputs": [],
   "source": [
    "def xpath_soup(element):\n",
    "    # type: (typing.Union[bs4.element.Tag, bs4.element.NavigableString]) -> str\n",
    "    \"\"\"\n",
    "    Generate xpath from BeautifulSoup4 element.\n",
    "    \"\"\"\n",
    "    components = []\n",
    "    child = element if element.name else element.parent\n",
    "    for parent in child.parents:  # type: bs4.element.Tag\n",
    "        siblings = parent.find_all(child.name, recursive=False)\n",
    "        components.append(\n",
    "            child.name if 1 == len(siblings) else '%s[%d]' % (\n",
    "                child.name,\n",
    "                next(i for i, s in enumerate(siblings, 1) if s is child)\n",
    "                )\n",
    "            )\n",
    "        child = parent\n",
    "    components.reverse()\n",
    "    return '/%s' % '/'.join(components)"
   ]
  },
  {
   "cell_type": "markdown",
   "metadata": {},
   "source": [
    "## Recursive Function to parse HTML elements"
   ]
  },
  {
   "cell_type": "code",
   "execution_count": 4,
   "metadata": {},
   "outputs": [],
   "source": [
    "def list_tree_names(node):\n",
    "    attributes=[\"href\",\"class\",\"role\",\"target\",\"src\", \"alt\", \"title\", \"type\",\"scope\"]\n",
    "    empty_tags=[\"area\",\"br\",\"hr\",\"input\",\"meta\",\"base\",\"col\",\"img\",\"link\",\"param\"]\n",
    "    \n",
    "    #global xpath\n",
    "    global itt    \n",
    "    xpath=(xpath_soup(node))\n",
    "    #print(node.contents)\n",
    "    for child in node.contents:\n",
    "        try:\n",
    "            dic.update({child.name + \"/\" + str(itt): child.attrs})\n",
    "            ls.append(child.name)\n",
    "            itt += 1\n",
    "            if child.name in empty_tags:\n",
    "                #print(\"Tag:\"+child.name)\n",
    "                #print(\"Attrs:\"+str(child.attrs))\n",
    "                #print(xpath)\n",
    "                row=[str(child.name),str(\"\")]\n",
    "                for atri in attributes:\n",
    "                    try:\n",
    "                        row.append(str(child.attrs[atri]))\n",
    "                    except:\n",
    "                        row.append(\"\") \n",
    "                row.append(xpath)\n",
    "                rows.append(row)\n",
    "            list_tree_names(node=child)\n",
    "        except:\n",
    "            \n",
    "            if len(child)>1:\n",
    "                #print(len(child))\n",
    "                #print(\"Tag:\"+child.parent.name)\n",
    "                #print(\"Text:\"+child)\n",
    "                #print(\"Attrs:\"+str(child.parent.attrs))\n",
    "                #print(xpath)\n",
    "                row=[str(child.parent.name),str(child)]\n",
    "                for atri in attributes:\n",
    "                    try:\n",
    "                        row.append(str(child.parent.attrs[atri]))\n",
    "                    except:\n",
    "                        row.append(\"\") \n",
    "                row.append(xpath)\n",
    "                rows.append(row)\n",
    "            dic.update({\"text\" + \"/\" + str(itt): child})\n",
    "            ls.append(child)\n",
    "            itt += 1\n",
    "    return rows"
   ]
  },
  {
   "cell_type": "markdown",
   "metadata": {},
   "source": [
    "## Html file using beautiful soup library"
   ]
  },
  {
   "cell_type": "code",
   "execution_count": 5,
   "metadata": {},
   "outputs": [],
   "source": [
    "soup = BeautifulSoup(f.read(), \"html.parser\")"
   ]
  },
  {
   "cell_type": "code",
   "execution_count": null,
   "metadata": {},
   "outputs": [],
   "source": [
    "list_tree_names(soup.find('body'))"
   ]
  },
  {
   "cell_type": "markdown",
   "metadata": {},
   "source": [
    "## Export all extracted elements and its attributes, xpath in csv file."
   ]
  },
  {
   "cell_type": "code",
   "execution_count": 7,
   "metadata": {},
   "outputs": [],
   "source": [
    "with open(output_file_name, 'w', newline='',encoding='utf-8') as file:\n",
    "        writer = csv.writer(file)\n",
    "        writer.writerow([\"tag_name\", \"text\",'href','class','role','target','src', 'alt', 'title', 'type','scope',\"xpath\"])\n",
    "        writer.writerows(rows)"
   ]
  }
 ],
 "metadata": {
  "kernelspec": {
   "display_name": "Python 3",
   "language": "python",
   "name": "python3"
  },
  "language_info": {
   "codemirror_mode": {
    "name": "ipython",
    "version": 3
   },
   "file_extension": ".py",
   "mimetype": "text/x-python",
   "name": "python",
   "nbconvert_exporter": "python",
   "pygments_lexer": "ipython3",
   "version": "3.7.3"
  }
 },
 "nbformat": 4,
 "nbformat_minor": 2
}
